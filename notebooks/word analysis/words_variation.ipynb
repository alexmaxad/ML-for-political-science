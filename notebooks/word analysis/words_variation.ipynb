{
 "cells": [
  {
   "cell_type": "markdown",
   "metadata": {},
   "source": [
    "# **Import**"
   ]
  },
  {
   "cell_type": "code",
   "execution_count": 1,
   "metadata": {},
   "outputs": [
    {
     "name": "stdout",
     "output_type": "stream",
     "text": [
      "/Users/alexandrequeant/Desktop/Travail-TSE\n"
     ]
    }
   ],
   "source": [
    "import os\n",
    "os.chdir(\"../..\")\n",
    "os.chdir(r\"src\")\n",
    "\n",
    "import json\n",
    "import pandas as pd\n",
    "from plotly.subplots import make_subplots\n",
    "import plotly.graph_objects as go\n",
    "from Processing.text_cleaning import *\n",
    "from GloVe.weights import *\n",
    "from collections import Counter\n",
    "import warnings\n",
    "warnings.filterwarnings(\"ignore\")\n",
    "from Axes.projection_functions import *\n",
    "from Axes.models import *\n",
    "from Axes.filter_words import *\n",
    "from Processing.preprocess_parliament import *\n",
    "\n",
    "os.chdir(\"../\")"
   ]
  },
  {
   "cell_type": "markdown",
   "metadata": {},
   "source": [
    "# **Words projections with weights**"
   ]
  },
  {
   "cell_type": "code",
   "execution_count": 2,
   "metadata": {},
   "outputs": [],
   "source": [
    "def process_year_data(year, model_words_year):\n",
    "    with open(f'data/words/Finalwords_{year}.json') as f:\n",
    "        words_year = json.load(f)\n",
    "        \n",
    "    weights_year = get_weights_word2vec(words_year, a=1e-3)\n",
    "\n",
    "    with open(f'data/vocabs/vocab_{year}.json') as f:\n",
    "        vocab_year = json.load(f)\n",
    "        \n",
    "    vocab_embed_year = [weights_year[i] * model_words_year[i] for i in vocab_year]\n",
    "\n",
    "    df_words_year = pd.DataFrame(zip(vocab_year, vocab_embed_year), columns=['text', 'embedding'])\n",
    "\n",
    "    axis_v1 = axis_vector(pos_1, neg_1, model_words_year)\n",
    "    axis_v2 = axis_vector(pos_2, neg_2, model_words_year)\n",
    "\n",
    "    df_words_year['cos axe 1'] = df_words_year['text'].apply(cosine_with_axis, axis_v=axis_v1, model_sentences=model_words_year)\n",
    "    df_words_year['cos axe 2'] = df_words_year['text'].apply(cosine_with_axis, axis_v=axis_v2, model_sentences=model_words_year)\n",
    "\n",
    "    df_words_year['year'] = year if year <= 2019 else year - 18090  # Adjust year for 20110 and beyond\n",
    "    \n",
    "    return df_words_year\n",
    "\n",
    "# Assuming you have a dictionary `model_words` with keys as years and values as the corresponding model for that year\n",
    "all_dfs = []\n",
    "for i in range(14):  # Adjust range as needed\n",
    "    year = eval('201'+str(i))\n",
    "    df_year = process_year_data(year, models_w[i])\n",
    "    all_dfs.append(df_year)"
   ]
  },
  {
   "cell_type": "markdown",
   "metadata": {},
   "source": [
    "# **Real embedding variations**"
   ]
  },
  {
   "cell_type": "code",
   "execution_count": 4,
   "metadata": {},
   "outputs": [],
   "source": [
    "def var_embed_real(word:str, df1, df2, cos_axe:str):\n",
    "    try :\n",
    "        return(df2.loc[df2['text'] == word][cos_axe].values[0] - df1.loc[df1['text'] == word][cos_axe].values[0])\n",
    "    except :\n",
    "        return None"
   ]
  },
  {
   "cell_type": "code",
   "execution_count": 5,
   "metadata": {},
   "outputs": [],
   "source": [
    "for i in range(1, len(all_dfs)):\n",
    "    current_df = all_dfs[i]\n",
    "    previous_df = all_dfs[i-1]\n",
    "    \n",
    "    for cos_axe in ['cos axe 1', 'cos axe 2']:\n",
    "        var_column_name = f'var {cos_axe}'\n",
    "        current_df[var_column_name] = current_df['text'].apply(var_embed_real, \n",
    "                                                               df1=previous_df, \n",
    "                                                               df2=current_df, \n",
    "                                                               cos_axe=cos_axe)"
   ]
  },
  {
   "cell_type": "code",
   "execution_count": 6,
   "metadata": {},
   "outputs": [
    {
     "data": {
      "text/html": [
       "<div>\n",
       "<style scoped>\n",
       "    .dataframe tbody tr th:only-of-type {\n",
       "        vertical-align: middle;\n",
       "    }\n",
       "\n",
       "    .dataframe tbody tr th {\n",
       "        vertical-align: top;\n",
       "    }\n",
       "\n",
       "    .dataframe thead th {\n",
       "        text-align: right;\n",
       "    }\n",
       "</style>\n",
       "<table border=\"1\" class=\"dataframe\">\n",
       "  <thead>\n",
       "    <tr style=\"text-align: right;\">\n",
       "      <th></th>\n",
       "      <th>text</th>\n",
       "      <th>embedding</th>\n",
       "      <th>cos axe 1</th>\n",
       "      <th>cos axe 2</th>\n",
       "      <th>year</th>\n",
       "      <th>var cos axe 1</th>\n",
       "      <th>var cos axe 2</th>\n",
       "    </tr>\n",
       "  </thead>\n",
       "  <tbody>\n",
       "    <tr>\n",
       "      <th>0</th>\n",
       "      <td>lesley</td>\n",
       "      <td>[[[[[ 0.85344989 -0.76419199  0.69369632 -0.30...</td>\n",
       "      <td>0.242352</td>\n",
       "      <td>0.125835</td>\n",
       "      <td>2016</td>\n",
       "      <td>0.008122</td>\n",
       "      <td>-0.088206</td>\n",
       "    </tr>\n",
       "    <tr>\n",
       "      <th>1</th>\n",
       "      <td>itinerari</td>\n",
       "      <td>[[[[[ 5.53582532e-01  7.42409179e-01 -2.306312...</td>\n",
       "      <td>0.069193</td>\n",
       "      <td>0.308554</td>\n",
       "      <td>2016</td>\n",
       "      <td>0.146832</td>\n",
       "      <td>0.327236</td>\n",
       "    </tr>\n",
       "    <tr>\n",
       "      <th>2</th>\n",
       "      <td>stag</td>\n",
       "      <td>[[[[[-0.1054389  -0.72052369 -0.48361916 -0.20...</td>\n",
       "      <td>-0.018865</td>\n",
       "      <td>-0.014295</td>\n",
       "      <td>2016</td>\n",
       "      <td>0.194558</td>\n",
       "      <td>0.021773</td>\n",
       "    </tr>\n",
       "    <tr>\n",
       "      <th>3</th>\n",
       "      <td>ingeni</td>\n",
       "      <td>[[[[[ 4.32699895e-01 -2.24511721e-01  8.596688...</td>\n",
       "      <td>0.010645</td>\n",
       "      <td>-0.064990</td>\n",
       "      <td>2016</td>\n",
       "      <td>0.130969</td>\n",
       "      <td>0.013774</td>\n",
       "    </tr>\n",
       "    <tr>\n",
       "      <th>4</th>\n",
       "      <td>morein</td>\n",
       "      <td>[[[[[-0.6001104  -0.44765165  0.40003361  0.40...</td>\n",
       "      <td>0.025486</td>\n",
       "      <td>-0.027517</td>\n",
       "      <td>2016</td>\n",
       "      <td>-0.089606</td>\n",
       "      <td>0.050730</td>\n",
       "    </tr>\n",
       "    <tr>\n",
       "      <th>...</th>\n",
       "      <td>...</td>\n",
       "      <td>...</td>\n",
       "      <td>...</td>\n",
       "      <td>...</td>\n",
       "      <td>...</td>\n",
       "      <td>...</td>\n",
       "      <td>...</td>\n",
       "    </tr>\n",
       "    <tr>\n",
       "      <th>19495</th>\n",
       "      <td>cosmet</td>\n",
       "      <td>[[[[[ 1.03527253  0.32627772 -2.09583277 -0.59...</td>\n",
       "      <td>-0.272678</td>\n",
       "      <td>0.187423</td>\n",
       "      <td>2016</td>\n",
       "      <td>-0.206885</td>\n",
       "      <td>0.073061</td>\n",
       "    </tr>\n",
       "    <tr>\n",
       "      <th>19496</th>\n",
       "      <td>systema</td>\n",
       "      <td>[[[[[-0.43356704  0.55048663  0.24307671 -1.00...</td>\n",
       "      <td>-0.213749</td>\n",
       "      <td>0.096239</td>\n",
       "      <td>2016</td>\n",
       "      <td>-0.237050</td>\n",
       "      <td>0.032960</td>\n",
       "    </tr>\n",
       "    <tr>\n",
       "      <th>19497</th>\n",
       "      <td>comet</td>\n",
       "      <td>[[[[[ 0.83031857  0.0263708   0.05200302 -0.30...</td>\n",
       "      <td>0.065103</td>\n",
       "      <td>0.010565</td>\n",
       "      <td>2016</td>\n",
       "      <td>0.184930</td>\n",
       "      <td>-0.138672</td>\n",
       "    </tr>\n",
       "    <tr>\n",
       "      <th>19498</th>\n",
       "      <td>tenth</td>\n",
       "      <td>[[[[[ 1.08642054  0.30102415  0.53701357  0.40...</td>\n",
       "      <td>0.305026</td>\n",
       "      <td>0.170527</td>\n",
       "      <td>2016</td>\n",
       "      <td>0.163375</td>\n",
       "      <td>0.111473</td>\n",
       "    </tr>\n",
       "    <tr>\n",
       "      <th>19499</th>\n",
       "      <td>crosbi</td>\n",
       "      <td>[[[[[-0.11718934 -0.08569929 -0.23454414 -0.92...</td>\n",
       "      <td>0.134042</td>\n",
       "      <td>-0.002662</td>\n",
       "      <td>2016</td>\n",
       "      <td>0.051487</td>\n",
       "      <td>-0.180236</td>\n",
       "    </tr>\n",
       "  </tbody>\n",
       "</table>\n",
       "<p>19500 rows × 7 columns</p>\n",
       "</div>"
      ],
      "text/plain": [
       "            text                                          embedding  \\\n",
       "0         lesley  [[[[[ 0.85344989 -0.76419199  0.69369632 -0.30...   \n",
       "1      itinerari  [[[[[ 5.53582532e-01  7.42409179e-01 -2.306312...   \n",
       "2           stag  [[[[[-0.1054389  -0.72052369 -0.48361916 -0.20...   \n",
       "3         ingeni  [[[[[ 4.32699895e-01 -2.24511721e-01  8.596688...   \n",
       "4         morein  [[[[[-0.6001104  -0.44765165  0.40003361  0.40...   \n",
       "...          ...                                                ...   \n",
       "19495     cosmet  [[[[[ 1.03527253  0.32627772 -2.09583277 -0.59...   \n",
       "19496    systema  [[[[[-0.43356704  0.55048663  0.24307671 -1.00...   \n",
       "19497      comet  [[[[[ 0.83031857  0.0263708   0.05200302 -0.30...   \n",
       "19498      tenth  [[[[[ 1.08642054  0.30102415  0.53701357  0.40...   \n",
       "19499     crosbi  [[[[[-0.11718934 -0.08569929 -0.23454414 -0.92...   \n",
       "\n",
       "       cos axe 1  cos axe 2  year  var cos axe 1  var cos axe 2  \n",
       "0       0.242352   0.125835  2016       0.008122      -0.088206  \n",
       "1       0.069193   0.308554  2016       0.146832       0.327236  \n",
       "2      -0.018865  -0.014295  2016       0.194558       0.021773  \n",
       "3       0.010645  -0.064990  2016       0.130969       0.013774  \n",
       "4       0.025486  -0.027517  2016      -0.089606       0.050730  \n",
       "...          ...        ...   ...            ...            ...  \n",
       "19495  -0.272678   0.187423  2016      -0.206885       0.073061  \n",
       "19496  -0.213749   0.096239  2016      -0.237050       0.032960  \n",
       "19497   0.065103   0.010565  2016       0.184930      -0.138672  \n",
       "19498   0.305026   0.170527  2016       0.163375       0.111473  \n",
       "19499   0.134042  -0.002662  2016       0.051487      -0.180236  \n",
       "\n",
       "[19500 rows x 7 columns]"
      ]
     },
     "execution_count": 6,
     "metadata": {},
     "output_type": "execute_result"
    }
   ],
   "source": [
    "all_dfs[6]"
   ]
  },
  {
   "cell_type": "markdown",
   "metadata": {},
   "source": [
    "## New filter"
   ]
  },
  {
   "cell_type": "code",
   "execution_count": 7,
   "metadata": {},
   "outputs": [],
   "source": [
    "events_keywords = list(set(clean(events_keywords, 'unigram')))\n",
    "new_topics = list(set(clean(new_topics, 'unigram')))"
   ]
  },
  {
   "cell_type": "code",
   "execution_count": 8,
   "metadata": {},
   "outputs": [],
   "source": [
    "def is_in_keywords(word):\n",
    "    if word in new_topics:\n",
    "        return True\n",
    "    if word in events_keywords:\n",
    "        return True\n",
    "    return False"
   ]
  },
  {
   "cell_type": "code",
   "execution_count": 9,
   "metadata": {},
   "outputs": [],
   "source": [
    "def process_yearly_data(df, year):\n",
    "     # Load the words from the file\n",
    "    with open(f'data/words/Finalwords_{year}.json') as f:\n",
    "        words = json.load(f)\n",
    "    \n",
    "    # Calculate word counts\n",
    "    word_counts = Counter(words)\n",
    "    \n",
    "    # Apply the word count to the dataframe\n",
    "    df['word count'] = df['text'].apply(lambda word: word_counts.get(word, 0))\n",
    "    \n",
    "    # Filter rows where 'word count' is greater than 100\n",
    "    df_filtered = df[df['word count'] > 100]\n",
    "    \n",
    "    # Apply the check for 'in keywords'\n",
    "    df_filtered['in keywords'] = df_filtered['text'].apply(is_in_keywords)\n",
    "    \n",
    "    # Filter by 'in keywords'\n",
    "    df_keywords = df_filtered[df_filtered['in keywords']]\n",
    "    \n",
    "    return df_keywords\n",
    "\n",
    "# Assuming you have defined is_in_keywords function somewhere\n",
    "# Iterate over the range of years\n",
    "for i in range(14):  # Adjust the range according to your needs\n",
    "    year = eval('201'+str(i))\n",
    "    all_dfs[i] = process_yearly_data(all_dfs[i], year)"
   ]
  },
  {
   "cell_type": "markdown",
   "metadata": {},
   "source": [
    "# **Visualization**"
   ]
  },
  {
   "cell_type": "code",
   "execution_count": 10,
   "metadata": {},
   "outputs": [],
   "source": [
    "def get_top_variations(df_keywords, axis, number):\n",
    "    \"\"\"Sorts the dataframe by the specified axis and gets the top number variations.\"\"\"\n",
    "    var_up = df_keywords.sort_values(by=[f'var cos axe {axis}'], ascending=False).head(number)[['text', 'year', f'var cos axe {axis}']]\n",
    "    var_down = df_keywords.sort_values(by=[f'var cos axe {axis}'], ascending=True).head(number)[['text', 'year', f'var cos axe {axis}']]\n",
    "    return var_up, var_down"
   ]
  },
  {
   "cell_type": "code",
   "execution_count": 21,
   "metadata": {},
   "outputs": [],
   "source": [
    "def vizualize_top_variations(df_keywords, axis_1, axis_2=None, variation_1 = 'up', variation_2 = 'down', number=20):\n",
    "\n",
    "    var_up_1, var_down_1 = get_top_variations(df_keywords, axis_1, number)\n",
    "\n",
    "    if axis_2:\n",
    "        var_up_2, var_down_2 = get_top_variations(df_keywords, axis_2, number)\n",
    "    else:\n",
    "        var_up_2, var_down_2 = var_up_1, var_down_1\n",
    "        axis_2 = axis_1\n",
    "\n",
    "    if variation_1 == 'down':\n",
    "        var_up_1 = var_down_1\n",
    "    if variation_2 == 'up':\n",
    "        var_down_2 = var_up_2\n",
    "\n",
    "    fig = make_subplots(rows=2, cols=1)\n",
    "\n",
    "    # Add bar plot for increasing variations\n",
    "    fig.add_trace(go.Bar(x=var_up_1['text'], y=var_up_1[f'var cos axe {axis_1}'], name='Increasing'), row=1, col=1)\n",
    "\n",
    "    # Add bar plot for decreasing variations\n",
    "    fig.add_trace(go.Bar(x=var_down_2['text'], y=var_down_2[f'var cos axe {axis_2}'], name='Decreasing'), row=2, col=1)\n",
    "\n",
    "    fig.update_layout(title_text= f\"Extreme embedding variation in 2013 on axis {axis_1} and {axis_2}\")\n",
    "    fig.update_layout(autosize=False, width=1000, height=800)\n",
    "\n",
    "    fig.show()"
   ]
  },
  {
   "cell_type": "code",
   "execution_count": 18,
   "metadata": {},
   "outputs": [],
   "source": [
    "df_t = all_dfs[6]"
   ]
  },
  {
   "cell_type": "code",
   "execution_count": 25,
   "metadata": {},
   "outputs": [
    {
     "data": {
      "application/vnd.plotly.v1+json": {
       "config": {
        "plotlyServerURL": "https://plot.ly"
       },
       "data": [
        {
         "name": "Increasing",
         "type": "bar",
         "x": [
          "huawei",
          "bori",
          "nintendo",
          "oecd",
          "turnout",
          "ceremoni",
          "sovereignti",
          "exposur",
          "consolid",
          "taxat",
          "remedi",
          "architectur",
          "xbox",
          "doodl",
          "schmidt",
          "echo",
          "theft",
          "consol",
          "blackberri",
          "safari"
         ],
         "xaxis": "x",
         "y": [
          0.35911600060329524,
          0.3283710771329842,
          0.3192345782866504,
          0.31204319425740085,
          0.26743676630103685,
          0.24736087205634846,
          0.2470420757389298,
          0.2345429199193679,
          0.22238390028970423,
          0.2185927889203425,
          0.21811116370198044,
          0.20622083654138448,
          0.2061333278821128,
          0.20274085584021326,
          0.20100866138212217,
          0.19600241471160249,
          0.18939852691984183,
          0.18123609578992977,
          0.17779432164205053,
          0.177663314536974
         ],
         "yaxis": "y"
        },
        {
         "name": "Decreasing",
         "type": "bar",
         "x": [
          "chromecast",
          "advocaci",
          "bulk",
          "spectrum",
          "behavior",
          "yahoo",
          "merger",
          "harvest",
          "taxi",
          "cybersecur",
          "desktop",
          "assess",
          "icloud",
          "util",
          "warfar",
          "laptop",
          "techniqu",
          "lumia",
          "diagnost",
          "coverag"
         ],
         "xaxis": "x2",
         "y": [
          -0.47154540761162195,
          -0.31787873194041727,
          -0.31197069177896186,
          -0.3076074559257742,
          -0.30104105173174883,
          -0.2650800362030745,
          -0.2531342956402649,
          -0.25016036728698987,
          -0.23387237151761295,
          -0.2197367624373303,
          -0.21412162355512154,
          -0.2045417311664826,
          -0.20028909777484738,
          -0.19970293075111278,
          -0.19566689720973482,
          -0.19338897853635872,
          -0.19017549440949322,
          -0.18974468555794208,
          -0.18428961557115048,
          -0.18289490430367406
         ],
         "yaxis": "y2"
        }
       ],
       "layout": {
        "autosize": false,
        "height": 800,
        "template": {
         "data": {
          "bar": [
           {
            "error_x": {
             "color": "#2a3f5f"
            },
            "error_y": {
             "color": "#2a3f5f"
            },
            "marker": {
             "line": {
              "color": "#E5ECF6",
              "width": 0.5
             },
             "pattern": {
              "fillmode": "overlay",
              "size": 10,
              "solidity": 0.2
             }
            },
            "type": "bar"
           }
          ],
          "barpolar": [
           {
            "marker": {
             "line": {
              "color": "#E5ECF6",
              "width": 0.5
             },
             "pattern": {
              "fillmode": "overlay",
              "size": 10,
              "solidity": 0.2
             }
            },
            "type": "barpolar"
           }
          ],
          "carpet": [
           {
            "aaxis": {
             "endlinecolor": "#2a3f5f",
             "gridcolor": "white",
             "linecolor": "white",
             "minorgridcolor": "white",
             "startlinecolor": "#2a3f5f"
            },
            "baxis": {
             "endlinecolor": "#2a3f5f",
             "gridcolor": "white",
             "linecolor": "white",
             "minorgridcolor": "white",
             "startlinecolor": "#2a3f5f"
            },
            "type": "carpet"
           }
          ],
          "choropleth": [
           {
            "colorbar": {
             "outlinewidth": 0,
             "ticks": ""
            },
            "type": "choropleth"
           }
          ],
          "contour": [
           {
            "colorbar": {
             "outlinewidth": 0,
             "ticks": ""
            },
            "colorscale": [
             [
              0,
              "#0d0887"
             ],
             [
              0.1111111111111111,
              "#46039f"
             ],
             [
              0.2222222222222222,
              "#7201a8"
             ],
             [
              0.3333333333333333,
              "#9c179e"
             ],
             [
              0.4444444444444444,
              "#bd3786"
             ],
             [
              0.5555555555555556,
              "#d8576b"
             ],
             [
              0.6666666666666666,
              "#ed7953"
             ],
             [
              0.7777777777777778,
              "#fb9f3a"
             ],
             [
              0.8888888888888888,
              "#fdca26"
             ],
             [
              1,
              "#f0f921"
             ]
            ],
            "type": "contour"
           }
          ],
          "contourcarpet": [
           {
            "colorbar": {
             "outlinewidth": 0,
             "ticks": ""
            },
            "type": "contourcarpet"
           }
          ],
          "heatmap": [
           {
            "colorbar": {
             "outlinewidth": 0,
             "ticks": ""
            },
            "colorscale": [
             [
              0,
              "#0d0887"
             ],
             [
              0.1111111111111111,
              "#46039f"
             ],
             [
              0.2222222222222222,
              "#7201a8"
             ],
             [
              0.3333333333333333,
              "#9c179e"
             ],
             [
              0.4444444444444444,
              "#bd3786"
             ],
             [
              0.5555555555555556,
              "#d8576b"
             ],
             [
              0.6666666666666666,
              "#ed7953"
             ],
             [
              0.7777777777777778,
              "#fb9f3a"
             ],
             [
              0.8888888888888888,
              "#fdca26"
             ],
             [
              1,
              "#f0f921"
             ]
            ],
            "type": "heatmap"
           }
          ],
          "heatmapgl": [
           {
            "colorbar": {
             "outlinewidth": 0,
             "ticks": ""
            },
            "colorscale": [
             [
              0,
              "#0d0887"
             ],
             [
              0.1111111111111111,
              "#46039f"
             ],
             [
              0.2222222222222222,
              "#7201a8"
             ],
             [
              0.3333333333333333,
              "#9c179e"
             ],
             [
              0.4444444444444444,
              "#bd3786"
             ],
             [
              0.5555555555555556,
              "#d8576b"
             ],
             [
              0.6666666666666666,
              "#ed7953"
             ],
             [
              0.7777777777777778,
              "#fb9f3a"
             ],
             [
              0.8888888888888888,
              "#fdca26"
             ],
             [
              1,
              "#f0f921"
             ]
            ],
            "type": "heatmapgl"
           }
          ],
          "histogram": [
           {
            "marker": {
             "pattern": {
              "fillmode": "overlay",
              "size": 10,
              "solidity": 0.2
             }
            },
            "type": "histogram"
           }
          ],
          "histogram2d": [
           {
            "colorbar": {
             "outlinewidth": 0,
             "ticks": ""
            },
            "colorscale": [
             [
              0,
              "#0d0887"
             ],
             [
              0.1111111111111111,
              "#46039f"
             ],
             [
              0.2222222222222222,
              "#7201a8"
             ],
             [
              0.3333333333333333,
              "#9c179e"
             ],
             [
              0.4444444444444444,
              "#bd3786"
             ],
             [
              0.5555555555555556,
              "#d8576b"
             ],
             [
              0.6666666666666666,
              "#ed7953"
             ],
             [
              0.7777777777777778,
              "#fb9f3a"
             ],
             [
              0.8888888888888888,
              "#fdca26"
             ],
             [
              1,
              "#f0f921"
             ]
            ],
            "type": "histogram2d"
           }
          ],
          "histogram2dcontour": [
           {
            "colorbar": {
             "outlinewidth": 0,
             "ticks": ""
            },
            "colorscale": [
             [
              0,
              "#0d0887"
             ],
             [
              0.1111111111111111,
              "#46039f"
             ],
             [
              0.2222222222222222,
              "#7201a8"
             ],
             [
              0.3333333333333333,
              "#9c179e"
             ],
             [
              0.4444444444444444,
              "#bd3786"
             ],
             [
              0.5555555555555556,
              "#d8576b"
             ],
             [
              0.6666666666666666,
              "#ed7953"
             ],
             [
              0.7777777777777778,
              "#fb9f3a"
             ],
             [
              0.8888888888888888,
              "#fdca26"
             ],
             [
              1,
              "#f0f921"
             ]
            ],
            "type": "histogram2dcontour"
           }
          ],
          "mesh3d": [
           {
            "colorbar": {
             "outlinewidth": 0,
             "ticks": ""
            },
            "type": "mesh3d"
           }
          ],
          "parcoords": [
           {
            "line": {
             "colorbar": {
              "outlinewidth": 0,
              "ticks": ""
             }
            },
            "type": "parcoords"
           }
          ],
          "pie": [
           {
            "automargin": true,
            "type": "pie"
           }
          ],
          "scatter": [
           {
            "fillpattern": {
             "fillmode": "overlay",
             "size": 10,
             "solidity": 0.2
            },
            "type": "scatter"
           }
          ],
          "scatter3d": [
           {
            "line": {
             "colorbar": {
              "outlinewidth": 0,
              "ticks": ""
             }
            },
            "marker": {
             "colorbar": {
              "outlinewidth": 0,
              "ticks": ""
             }
            },
            "type": "scatter3d"
           }
          ],
          "scattercarpet": [
           {
            "marker": {
             "colorbar": {
              "outlinewidth": 0,
              "ticks": ""
             }
            },
            "type": "scattercarpet"
           }
          ],
          "scattergeo": [
           {
            "marker": {
             "colorbar": {
              "outlinewidth": 0,
              "ticks": ""
             }
            },
            "type": "scattergeo"
           }
          ],
          "scattergl": [
           {
            "marker": {
             "colorbar": {
              "outlinewidth": 0,
              "ticks": ""
             }
            },
            "type": "scattergl"
           }
          ],
          "scattermapbox": [
           {
            "marker": {
             "colorbar": {
              "outlinewidth": 0,
              "ticks": ""
             }
            },
            "type": "scattermapbox"
           }
          ],
          "scatterpolar": [
           {
            "marker": {
             "colorbar": {
              "outlinewidth": 0,
              "ticks": ""
             }
            },
            "type": "scatterpolar"
           }
          ],
          "scatterpolargl": [
           {
            "marker": {
             "colorbar": {
              "outlinewidth": 0,
              "ticks": ""
             }
            },
            "type": "scatterpolargl"
           }
          ],
          "scatterternary": [
           {
            "marker": {
             "colorbar": {
              "outlinewidth": 0,
              "ticks": ""
             }
            },
            "type": "scatterternary"
           }
          ],
          "surface": [
           {
            "colorbar": {
             "outlinewidth": 0,
             "ticks": ""
            },
            "colorscale": [
             [
              0,
              "#0d0887"
             ],
             [
              0.1111111111111111,
              "#46039f"
             ],
             [
              0.2222222222222222,
              "#7201a8"
             ],
             [
              0.3333333333333333,
              "#9c179e"
             ],
             [
              0.4444444444444444,
              "#bd3786"
             ],
             [
              0.5555555555555556,
              "#d8576b"
             ],
             [
              0.6666666666666666,
              "#ed7953"
             ],
             [
              0.7777777777777778,
              "#fb9f3a"
             ],
             [
              0.8888888888888888,
              "#fdca26"
             ],
             [
              1,
              "#f0f921"
             ]
            ],
            "type": "surface"
           }
          ],
          "table": [
           {
            "cells": {
             "fill": {
              "color": "#EBF0F8"
             },
             "line": {
              "color": "white"
             }
            },
            "header": {
             "fill": {
              "color": "#C8D4E3"
             },
             "line": {
              "color": "white"
             }
            },
            "type": "table"
           }
          ]
         },
         "layout": {
          "annotationdefaults": {
           "arrowcolor": "#2a3f5f",
           "arrowhead": 0,
           "arrowwidth": 1
          },
          "autotypenumbers": "strict",
          "coloraxis": {
           "colorbar": {
            "outlinewidth": 0,
            "ticks": ""
           }
          },
          "colorscale": {
           "diverging": [
            [
             0,
             "#8e0152"
            ],
            [
             0.1,
             "#c51b7d"
            ],
            [
             0.2,
             "#de77ae"
            ],
            [
             0.3,
             "#f1b6da"
            ],
            [
             0.4,
             "#fde0ef"
            ],
            [
             0.5,
             "#f7f7f7"
            ],
            [
             0.6,
             "#e6f5d0"
            ],
            [
             0.7,
             "#b8e186"
            ],
            [
             0.8,
             "#7fbc41"
            ],
            [
             0.9,
             "#4d9221"
            ],
            [
             1,
             "#276419"
            ]
           ],
           "sequential": [
            [
             0,
             "#0d0887"
            ],
            [
             0.1111111111111111,
             "#46039f"
            ],
            [
             0.2222222222222222,
             "#7201a8"
            ],
            [
             0.3333333333333333,
             "#9c179e"
            ],
            [
             0.4444444444444444,
             "#bd3786"
            ],
            [
             0.5555555555555556,
             "#d8576b"
            ],
            [
             0.6666666666666666,
             "#ed7953"
            ],
            [
             0.7777777777777778,
             "#fb9f3a"
            ],
            [
             0.8888888888888888,
             "#fdca26"
            ],
            [
             1,
             "#f0f921"
            ]
           ],
           "sequentialminus": [
            [
             0,
             "#0d0887"
            ],
            [
             0.1111111111111111,
             "#46039f"
            ],
            [
             0.2222222222222222,
             "#7201a8"
            ],
            [
             0.3333333333333333,
             "#9c179e"
            ],
            [
             0.4444444444444444,
             "#bd3786"
            ],
            [
             0.5555555555555556,
             "#d8576b"
            ],
            [
             0.6666666666666666,
             "#ed7953"
            ],
            [
             0.7777777777777778,
             "#fb9f3a"
            ],
            [
             0.8888888888888888,
             "#fdca26"
            ],
            [
             1,
             "#f0f921"
            ]
           ]
          },
          "colorway": [
           "#636efa",
           "#EF553B",
           "#00cc96",
           "#ab63fa",
           "#FFA15A",
           "#19d3f3",
           "#FF6692",
           "#B6E880",
           "#FF97FF",
           "#FECB52"
          ],
          "font": {
           "color": "#2a3f5f"
          },
          "geo": {
           "bgcolor": "white",
           "lakecolor": "white",
           "landcolor": "#E5ECF6",
           "showlakes": true,
           "showland": true,
           "subunitcolor": "white"
          },
          "hoverlabel": {
           "align": "left"
          },
          "hovermode": "closest",
          "mapbox": {
           "style": "light"
          },
          "paper_bgcolor": "white",
          "plot_bgcolor": "#E5ECF6",
          "polar": {
           "angularaxis": {
            "gridcolor": "white",
            "linecolor": "white",
            "ticks": ""
           },
           "bgcolor": "#E5ECF6",
           "radialaxis": {
            "gridcolor": "white",
            "linecolor": "white",
            "ticks": ""
           }
          },
          "scene": {
           "xaxis": {
            "backgroundcolor": "#E5ECF6",
            "gridcolor": "white",
            "gridwidth": 2,
            "linecolor": "white",
            "showbackground": true,
            "ticks": "",
            "zerolinecolor": "white"
           },
           "yaxis": {
            "backgroundcolor": "#E5ECF6",
            "gridcolor": "white",
            "gridwidth": 2,
            "linecolor": "white",
            "showbackground": true,
            "ticks": "",
            "zerolinecolor": "white"
           },
           "zaxis": {
            "backgroundcolor": "#E5ECF6",
            "gridcolor": "white",
            "gridwidth": 2,
            "linecolor": "white",
            "showbackground": true,
            "ticks": "",
            "zerolinecolor": "white"
           }
          },
          "shapedefaults": {
           "line": {
            "color": "#2a3f5f"
           }
          },
          "ternary": {
           "aaxis": {
            "gridcolor": "white",
            "linecolor": "white",
            "ticks": ""
           },
           "baxis": {
            "gridcolor": "white",
            "linecolor": "white",
            "ticks": ""
           },
           "bgcolor": "#E5ECF6",
           "caxis": {
            "gridcolor": "white",
            "linecolor": "white",
            "ticks": ""
           }
          },
          "title": {
           "x": 0.05
          },
          "xaxis": {
           "automargin": true,
           "gridcolor": "white",
           "linecolor": "white",
           "ticks": "",
           "title": {
            "standoff": 15
           },
           "zerolinecolor": "white",
           "zerolinewidth": 2
          },
          "yaxis": {
           "automargin": true,
           "gridcolor": "white",
           "linecolor": "white",
           "ticks": "",
           "title": {
            "standoff": 15
           },
           "zerolinecolor": "white",
           "zerolinewidth": 2
          }
         }
        },
        "title": {
         "text": "Extreme embedding variation in 2013 on axis 1 and 1"
        },
        "width": 1000,
        "xaxis": {
         "anchor": "y",
         "domain": [
          0,
          1
         ]
        },
        "xaxis2": {
         "anchor": "y2",
         "domain": [
          0,
          1
         ]
        },
        "yaxis": {
         "anchor": "x",
         "domain": [
          0.575,
          1
         ]
        },
        "yaxis2": {
         "anchor": "x2",
         "domain": [
          0,
          0.425
         ]
        }
       }
      }
     },
     "metadata": {},
     "output_type": "display_data"
    }
   ],
   "source": [
    "vizualize_top_variations(df_t, 1, 1, 'up', 'down')"
   ]
  }
 ],
 "metadata": {
  "kernelspec": {
   "display_name": "base",
   "language": "python",
   "name": "python3"
  },
  "language_info": {
   "codemirror_mode": {
    "name": "ipython",
    "version": 3
   },
   "file_extension": ".py",
   "mimetype": "text/x-python",
   "name": "python",
   "nbconvert_exporter": "python",
   "pygments_lexer": "ipython3",
   "version": "3.11.5"
  },
  "orig_nbformat": 4
 },
 "nbformat": 4,
 "nbformat_minor": 2
}
