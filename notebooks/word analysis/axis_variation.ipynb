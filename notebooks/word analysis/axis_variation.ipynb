{
 "cells": [
  {
   "cell_type": "markdown",
   "metadata": {},
   "source": [
    "# **Imports**"
   ]
  },
  {
   "cell_type": "code",
   "execution_count": 1,
   "metadata": {},
   "outputs": [
    {
     "name": "stdout",
     "output_type": "stream",
     "text": [
      "Cosine Similarity b1-b2: -0.39971082824723836\n",
      "Cosine Similarity b1-b2: -0.3283980118771736\n",
      "Cosine Similarity b1-b2: -0.4343392279125446\n",
      "Cosine Similarity b1-b2: -0.3556753325971033\n",
      "Cosine Similarity b1-b2: -0.25868816236356595\n",
      "Cosine Similarity b1-b2: -0.3282046873655816\n",
      "Cosine Similarity b1-b2: -0.34722643033966344\n",
      "Cosine Similarity b1-b2: -0.35393206801784416\n",
      "Cosine Similarity b1-b2: -0.3328882761888091\n",
      "Cosine Similarity b1-b2: -0.3341682316005257\n",
      "Cosine Similarity b1-b2: -0.02389130901932727\n",
      "Cosine Similarity b1-b2: -0.16105655829265958\n",
      "Cosine Similarity b1-b2: -0.0879007369208663\n",
      "Cosine Similarity b1-b2: 0.09162228538266397\n"
     ]
    }
   ],
   "source": [
    "from gensim.test.utils import datapath, get_tmpfile\n",
    "from gensim.models import KeyedVectors\n",
    "from gensim.scripts.glove2word2vec import glove2word2vec\n",
    "import json\n",
    "import re\n",
    "import PyPDF2\n",
    "import pandas as pd\n",
    "import numpy as np\n",
    "import matplotlib.pyplot as plt\n",
    "from dask import dataframe as dd\n",
    "import plotly.express as px\n",
    "import math\n",
    "from plotly.subplots import make_subplots\n",
    "import plotly.graph_objects as go\n",
    "from src.text_cleaning import *\n",
    "import ast\n",
    "from numpy.linalg import norm\n",
    "from sklearn.preprocessing import normalize\n",
    "from sklearn.feature_extraction.text import CountVectorizer\n",
    "from src.weights import *\n",
    "from nltk.cluster.util import cosine_distance\n",
    "from nltk.cluster import KMeansClusterer\n",
    "import nltk\n",
    "import random\n",
    "import pacmap\n",
    "from sklearn.decomposition import PCA\n",
    "from collections import Counter\n",
    "import operator\n",
    "import warnings\n",
    "warnings.filterwarnings(\"ignore\")\n",
    "from src.proj_functs import *\n",
    "from src.projections import *\n",
    "from src.preprocess_parliament import *"
   ]
  },
  {
   "cell_type": "markdown",
   "metadata": {},
   "source": [
    "# **Computations**"
   ]
  },
  {
   "cell_type": "markdown",
   "metadata": {},
   "source": [
    "## Newspapers embeddings"
   ]
  },
  {
   "cell_type": "code",
   "execution_count": 2,
   "metadata": {},
   "outputs": [],
   "source": [
    "df_2010 = standard_opening('data/sentence_embeddings/sentence_embeddings_2010.csv', False)\n",
    "df_2010['sentence_embedding'] = df_2010['sentence_embedding'].apply(eval).apply(np.array, args = (float, ))\n",
    "df_2010['count'] = 1\n",
    "df_2010 = df_2010[['sentence_embedding', 'source', 'count']]\n",
    "df_2010 = df_2010.groupby(by = ('source')).sum().reset_index()\n",
    "for i in df_2010.index :\n",
    "    df_2010['sentence_embedding'][i] = df_2010['sentence_embedding'][i] / df_2010['count'][i]\n",
    "\n",
    "df_2011 = standard_opening('data/sentence_embeddings/sentence_embeddings_2011.csv', False)\n",
    "df_2011['sentence_embedding'] = df_2011['sentence_embedding'].apply(eval).apply(np.array, args = (float, ))\n",
    "df_2011['count'] = 1\n",
    "df_2011 = df_2011[['sentence_embedding', 'source', 'count']]\n",
    "df_2011 = df_2011.groupby(by = ('source')).sum().reset_index()\n",
    "for i in df_2011.index :\n",
    "    df_2011['sentence_embedding'][i] = df_2011['sentence_embedding'][i] / df_2011['count'][i]\n",
    "\n",
    "df_2012 = standard_opening('data/sentence_embeddings/sentence_embeddings_2012.csv', False)\n",
    "df_2012['sentence_embedding'] = df_2012['sentence_embedding'].apply(eval).apply(np.array, args = (float, ))\n",
    "df_2012['count'] = 1\n",
    "df_2012 = df_2012[['sentence_embedding', 'source', 'count']]\n",
    "df_2012 = df_2012.groupby(by = ('source')).sum().reset_index()\n",
    "for i in df_2012.index :\n",
    "    df_2012['sentence_embedding'][i] = df_2012['sentence_embedding'][i] / df_2012['count'][i]\n",
    "\n",
    "df_2013 = standard_opening('data/sentence_embeddings/sentence_embeddings_2013.csv', False)\n",
    "df_2013['sentence_embedding'] = df_2013['sentence_embedding'].apply(eval).apply(np.array, args = (float, ))\n",
    "df_2013['count'] = 1\n",
    "df_2013 = df_2013[['sentence_embedding', 'source', 'count']]\n",
    "df_2013 = df_2013.groupby(by = ('source')).sum().reset_index()\n",
    "for i in df_2013.index :\n",
    "    df_2013['sentence_embedding'][i] = df_2013['sentence_embedding'][i] / df_2013['count'][i]\n",
    "\n",
    "df_2014 = standard_opening('data/sentence_embeddings/sentence_embeddings_2014.csv', False)\n",
    "df_2014['sentence_embedding'] = df_2014['sentence_embedding'].apply(eval).apply(np.array, args = (float, ))\n",
    "df_2014['count'] = 1\n",
    "df_2014 = df_2014[['sentence_embedding', 'source', 'count']]\n",
    "df_2014 = df_2014.groupby(by = ('source')).sum().reset_index()\n",
    "for i in df_2014.index :\n",
    "    df_2014['sentence_embedding'][i] = df_2014['sentence_embedding'][i] / df_2014['count'][i]\n",
    "\n",
    "df_2015 = standard_opening('data/sentence_embeddings/sentence_embeddings_2015.csv', False)\n",
    "df_2015['sentence_embedding'] = df_2015['sentence_embedding'].apply(eval).apply(np.array, args = (float, ))\n",
    "df_2015['count'] = 1\n",
    "df_2015 = df_2015[['sentence_embedding', 'source', 'count']]\n",
    "df_2015 = df_2015.groupby(by = ('source')).sum().reset_index()\n",
    "for i in df_2015.index :\n",
    "    df_2015['sentence_embedding'][i] = df_2015['sentence_embedding'][i] / df_2015['count'][i]\n",
    "\n",
    "df_2016 = standard_opening('data/sentence_embeddings/sentence_embeddings_2016.csv', False)\n",
    "df_2016['sentence_embedding'] = df_2016['sentence_embedding'].apply(eval).apply(np.array, args = (float, ))\n",
    "df_2016['count'] = 1\n",
    "df_2016 = df_2016[['sentence_embedding', 'source', 'count']]\n",
    "df_2016 = df_2016.groupby(by = ('source')).sum().reset_index()\n",
    "for i in df_2016.index :\n",
    "    df_2016['sentence_embedding'][i] = df_2016['sentence_embedding'][i] / df_2016['count'][i]\n",
    "\n",
    "df_2017 = standard_opening('data/sentence_embeddings/sentence_embeddings_2017.csv', False)\n",
    "df_2017['sentence_embedding'] = df_2017['sentence_embedding'].apply(eval).apply(np.array, args = (float, ))\n",
    "df_2017['count'] = 1\n",
    "df_2017 = df_2017[['sentence_embedding', 'source', 'count']]\n",
    "df_2017 = df_2017.groupby(by = ('source')).sum().reset_index()\n",
    "for i in df_2017.index :\n",
    "    df_2017['sentence_embedding'][i] = df_2017['sentence_embedding'][i] / df_2017['count'][i]\n",
    "\n",
    "df_2018 = standard_opening('data/sentence_embeddings/sentence_embeddings_2018.csv', False)\n",
    "df_2018['sentence_embedding'] = df_2018['sentence_embedding'].apply(eval).apply(np.array, args = (float, ))\n",
    "df_2018['count'] = 1\n",
    "df_2018 = df_2018[['sentence_embedding', 'source', 'count']]\n",
    "df_2018 = df_2018.groupby(by = ('source')).sum().reset_index()\n",
    "for i in df_2018.index :\n",
    "    df_2018['sentence_embedding'][i] = df_2018['sentence_embedding'][i] / df_2018['count'][i]\n",
    "\n",
    "df_2019 = standard_opening('data/sentence_embeddings/sentence_embeddings_2019.csv', False)\n",
    "df_2019['sentence_embedding'] = df_2019['sentence_embedding'].apply(eval).apply(np.array, args = (float, ))\n",
    "df_2019['count'] = 1\n",
    "df_2019 = df_2019[['sentence_embedding', 'source', 'count']]\n",
    "df_2019 = df_2019.groupby(by = ('source')).sum().reset_index()\n",
    "for i in df_2019.index :\n",
    "    df_2019['sentence_embedding'][i] = df_2019['sentence_embedding'][i] / df_2019['count'][i]\n",
    "\n",
    "df_20110 = standard_opening('data/sentence_embeddings/sentence_embeddings_20110.csv', False)\n",
    "df_20110['sentence_embedding'] = df_20110['sentence_embedding'].apply(eval).apply(np.array, args = (float, ))\n",
    "df_20110['count'] = 1\n",
    "df_20110 = df_20110[['sentence_embedding', 'source', 'count']]\n",
    "df_20110 = df_20110.groupby(by = ('source')).sum().reset_index()\n",
    "for i in df_20110.index :\n",
    "    df_20110['sentence_embedding'][i] = df_20110['sentence_embedding'][i] / df_20110['count'][i]\n",
    "\n",
    "df_20111 = standard_opening('data/sentence_embeddings/sentence_embeddings_20111.csv', False)\n",
    "df_20111['sentence_embedding'] = df_20111['sentence_embedding'].apply(eval).apply(np.array, args = (float, ))\n",
    "df_20111['count'] = 1\n",
    "df_20111 = df_20111[['sentence_embedding', 'source', 'count']]\n",
    "df_20111 = df_20111.groupby(by = ('source')).sum().reset_index()\n",
    "for i in df_20111.index :\n",
    "    df_20111['sentence_embedding'][i] = df_20111['sentence_embedding'][i] / df_20111['count'][i]\n",
    "\n",
    "df_20112 = standard_opening('data/sentence_embeddings/sentence_embeddings_20112.csv', False)\n",
    "df_20112['sentence_embedding'] = df_20112['sentence_embedding'].apply(eval).apply(np.array, args = (float, ))\n",
    "df_20112['count'] = 1\n",
    "df_20112 = df_20112[['sentence_embedding', 'source', 'count']]\n",
    "df_20112 = df_20112.groupby(by = ('source')).sum().reset_index()\n",
    "for i in df_20112.index :\n",
    "    df_20112['sentence_embedding'][i] = df_20112['sentence_embedding'][i] / df_20112['count'][i]\n",
    "\n",
    "df_20113 = standard_opening('data/sentence_embeddings/sentence_embeddings_20113.csv', False)\n",
    "df_20113['sentence_embedding'] = df_20113['sentence_embedding'].apply(eval).apply(np.array, args = (float, ))\n",
    "df_20113['count'] = 1\n",
    "df_20113 = df_20113[['sentence_embedding', 'source', 'count']]\n",
    "df_20113 = df_20113.groupby(by = ('source')).sum().reset_index()\n",
    "for i in df_20113.index :\n",
    "    df_20113['sentence_embedding'][i] = df_20113['sentence_embedding'][i] / df_20113['count'][i]"
   ]
  },
  {
   "cell_type": "code",
   "execution_count": 3,
   "metadata": {},
   "outputs": [],
   "source": [
    "dfs = [df_2010, df_2011, df_2012, df_2013, df_2014, df_2015, df_2016, df_2017, df_2018, df_2019, df_20110, df_20111, df_20112, df_20113]"
   ]
  },
  {
   "cell_type": "markdown",
   "metadata": {},
   "source": [
    "## Axis words embeddings"
   ]
  },
  {
   "cell_type": "code",
   "execution_count": 4,
   "metadata": {},
   "outputs": [],
   "source": [
    "axes_words = clean(tech + reg + pos + neg, 'unigram')"
   ]
  },
  {
   "cell_type": "code",
   "execution_count": 5,
   "metadata": {},
   "outputs": [
    {
     "data": {
      "text/plain": [
       "343"
      ]
     },
     "execution_count": 5,
     "metadata": {},
     "output_type": "execute_result"
    }
   ],
   "source": [
    "len(axes_words)"
   ]
  },
  {
   "cell_type": "code",
   "execution_count": 6,
   "metadata": {},
   "outputs": [],
   "source": [
    "models_words = [model_words_2010, model_words_2011, model_words_2012, model_words_2013, model_words_2014, model_words_2015, model_words_2016, model_words_2017, model_words_2018, model_words_2019, model_words_20110, model_words_20111, model_words_20112, model_words_20113]"
   ]
  },
  {
   "cell_type": "code",
   "execution_count": 7,
   "metadata": {},
   "outputs": [],
   "source": [
    "def give_embed_anyway(word, model_word, list_of_words):\n",
    "    if word in filter_model(list_of_words, model_word): \n",
    "        return model_word[word]\n",
    "    else :\n",
    "        return np.array([0 for i in range(50)], dtype=float)"
   ]
  },
  {
   "cell_type": "code",
   "execution_count": 8,
   "metadata": {},
   "outputs": [],
   "source": [
    "axes_words_embeddings_2010 = [give_embed_anyway(word, models_words[0], axes_words) for word in axes_words]\n",
    "axes_words_embeddings_2011 = [give_embed_anyway(word, models_words[1], axes_words) for word in axes_words]\n",
    "axes_words_embeddings_2012 = [give_embed_anyway(word, models_words[2], axes_words) for word in axes_words]\n",
    "axes_words_embeddings_2013 = [give_embed_anyway(word, models_words[3], axes_words) for word in axes_words]\n",
    "axes_words_embeddings_2014 = [give_embed_anyway(word, models_words[4], axes_words) for word in axes_words]\n",
    "axes_words_embeddings_2015 = [give_embed_anyway(word, models_words[5], axes_words) for word in axes_words]\n",
    "axes_words_embeddings_2016 = [give_embed_anyway(word, models_words[6], axes_words) for word in axes_words]\n",
    "axes_words_embeddings_2017 = [give_embed_anyway(word, models_words[7], axes_words) for word in axes_words]\n",
    "axes_words_embeddings_2018 = [give_embed_anyway(word, models_words[8], axes_words) for word in axes_words]\n",
    "axes_words_embeddings_2019 = [give_embed_anyway(word, models_words[9], axes_words) for word in axes_words]\n",
    "axes_words_embeddings_20110 = [give_embed_anyway(word, models_words[10], axes_words) for word in axes_words]\n",
    "axes_words_embeddings_20111 = [give_embed_anyway(word, models_words[11], axes_words) for word in axes_words]\n",
    "axes_words_embeddings_20112 = [give_embed_anyway(word, models_words[12], axes_words) for word in axes_words]\n",
    "axes_words_embeddings_20113 = [give_embed_anyway(word, models_words[13], axes_words) for word in axes_words]"
   ]
  },
  {
   "cell_type": "code",
   "execution_count": 9,
   "metadata": {},
   "outputs": [],
   "source": [
    "df_axes = pd.DataFrame(zip(axes_words, axes_words_embeddings_2010, axes_words_embeddings_2011, axes_words_embeddings_2012, axes_words_embeddings_2013, axes_words_embeddings_2014, axes_words_embeddings_2015, axes_words_embeddings_2016, axes_words_embeddings_2017, axes_words_embeddings_2018, axes_words_embeddings_2019, axes_words_embeddings_20110, axes_words_embeddings_20111, axes_words_embeddings_20112, axes_words_embeddings_20113), columns = ['text', 'embedding 2010', 'embedding 2011', 'embedding 2012', 'embedding 2013', 'embedding 2014', 'embedding 2015', 'embedding 2016', 'embedding 2017', 'embedding 2018', 'embedding 2019', 'embedding 20110', 'embedding 20111','embedding 20112', 'embedding 20113'])"
   ]
  },
  {
   "cell_type": "code",
   "execution_count": 10,
   "metadata": {},
   "outputs": [
    {
     "name": "stdout",
     "output_type": "stream",
     "text": [
      "343\n",
      "343\n",
      "343\n",
      "343\n",
      "343\n",
      "343\n",
      "343\n",
      "343\n",
      "343\n",
      "343\n",
      "343\n",
      "343\n",
      "343\n",
      "343\n",
      "343\n"
     ]
    }
   ],
   "source": [
    "for i in [axes_words, axes_words_embeddings_2010, axes_words_embeddings_2011, axes_words_embeddings_2012, axes_words_embeddings_2013, axes_words_embeddings_2014, axes_words_embeddings_2015, axes_words_embeddings_2016, axes_words_embeddings_2017, axes_words_embeddings_2018, axes_words_embeddings_2019, axes_words_embeddings_20110, axes_words_embeddings_20111, axes_words_embeddings_20112, axes_words_embeddings_20113]:\n",
    "    print(len(i))"
   ]
  },
  {
   "cell_type": "markdown",
   "metadata": {},
   "source": [
    "## Matrix A"
   ]
  },
  {
   "cell_type": "code",
   "execution_count": 11,
   "metadata": {},
   "outputs": [],
   "source": [
    "poles = []\n",
    "A = []\n",
    "\n",
    "for i in range(len(models_words)):\n",
    "    pos_a = filter_model(pos_1, models_words[i])\n",
    "    neg_a = filter_model(neg_1, models_words[i])\n",
    "\n",
    "\n",
    "    pos_b = filter_model(pos_2, models_words[i])\n",
    "    neg_b = filter_model(neg_2, models_words[i])\n",
    "\n",
    "    b1 = (barycentre(pos_a, models_words[i])-barycentre(neg_a, models_words[i]))\n",
    "    b2 = (barycentre(pos_b, models_words[i])-barycentre(neg_b, models_words[i]))\n",
    "\n",
    "    poles.append([b1,b2])\n",
    "    A.append(np.linalg.norm(b1-b2))"
   ]
  },
  {
   "cell_type": "markdown",
   "metadata": {},
   "source": [
    "## Final formula"
   ]
  },
  {
   "cell_type": "code",
   "execution_count": 12,
   "metadata": {},
   "outputs": [
    {
     "data": {
      "text/html": [
       "<div>\n",
       "<style scoped>\n",
       "    .dataframe tbody tr th:only-of-type {\n",
       "        vertical-align: middle;\n",
       "    }\n",
       "\n",
       "    .dataframe tbody tr th {\n",
       "        vertical-align: top;\n",
       "    }\n",
       "\n",
       "    .dataframe thead th {\n",
       "        text-align: right;\n",
       "    }\n",
       "</style>\n",
       "<table border=\"1\" class=\"dataframe\">\n",
       "  <thead>\n",
       "    <tr style=\"text-align: right;\">\n",
       "      <th></th>\n",
       "      <th>text</th>\n",
       "      <th>embedding 2010</th>\n",
       "      <th>embedding 2011</th>\n",
       "      <th>embedding 2012</th>\n",
       "      <th>embedding 2013</th>\n",
       "      <th>embedding 2014</th>\n",
       "      <th>embedding 2015</th>\n",
       "      <th>embedding 2016</th>\n",
       "      <th>embedding 2017</th>\n",
       "      <th>embedding 2018</th>\n",
       "      <th>embedding 2019</th>\n",
       "      <th>embedding 20110</th>\n",
       "      <th>embedding 20111</th>\n",
       "      <th>embedding 20112</th>\n",
       "      <th>embedding 20113</th>\n",
       "    </tr>\n",
       "  </thead>\n",
       "  <tbody>\n",
       "    <tr>\n",
       "      <th>0</th>\n",
       "      <td>chrome</td>\n",
       "      <td>[0.10946341, 0.32682914, 1.9149956, 0.06806417...</td>\n",
       "      <td>[-0.15708856, -0.8161587, 0.8197754, -0.745665...</td>\n",
       "      <td>[-0.04122119, -0.27283007, 0.7313752, -1.07396...</td>\n",
       "      <td>[0.5484032, 0.62834454, 0.85820067, -1.2372881...</td>\n",
       "      <td>[0.35849467, -0.023622302, 0.50512904, -0.1363...</td>\n",
       "      <td>[0.33607638, -0.15516336, 0.101297826, -0.4896...</td>\n",
       "      <td>[0.23015016, -0.028227486, 0.80952483, 0.66161...</td>\n",
       "      <td>[0.3750077, -0.19217275, 1.1979438, -0.0984661...</td>\n",
       "      <td>[0.33682334, 0.035994127, 1.3004317, 0.4106249...</td>\n",
       "      <td>[0.86114633, 1.2562237, 0.6558977, -0.06323759...</td>\n",
       "      <td>[0.24559426, 0.28093433, 1.9729018, -0.6878085...</td>\n",
       "      <td>[0.3723322, 0.26330405, 1.199631, -0.5637649, ...</td>\n",
       "      <td>[0.114518516, 0.27337527, 0.6673493, -0.281132...</td>\n",
       "      <td>[0.6995036, -0.0997276, 0.38002512, 0.20582934...</td>\n",
       "    </tr>\n",
       "    <tr>\n",
       "      <th>1</th>\n",
       "      <td>incognito</td>\n",
       "      <td>[0.0, 0.0, 0.0, 0.0, 0.0, 0.0, 0.0, 0.0, 0.0, ...</td>\n",
       "      <td>[-0.11319541, -0.31668466, -0.002840824, -0.38...</td>\n",
       "      <td>[-0.23241295, -0.4409596, -0.061899804, 0.2998...</td>\n",
       "      <td>[0.2748218, -0.56324106, 0.088645004, -0.02437...</td>\n",
       "      <td>[0.09763111, -0.40931648, -0.20344055, 0.04111...</td>\n",
       "      <td>[0.116619386, 0.4766445, -0.24431032, 0.187109...</td>\n",
       "      <td>[-0.40214106, 0.8142749, -0.2385042, -0.087655...</td>\n",
       "      <td>[-1.1768172, 0.7440033, 0.28641337, -0.7464466...</td>\n",
       "      <td>[-1.0332172, 1.558883, -0.9392851, -0.89866114...</td>\n",
       "      <td>[0.19491395, 1.1956717, 0.22068189, -0.8155495...</td>\n",
       "      <td>[0.2677164, 0.95705783, 0.27753037, -0.2962112...</td>\n",
       "      <td>[-0.12133052, 0.3019373, 0.061749607, 0.290831...</td>\n",
       "      <td>[0.02073489, 0.23059255, -0.17081386, -0.09444...</td>\n",
       "      <td>[-0.4840962, 0.06537955, -0.14401959, -0.11806...</td>\n",
       "    </tr>\n",
       "    <tr>\n",
       "      <th>2</th>\n",
       "      <td>youtub</td>\n",
       "      <td>[-0.21816848, -1.1323637, 0.88141054, -0.24483...</td>\n",
       "      <td>[-0.25814545, -1.3402333, 0.26661605, -0.12029...</td>\n",
       "      <td>[1.2496511, -0.4321287, -0.19049428, 0.4948894...</td>\n",
       "      <td>[1.5080979, -1.1897376, 0.019983938, -0.982720...</td>\n",
       "      <td>[1.1022263, -1.4302062, 0.1359149, 0.08393642,...</td>\n",
       "      <td>[0.049414948, -1.0121257, 0.8540932, -0.232978...</td>\n",
       "      <td>[-0.21453835, -0.8960663, 0.7570878, -0.382464...</td>\n",
       "      <td>[0.3062643, -0.85685146, 1.4348966, -1.4918376...</td>\n",
       "      <td>[0.096681595, -1.4827337, -0.3704149, -1.23362...</td>\n",
       "      <td>[-0.0005559246, -1.5469103, 1.0871528, -1.1695...</td>\n",
       "      <td>[0.9006714, -1.0891892, -0.3842364, -1.7580153...</td>\n",
       "      <td>[0.502257, -1.6074005, -0.5656829, -1.7575816,...</td>\n",
       "      <td>[-0.10940673, -1.492873, -0.1412497, -1.020680...</td>\n",
       "      <td>[-0.30978945, -1.6041964, 0.17019625, 0.008478...</td>\n",
       "    </tr>\n",
       "    <tr>\n",
       "      <th>3</th>\n",
       "      <td>nexu</td>\n",
       "      <td>[1.05606, -0.75402796, 2.1099036, -0.71045274,...</td>\n",
       "      <td>[0.56027675, -1.3458472, 0.9187525, -0.3286033...</td>\n",
       "      <td>[1.5117265, -0.34738454, 0.77173185, -0.368296...</td>\n",
       "      <td>[1.3647578, -1.5412002, 2.0916405, 0.108022414...</td>\n",
       "      <td>[0.7441975, -2.4684198, 1.3635454, -0.1061577,...</td>\n",
       "      <td>[1.1188099, -0.8310289, 1.1973978, 0.11408513,...</td>\n",
       "      <td>[1.2217119, -1.6854256, 1.3545448, 0.8158221, ...</td>\n",
       "      <td>[0.758153, -0.68928385, 0.7044803, 1.2027619, ...</td>\n",
       "      <td>[0.7984837, -0.5435084, 0.7154877, 0.43557915,...</td>\n",
       "      <td>[0.9323067, -0.64294237, 0.75994045, 0.3769666...</td>\n",
       "      <td>[0.7713894, -0.84304076, 0.5456792, 0.496734, ...</td>\n",
       "      <td>[0.5825929, -0.62673527, 0.34702128, 0.7502586...</td>\n",
       "      <td>[0.0, 0.0, 0.0, 0.0, 0.0, 0.0, 0.0, 0.0, 0.0, ...</td>\n",
       "      <td>[-0.27049518, -1.4520445, 0.77446723, -0.34003...</td>\n",
       "    </tr>\n",
       "    <tr>\n",
       "      <th>4</th>\n",
       "      <td>pixel</td>\n",
       "      <td>[-0.14655992, -0.7019423, 0.45731553, 0.668266...</td>\n",
       "      <td>[0.09280658, -0.16407175, 0.21001902, -0.21774...</td>\n",
       "      <td>[0.17796461, -0.068932846, 0.4711359, 0.043859...</td>\n",
       "      <td>[1.7577156, 0.16642049, 0.709984, -0.92760676,...</td>\n",
       "      <td>[0.6723616, 0.19965962, 0.10811399, -0.4112702...</td>\n",
       "      <td>[0.5472378, -0.16023487, 0.91467655, -0.815602...</td>\n",
       "      <td>[1.0182258, -0.48466137, 1.5193604, 0.74772584...</td>\n",
       "      <td>[0.3721031, -0.53745043, 1.6628575, 1.4127697,...</td>\n",
       "      <td>[1.3365444, -0.26558807, 1.8512474, 1.1970934,...</td>\n",
       "      <td>[0.8925639, 0.17778562, 2.0315778, 0.519743, -...</td>\n",
       "      <td>[1.1325066, 0.81009674, 1.2730945, 0.15538017,...</td>\n",
       "      <td>[-0.103300646, -0.17423229, -0.2964013, -0.212...</td>\n",
       "      <td>[1.8358827, 0.41217312, -0.39533848, 0.1408712...</td>\n",
       "      <td>[1.6805567, -1.2341713, -0.28117, 0.8452974, 1...</td>\n",
       "    </tr>\n",
       "    <tr>\n",
       "      <th>...</th>\n",
       "      <td>...</td>\n",
       "      <td>...</td>\n",
       "      <td>...</td>\n",
       "      <td>...</td>\n",
       "      <td>...</td>\n",
       "      <td>...</td>\n",
       "      <td>...</td>\n",
       "      <td>...</td>\n",
       "      <td>...</td>\n",
       "      <td>...</td>\n",
       "      <td>...</td>\n",
       "      <td>...</td>\n",
       "      <td>...</td>\n",
       "      <td>...</td>\n",
       "      <td>...</td>\n",
       "    </tr>\n",
       "    <tr>\n",
       "      <th>338</th>\n",
       "      <td>dislik</td>\n",
       "      <td>[-0.10519498, -0.9843126, 0.4470398, 0.3523376...</td>\n",
       "      <td>[0.66680694, -0.323793, 0.17949316, -0.0402979...</td>\n",
       "      <td>[0.7370241, -0.4709147, 0.19861251, -0.9915859...</td>\n",
       "      <td>[0.6752908, 0.027764758, 0.16452098, -0.926078...</td>\n",
       "      <td>[-0.51194423, 0.07773775, 0.00095936796, -0.65...</td>\n",
       "      <td>[0.38932753, 0.053769268, -0.28398335, -0.2248...</td>\n",
       "      <td>[1.3365449, -0.18035126, -0.013293792, 0.51812...</td>\n",
       "      <td>[0.52382946, -0.2906182, 0.14714992, -0.281662...</td>\n",
       "      <td>[0.13615038, -1.0847836, 0.70030296, -0.363765...</td>\n",
       "      <td>[-0.3437363, 0.08104956, 0.90472156, -0.028106...</td>\n",
       "      <td>[-0.31965593, 0.05104096, 0.20267156, 0.361695...</td>\n",
       "      <td>[-0.24275024, -0.1703115, -0.12513633, 0.01641...</td>\n",
       "      <td>[-0.7248762, -0.16820927, 0.057631493, -0.5323...</td>\n",
       "      <td>[-0.67107475, -0.20667455, 0.14895171, -0.3957...</td>\n",
       "    </tr>\n",
       "    <tr>\n",
       "      <th>339</th>\n",
       "      <td>harmharm</td>\n",
       "      <td>[0.0, 0.0, 0.0, 0.0, 0.0, 0.0, 0.0, 0.0, 0.0, ...</td>\n",
       "      <td>[0.0, 0.0, 0.0, 0.0, 0.0, 0.0, 0.0, 0.0, 0.0, ...</td>\n",
       "      <td>[0.0, 0.0, 0.0, 0.0, 0.0, 0.0, 0.0, 0.0, 0.0, ...</td>\n",
       "      <td>[0.0, 0.0, 0.0, 0.0, 0.0, 0.0, 0.0, 0.0, 0.0, ...</td>\n",
       "      <td>[0.0, 0.0, 0.0, 0.0, 0.0, 0.0, 0.0, 0.0, 0.0, ...</td>\n",
       "      <td>[0.0, 0.0, 0.0, 0.0, 0.0, 0.0, 0.0, 0.0, 0.0, ...</td>\n",
       "      <td>[0.0, 0.0, 0.0, 0.0, 0.0, 0.0, 0.0, 0.0, 0.0, ...</td>\n",
       "      <td>[0.0, 0.0, 0.0, 0.0, 0.0, 0.0, 0.0, 0.0, 0.0, ...</td>\n",
       "      <td>[0.0, 0.0, 0.0, 0.0, 0.0, 0.0, 0.0, 0.0, 0.0, ...</td>\n",
       "      <td>[0.0, 0.0, 0.0, 0.0, 0.0, 0.0, 0.0, 0.0, 0.0, ...</td>\n",
       "      <td>[0.0, 0.0, 0.0, 0.0, 0.0, 0.0, 0.0, 0.0, 0.0, ...</td>\n",
       "      <td>[0.0, 0.0, 0.0, 0.0, 0.0, 0.0, 0.0, 0.0, 0.0, ...</td>\n",
       "      <td>[0.0, 0.0, 0.0, 0.0, 0.0, 0.0, 0.0, 0.0, 0.0, ...</td>\n",
       "      <td>[0.0, 0.0, 0.0, 0.0, 0.0, 0.0, 0.0, 0.0, 0.0, ...</td>\n",
       "    </tr>\n",
       "    <tr>\n",
       "      <th>340</th>\n",
       "      <td>fiasco</td>\n",
       "      <td>[-0.5452664, -0.19028036, -0.13056852, -0.7723...</td>\n",
       "      <td>[-0.26932156, -0.32901466, -0.07330255, -0.591...</td>\n",
       "      <td>[0.10343049, -1.1436088, -0.71473145, -0.15247...</td>\n",
       "      <td>[0.60006076, -0.7356713, 0.24112228, -0.396503...</td>\n",
       "      <td>[0.18409175, -0.38160384, 0.7378581, -0.685903...</td>\n",
       "      <td>[-0.26193696, -0.17090237, 0.57771665, -0.7651...</td>\n",
       "      <td>[-0.39195207, -0.92495793, 0.2760867, -0.53038...</td>\n",
       "      <td>[-0.0059613176, -0.09842991, 1.0857707, -0.073...</td>\n",
       "      <td>[-0.48314366, -0.31487173, -0.35656038, -0.154...</td>\n",
       "      <td>[0.4109512, -0.07944043, -0.04563845, 0.787131...</td>\n",
       "      <td>[-0.06489272, -0.7083894, -0.5849428, 0.388015...</td>\n",
       "      <td>[-0.16428514, -0.19928816, -1.0089079, 0.52288...</td>\n",
       "      <td>[-0.13507262, -0.13678584, -0.94229364, 0.3508...</td>\n",
       "      <td>[0.0, 0.0, 0.0, 0.0, 0.0, 0.0, 0.0, 0.0, 0.0, ...</td>\n",
       "    </tr>\n",
       "    <tr>\n",
       "      <th>341</th>\n",
       "      <td>scandal</td>\n",
       "      <td>[0.37630132, -0.41744363, -0.8145973, 0.168286...</td>\n",
       "      <td>[0.53083473, -1.5712937, -0.57319283, 0.902945...</td>\n",
       "      <td>[0.96777105, -0.4333183, -1.2745981, -0.568109...</td>\n",
       "      <td>[0.61799103, -0.81987137, -1.1588478, 0.350083...</td>\n",
       "      <td>[0.8046238, -0.2850003, -0.85361654, -0.352615...</td>\n",
       "      <td>[0.29586843, -0.56376445, -0.13122587, -0.3698...</td>\n",
       "      <td>[0.46386492, -0.27046564, -0.64401805, -0.4107...</td>\n",
       "      <td>[0.20461045, -0.87477255, -1.0644319, -0.71550...</td>\n",
       "      <td>[1.0656914, 0.32882887, -0.23702867, 0.2071341...</td>\n",
       "      <td>[1.3863044, 0.024915567, -0.9392715, 0.2079866...</td>\n",
       "      <td>[0.52906245, -0.2656106, -0.18394609, 0.120472...</td>\n",
       "      <td>[1.1690975, -0.81292397, -0.91294265, 0.609066...</td>\n",
       "      <td>[0.72057277, -1.597826, -1.668871, 0.21782985,...</td>\n",
       "      <td>[-0.28001338, -1.3020502, -0.43539226, -0.3849...</td>\n",
       "    </tr>\n",
       "    <tr>\n",
       "      <th>342</th>\n",
       "      <td>mistak</td>\n",
       "      <td>[0.34391403, -0.45811462, -0.10585069, -0.5397...</td>\n",
       "      <td>[0.36450264, -0.3421961, -0.014312239, -0.9001...</td>\n",
       "      <td>[0.79451495, -0.4658453, 0.19082122, -0.351850...</td>\n",
       "      <td>[0.17237864, -1.1523429, -0.3256921, -0.646385...</td>\n",
       "      <td>[0.4698075, -0.8749016, -0.6138808, -0.6614520...</td>\n",
       "      <td>[0.43225488, -0.0063521694, -0.5350079, -0.473...</td>\n",
       "      <td>[0.18323117, -0.3808522, -0.62938476, -0.51061...</td>\n",
       "      <td>[0.7829666, -0.6515418, -0.33266076, -0.491898...</td>\n",
       "      <td>[0.020736806, -0.5460775, -0.6417835, -0.57712...</td>\n",
       "      <td>[0.5281845, -0.8238915, -0.6578681, -0.2618671...</td>\n",
       "      <td>[0.59218866, -0.34960973, -0.4861343, 0.005306...</td>\n",
       "      <td>[-0.29241213, -1.279866, -0.6609338, -0.069623...</td>\n",
       "      <td>[-0.01802508, -0.54563266, -0.29932946, -0.406...</td>\n",
       "      <td>[0.2662228, 0.15669021, -0.70173323, -0.429462...</td>\n",
       "    </tr>\n",
       "  </tbody>\n",
       "</table>\n",
       "<p>343 rows × 15 columns</p>\n",
       "</div>"
      ],
      "text/plain": [
       "          text                                     embedding 2010  \\\n",
       "0       chrome  [0.10946341, 0.32682914, 1.9149956, 0.06806417...   \n",
       "1    incognito  [0.0, 0.0, 0.0, 0.0, 0.0, 0.0, 0.0, 0.0, 0.0, ...   \n",
       "2       youtub  [-0.21816848, -1.1323637, 0.88141054, -0.24483...   \n",
       "3         nexu  [1.05606, -0.75402796, 2.1099036, -0.71045274,...   \n",
       "4        pixel  [-0.14655992, -0.7019423, 0.45731553, 0.668266...   \n",
       "..         ...                                                ...   \n",
       "338     dislik  [-0.10519498, -0.9843126, 0.4470398, 0.3523376...   \n",
       "339   harmharm  [0.0, 0.0, 0.0, 0.0, 0.0, 0.0, 0.0, 0.0, 0.0, ...   \n",
       "340     fiasco  [-0.5452664, -0.19028036, -0.13056852, -0.7723...   \n",
       "341    scandal  [0.37630132, -0.41744363, -0.8145973, 0.168286...   \n",
       "342     mistak  [0.34391403, -0.45811462, -0.10585069, -0.5397...   \n",
       "\n",
       "                                        embedding 2011  \\\n",
       "0    [-0.15708856, -0.8161587, 0.8197754, -0.745665...   \n",
       "1    [-0.11319541, -0.31668466, -0.002840824, -0.38...   \n",
       "2    [-0.25814545, -1.3402333, 0.26661605, -0.12029...   \n",
       "3    [0.56027675, -1.3458472, 0.9187525, -0.3286033...   \n",
       "4    [0.09280658, -0.16407175, 0.21001902, -0.21774...   \n",
       "..                                                 ...   \n",
       "338  [0.66680694, -0.323793, 0.17949316, -0.0402979...   \n",
       "339  [0.0, 0.0, 0.0, 0.0, 0.0, 0.0, 0.0, 0.0, 0.0, ...   \n",
       "340  [-0.26932156, -0.32901466, -0.07330255, -0.591...   \n",
       "341  [0.53083473, -1.5712937, -0.57319283, 0.902945...   \n",
       "342  [0.36450264, -0.3421961, -0.014312239, -0.9001...   \n",
       "\n",
       "                                        embedding 2012  \\\n",
       "0    [-0.04122119, -0.27283007, 0.7313752, -1.07396...   \n",
       "1    [-0.23241295, -0.4409596, -0.061899804, 0.2998...   \n",
       "2    [1.2496511, -0.4321287, -0.19049428, 0.4948894...   \n",
       "3    [1.5117265, -0.34738454, 0.77173185, -0.368296...   \n",
       "4    [0.17796461, -0.068932846, 0.4711359, 0.043859...   \n",
       "..                                                 ...   \n",
       "338  [0.7370241, -0.4709147, 0.19861251, -0.9915859...   \n",
       "339  [0.0, 0.0, 0.0, 0.0, 0.0, 0.0, 0.0, 0.0, 0.0, ...   \n",
       "340  [0.10343049, -1.1436088, -0.71473145, -0.15247...   \n",
       "341  [0.96777105, -0.4333183, -1.2745981, -0.568109...   \n",
       "342  [0.79451495, -0.4658453, 0.19082122, -0.351850...   \n",
       "\n",
       "                                        embedding 2013  \\\n",
       "0    [0.5484032, 0.62834454, 0.85820067, -1.2372881...   \n",
       "1    [0.2748218, -0.56324106, 0.088645004, -0.02437...   \n",
       "2    [1.5080979, -1.1897376, 0.019983938, -0.982720...   \n",
       "3    [1.3647578, -1.5412002, 2.0916405, 0.108022414...   \n",
       "4    [1.7577156, 0.16642049, 0.709984, -0.92760676,...   \n",
       "..                                                 ...   \n",
       "338  [0.6752908, 0.027764758, 0.16452098, -0.926078...   \n",
       "339  [0.0, 0.0, 0.0, 0.0, 0.0, 0.0, 0.0, 0.0, 0.0, ...   \n",
       "340  [0.60006076, -0.7356713, 0.24112228, -0.396503...   \n",
       "341  [0.61799103, -0.81987137, -1.1588478, 0.350083...   \n",
       "342  [0.17237864, -1.1523429, -0.3256921, -0.646385...   \n",
       "\n",
       "                                        embedding 2014  \\\n",
       "0    [0.35849467, -0.023622302, 0.50512904, -0.1363...   \n",
       "1    [0.09763111, -0.40931648, -0.20344055, 0.04111...   \n",
       "2    [1.1022263, -1.4302062, 0.1359149, 0.08393642,...   \n",
       "3    [0.7441975, -2.4684198, 1.3635454, -0.1061577,...   \n",
       "4    [0.6723616, 0.19965962, 0.10811399, -0.4112702...   \n",
       "..                                                 ...   \n",
       "338  [-0.51194423, 0.07773775, 0.00095936796, -0.65...   \n",
       "339  [0.0, 0.0, 0.0, 0.0, 0.0, 0.0, 0.0, 0.0, 0.0, ...   \n",
       "340  [0.18409175, -0.38160384, 0.7378581, -0.685903...   \n",
       "341  [0.8046238, -0.2850003, -0.85361654, -0.352615...   \n",
       "342  [0.4698075, -0.8749016, -0.6138808, -0.6614520...   \n",
       "\n",
       "                                        embedding 2015  \\\n",
       "0    [0.33607638, -0.15516336, 0.101297826, -0.4896...   \n",
       "1    [0.116619386, 0.4766445, -0.24431032, 0.187109...   \n",
       "2    [0.049414948, -1.0121257, 0.8540932, -0.232978...   \n",
       "3    [1.1188099, -0.8310289, 1.1973978, 0.11408513,...   \n",
       "4    [0.5472378, -0.16023487, 0.91467655, -0.815602...   \n",
       "..                                                 ...   \n",
       "338  [0.38932753, 0.053769268, -0.28398335, -0.2248...   \n",
       "339  [0.0, 0.0, 0.0, 0.0, 0.0, 0.0, 0.0, 0.0, 0.0, ...   \n",
       "340  [-0.26193696, -0.17090237, 0.57771665, -0.7651...   \n",
       "341  [0.29586843, -0.56376445, -0.13122587, -0.3698...   \n",
       "342  [0.43225488, -0.0063521694, -0.5350079, -0.473...   \n",
       "\n",
       "                                        embedding 2016  \\\n",
       "0    [0.23015016, -0.028227486, 0.80952483, 0.66161...   \n",
       "1    [-0.40214106, 0.8142749, -0.2385042, -0.087655...   \n",
       "2    [-0.21453835, -0.8960663, 0.7570878, -0.382464...   \n",
       "3    [1.2217119, -1.6854256, 1.3545448, 0.8158221, ...   \n",
       "4    [1.0182258, -0.48466137, 1.5193604, 0.74772584...   \n",
       "..                                                 ...   \n",
       "338  [1.3365449, -0.18035126, -0.013293792, 0.51812...   \n",
       "339  [0.0, 0.0, 0.0, 0.0, 0.0, 0.0, 0.0, 0.0, 0.0, ...   \n",
       "340  [-0.39195207, -0.92495793, 0.2760867, -0.53038...   \n",
       "341  [0.46386492, -0.27046564, -0.64401805, -0.4107...   \n",
       "342  [0.18323117, -0.3808522, -0.62938476, -0.51061...   \n",
       "\n",
       "                                        embedding 2017  \\\n",
       "0    [0.3750077, -0.19217275, 1.1979438, -0.0984661...   \n",
       "1    [-1.1768172, 0.7440033, 0.28641337, -0.7464466...   \n",
       "2    [0.3062643, -0.85685146, 1.4348966, -1.4918376...   \n",
       "3    [0.758153, -0.68928385, 0.7044803, 1.2027619, ...   \n",
       "4    [0.3721031, -0.53745043, 1.6628575, 1.4127697,...   \n",
       "..                                                 ...   \n",
       "338  [0.52382946, -0.2906182, 0.14714992, -0.281662...   \n",
       "339  [0.0, 0.0, 0.0, 0.0, 0.0, 0.0, 0.0, 0.0, 0.0, ...   \n",
       "340  [-0.0059613176, -0.09842991, 1.0857707, -0.073...   \n",
       "341  [0.20461045, -0.87477255, -1.0644319, -0.71550...   \n",
       "342  [0.7829666, -0.6515418, -0.33266076, -0.491898...   \n",
       "\n",
       "                                        embedding 2018  \\\n",
       "0    [0.33682334, 0.035994127, 1.3004317, 0.4106249...   \n",
       "1    [-1.0332172, 1.558883, -0.9392851, -0.89866114...   \n",
       "2    [0.096681595, -1.4827337, -0.3704149, -1.23362...   \n",
       "3    [0.7984837, -0.5435084, 0.7154877, 0.43557915,...   \n",
       "4    [1.3365444, -0.26558807, 1.8512474, 1.1970934,...   \n",
       "..                                                 ...   \n",
       "338  [0.13615038, -1.0847836, 0.70030296, -0.363765...   \n",
       "339  [0.0, 0.0, 0.0, 0.0, 0.0, 0.0, 0.0, 0.0, 0.0, ...   \n",
       "340  [-0.48314366, -0.31487173, -0.35656038, -0.154...   \n",
       "341  [1.0656914, 0.32882887, -0.23702867, 0.2071341...   \n",
       "342  [0.020736806, -0.5460775, -0.6417835, -0.57712...   \n",
       "\n",
       "                                        embedding 2019  \\\n",
       "0    [0.86114633, 1.2562237, 0.6558977, -0.06323759...   \n",
       "1    [0.19491395, 1.1956717, 0.22068189, -0.8155495...   \n",
       "2    [-0.0005559246, -1.5469103, 1.0871528, -1.1695...   \n",
       "3    [0.9323067, -0.64294237, 0.75994045, 0.3769666...   \n",
       "4    [0.8925639, 0.17778562, 2.0315778, 0.519743, -...   \n",
       "..                                                 ...   \n",
       "338  [-0.3437363, 0.08104956, 0.90472156, -0.028106...   \n",
       "339  [0.0, 0.0, 0.0, 0.0, 0.0, 0.0, 0.0, 0.0, 0.0, ...   \n",
       "340  [0.4109512, -0.07944043, -0.04563845, 0.787131...   \n",
       "341  [1.3863044, 0.024915567, -0.9392715, 0.2079866...   \n",
       "342  [0.5281845, -0.8238915, -0.6578681, -0.2618671...   \n",
       "\n",
       "                                       embedding 20110  \\\n",
       "0    [0.24559426, 0.28093433, 1.9729018, -0.6878085...   \n",
       "1    [0.2677164, 0.95705783, 0.27753037, -0.2962112...   \n",
       "2    [0.9006714, -1.0891892, -0.3842364, -1.7580153...   \n",
       "3    [0.7713894, -0.84304076, 0.5456792, 0.496734, ...   \n",
       "4    [1.1325066, 0.81009674, 1.2730945, 0.15538017,...   \n",
       "..                                                 ...   \n",
       "338  [-0.31965593, 0.05104096, 0.20267156, 0.361695...   \n",
       "339  [0.0, 0.0, 0.0, 0.0, 0.0, 0.0, 0.0, 0.0, 0.0, ...   \n",
       "340  [-0.06489272, -0.7083894, -0.5849428, 0.388015...   \n",
       "341  [0.52906245, -0.2656106, -0.18394609, 0.120472...   \n",
       "342  [0.59218866, -0.34960973, -0.4861343, 0.005306...   \n",
       "\n",
       "                                       embedding 20111  \\\n",
       "0    [0.3723322, 0.26330405, 1.199631, -0.5637649, ...   \n",
       "1    [-0.12133052, 0.3019373, 0.061749607, 0.290831...   \n",
       "2    [0.502257, -1.6074005, -0.5656829, -1.7575816,...   \n",
       "3    [0.5825929, -0.62673527, 0.34702128, 0.7502586...   \n",
       "4    [-0.103300646, -0.17423229, -0.2964013, -0.212...   \n",
       "..                                                 ...   \n",
       "338  [-0.24275024, -0.1703115, -0.12513633, 0.01641...   \n",
       "339  [0.0, 0.0, 0.0, 0.0, 0.0, 0.0, 0.0, 0.0, 0.0, ...   \n",
       "340  [-0.16428514, -0.19928816, -1.0089079, 0.52288...   \n",
       "341  [1.1690975, -0.81292397, -0.91294265, 0.609066...   \n",
       "342  [-0.29241213, -1.279866, -0.6609338, -0.069623...   \n",
       "\n",
       "                                       embedding 20112  \\\n",
       "0    [0.114518516, 0.27337527, 0.6673493, -0.281132...   \n",
       "1    [0.02073489, 0.23059255, -0.17081386, -0.09444...   \n",
       "2    [-0.10940673, -1.492873, -0.1412497, -1.020680...   \n",
       "3    [0.0, 0.0, 0.0, 0.0, 0.0, 0.0, 0.0, 0.0, 0.0, ...   \n",
       "4    [1.8358827, 0.41217312, -0.39533848, 0.1408712...   \n",
       "..                                                 ...   \n",
       "338  [-0.7248762, -0.16820927, 0.057631493, -0.5323...   \n",
       "339  [0.0, 0.0, 0.0, 0.0, 0.0, 0.0, 0.0, 0.0, 0.0, ...   \n",
       "340  [-0.13507262, -0.13678584, -0.94229364, 0.3508...   \n",
       "341  [0.72057277, -1.597826, -1.668871, 0.21782985,...   \n",
       "342  [-0.01802508, -0.54563266, -0.29932946, -0.406...   \n",
       "\n",
       "                                       embedding 20113  \n",
       "0    [0.6995036, -0.0997276, 0.38002512, 0.20582934...  \n",
       "1    [-0.4840962, 0.06537955, -0.14401959, -0.11806...  \n",
       "2    [-0.30978945, -1.6041964, 0.17019625, 0.008478...  \n",
       "3    [-0.27049518, -1.4520445, 0.77446723, -0.34003...  \n",
       "4    [1.6805567, -1.2341713, -0.28117, 0.8452974, 1...  \n",
       "..                                                 ...  \n",
       "338  [-0.67107475, -0.20667455, 0.14895171, -0.3957...  \n",
       "339  [0.0, 0.0, 0.0, 0.0, 0.0, 0.0, 0.0, 0.0, 0.0, ...  \n",
       "340  [0.0, 0.0, 0.0, 0.0, 0.0, 0.0, 0.0, 0.0, 0.0, ...  \n",
       "341  [-0.28001338, -1.3020502, -0.43539226, -0.3849...  \n",
       "342  [0.2662228, 0.15669021, -0.70173323, -0.429462...  \n",
       "\n",
       "[343 rows x 15 columns]"
      ]
     },
     "execution_count": 12,
     "metadata": {},
     "output_type": "execute_result"
    }
   ],
   "source": [
    "df_axes"
   ]
  },
  {
   "cell_type": "code",
   "execution_count": 123,
   "metadata": {},
   "outputs": [],
   "source": [
    "for k in range(3, 9) :\n",
    "    #dfs[k] = dfs[k].drop(dfs[k][dfs[k]['source'] == 'par'].index)\n",
    "    for i in df_axes.index :\n",
    "        word = df_axes[df_axes.columns[k+1]][i]\n",
    "        var = []\n",
    "        for j in dfs[k].index :\n",
    "            diff = (dfs[k+1]['sentence_embedding'][j]/(np.linalg.norm(dfs[k+1]['sentence_embedding'][j]))) - (dfs[k]['sentence_embedding'][j]/(np.linalg.norm(dfs[k]['sentence_embedding'][j])))\n",
    "            var.append(np.dot(diff, word)/(np.linalg.norm(A[k])))\n",
    "        dfs[k][str(df_axes['text'][i])] = var"
   ]
  },
  {
   "cell_type": "code",
   "execution_count": 124,
   "metadata": {},
   "outputs": [],
   "source": [
    "dfs[3]['year'] = 2013\n",
    "df = dfs[3]\n",
    "for k in range(4, 9) :\n",
    "    dfs[k]['year'] = int(2010 + k)\n",
    "    df = pd.concat([df, dfs[k]]) "
   ]
  },
  {
   "cell_type": "markdown",
   "metadata": {},
   "source": [
    "# Visualisation"
   ]
  },
  {
   "cell_type": "code",
   "execution_count": 125,
   "metadata": {},
   "outputs": [
    {
     "data": {
      "text/html": [
       "<div>\n",
       "<style scoped>\n",
       "    .dataframe tbody tr th:only-of-type {\n",
       "        vertical-align: middle;\n",
       "    }\n",
       "\n",
       "    .dataframe tbody tr th {\n",
       "        vertical-align: top;\n",
       "    }\n",
       "\n",
       "    .dataframe thead th {\n",
       "        text-align: right;\n",
       "    }\n",
       "</style>\n",
       "<table border=\"1\" class=\"dataframe\">\n",
       "  <thead>\n",
       "    <tr style=\"text-align: right;\">\n",
       "      <th></th>\n",
       "      <th>source</th>\n",
       "      <th>sentence_embedding</th>\n",
       "      <th>count</th>\n",
       "      <th>chrome</th>\n",
       "      <th>incognito</th>\n",
       "      <th>youtub</th>\n",
       "      <th>nexu</th>\n",
       "      <th>pixel</th>\n",
       "      <th>googl</th>\n",
       "      <th>drive</th>\n",
       "      <th>...</th>\n",
       "      <th>avoid</th>\n",
       "      <th>blame</th>\n",
       "      <th>wors</th>\n",
       "      <th>vulner</th>\n",
       "      <th>dislik</th>\n",
       "      <th>harmharm</th>\n",
       "      <th>fiasco</th>\n",
       "      <th>scandal</th>\n",
       "      <th>mistak</th>\n",
       "      <th>year</th>\n",
       "    </tr>\n",
       "  </thead>\n",
       "  <tbody>\n",
       "    <tr>\n",
       "      <th>0</th>\n",
       "      <td>DE</td>\n",
       "      <td>[0.06806716034170962, -0.046301169022053286, 0...</td>\n",
       "      <td>369</td>\n",
       "      <td>0.016093</td>\n",
       "      <td>-0.025653</td>\n",
       "      <td>0.013407</td>\n",
       "      <td>-0.023934</td>\n",
       "      <td>-0.030579</td>\n",
       "      <td>-0.147990</td>\n",
       "      <td>0.023583</td>\n",
       "      <td>...</td>\n",
       "      <td>-0.093519</td>\n",
       "      <td>-0.028486</td>\n",
       "      <td>-0.045013</td>\n",
       "      <td>-0.005678</td>\n",
       "      <td>0.041280</td>\n",
       "      <td>0.0</td>\n",
       "      <td>0.015718</td>\n",
       "      <td>0.025997</td>\n",
       "      <td>0.011029</td>\n",
       "      <td>2013</td>\n",
       "    </tr>\n",
       "    <tr>\n",
       "      <th>1</th>\n",
       "      <td>GUA</td>\n",
       "      <td>[0.04385894853810259, -0.05393510598655532, 0....</td>\n",
       "      <td>1829</td>\n",
       "      <td>-0.180933</td>\n",
       "      <td>-0.121177</td>\n",
       "      <td>-0.139281</td>\n",
       "      <td>-0.008637</td>\n",
       "      <td>-0.093117</td>\n",
       "      <td>-0.116837</td>\n",
       "      <td>-0.171056</td>\n",
       "      <td>...</td>\n",
       "      <td>-0.073773</td>\n",
       "      <td>-0.021920</td>\n",
       "      <td>0.005303</td>\n",
       "      <td>0.014802</td>\n",
       "      <td>0.043691</td>\n",
       "      <td>0.0</td>\n",
       "      <td>0.025809</td>\n",
       "      <td>0.083612</td>\n",
       "      <td>-0.054835</td>\n",
       "      <td>2013</td>\n",
       "    </tr>\n",
       "    <tr>\n",
       "      <th>2</th>\n",
       "      <td>MET</td>\n",
       "      <td>[0.07892566337247145, -0.036554865602589796, 0...</td>\n",
       "      <td>306</td>\n",
       "      <td>0.000691</td>\n",
       "      <td>0.033779</td>\n",
       "      <td>0.029054</td>\n",
       "      <td>-0.025816</td>\n",
       "      <td>-0.014648</td>\n",
       "      <td>-0.006029</td>\n",
       "      <td>0.082222</td>\n",
       "      <td>...</td>\n",
       "      <td>0.008600</td>\n",
       "      <td>-0.044545</td>\n",
       "      <td>-0.063748</td>\n",
       "      <td>-0.019928</td>\n",
       "      <td>-0.019921</td>\n",
       "      <td>0.0</td>\n",
       "      <td>-0.038397</td>\n",
       "      <td>-0.002646</td>\n",
       "      <td>0.000413</td>\n",
       "      <td>2013</td>\n",
       "    </tr>\n",
       "    <tr>\n",
       "      <th>3</th>\n",
       "      <td>par</td>\n",
       "      <td>[-0.004975682739331626, 0.004749987000534156, ...</td>\n",
       "      <td>24728</td>\n",
       "      <td>1.086902</td>\n",
       "      <td>0.003592</td>\n",
       "      <td>1.428323</td>\n",
       "      <td>1.405889</td>\n",
       "      <td>0.845417</td>\n",
       "      <td>2.258735</td>\n",
       "      <td>0.335138</td>\n",
       "      <td>...</td>\n",
       "      <td>-0.044937</td>\n",
       "      <td>0.099368</td>\n",
       "      <td>-0.112132</td>\n",
       "      <td>-0.040147</td>\n",
       "      <td>0.249959</td>\n",
       "      <td>0.0</td>\n",
       "      <td>0.054809</td>\n",
       "      <td>-0.167174</td>\n",
       "      <td>0.047173</td>\n",
       "      <td>2013</td>\n",
       "    </tr>\n",
       "    <tr>\n",
       "      <th>0</th>\n",
       "      <td>DE</td>\n",
       "      <td>[0.04583718500846361, -0.04230346683827814, 0....</td>\n",
       "      <td>402</td>\n",
       "      <td>-0.005341</td>\n",
       "      <td>0.008927</td>\n",
       "      <td>-0.048110</td>\n",
       "      <td>0.136041</td>\n",
       "      <td>0.028601</td>\n",
       "      <td>0.009925</td>\n",
       "      <td>0.032894</td>\n",
       "      <td>...</td>\n",
       "      <td>-0.031241</td>\n",
       "      <td>-0.070984</td>\n",
       "      <td>-0.034340</td>\n",
       "      <td>0.032830</td>\n",
       "      <td>0.018638</td>\n",
       "      <td>0.0</td>\n",
       "      <td>-0.018995</td>\n",
       "      <td>-0.102164</td>\n",
       "      <td>-0.038363</td>\n",
       "      <td>2014</td>\n",
       "    </tr>\n",
       "    <tr>\n",
       "      <th>1</th>\n",
       "      <td>DM</td>\n",
       "      <td>[0.04609800271716944, -0.028927285783241233, 0...</td>\n",
       "      <td>1294</td>\n",
       "      <td>-0.021051</td>\n",
       "      <td>0.107092</td>\n",
       "      <td>0.050576</td>\n",
       "      <td>0.007209</td>\n",
       "      <td>0.063924</td>\n",
       "      <td>0.000863</td>\n",
       "      <td>0.079411</td>\n",
       "      <td>...</td>\n",
       "      <td>-0.029782</td>\n",
       "      <td>-0.018162</td>\n",
       "      <td>0.033818</td>\n",
       "      <td>-0.030668</td>\n",
       "      <td>-0.041250</td>\n",
       "      <td>0.0</td>\n",
       "      <td>0.032475</td>\n",
       "      <td>0.007529</td>\n",
       "      <td>0.034460</td>\n",
       "      <td>2014</td>\n",
       "    </tr>\n",
       "    <tr>\n",
       "      <th>2</th>\n",
       "      <td>GUA</td>\n",
       "      <td>[0.041767874531009844, -0.052287493711849535, ...</td>\n",
       "      <td>1870</td>\n",
       "      <td>0.002594</td>\n",
       "      <td>0.017824</td>\n",
       "      <td>0.005607</td>\n",
       "      <td>-0.038190</td>\n",
       "      <td>-0.011190</td>\n",
       "      <td>-0.021632</td>\n",
       "      <td>-0.001072</td>\n",
       "      <td>...</td>\n",
       "      <td>0.000444</td>\n",
       "      <td>0.013016</td>\n",
       "      <td>-0.033870</td>\n",
       "      <td>-0.041046</td>\n",
       "      <td>0.000601</td>\n",
       "      <td>0.0</td>\n",
       "      <td>0.015097</td>\n",
       "      <td>-0.002083</td>\n",
       "      <td>-0.007708</td>\n",
       "      <td>2014</td>\n",
       "    </tr>\n",
       "    <tr>\n",
       "      <th>3</th>\n",
       "      <td>MET</td>\n",
       "      <td>[0.05635617129315669, -0.024334849932808524, 0...</td>\n",
       "      <td>301</td>\n",
       "      <td>-0.037845</td>\n",
       "      <td>0.021553</td>\n",
       "      <td>-0.102311</td>\n",
       "      <td>-0.119328</td>\n",
       "      <td>-0.050042</td>\n",
       "      <td>-0.085236</td>\n",
       "      <td>-0.035933</td>\n",
       "      <td>...</td>\n",
       "      <td>0.004331</td>\n",
       "      <td>0.016938</td>\n",
       "      <td>-0.032145</td>\n",
       "      <td>-0.043347</td>\n",
       "      <td>0.026639</td>\n",
       "      <td>0.0</td>\n",
       "      <td>0.033531</td>\n",
       "      <td>-0.007850</td>\n",
       "      <td>-0.002089</td>\n",
       "      <td>2014</td>\n",
       "    </tr>\n",
       "    <tr>\n",
       "      <th>4</th>\n",
       "      <td>TE</td>\n",
       "      <td>[0.04523136484193996, -0.011988622224382406, 0...</td>\n",
       "      <td>1</td>\n",
       "      <td>0.073942</td>\n",
       "      <td>-0.161027</td>\n",
       "      <td>0.059254</td>\n",
       "      <td>0.258085</td>\n",
       "      <td>0.340549</td>\n",
       "      <td>0.082270</td>\n",
       "      <td>0.001046</td>\n",
       "      <td>...</td>\n",
       "      <td>-0.032829</td>\n",
       "      <td>-0.001830</td>\n",
       "      <td>-0.028935</td>\n",
       "      <td>-0.090958</td>\n",
       "      <td>0.152633</td>\n",
       "      <td>0.0</td>\n",
       "      <td>-0.060587</td>\n",
       "      <td>-0.060956</td>\n",
       "      <td>0.021529</td>\n",
       "      <td>2014</td>\n",
       "    </tr>\n",
       "    <tr>\n",
       "      <th>5</th>\n",
       "      <td>par</td>\n",
       "      <td>[-0.00752099508075383, 0.00677686596896195, -0...</td>\n",
       "      <td>22452</td>\n",
       "      <td>0.029638</td>\n",
       "      <td>-0.039648</td>\n",
       "      <td>0.008404</td>\n",
       "      <td>-0.020317</td>\n",
       "      <td>-0.032076</td>\n",
       "      <td>0.049522</td>\n",
       "      <td>-0.029064</td>\n",
       "      <td>...</td>\n",
       "      <td>0.029363</td>\n",
       "      <td>0.021779</td>\n",
       "      <td>0.007624</td>\n",
       "      <td>0.024882</td>\n",
       "      <td>0.013943</td>\n",
       "      <td>0.0</td>\n",
       "      <td>0.006259</td>\n",
       "      <td>0.022935</td>\n",
       "      <td>0.001559</td>\n",
       "      <td>2014</td>\n",
       "    </tr>\n",
       "    <tr>\n",
       "      <th>0</th>\n",
       "      <td>DE</td>\n",
       "      <td>[0.04941038519814701, -0.06307105637885527, 0....</td>\n",
       "      <td>1579</td>\n",
       "      <td>0.033120</td>\n",
       "      <td>-0.005741</td>\n",
       "      <td>-0.051986</td>\n",
       "      <td>0.056124</td>\n",
       "      <td>0.020849</td>\n",
       "      <td>-0.040576</td>\n",
       "      <td>-0.006747</td>\n",
       "      <td>...</td>\n",
       "      <td>0.023448</td>\n",
       "      <td>-0.037839</td>\n",
       "      <td>0.012692</td>\n",
       "      <td>-0.010599</td>\n",
       "      <td>-0.005598</td>\n",
       "      <td>0.0</td>\n",
       "      <td>0.016912</td>\n",
       "      <td>-0.073917</td>\n",
       "      <td>-0.031442</td>\n",
       "      <td>2015</td>\n",
       "    </tr>\n",
       "    <tr>\n",
       "      <th>1</th>\n",
       "      <td>DM</td>\n",
       "      <td>[0.05312658372024431, -0.03365431338055125, 0....</td>\n",
       "      <td>1698</td>\n",
       "      <td>-0.046732</td>\n",
       "      <td>-0.006903</td>\n",
       "      <td>-0.025377</td>\n",
       "      <td>-0.075684</td>\n",
       "      <td>-0.042931</td>\n",
       "      <td>-0.029409</td>\n",
       "      <td>-0.005134</td>\n",
       "      <td>...</td>\n",
       "      <td>0.006473</td>\n",
       "      <td>0.000950</td>\n",
       "      <td>-0.012163</td>\n",
       "      <td>-0.034145</td>\n",
       "      <td>0.041979</td>\n",
       "      <td>0.0</td>\n",
       "      <td>0.001896</td>\n",
       "      <td>-0.024685</td>\n",
       "      <td>-0.014880</td>\n",
       "      <td>2015</td>\n",
       "    </tr>\n",
       "    <tr>\n",
       "      <th>2</th>\n",
       "      <td>GUA</td>\n",
       "      <td>[0.035861329609378434, -0.039176637049138645, ...</td>\n",
       "      <td>1572</td>\n",
       "      <td>-0.017512</td>\n",
       "      <td>0.029698</td>\n",
       "      <td>-0.081716</td>\n",
       "      <td>-0.116505</td>\n",
       "      <td>-0.111723</td>\n",
       "      <td>-0.050056</td>\n",
       "      <td>-0.020535</td>\n",
       "      <td>...</td>\n",
       "      <td>0.007161</td>\n",
       "      <td>0.093391</td>\n",
       "      <td>-0.003479</td>\n",
       "      <td>0.023248</td>\n",
       "      <td>0.070980</td>\n",
       "      <td>0.0</td>\n",
       "      <td>0.005536</td>\n",
       "      <td>-0.006038</td>\n",
       "      <td>0.052500</td>\n",
       "      <td>2015</td>\n",
       "    </tr>\n",
       "    <tr>\n",
       "      <th>3</th>\n",
       "      <td>MET</td>\n",
       "      <td>[0.04714582187058299, 0.0043450534542022355, 0...</td>\n",
       "      <td>244</td>\n",
       "      <td>0.015018</td>\n",
       "      <td>-0.035065</td>\n",
       "      <td>-0.076213</td>\n",
       "      <td>0.071778</td>\n",
       "      <td>0.075386</td>\n",
       "      <td>-0.017442</td>\n",
       "      <td>0.048903</td>\n",
       "      <td>...</td>\n",
       "      <td>0.002271</td>\n",
       "      <td>-0.014888</td>\n",
       "      <td>-0.000664</td>\n",
       "      <td>0.033376</td>\n",
       "      <td>-0.057216</td>\n",
       "      <td>0.0</td>\n",
       "      <td>0.017439</td>\n",
       "      <td>-0.024840</td>\n",
       "      <td>-0.031897</td>\n",
       "      <td>2015</td>\n",
       "    </tr>\n",
       "    <tr>\n",
       "      <th>4</th>\n",
       "      <td>TE</td>\n",
       "      <td>[0.03358971953438006, -0.03721343303865681, 0....</td>\n",
       "      <td>27</td>\n",
       "      <td>-0.006467</td>\n",
       "      <td>-0.004202</td>\n",
       "      <td>-0.080512</td>\n",
       "      <td>0.173074</td>\n",
       "      <td>-0.005488</td>\n",
       "      <td>0.243775</td>\n",
       "      <td>0.138038</td>\n",
       "      <td>...</td>\n",
       "      <td>-0.002822</td>\n",
       "      <td>0.130177</td>\n",
       "      <td>-0.134686</td>\n",
       "      <td>0.015922</td>\n",
       "      <td>0.010301</td>\n",
       "      <td>0.0</td>\n",
       "      <td>-0.036424</td>\n",
       "      <td>-0.028072</td>\n",
       "      <td>-0.043074</td>\n",
       "      <td>2015</td>\n",
       "    </tr>\n",
       "    <tr>\n",
       "      <th>5</th>\n",
       "      <td>par</td>\n",
       "      <td>[-0.010980276133218699, 0.009954103211977263, ...</td>\n",
       "      <td>20852</td>\n",
       "      <td>-0.006261</td>\n",
       "      <td>0.011419</td>\n",
       "      <td>0.052431</td>\n",
       "      <td>-0.012752</td>\n",
       "      <td>0.018751</td>\n",
       "      <td>0.025032</td>\n",
       "      <td>0.006562</td>\n",
       "      <td>...</td>\n",
       "      <td>-0.013562</td>\n",
       "      <td>0.003141</td>\n",
       "      <td>-0.001267</td>\n",
       "      <td>0.006163</td>\n",
       "      <td>-0.023716</td>\n",
       "      <td>0.0</td>\n",
       "      <td>-0.016255</td>\n",
       "      <td>0.042794</td>\n",
       "      <td>0.014323</td>\n",
       "      <td>2015</td>\n",
       "    </tr>\n",
       "    <tr>\n",
       "      <th>0</th>\n",
       "      <td>DE</td>\n",
       "      <td>[0.03815233343997622, -0.07000785265712751, 0....</td>\n",
       "      <td>2493</td>\n",
       "      <td>-0.029395</td>\n",
       "      <td>-0.062700</td>\n",
       "      <td>-0.040056</td>\n",
       "      <td>-0.021354</td>\n",
       "      <td>0.006537</td>\n",
       "      <td>-0.093822</td>\n",
       "      <td>-0.059548</td>\n",
       "      <td>...</td>\n",
       "      <td>-0.020022</td>\n",
       "      <td>-0.000922</td>\n",
       "      <td>0.009780</td>\n",
       "      <td>-0.034361</td>\n",
       "      <td>-0.019824</td>\n",
       "      <td>0.0</td>\n",
       "      <td>0.020284</td>\n",
       "      <td>-0.006369</td>\n",
       "      <td>-0.006623</td>\n",
       "      <td>2016</td>\n",
       "    </tr>\n",
       "    <tr>\n",
       "      <th>1</th>\n",
       "      <td>DM</td>\n",
       "      <td>[0.044155905075802, -0.04174223613566999, 0.13...</td>\n",
       "      <td>2221</td>\n",
       "      <td>-0.009538</td>\n",
       "      <td>-0.031368</td>\n",
       "      <td>-0.020319</td>\n",
       "      <td>0.037262</td>\n",
       "      <td>0.065032</td>\n",
       "      <td>0.002504</td>\n",
       "      <td>0.000376</td>\n",
       "      <td>...</td>\n",
       "      <td>0.007992</td>\n",
       "      <td>-0.062988</td>\n",
       "      <td>-0.025108</td>\n",
       "      <td>0.007443</td>\n",
       "      <td>0.011613</td>\n",
       "      <td>0.0</td>\n",
       "      <td>0.002778</td>\n",
       "      <td>-0.031933</td>\n",
       "      <td>-0.041608</td>\n",
       "      <td>2016</td>\n",
       "    </tr>\n",
       "    <tr>\n",
       "      <th>2</th>\n",
       "      <td>GUA</td>\n",
       "      <td>[0.033910477495921826, -0.026998537139388237, ...</td>\n",
       "      <td>1495</td>\n",
       "      <td>-0.020701</td>\n",
       "      <td>0.015650</td>\n",
       "      <td>0.035844</td>\n",
       "      <td>-0.099239</td>\n",
       "      <td>-0.073969</td>\n",
       "      <td>0.016886</td>\n",
       "      <td>0.006778</td>\n",
       "      <td>...</td>\n",
       "      <td>0.024095</td>\n",
       "      <td>0.045702</td>\n",
       "      <td>0.002371</td>\n",
       "      <td>-0.011162</td>\n",
       "      <td>-0.034723</td>\n",
       "      <td>0.0</td>\n",
       "      <td>-0.001550</td>\n",
       "      <td>0.050584</td>\n",
       "      <td>0.039878</td>\n",
       "      <td>2016</td>\n",
       "    </tr>\n",
       "    <tr>\n",
       "      <th>3</th>\n",
       "      <td>MET</td>\n",
       "      <td>[0.04576197967954662, -0.024324352312314324, 0...</td>\n",
       "      <td>318</td>\n",
       "      <td>0.019353</td>\n",
       "      <td>0.008073</td>\n",
       "      <td>-0.029432</td>\n",
       "      <td>0.015290</td>\n",
       "      <td>0.072470</td>\n",
       "      <td>0.010398</td>\n",
       "      <td>0.010614</td>\n",
       "      <td>...</td>\n",
       "      <td>-0.020424</td>\n",
       "      <td>-0.062802</td>\n",
       "      <td>0.003673</td>\n",
       "      <td>0.022083</td>\n",
       "      <td>0.002710</td>\n",
       "      <td>0.0</td>\n",
       "      <td>0.017753</td>\n",
       "      <td>-0.027930</td>\n",
       "      <td>-0.035326</td>\n",
       "      <td>2016</td>\n",
       "    </tr>\n",
       "    <tr>\n",
       "      <th>4</th>\n",
       "      <td>TE</td>\n",
       "      <td>[0.060939460876611125, -0.04189914634998328, 0...</td>\n",
       "      <td>655</td>\n",
       "      <td>-0.008206</td>\n",
       "      <td>0.015710</td>\n",
       "      <td>0.045590</td>\n",
       "      <td>-0.136729</td>\n",
       "      <td>-0.133758</td>\n",
       "      <td>0.009902</td>\n",
       "      <td>0.010587</td>\n",
       "      <td>...</td>\n",
       "      <td>0.003108</td>\n",
       "      <td>-0.009827</td>\n",
       "      <td>0.007892</td>\n",
       "      <td>-0.007170</td>\n",
       "      <td>-0.010145</td>\n",
       "      <td>0.0</td>\n",
       "      <td>-0.002938</td>\n",
       "      <td>0.014057</td>\n",
       "      <td>-0.002387</td>\n",
       "      <td>2016</td>\n",
       "    </tr>\n",
       "    <tr>\n",
       "      <th>5</th>\n",
       "      <td>par</td>\n",
       "      <td>[-0.011204009906326057, 0.012656218867316712, ...</td>\n",
       "      <td>25602</td>\n",
       "      <td>-0.004696</td>\n",
       "      <td>0.050377</td>\n",
       "      <td>0.019872</td>\n",
       "      <td>-0.019931</td>\n",
       "      <td>-0.049318</td>\n",
       "      <td>0.045873</td>\n",
       "      <td>0.028240</td>\n",
       "      <td>...</td>\n",
       "      <td>0.010992</td>\n",
       "      <td>0.020252</td>\n",
       "      <td>0.002539</td>\n",
       "      <td>0.012731</td>\n",
       "      <td>0.011531</td>\n",
       "      <td>0.0</td>\n",
       "      <td>-0.023905</td>\n",
       "      <td>0.014483</td>\n",
       "      <td>0.016739</td>\n",
       "      <td>2016</td>\n",
       "    </tr>\n",
       "    <tr>\n",
       "      <th>0</th>\n",
       "      <td>DE</td>\n",
       "      <td>[0.031398461943518446, -0.06471317700302809, 0...</td>\n",
       "      <td>3196</td>\n",
       "      <td>0.021546</td>\n",
       "      <td>0.037779</td>\n",
       "      <td>0.004891</td>\n",
       "      <td>0.025445</td>\n",
       "      <td>-0.017442</td>\n",
       "      <td>0.037861</td>\n",
       "      <td>0.011233</td>\n",
       "      <td>...</td>\n",
       "      <td>0.007538</td>\n",
       "      <td>0.010727</td>\n",
       "      <td>0.012799</td>\n",
       "      <td>0.010337</td>\n",
       "      <td>0.052171</td>\n",
       "      <td>0.0</td>\n",
       "      <td>-0.035214</td>\n",
       "      <td>0.005491</td>\n",
       "      <td>0.015872</td>\n",
       "      <td>2017</td>\n",
       "    </tr>\n",
       "    <tr>\n",
       "      <th>1</th>\n",
       "      <td>DM</td>\n",
       "      <td>[0.05037574543175552, -0.044425440695340816, 0...</td>\n",
       "      <td>2034</td>\n",
       "      <td>0.079322</td>\n",
       "      <td>0.037891</td>\n",
       "      <td>0.072160</td>\n",
       "      <td>0.066447</td>\n",
       "      <td>0.043634</td>\n",
       "      <td>0.161331</td>\n",
       "      <td>0.005570</td>\n",
       "      <td>...</td>\n",
       "      <td>0.045672</td>\n",
       "      <td>0.032618</td>\n",
       "      <td>0.024963</td>\n",
       "      <td>0.021749</td>\n",
       "      <td>0.016573</td>\n",
       "      <td>0.0</td>\n",
       "      <td>-0.013642</td>\n",
       "      <td>0.073155</td>\n",
       "      <td>0.045060</td>\n",
       "      <td>2017</td>\n",
       "    </tr>\n",
       "    <tr>\n",
       "      <th>2</th>\n",
       "      <td>GUA</td>\n",
       "      <td>[0.029923737316025798, -0.01768954430887984, 0...</td>\n",
       "      <td>1128</td>\n",
       "      <td>0.029304</td>\n",
       "      <td>-0.031257</td>\n",
       "      <td>0.061676</td>\n",
       "      <td>0.004741</td>\n",
       "      <td>0.073930</td>\n",
       "      <td>0.067823</td>\n",
       "      <td>0.051846</td>\n",
       "      <td>...</td>\n",
       "      <td>0.050677</td>\n",
       "      <td>0.003230</td>\n",
       "      <td>0.040072</td>\n",
       "      <td>-0.010331</td>\n",
       "      <td>0.042536</td>\n",
       "      <td>0.0</td>\n",
       "      <td>-0.014339</td>\n",
       "      <td>0.022785</td>\n",
       "      <td>0.026737</td>\n",
       "      <td>2017</td>\n",
       "    </tr>\n",
       "    <tr>\n",
       "      <th>3</th>\n",
       "      <td>MET</td>\n",
       "      <td>[0.04747898048293561, -0.011815627213131945, 0...</td>\n",
       "      <td>324</td>\n",
       "      <td>-0.016557</td>\n",
       "      <td>-0.056211</td>\n",
       "      <td>0.043004</td>\n",
       "      <td>-0.003359</td>\n",
       "      <td>0.016477</td>\n",
       "      <td>0.089206</td>\n",
       "      <td>0.000724</td>\n",
       "      <td>...</td>\n",
       "      <td>0.059107</td>\n",
       "      <td>0.022938</td>\n",
       "      <td>0.030343</td>\n",
       "      <td>0.044556</td>\n",
       "      <td>0.006405</td>\n",
       "      <td>0.0</td>\n",
       "      <td>-0.026176</td>\n",
       "      <td>0.065102</td>\n",
       "      <td>0.007475</td>\n",
       "      <td>2017</td>\n",
       "    </tr>\n",
       "    <tr>\n",
       "      <th>4</th>\n",
       "      <td>TE</td>\n",
       "      <td>[0.03944480244754028, -0.03624529343177683, 0....</td>\n",
       "      <td>703</td>\n",
       "      <td>0.004766</td>\n",
       "      <td>-0.003434</td>\n",
       "      <td>0.036929</td>\n",
       "      <td>-0.032527</td>\n",
       "      <td>-0.074001</td>\n",
       "      <td>0.063172</td>\n",
       "      <td>0.068386</td>\n",
       "      <td>...</td>\n",
       "      <td>0.100747</td>\n",
       "      <td>0.016371</td>\n",
       "      <td>0.055123</td>\n",
       "      <td>0.063398</td>\n",
       "      <td>-0.003910</td>\n",
       "      <td>0.0</td>\n",
       "      <td>-0.047609</td>\n",
       "      <td>0.051503</td>\n",
       "      <td>0.050519</td>\n",
       "      <td>2017</td>\n",
       "    </tr>\n",
       "    <tr>\n",
       "      <th>5</th>\n",
       "      <td>par</td>\n",
       "      <td>[-0.012232826369201468, 0.014834599341229687, ...</td>\n",
       "      <td>22249</td>\n",
       "      <td>-0.032880</td>\n",
       "      <td>-0.028223</td>\n",
       "      <td>-0.054315</td>\n",
       "      <td>-0.019398</td>\n",
       "      <td>0.003441</td>\n",
       "      <td>-0.100912</td>\n",
       "      <td>-0.020453</td>\n",
       "      <td>...</td>\n",
       "      <td>-0.036236</td>\n",
       "      <td>-0.032233</td>\n",
       "      <td>-0.030308</td>\n",
       "      <td>-0.020187</td>\n",
       "      <td>-0.044732</td>\n",
       "      <td>0.0</td>\n",
       "      <td>0.039476</td>\n",
       "      <td>-0.040590</td>\n",
       "      <td>-0.039924</td>\n",
       "      <td>2017</td>\n",
       "    </tr>\n",
       "    <tr>\n",
       "      <th>0</th>\n",
       "      <td>DE</td>\n",
       "      <td>[0.04737543718144104, -0.05518203335421554, 0....</td>\n",
       "      <td>2363</td>\n",
       "      <td>-0.032742</td>\n",
       "      <td>-0.033020</td>\n",
       "      <td>-0.003490</td>\n",
       "      <td>-0.004481</td>\n",
       "      <td>-0.022875</td>\n",
       "      <td>-0.073546</td>\n",
       "      <td>-0.003863</td>\n",
       "      <td>...</td>\n",
       "      <td>-0.032523</td>\n",
       "      <td>-0.013996</td>\n",
       "      <td>0.011494</td>\n",
       "      <td>0.001582</td>\n",
       "      <td>0.015434</td>\n",
       "      <td>0.0</td>\n",
       "      <td>0.024178</td>\n",
       "      <td>-0.016060</td>\n",
       "      <td>-0.022774</td>\n",
       "      <td>2018</td>\n",
       "    </tr>\n",
       "    <tr>\n",
       "      <th>1</th>\n",
       "      <td>DM</td>\n",
       "      <td>[0.05192332943255616, -0.017819275399243748, 0...</td>\n",
       "      <td>1464</td>\n",
       "      <td>0.064687</td>\n",
       "      <td>-0.027122</td>\n",
       "      <td>0.008087</td>\n",
       "      <td>0.014604</td>\n",
       "      <td>0.073511</td>\n",
       "      <td>0.056593</td>\n",
       "      <td>0.058630</td>\n",
       "      <td>...</td>\n",
       "      <td>0.018487</td>\n",
       "      <td>-0.069685</td>\n",
       "      <td>-0.007591</td>\n",
       "      <td>0.080379</td>\n",
       "      <td>-0.020587</td>\n",
       "      <td>0.0</td>\n",
       "      <td>0.000054</td>\n",
       "      <td>-0.060346</td>\n",
       "      <td>-0.057808</td>\n",
       "      <td>2018</td>\n",
       "    </tr>\n",
       "    <tr>\n",
       "      <th>2</th>\n",
       "      <td>GUA</td>\n",
       "      <td>[0.035374204748226064, -0.014992817658065895, ...</td>\n",
       "      <td>986</td>\n",
       "      <td>-0.069781</td>\n",
       "      <td>-0.052865</td>\n",
       "      <td>0.038324</td>\n",
       "      <td>0.004900</td>\n",
       "      <td>-0.049832</td>\n",
       "      <td>-0.000908</td>\n",
       "      <td>-0.016058</td>\n",
       "      <td>...</td>\n",
       "      <td>0.000099</td>\n",
       "      <td>0.052442</td>\n",
       "      <td>0.003028</td>\n",
       "      <td>0.000062</td>\n",
       "      <td>0.006908</td>\n",
       "      <td>0.0</td>\n",
       "      <td>0.004261</td>\n",
       "      <td>0.006362</td>\n",
       "      <td>-0.027014</td>\n",
       "      <td>2018</td>\n",
       "    </tr>\n",
       "    <tr>\n",
       "      <th>3</th>\n",
       "      <td>MET</td>\n",
       "      <td>[0.06886096826626964, -0.015578307142015501, 0...</td>\n",
       "      <td>457</td>\n",
       "      <td>0.060011</td>\n",
       "      <td>0.066851</td>\n",
       "      <td>0.038967</td>\n",
       "      <td>0.008093</td>\n",
       "      <td>0.049379</td>\n",
       "      <td>-0.031838</td>\n",
       "      <td>0.013546</td>\n",
       "      <td>...</td>\n",
       "      <td>-0.023063</td>\n",
       "      <td>-0.002694</td>\n",
       "      <td>-0.043298</td>\n",
       "      <td>-0.014621</td>\n",
       "      <td>-0.042554</td>\n",
       "      <td>0.0</td>\n",
       "      <td>0.072601</td>\n",
       "      <td>-0.109569</td>\n",
       "      <td>-0.045970</td>\n",
       "      <td>2018</td>\n",
       "    </tr>\n",
       "    <tr>\n",
       "      <th>4</th>\n",
       "      <td>TE</td>\n",
       "      <td>[0.051667699737850334, -0.002197790435861131, ...</td>\n",
       "      <td>901</td>\n",
       "      <td>-0.011593</td>\n",
       "      <td>0.015552</td>\n",
       "      <td>0.047376</td>\n",
       "      <td>-0.016739</td>\n",
       "      <td>0.030234</td>\n",
       "      <td>0.037308</td>\n",
       "      <td>0.024239</td>\n",
       "      <td>...</td>\n",
       "      <td>0.002053</td>\n",
       "      <td>-0.004480</td>\n",
       "      <td>-0.027458</td>\n",
       "      <td>0.022296</td>\n",
       "      <td>-0.000175</td>\n",
       "      <td>0.0</td>\n",
       "      <td>0.000758</td>\n",
       "      <td>-0.089695</td>\n",
       "      <td>-0.028361</td>\n",
       "      <td>2018</td>\n",
       "    </tr>\n",
       "    <tr>\n",
       "      <th>5</th>\n",
       "      <td>par</td>\n",
       "      <td>[-0.010464582035730443, 0.006434262189902489, ...</td>\n",
       "      <td>28205</td>\n",
       "      <td>0.003462</td>\n",
       "      <td>0.012263</td>\n",
       "      <td>-0.024500</td>\n",
       "      <td>-0.000233</td>\n",
       "      <td>-0.006716</td>\n",
       "      <td>0.010375</td>\n",
       "      <td>-0.012796</td>\n",
       "      <td>...</td>\n",
       "      <td>0.010202</td>\n",
       "      <td>0.004639</td>\n",
       "      <td>0.002869</td>\n",
       "      <td>-0.019842</td>\n",
       "      <td>-0.001797</td>\n",
       "      <td>0.0</td>\n",
       "      <td>-0.018600</td>\n",
       "      <td>0.021392</td>\n",
       "      <td>0.029305</td>\n",
       "      <td>2018</td>\n",
       "    </tr>\n",
       "  </tbody>\n",
       "</table>\n",
       "<p>34 rows × 303 columns</p>\n",
       "</div>"
      ],
      "text/plain": [
       "  source                                 sentence_embedding  count    chrome  \\\n",
       "0     DE  [0.06806716034170962, -0.046301169022053286, 0...    369  0.016093   \n",
       "1    GUA  [0.04385894853810259, -0.05393510598655532, 0....   1829 -0.180933   \n",
       "2    MET  [0.07892566337247145, -0.036554865602589796, 0...    306  0.000691   \n",
       "3    par  [-0.004975682739331626, 0.004749987000534156, ...  24728  1.086902   \n",
       "0     DE  [0.04583718500846361, -0.04230346683827814, 0....    402 -0.005341   \n",
       "1     DM  [0.04609800271716944, -0.028927285783241233, 0...   1294 -0.021051   \n",
       "2    GUA  [0.041767874531009844, -0.052287493711849535, ...   1870  0.002594   \n",
       "3    MET  [0.05635617129315669, -0.024334849932808524, 0...    301 -0.037845   \n",
       "4     TE  [0.04523136484193996, -0.011988622224382406, 0...      1  0.073942   \n",
       "5    par  [-0.00752099508075383, 0.00677686596896195, -0...  22452  0.029638   \n",
       "0     DE  [0.04941038519814701, -0.06307105637885527, 0....   1579  0.033120   \n",
       "1     DM  [0.05312658372024431, -0.03365431338055125, 0....   1698 -0.046732   \n",
       "2    GUA  [0.035861329609378434, -0.039176637049138645, ...   1572 -0.017512   \n",
       "3    MET  [0.04714582187058299, 0.0043450534542022355, 0...    244  0.015018   \n",
       "4     TE  [0.03358971953438006, -0.03721343303865681, 0....     27 -0.006467   \n",
       "5    par  [-0.010980276133218699, 0.009954103211977263, ...  20852 -0.006261   \n",
       "0     DE  [0.03815233343997622, -0.07000785265712751, 0....   2493 -0.029395   \n",
       "1     DM  [0.044155905075802, -0.04174223613566999, 0.13...   2221 -0.009538   \n",
       "2    GUA  [0.033910477495921826, -0.026998537139388237, ...   1495 -0.020701   \n",
       "3    MET  [0.04576197967954662, -0.024324352312314324, 0...    318  0.019353   \n",
       "4     TE  [0.060939460876611125, -0.04189914634998328, 0...    655 -0.008206   \n",
       "5    par  [-0.011204009906326057, 0.012656218867316712, ...  25602 -0.004696   \n",
       "0     DE  [0.031398461943518446, -0.06471317700302809, 0...   3196  0.021546   \n",
       "1     DM  [0.05037574543175552, -0.044425440695340816, 0...   2034  0.079322   \n",
       "2    GUA  [0.029923737316025798, -0.01768954430887984, 0...   1128  0.029304   \n",
       "3    MET  [0.04747898048293561, -0.011815627213131945, 0...    324 -0.016557   \n",
       "4     TE  [0.03944480244754028, -0.03624529343177683, 0....    703  0.004766   \n",
       "5    par  [-0.012232826369201468, 0.014834599341229687, ...  22249 -0.032880   \n",
       "0     DE  [0.04737543718144104, -0.05518203335421554, 0....   2363 -0.032742   \n",
       "1     DM  [0.05192332943255616, -0.017819275399243748, 0...   1464  0.064687   \n",
       "2    GUA  [0.035374204748226064, -0.014992817658065895, ...    986 -0.069781   \n",
       "3    MET  [0.06886096826626964, -0.015578307142015501, 0...    457  0.060011   \n",
       "4     TE  [0.051667699737850334, -0.002197790435861131, ...    901 -0.011593   \n",
       "5    par  [-0.010464582035730443, 0.006434262189902489, ...  28205  0.003462   \n",
       "\n",
       "   incognito    youtub      nexu     pixel     googl     drive  ...     avoid  \\\n",
       "0  -0.025653  0.013407 -0.023934 -0.030579 -0.147990  0.023583  ... -0.093519   \n",
       "1  -0.121177 -0.139281 -0.008637 -0.093117 -0.116837 -0.171056  ... -0.073773   \n",
       "2   0.033779  0.029054 -0.025816 -0.014648 -0.006029  0.082222  ...  0.008600   \n",
       "3   0.003592  1.428323  1.405889  0.845417  2.258735  0.335138  ... -0.044937   \n",
       "0   0.008927 -0.048110  0.136041  0.028601  0.009925  0.032894  ... -0.031241   \n",
       "1   0.107092  0.050576  0.007209  0.063924  0.000863  0.079411  ... -0.029782   \n",
       "2   0.017824  0.005607 -0.038190 -0.011190 -0.021632 -0.001072  ...  0.000444   \n",
       "3   0.021553 -0.102311 -0.119328 -0.050042 -0.085236 -0.035933  ...  0.004331   \n",
       "4  -0.161027  0.059254  0.258085  0.340549  0.082270  0.001046  ... -0.032829   \n",
       "5  -0.039648  0.008404 -0.020317 -0.032076  0.049522 -0.029064  ...  0.029363   \n",
       "0  -0.005741 -0.051986  0.056124  0.020849 -0.040576 -0.006747  ...  0.023448   \n",
       "1  -0.006903 -0.025377 -0.075684 -0.042931 -0.029409 -0.005134  ...  0.006473   \n",
       "2   0.029698 -0.081716 -0.116505 -0.111723 -0.050056 -0.020535  ...  0.007161   \n",
       "3  -0.035065 -0.076213  0.071778  0.075386 -0.017442  0.048903  ...  0.002271   \n",
       "4  -0.004202 -0.080512  0.173074 -0.005488  0.243775  0.138038  ... -0.002822   \n",
       "5   0.011419  0.052431 -0.012752  0.018751  0.025032  0.006562  ... -0.013562   \n",
       "0  -0.062700 -0.040056 -0.021354  0.006537 -0.093822 -0.059548  ... -0.020022   \n",
       "1  -0.031368 -0.020319  0.037262  0.065032  0.002504  0.000376  ...  0.007992   \n",
       "2   0.015650  0.035844 -0.099239 -0.073969  0.016886  0.006778  ...  0.024095   \n",
       "3   0.008073 -0.029432  0.015290  0.072470  0.010398  0.010614  ... -0.020424   \n",
       "4   0.015710  0.045590 -0.136729 -0.133758  0.009902  0.010587  ...  0.003108   \n",
       "5   0.050377  0.019872 -0.019931 -0.049318  0.045873  0.028240  ...  0.010992   \n",
       "0   0.037779  0.004891  0.025445 -0.017442  0.037861  0.011233  ...  0.007538   \n",
       "1   0.037891  0.072160  0.066447  0.043634  0.161331  0.005570  ...  0.045672   \n",
       "2  -0.031257  0.061676  0.004741  0.073930  0.067823  0.051846  ...  0.050677   \n",
       "3  -0.056211  0.043004 -0.003359  0.016477  0.089206  0.000724  ...  0.059107   \n",
       "4  -0.003434  0.036929 -0.032527 -0.074001  0.063172  0.068386  ...  0.100747   \n",
       "5  -0.028223 -0.054315 -0.019398  0.003441 -0.100912 -0.020453  ... -0.036236   \n",
       "0  -0.033020 -0.003490 -0.004481 -0.022875 -0.073546 -0.003863  ... -0.032523   \n",
       "1  -0.027122  0.008087  0.014604  0.073511  0.056593  0.058630  ...  0.018487   \n",
       "2  -0.052865  0.038324  0.004900 -0.049832 -0.000908 -0.016058  ...  0.000099   \n",
       "3   0.066851  0.038967  0.008093  0.049379 -0.031838  0.013546  ... -0.023063   \n",
       "4   0.015552  0.047376 -0.016739  0.030234  0.037308  0.024239  ...  0.002053   \n",
       "5   0.012263 -0.024500 -0.000233 -0.006716  0.010375 -0.012796  ...  0.010202   \n",
       "\n",
       "      blame      wors    vulner    dislik  harmharm    fiasco   scandal  \\\n",
       "0 -0.028486 -0.045013 -0.005678  0.041280       0.0  0.015718  0.025997   \n",
       "1 -0.021920  0.005303  0.014802  0.043691       0.0  0.025809  0.083612   \n",
       "2 -0.044545 -0.063748 -0.019928 -0.019921       0.0 -0.038397 -0.002646   \n",
       "3  0.099368 -0.112132 -0.040147  0.249959       0.0  0.054809 -0.167174   \n",
       "0 -0.070984 -0.034340  0.032830  0.018638       0.0 -0.018995 -0.102164   \n",
       "1 -0.018162  0.033818 -0.030668 -0.041250       0.0  0.032475  0.007529   \n",
       "2  0.013016 -0.033870 -0.041046  0.000601       0.0  0.015097 -0.002083   \n",
       "3  0.016938 -0.032145 -0.043347  0.026639       0.0  0.033531 -0.007850   \n",
       "4 -0.001830 -0.028935 -0.090958  0.152633       0.0 -0.060587 -0.060956   \n",
       "5  0.021779  0.007624  0.024882  0.013943       0.0  0.006259  0.022935   \n",
       "0 -0.037839  0.012692 -0.010599 -0.005598       0.0  0.016912 -0.073917   \n",
       "1  0.000950 -0.012163 -0.034145  0.041979       0.0  0.001896 -0.024685   \n",
       "2  0.093391 -0.003479  0.023248  0.070980       0.0  0.005536 -0.006038   \n",
       "3 -0.014888 -0.000664  0.033376 -0.057216       0.0  0.017439 -0.024840   \n",
       "4  0.130177 -0.134686  0.015922  0.010301       0.0 -0.036424 -0.028072   \n",
       "5  0.003141 -0.001267  0.006163 -0.023716       0.0 -0.016255  0.042794   \n",
       "0 -0.000922  0.009780 -0.034361 -0.019824       0.0  0.020284 -0.006369   \n",
       "1 -0.062988 -0.025108  0.007443  0.011613       0.0  0.002778 -0.031933   \n",
       "2  0.045702  0.002371 -0.011162 -0.034723       0.0 -0.001550  0.050584   \n",
       "3 -0.062802  0.003673  0.022083  0.002710       0.0  0.017753 -0.027930   \n",
       "4 -0.009827  0.007892 -0.007170 -0.010145       0.0 -0.002938  0.014057   \n",
       "5  0.020252  0.002539  0.012731  0.011531       0.0 -0.023905  0.014483   \n",
       "0  0.010727  0.012799  0.010337  0.052171       0.0 -0.035214  0.005491   \n",
       "1  0.032618  0.024963  0.021749  0.016573       0.0 -0.013642  0.073155   \n",
       "2  0.003230  0.040072 -0.010331  0.042536       0.0 -0.014339  0.022785   \n",
       "3  0.022938  0.030343  0.044556  0.006405       0.0 -0.026176  0.065102   \n",
       "4  0.016371  0.055123  0.063398 -0.003910       0.0 -0.047609  0.051503   \n",
       "5 -0.032233 -0.030308 -0.020187 -0.044732       0.0  0.039476 -0.040590   \n",
       "0 -0.013996  0.011494  0.001582  0.015434       0.0  0.024178 -0.016060   \n",
       "1 -0.069685 -0.007591  0.080379 -0.020587       0.0  0.000054 -0.060346   \n",
       "2  0.052442  0.003028  0.000062  0.006908       0.0  0.004261  0.006362   \n",
       "3 -0.002694 -0.043298 -0.014621 -0.042554       0.0  0.072601 -0.109569   \n",
       "4 -0.004480 -0.027458  0.022296 -0.000175       0.0  0.000758 -0.089695   \n",
       "5  0.004639  0.002869 -0.019842 -0.001797       0.0 -0.018600  0.021392   \n",
       "\n",
       "     mistak  year  \n",
       "0  0.011029  2013  \n",
       "1 -0.054835  2013  \n",
       "2  0.000413  2013  \n",
       "3  0.047173  2013  \n",
       "0 -0.038363  2014  \n",
       "1  0.034460  2014  \n",
       "2 -0.007708  2014  \n",
       "3 -0.002089  2014  \n",
       "4  0.021529  2014  \n",
       "5  0.001559  2014  \n",
       "0 -0.031442  2015  \n",
       "1 -0.014880  2015  \n",
       "2  0.052500  2015  \n",
       "3 -0.031897  2015  \n",
       "4 -0.043074  2015  \n",
       "5  0.014323  2015  \n",
       "0 -0.006623  2016  \n",
       "1 -0.041608  2016  \n",
       "2  0.039878  2016  \n",
       "3 -0.035326  2016  \n",
       "4 -0.002387  2016  \n",
       "5  0.016739  2016  \n",
       "0  0.015872  2017  \n",
       "1  0.045060  2017  \n",
       "2  0.026737  2017  \n",
       "3  0.007475  2017  \n",
       "4  0.050519  2017  \n",
       "5 -0.039924  2017  \n",
       "0 -0.022774  2018  \n",
       "1 -0.057808  2018  \n",
       "2 -0.027014  2018  \n",
       "3 -0.045970  2018  \n",
       "4 -0.028361  2018  \n",
       "5  0.029305  2018  \n",
       "\n",
       "[34 rows x 303 columns]"
      ]
     },
     "execution_count": 125,
     "metadata": {},
     "output_type": "execute_result"
    }
   ],
   "source": [
    "df"
   ]
  },
  {
   "cell_type": "code",
   "execution_count": 83,
   "metadata": {},
   "outputs": [],
   "source": [
    "def see_variation_on_axis(source:str, year:int, df):    \n",
    "\n",
    "    df = df.loc[df['source'] == source]\n",
    "    df = df.loc[df['year'] == year]\n",
    "\n",
    "    l = []\n",
    "    for word in clean(tech, 'unigram') :\n",
    "        try : \n",
    "            l.append(df[word].tolist()[0])\n",
    "        except :\n",
    "            print(word)\n",
    "    var_tech = dict(zip(clean(tech, 'unigram'), l))\n",
    "    sorted_var_tech = sorted(var_tech.items(), key = lambda x : x[1], reverse = True)\n",
    "\n",
    "    l = []\n",
    "    for word in clean(reg, 'unigram') :\n",
    "        try : \n",
    "            l.append(df[word].tolist()[0])\n",
    "        except :\n",
    "            print(word)\n",
    "    var_reg = dict(zip(clean(reg, 'unigram'), l))\n",
    "    sorted_var_reg = sorted(var_reg.items(), key = lambda x : x[1], reverse = True)\n",
    "\n",
    "    l = []\n",
    "    for word in clean(pos, 'unigram') :\n",
    "        try : \n",
    "            l.append(df[word].tolist()[0])\n",
    "        except :\n",
    "            print(word)\n",
    "    var_pos = dict(zip(clean(pos, 'unigram'), l))\n",
    "    sorted_var_pos = sorted(var_pos.items(), key = lambda x : x[1], reverse = True)\n",
    "\n",
    "    l = []\n",
    "    for word in clean(neg, 'unigram') :\n",
    "        try : \n",
    "            l.append(df[word].tolist()[0])\n",
    "        except :\n",
    "            print(word)\n",
    "    var_neg = dict(zip(clean(neg, 'unigram'), l))\n",
    "    sorted_var_neg = sorted(var_neg.items(), key = lambda x : x[1], reverse = True)\n",
    "\n",
    "    return(sorted_var_tech, sorted_var_reg, sorted_var_pos, sorted_var_neg)"
   ]
  },
  {
   "cell_type": "code",
   "execution_count": 128,
   "metadata": {},
   "outputs": [],
   "source": [
    "def project_variation_on_axis(source:str, year:int, df, number_of_words) :\n",
    "\n",
    "    fig = make_subplots(rows=2, cols=1)\n",
    "\n",
    "    fig.add_trace(\n",
    "        go.Bar(x=list(dict(see_variation_on_axis(source, year, df)[0][:number_of_words]).keys()), y=list(dict(see_variation_on_axis(source, year, df)[0][:number_of_words]).values()), name = 'var_tech'), row = 1, col = 1)\n",
    "\n",
    "    fig.add_trace(\n",
    "        go.Bar(x=list(dict(see_variation_on_axis(source, year, df)[1][:number_of_words]).keys()), y=list(dict(see_variation_on_axis(source, year, df)[1][:number_of_words]).values()), name = 'var_reg'), row = 2, col = 1)\n",
    "\n",
    "    '''fig.add_trace(\n",
    "        go.Bar(x=list(dict(see_variation_on_axis(source, year, df)[2][:number_of_words]).keys()), y=list(dict(see_variation_on_axis(source, year, df)[2][:number_of_words]).values()), name = 'var_pos'), row = 1, col = 1)\n",
    "\n",
    "    fig.add_trace(\n",
    "        go.Bar(x=list(dict(see_variation_on_axis(source, year, df)[3][:number_of_words]).keys()), y=list(dict(see_variation_on_axis(source, year, df)[3][:number_of_words]).values()), name = 'var_neg'), row = 2, col = 1)'''\n",
    "\n",
    "    fig.update_layout(height = 500, title_text= str(number_of_words) + \" words most responsible for the move of \" + str(source) + \" towards the respective poles between year \" + str(year) + \" and \" + str(year+1))\n",
    "\n",
    "    fig.show()"
   ]
  },
  {
   "cell_type": "code",
   "execution_count": 130,
   "metadata": {},
   "outputs": [
    {
     "data": {
      "application/vnd.plotly.v1+json": {
       "config": {
        "plotlyServerURL": "https://plot.ly"
       },
       "data": [
        {
         "name": "var_tech",
         "type": "bar",
         "x": [
          "matthew",
          "vacuum",
          "stafford",
          "page",
          "spark",
          "halo",
          "forza",
          "vike",
          "echo",
          "actor",
          "fitbit",
          "facetim",
          "episod",
          "unlimit",
          "feed",
          "algorithm",
          "cast",
          "clank",
          "incognito",
          "icloud",
          "ring",
          "audio",
          "arkham",
          "shirt",
          "macmillan",
          "music",
          "bing",
          "grand",
          "scarlett",
          "revolut"
         ],
         "xaxis": "x",
         "y": [
          0.055596101789251,
          0.04985598184135468,
          0.045989042843426135,
          0.03740909495502221,
          0.033650369347985126,
          0.03229964629817061,
          0.03131203087599689,
          0.027768556397736475,
          0.02754561470799981,
          0.026788450582193202,
          0.02521536010630408,
          0.023547111058837,
          0.023202982912338545,
          0.022397025361075382,
          0.02228012141855898,
          0.02059002838427254,
          0.01962237777794781,
          0.0190513388963991,
          0.01782403726250993,
          0.016842771023246883,
          0.01640754945453439,
          0.016389756688298625,
          0.0150467534347834,
          0.015028045904411263,
          0.014277547767074815,
          0.013391062616763165,
          0.012867180591432693,
          0.012667695611976563,
          0.012657031391761024,
          0.012286473085695592
         ],
         "yaxis": "y"
        },
        {
         "name": "var_reg",
         "type": "bar",
         "x": [
          "penalti",
          "offenc",
          "privaci",
          "justic",
          "appeal",
          "fake",
          "abus",
          "judici",
          "fraud",
          "lawyer",
          "lawsuit",
          "crimin",
          "mental",
          "enforc",
          "health",
          "news",
          "rule",
          "copyright",
          "data",
          "bodi",
          "public",
          "victim",
          "hate",
          "regul",
          "legal",
          "intellectu",
          "trial",
          "right",
          "crime",
          "hear"
         ],
         "xaxis": "x2",
         "y": [
          0.03642287952684842,
          0.03495269743227321,
          0.02967359736984378,
          0.026938906964464156,
          0.026086552871910612,
          0.024821602106802464,
          0.022457757585659516,
          0.018788463957732853,
          0.01807007497949325,
          0.017945963754341494,
          0.016087104659350173,
          0.01531662484895372,
          0.015049445813087986,
          0.013602728498467456,
          0.01339866028553209,
          0.011743412700201928,
          0.010595322022366079,
          0.010321870783221037,
          0.010315867307064651,
          0.008579245778296543,
          0.007703883869759808,
          0.005781204153514636,
          0.0037881094659953317,
          0.0011592348199771436,
          0.0006197434838246405,
          -0.004109362520968386,
          -0.004438464217568863,
          -0.00461182189518181,
          -0.006255482768469254,
          -0.008772840714320012
         ],
         "yaxis": "y2"
        }
       ],
       "layout": {
        "height": 500,
        "template": {
         "data": {
          "bar": [
           {
            "error_x": {
             "color": "#2a3f5f"
            },
            "error_y": {
             "color": "#2a3f5f"
            },
            "marker": {
             "line": {
              "color": "#E5ECF6",
              "width": 0.5
             },
             "pattern": {
              "fillmode": "overlay",
              "size": 10,
              "solidity": 0.2
             }
            },
            "type": "bar"
           }
          ],
          "barpolar": [
           {
            "marker": {
             "line": {
              "color": "#E5ECF6",
              "width": 0.5
             },
             "pattern": {
              "fillmode": "overlay",
              "size": 10,
              "solidity": 0.2
             }
            },
            "type": "barpolar"
           }
          ],
          "carpet": [
           {
            "aaxis": {
             "endlinecolor": "#2a3f5f",
             "gridcolor": "white",
             "linecolor": "white",
             "minorgridcolor": "white",
             "startlinecolor": "#2a3f5f"
            },
            "baxis": {
             "endlinecolor": "#2a3f5f",
             "gridcolor": "white",
             "linecolor": "white",
             "minorgridcolor": "white",
             "startlinecolor": "#2a3f5f"
            },
            "type": "carpet"
           }
          ],
          "choropleth": [
           {
            "colorbar": {
             "outlinewidth": 0,
             "ticks": ""
            },
            "type": "choropleth"
           }
          ],
          "contour": [
           {
            "colorbar": {
             "outlinewidth": 0,
             "ticks": ""
            },
            "colorscale": [
             [
              0,
              "#0d0887"
             ],
             [
              0.1111111111111111,
              "#46039f"
             ],
             [
              0.2222222222222222,
              "#7201a8"
             ],
             [
              0.3333333333333333,
              "#9c179e"
             ],
             [
              0.4444444444444444,
              "#bd3786"
             ],
             [
              0.5555555555555556,
              "#d8576b"
             ],
             [
              0.6666666666666666,
              "#ed7953"
             ],
             [
              0.7777777777777778,
              "#fb9f3a"
             ],
             [
              0.8888888888888888,
              "#fdca26"
             ],
             [
              1,
              "#f0f921"
             ]
            ],
            "type": "contour"
           }
          ],
          "contourcarpet": [
           {
            "colorbar": {
             "outlinewidth": 0,
             "ticks": ""
            },
            "type": "contourcarpet"
           }
          ],
          "heatmap": [
           {
            "colorbar": {
             "outlinewidth": 0,
             "ticks": ""
            },
            "colorscale": [
             [
              0,
              "#0d0887"
             ],
             [
              0.1111111111111111,
              "#46039f"
             ],
             [
              0.2222222222222222,
              "#7201a8"
             ],
             [
              0.3333333333333333,
              "#9c179e"
             ],
             [
              0.4444444444444444,
              "#bd3786"
             ],
             [
              0.5555555555555556,
              "#d8576b"
             ],
             [
              0.6666666666666666,
              "#ed7953"
             ],
             [
              0.7777777777777778,
              "#fb9f3a"
             ],
             [
              0.8888888888888888,
              "#fdca26"
             ],
             [
              1,
              "#f0f921"
             ]
            ],
            "type": "heatmap"
           }
          ],
          "heatmapgl": [
           {
            "colorbar": {
             "outlinewidth": 0,
             "ticks": ""
            },
            "colorscale": [
             [
              0,
              "#0d0887"
             ],
             [
              0.1111111111111111,
              "#46039f"
             ],
             [
              0.2222222222222222,
              "#7201a8"
             ],
             [
              0.3333333333333333,
              "#9c179e"
             ],
             [
              0.4444444444444444,
              "#bd3786"
             ],
             [
              0.5555555555555556,
              "#d8576b"
             ],
             [
              0.6666666666666666,
              "#ed7953"
             ],
             [
              0.7777777777777778,
              "#fb9f3a"
             ],
             [
              0.8888888888888888,
              "#fdca26"
             ],
             [
              1,
              "#f0f921"
             ]
            ],
            "type": "heatmapgl"
           }
          ],
          "histogram": [
           {
            "marker": {
             "pattern": {
              "fillmode": "overlay",
              "size": 10,
              "solidity": 0.2
             }
            },
            "type": "histogram"
           }
          ],
          "histogram2d": [
           {
            "colorbar": {
             "outlinewidth": 0,
             "ticks": ""
            },
            "colorscale": [
             [
              0,
              "#0d0887"
             ],
             [
              0.1111111111111111,
              "#46039f"
             ],
             [
              0.2222222222222222,
              "#7201a8"
             ],
             [
              0.3333333333333333,
              "#9c179e"
             ],
             [
              0.4444444444444444,
              "#bd3786"
             ],
             [
              0.5555555555555556,
              "#d8576b"
             ],
             [
              0.6666666666666666,
              "#ed7953"
             ],
             [
              0.7777777777777778,
              "#fb9f3a"
             ],
             [
              0.8888888888888888,
              "#fdca26"
             ],
             [
              1,
              "#f0f921"
             ]
            ],
            "type": "histogram2d"
           }
          ],
          "histogram2dcontour": [
           {
            "colorbar": {
             "outlinewidth": 0,
             "ticks": ""
            },
            "colorscale": [
             [
              0,
              "#0d0887"
             ],
             [
              0.1111111111111111,
              "#46039f"
             ],
             [
              0.2222222222222222,
              "#7201a8"
             ],
             [
              0.3333333333333333,
              "#9c179e"
             ],
             [
              0.4444444444444444,
              "#bd3786"
             ],
             [
              0.5555555555555556,
              "#d8576b"
             ],
             [
              0.6666666666666666,
              "#ed7953"
             ],
             [
              0.7777777777777778,
              "#fb9f3a"
             ],
             [
              0.8888888888888888,
              "#fdca26"
             ],
             [
              1,
              "#f0f921"
             ]
            ],
            "type": "histogram2dcontour"
           }
          ],
          "mesh3d": [
           {
            "colorbar": {
             "outlinewidth": 0,
             "ticks": ""
            },
            "type": "mesh3d"
           }
          ],
          "parcoords": [
           {
            "line": {
             "colorbar": {
              "outlinewidth": 0,
              "ticks": ""
             }
            },
            "type": "parcoords"
           }
          ],
          "pie": [
           {
            "automargin": true,
            "type": "pie"
           }
          ],
          "scatter": [
           {
            "fillpattern": {
             "fillmode": "overlay",
             "size": 10,
             "solidity": 0.2
            },
            "type": "scatter"
           }
          ],
          "scatter3d": [
           {
            "line": {
             "colorbar": {
              "outlinewidth": 0,
              "ticks": ""
             }
            },
            "marker": {
             "colorbar": {
              "outlinewidth": 0,
              "ticks": ""
             }
            },
            "type": "scatter3d"
           }
          ],
          "scattercarpet": [
           {
            "marker": {
             "colorbar": {
              "outlinewidth": 0,
              "ticks": ""
             }
            },
            "type": "scattercarpet"
           }
          ],
          "scattergeo": [
           {
            "marker": {
             "colorbar": {
              "outlinewidth": 0,
              "ticks": ""
             }
            },
            "type": "scattergeo"
           }
          ],
          "scattergl": [
           {
            "marker": {
             "colorbar": {
              "outlinewidth": 0,
              "ticks": ""
             }
            },
            "type": "scattergl"
           }
          ],
          "scattermapbox": [
           {
            "marker": {
             "colorbar": {
              "outlinewidth": 0,
              "ticks": ""
             }
            },
            "type": "scattermapbox"
           }
          ],
          "scatterpolar": [
           {
            "marker": {
             "colorbar": {
              "outlinewidth": 0,
              "ticks": ""
             }
            },
            "type": "scatterpolar"
           }
          ],
          "scatterpolargl": [
           {
            "marker": {
             "colorbar": {
              "outlinewidth": 0,
              "ticks": ""
             }
            },
            "type": "scatterpolargl"
           }
          ],
          "scatterternary": [
           {
            "marker": {
             "colorbar": {
              "outlinewidth": 0,
              "ticks": ""
             }
            },
            "type": "scatterternary"
           }
          ],
          "surface": [
           {
            "colorbar": {
             "outlinewidth": 0,
             "ticks": ""
            },
            "colorscale": [
             [
              0,
              "#0d0887"
             ],
             [
              0.1111111111111111,
              "#46039f"
             ],
             [
              0.2222222222222222,
              "#7201a8"
             ],
             [
              0.3333333333333333,
              "#9c179e"
             ],
             [
              0.4444444444444444,
              "#bd3786"
             ],
             [
              0.5555555555555556,
              "#d8576b"
             ],
             [
              0.6666666666666666,
              "#ed7953"
             ],
             [
              0.7777777777777778,
              "#fb9f3a"
             ],
             [
              0.8888888888888888,
              "#fdca26"
             ],
             [
              1,
              "#f0f921"
             ]
            ],
            "type": "surface"
           }
          ],
          "table": [
           {
            "cells": {
             "fill": {
              "color": "#EBF0F8"
             },
             "line": {
              "color": "white"
             }
            },
            "header": {
             "fill": {
              "color": "#C8D4E3"
             },
             "line": {
              "color": "white"
             }
            },
            "type": "table"
           }
          ]
         },
         "layout": {
          "annotationdefaults": {
           "arrowcolor": "#2a3f5f",
           "arrowhead": 0,
           "arrowwidth": 1
          },
          "autotypenumbers": "strict",
          "coloraxis": {
           "colorbar": {
            "outlinewidth": 0,
            "ticks": ""
           }
          },
          "colorscale": {
           "diverging": [
            [
             0,
             "#8e0152"
            ],
            [
             0.1,
             "#c51b7d"
            ],
            [
             0.2,
             "#de77ae"
            ],
            [
             0.3,
             "#f1b6da"
            ],
            [
             0.4,
             "#fde0ef"
            ],
            [
             0.5,
             "#f7f7f7"
            ],
            [
             0.6,
             "#e6f5d0"
            ],
            [
             0.7,
             "#b8e186"
            ],
            [
             0.8,
             "#7fbc41"
            ],
            [
             0.9,
             "#4d9221"
            ],
            [
             1,
             "#276419"
            ]
           ],
           "sequential": [
            [
             0,
             "#0d0887"
            ],
            [
             0.1111111111111111,
             "#46039f"
            ],
            [
             0.2222222222222222,
             "#7201a8"
            ],
            [
             0.3333333333333333,
             "#9c179e"
            ],
            [
             0.4444444444444444,
             "#bd3786"
            ],
            [
             0.5555555555555556,
             "#d8576b"
            ],
            [
             0.6666666666666666,
             "#ed7953"
            ],
            [
             0.7777777777777778,
             "#fb9f3a"
            ],
            [
             0.8888888888888888,
             "#fdca26"
            ],
            [
             1,
             "#f0f921"
            ]
           ],
           "sequentialminus": [
            [
             0,
             "#0d0887"
            ],
            [
             0.1111111111111111,
             "#46039f"
            ],
            [
             0.2222222222222222,
             "#7201a8"
            ],
            [
             0.3333333333333333,
             "#9c179e"
            ],
            [
             0.4444444444444444,
             "#bd3786"
            ],
            [
             0.5555555555555556,
             "#d8576b"
            ],
            [
             0.6666666666666666,
             "#ed7953"
            ],
            [
             0.7777777777777778,
             "#fb9f3a"
            ],
            [
             0.8888888888888888,
             "#fdca26"
            ],
            [
             1,
             "#f0f921"
            ]
           ]
          },
          "colorway": [
           "#636efa",
           "#EF553B",
           "#00cc96",
           "#ab63fa",
           "#FFA15A",
           "#19d3f3",
           "#FF6692",
           "#B6E880",
           "#FF97FF",
           "#FECB52"
          ],
          "font": {
           "color": "#2a3f5f"
          },
          "geo": {
           "bgcolor": "white",
           "lakecolor": "white",
           "landcolor": "#E5ECF6",
           "showlakes": true,
           "showland": true,
           "subunitcolor": "white"
          },
          "hoverlabel": {
           "align": "left"
          },
          "hovermode": "closest",
          "mapbox": {
           "style": "light"
          },
          "paper_bgcolor": "white",
          "plot_bgcolor": "#E5ECF6",
          "polar": {
           "angularaxis": {
            "gridcolor": "white",
            "linecolor": "white",
            "ticks": ""
           },
           "bgcolor": "#E5ECF6",
           "radialaxis": {
            "gridcolor": "white",
            "linecolor": "white",
            "ticks": ""
           }
          },
          "scene": {
           "xaxis": {
            "backgroundcolor": "#E5ECF6",
            "gridcolor": "white",
            "gridwidth": 2,
            "linecolor": "white",
            "showbackground": true,
            "ticks": "",
            "zerolinecolor": "white"
           },
           "yaxis": {
            "backgroundcolor": "#E5ECF6",
            "gridcolor": "white",
            "gridwidth": 2,
            "linecolor": "white",
            "showbackground": true,
            "ticks": "",
            "zerolinecolor": "white"
           },
           "zaxis": {
            "backgroundcolor": "#E5ECF6",
            "gridcolor": "white",
            "gridwidth": 2,
            "linecolor": "white",
            "showbackground": true,
            "ticks": "",
            "zerolinecolor": "white"
           }
          },
          "shapedefaults": {
           "line": {
            "color": "#2a3f5f"
           }
          },
          "ternary": {
           "aaxis": {
            "gridcolor": "white",
            "linecolor": "white",
            "ticks": ""
           },
           "baxis": {
            "gridcolor": "white",
            "linecolor": "white",
            "ticks": ""
           },
           "bgcolor": "#E5ECF6",
           "caxis": {
            "gridcolor": "white",
            "linecolor": "white",
            "ticks": ""
           }
          },
          "title": {
           "x": 0.05
          },
          "xaxis": {
           "automargin": true,
           "gridcolor": "white",
           "linecolor": "white",
           "ticks": "",
           "title": {
            "standoff": 15
           },
           "zerolinecolor": "white",
           "zerolinewidth": 2
          },
          "yaxis": {
           "automargin": true,
           "gridcolor": "white",
           "linecolor": "white",
           "ticks": "",
           "title": {
            "standoff": 15
           },
           "zerolinecolor": "white",
           "zerolinewidth": 2
          }
         }
        },
        "title": {
         "text": "30 words most responsible for the move of GUA towards the respective poles between year 2014 and 2015"
        },
        "xaxis": {
         "anchor": "y",
         "domain": [
          0,
          1
         ]
        },
        "xaxis2": {
         "anchor": "y2",
         "domain": [
          0,
          1
         ]
        },
        "yaxis": {
         "anchor": "x",
         "domain": [
          0.575,
          1
         ]
        },
        "yaxis2": {
         "anchor": "x2",
         "domain": [
          0,
          0.425
         ]
        }
       }
      }
     },
     "metadata": {},
     "output_type": "display_data"
    }
   ],
   "source": [
    "project_variation_on_axis('GUA', 2014, df, 30)"
   ]
  },
  {
   "cell_type": "markdown",
   "metadata": {},
   "source": [
    "# **Proof of little variation of matrix A**"
   ]
  },
  {
   "cell_type": "code",
   "execution_count": 13,
   "metadata": {},
   "outputs": [],
   "source": [
    "l_1 = []\n",
    "l_2 = []\n",
    "l_3 = []\n",
    "for model in models_words :\n",
    "\n",
    "    pos_a = filter_model(pos_1, model)\n",
    "    neg_a = filter_model(neg_1, model)\n",
    "\n",
    "    pos_b = filter_model(pos_2, model)\n",
    "    neg_b = filter_model(neg_2, model)\n",
    "\n",
    "    pos_c = filter_model(pos_3, model)\n",
    "    neg_c = filter_model(neg_3, model)\n",
    "\n",
    "    b1 = (barycentre(pos_a, model)-barycentre(neg_a, model))\n",
    "    b1 = b1 / np.linalg.norm(b1)\n",
    "    b2 = (barycentre(pos_b, model)-barycentre(neg_b, model))\n",
    "    b2 = b2 / np.linalg.norm(b2)\n",
    "    b3 = (barycentre(pos_c, model)-barycentre(neg_c, model))\n",
    "    b3= b3 / np.linalg.norm(b3)\n",
    "\n",
    "    l_1.append(b1)\n",
    "    l_2.append(b2)\n",
    "    l_3.append(b3)"
   ]
  },
  {
   "cell_type": "code",
   "execution_count": 14,
   "metadata": {},
   "outputs": [],
   "source": [
    "l1 = [np.dot(l_1[i+1], l_1[i]) for i in range(len(l_1)-1)]\n",
    "l2 = [np.dot(l_2[i+1], l_2[i]) for i in range(len(l_2)-1)]\n",
    "l3 = [np.dot(l_3[i+1], l_3[i]) for i in range(len(l_3)-1)]"
   ]
  },
  {
   "cell_type": "code",
   "execution_count": 15,
   "metadata": {},
   "outputs": [
    {
     "data": {
      "application/vnd.plotly.v1+json": {
       "config": {
        "plotlyServerURL": "https://plot.ly"
       },
       "data": [
        {
         "line": {
          "shape": "spline"
         },
         "mode": "markers+lines",
         "name": "Axis vector cosine variation for tech VS regulation",
         "showlegend": false,
         "type": "scatter",
         "x": [
          2011,
          2012,
          2013,
          2014,
          2015,
          2016,
          2017,
          2018,
          2019,
          2020,
          2021,
          2022,
          2023
         ],
         "xaxis": "x",
         "y": [
          0.8987382079392066,
          0.9136436418413896,
          0.8908694201727608,
          0.9076499521182023,
          0.9301678439642578,
          0.9578712232700826,
          0.9108058656223731,
          0.9402180031589699,
          0.9352105182536554,
          0.7580054227264366,
          0.7470608407325205,
          0.6499165565975444,
          0.7193097739234348
         ],
         "yaxis": "y"
        },
        {
         "line": {
          "shape": "spline"
         },
         "mode": "markers+lines",
         "name": "Axis vector cosine variation for positive VS negative",
         "showlegend": false,
         "type": "scatter",
         "x": [
          2011,
          2012,
          2013,
          2014,
          2015,
          2016,
          2017,
          2018,
          2019,
          2020,
          2021,
          2022,
          2023
         ],
         "xaxis": "x2",
         "y": [
          0.864519208492817,
          0.8623408076732973,
          0.921520991091888,
          0.8358002000799457,
          0.8635367613911685,
          0.8521533242494537,
          0.8839189600836217,
          0.9141267356970328,
          0.9204692693350546,
          0.8136641601756521,
          0.8386625281705608,
          0.7634220311069887,
          0.7767246376241288
         ],
         "yaxis": "y2"
        },
        {
         "line": {
          "shape": "spline"
         },
         "mode": "markers+lines",
         "name": "Axis vector cosine variation for cognition VS affect",
         "showlegend": false,
         "type": "scatter",
         "x": [
          2011,
          2012,
          2013,
          2014,
          2015,
          2016,
          2017,
          2018,
          2019,
          2020,
          2021,
          2022,
          2023
         ],
         "xaxis": "x3",
         "y": [
          0.9383351944306509,
          0.9462231941899956,
          0.9258745515390867,
          0.9529643974375203,
          0.9195468678769643,
          0.9404034328751498,
          0.9378077148523757,
          0.9347318218901757,
          0.9691728599793923,
          0.9161348614107836,
          0.889833121558906,
          0.8255654375253888,
          0.8449422615171407
         ],
         "yaxis": "y3"
        }
       ],
       "layout": {
        "height": 300,
        "template": {
         "data": {
          "bar": [
           {
            "error_x": {
             "color": "#2a3f5f"
            },
            "error_y": {
             "color": "#2a3f5f"
            },
            "marker": {
             "line": {
              "color": "#E5ECF6",
              "width": 0.5
             },
             "pattern": {
              "fillmode": "overlay",
              "size": 10,
              "solidity": 0.2
             }
            },
            "type": "bar"
           }
          ],
          "barpolar": [
           {
            "marker": {
             "line": {
              "color": "#E5ECF6",
              "width": 0.5
             },
             "pattern": {
              "fillmode": "overlay",
              "size": 10,
              "solidity": 0.2
             }
            },
            "type": "barpolar"
           }
          ],
          "carpet": [
           {
            "aaxis": {
             "endlinecolor": "#2a3f5f",
             "gridcolor": "white",
             "linecolor": "white",
             "minorgridcolor": "white",
             "startlinecolor": "#2a3f5f"
            },
            "baxis": {
             "endlinecolor": "#2a3f5f",
             "gridcolor": "white",
             "linecolor": "white",
             "minorgridcolor": "white",
             "startlinecolor": "#2a3f5f"
            },
            "type": "carpet"
           }
          ],
          "choropleth": [
           {
            "colorbar": {
             "outlinewidth": 0,
             "ticks": ""
            },
            "type": "choropleth"
           }
          ],
          "contour": [
           {
            "colorbar": {
             "outlinewidth": 0,
             "ticks": ""
            },
            "colorscale": [
             [
              0,
              "#0d0887"
             ],
             [
              0.1111111111111111,
              "#46039f"
             ],
             [
              0.2222222222222222,
              "#7201a8"
             ],
             [
              0.3333333333333333,
              "#9c179e"
             ],
             [
              0.4444444444444444,
              "#bd3786"
             ],
             [
              0.5555555555555556,
              "#d8576b"
             ],
             [
              0.6666666666666666,
              "#ed7953"
             ],
             [
              0.7777777777777778,
              "#fb9f3a"
             ],
             [
              0.8888888888888888,
              "#fdca26"
             ],
             [
              1,
              "#f0f921"
             ]
            ],
            "type": "contour"
           }
          ],
          "contourcarpet": [
           {
            "colorbar": {
             "outlinewidth": 0,
             "ticks": ""
            },
            "type": "contourcarpet"
           }
          ],
          "heatmap": [
           {
            "colorbar": {
             "outlinewidth": 0,
             "ticks": ""
            },
            "colorscale": [
             [
              0,
              "#0d0887"
             ],
             [
              0.1111111111111111,
              "#46039f"
             ],
             [
              0.2222222222222222,
              "#7201a8"
             ],
             [
              0.3333333333333333,
              "#9c179e"
             ],
             [
              0.4444444444444444,
              "#bd3786"
             ],
             [
              0.5555555555555556,
              "#d8576b"
             ],
             [
              0.6666666666666666,
              "#ed7953"
             ],
             [
              0.7777777777777778,
              "#fb9f3a"
             ],
             [
              0.8888888888888888,
              "#fdca26"
             ],
             [
              1,
              "#f0f921"
             ]
            ],
            "type": "heatmap"
           }
          ],
          "heatmapgl": [
           {
            "colorbar": {
             "outlinewidth": 0,
             "ticks": ""
            },
            "colorscale": [
             [
              0,
              "#0d0887"
             ],
             [
              0.1111111111111111,
              "#46039f"
             ],
             [
              0.2222222222222222,
              "#7201a8"
             ],
             [
              0.3333333333333333,
              "#9c179e"
             ],
             [
              0.4444444444444444,
              "#bd3786"
             ],
             [
              0.5555555555555556,
              "#d8576b"
             ],
             [
              0.6666666666666666,
              "#ed7953"
             ],
             [
              0.7777777777777778,
              "#fb9f3a"
             ],
             [
              0.8888888888888888,
              "#fdca26"
             ],
             [
              1,
              "#f0f921"
             ]
            ],
            "type": "heatmapgl"
           }
          ],
          "histogram": [
           {
            "marker": {
             "pattern": {
              "fillmode": "overlay",
              "size": 10,
              "solidity": 0.2
             }
            },
            "type": "histogram"
           }
          ],
          "histogram2d": [
           {
            "colorbar": {
             "outlinewidth": 0,
             "ticks": ""
            },
            "colorscale": [
             [
              0,
              "#0d0887"
             ],
             [
              0.1111111111111111,
              "#46039f"
             ],
             [
              0.2222222222222222,
              "#7201a8"
             ],
             [
              0.3333333333333333,
              "#9c179e"
             ],
             [
              0.4444444444444444,
              "#bd3786"
             ],
             [
              0.5555555555555556,
              "#d8576b"
             ],
             [
              0.6666666666666666,
              "#ed7953"
             ],
             [
              0.7777777777777778,
              "#fb9f3a"
             ],
             [
              0.8888888888888888,
              "#fdca26"
             ],
             [
              1,
              "#f0f921"
             ]
            ],
            "type": "histogram2d"
           }
          ],
          "histogram2dcontour": [
           {
            "colorbar": {
             "outlinewidth": 0,
             "ticks": ""
            },
            "colorscale": [
             [
              0,
              "#0d0887"
             ],
             [
              0.1111111111111111,
              "#46039f"
             ],
             [
              0.2222222222222222,
              "#7201a8"
             ],
             [
              0.3333333333333333,
              "#9c179e"
             ],
             [
              0.4444444444444444,
              "#bd3786"
             ],
             [
              0.5555555555555556,
              "#d8576b"
             ],
             [
              0.6666666666666666,
              "#ed7953"
             ],
             [
              0.7777777777777778,
              "#fb9f3a"
             ],
             [
              0.8888888888888888,
              "#fdca26"
             ],
             [
              1,
              "#f0f921"
             ]
            ],
            "type": "histogram2dcontour"
           }
          ],
          "mesh3d": [
           {
            "colorbar": {
             "outlinewidth": 0,
             "ticks": ""
            },
            "type": "mesh3d"
           }
          ],
          "parcoords": [
           {
            "line": {
             "colorbar": {
              "outlinewidth": 0,
              "ticks": ""
             }
            },
            "type": "parcoords"
           }
          ],
          "pie": [
           {
            "automargin": true,
            "type": "pie"
           }
          ],
          "scatter": [
           {
            "fillpattern": {
             "fillmode": "overlay",
             "size": 10,
             "solidity": 0.2
            },
            "type": "scatter"
           }
          ],
          "scatter3d": [
           {
            "line": {
             "colorbar": {
              "outlinewidth": 0,
              "ticks": ""
             }
            },
            "marker": {
             "colorbar": {
              "outlinewidth": 0,
              "ticks": ""
             }
            },
            "type": "scatter3d"
           }
          ],
          "scattercarpet": [
           {
            "marker": {
             "colorbar": {
              "outlinewidth": 0,
              "ticks": ""
             }
            },
            "type": "scattercarpet"
           }
          ],
          "scattergeo": [
           {
            "marker": {
             "colorbar": {
              "outlinewidth": 0,
              "ticks": ""
             }
            },
            "type": "scattergeo"
           }
          ],
          "scattergl": [
           {
            "marker": {
             "colorbar": {
              "outlinewidth": 0,
              "ticks": ""
             }
            },
            "type": "scattergl"
           }
          ],
          "scattermapbox": [
           {
            "marker": {
             "colorbar": {
              "outlinewidth": 0,
              "ticks": ""
             }
            },
            "type": "scattermapbox"
           }
          ],
          "scatterpolar": [
           {
            "marker": {
             "colorbar": {
              "outlinewidth": 0,
              "ticks": ""
             }
            },
            "type": "scatterpolar"
           }
          ],
          "scatterpolargl": [
           {
            "marker": {
             "colorbar": {
              "outlinewidth": 0,
              "ticks": ""
             }
            },
            "type": "scatterpolargl"
           }
          ],
          "scatterternary": [
           {
            "marker": {
             "colorbar": {
              "outlinewidth": 0,
              "ticks": ""
             }
            },
            "type": "scatterternary"
           }
          ],
          "surface": [
           {
            "colorbar": {
             "outlinewidth": 0,
             "ticks": ""
            },
            "colorscale": [
             [
              0,
              "#0d0887"
             ],
             [
              0.1111111111111111,
              "#46039f"
             ],
             [
              0.2222222222222222,
              "#7201a8"
             ],
             [
              0.3333333333333333,
              "#9c179e"
             ],
             [
              0.4444444444444444,
              "#bd3786"
             ],
             [
              0.5555555555555556,
              "#d8576b"
             ],
             [
              0.6666666666666666,
              "#ed7953"
             ],
             [
              0.7777777777777778,
              "#fb9f3a"
             ],
             [
              0.8888888888888888,
              "#fdca26"
             ],
             [
              1,
              "#f0f921"
             ]
            ],
            "type": "surface"
           }
          ],
          "table": [
           {
            "cells": {
             "fill": {
              "color": "#EBF0F8"
             },
             "line": {
              "color": "white"
             }
            },
            "header": {
             "fill": {
              "color": "#C8D4E3"
             },
             "line": {
              "color": "white"
             }
            },
            "type": "table"
           }
          ]
         },
         "layout": {
          "annotationdefaults": {
           "arrowcolor": "#2a3f5f",
           "arrowhead": 0,
           "arrowwidth": 1
          },
          "autotypenumbers": "strict",
          "coloraxis": {
           "colorbar": {
            "outlinewidth": 0,
            "ticks": ""
           }
          },
          "colorscale": {
           "diverging": [
            [
             0,
             "#8e0152"
            ],
            [
             0.1,
             "#c51b7d"
            ],
            [
             0.2,
             "#de77ae"
            ],
            [
             0.3,
             "#f1b6da"
            ],
            [
             0.4,
             "#fde0ef"
            ],
            [
             0.5,
             "#f7f7f7"
            ],
            [
             0.6,
             "#e6f5d0"
            ],
            [
             0.7,
             "#b8e186"
            ],
            [
             0.8,
             "#7fbc41"
            ],
            [
             0.9,
             "#4d9221"
            ],
            [
             1,
             "#276419"
            ]
           ],
           "sequential": [
            [
             0,
             "#0d0887"
            ],
            [
             0.1111111111111111,
             "#46039f"
            ],
            [
             0.2222222222222222,
             "#7201a8"
            ],
            [
             0.3333333333333333,
             "#9c179e"
            ],
            [
             0.4444444444444444,
             "#bd3786"
            ],
            [
             0.5555555555555556,
             "#d8576b"
            ],
            [
             0.6666666666666666,
             "#ed7953"
            ],
            [
             0.7777777777777778,
             "#fb9f3a"
            ],
            [
             0.8888888888888888,
             "#fdca26"
            ],
            [
             1,
             "#f0f921"
            ]
           ],
           "sequentialminus": [
            [
             0,
             "#0d0887"
            ],
            [
             0.1111111111111111,
             "#46039f"
            ],
            [
             0.2222222222222222,
             "#7201a8"
            ],
            [
             0.3333333333333333,
             "#9c179e"
            ],
            [
             0.4444444444444444,
             "#bd3786"
            ],
            [
             0.5555555555555556,
             "#d8576b"
            ],
            [
             0.6666666666666666,
             "#ed7953"
            ],
            [
             0.7777777777777778,
             "#fb9f3a"
            ],
            [
             0.8888888888888888,
             "#fdca26"
            ],
            [
             1,
             "#f0f921"
            ]
           ]
          },
          "colorway": [
           "#636efa",
           "#EF553B",
           "#00cc96",
           "#ab63fa",
           "#FFA15A",
           "#19d3f3",
           "#FF6692",
           "#B6E880",
           "#FF97FF",
           "#FECB52"
          ],
          "font": {
           "color": "#2a3f5f"
          },
          "geo": {
           "bgcolor": "white",
           "lakecolor": "white",
           "landcolor": "#E5ECF6",
           "showlakes": true,
           "showland": true,
           "subunitcolor": "white"
          },
          "hoverlabel": {
           "align": "left"
          },
          "hovermode": "closest",
          "mapbox": {
           "style": "light"
          },
          "paper_bgcolor": "white",
          "plot_bgcolor": "#E5ECF6",
          "polar": {
           "angularaxis": {
            "gridcolor": "white",
            "linecolor": "white",
            "ticks": ""
           },
           "bgcolor": "#E5ECF6",
           "radialaxis": {
            "gridcolor": "white",
            "linecolor": "white",
            "ticks": ""
           }
          },
          "scene": {
           "xaxis": {
            "backgroundcolor": "#E5ECF6",
            "gridcolor": "white",
            "gridwidth": 2,
            "linecolor": "white",
            "showbackground": true,
            "ticks": "",
            "zerolinecolor": "white"
           },
           "yaxis": {
            "backgroundcolor": "#E5ECF6",
            "gridcolor": "white",
            "gridwidth": 2,
            "linecolor": "white",
            "showbackground": true,
            "ticks": "",
            "zerolinecolor": "white"
           },
           "zaxis": {
            "backgroundcolor": "#E5ECF6",
            "gridcolor": "white",
            "gridwidth": 2,
            "linecolor": "white",
            "showbackground": true,
            "ticks": "",
            "zerolinecolor": "white"
           }
          },
          "shapedefaults": {
           "line": {
            "color": "#2a3f5f"
           }
          },
          "ternary": {
           "aaxis": {
            "gridcolor": "white",
            "linecolor": "white",
            "ticks": ""
           },
           "baxis": {
            "gridcolor": "white",
            "linecolor": "white",
            "ticks": ""
           },
           "bgcolor": "#E5ECF6",
           "caxis": {
            "gridcolor": "white",
            "linecolor": "white",
            "ticks": ""
           }
          },
          "title": {
           "x": 0.05
          },
          "xaxis": {
           "automargin": true,
           "gridcolor": "white",
           "linecolor": "white",
           "ticks": "",
           "title": {
            "standoff": 15
           },
           "zerolinecolor": "white",
           "zerolinewidth": 2
          },
          "yaxis": {
           "automargin": true,
           "gridcolor": "white",
           "linecolor": "white",
           "ticks": "",
           "title": {
            "standoff": 15
           },
           "zerolinecolor": "white",
           "zerolinewidth": 2
          }
         }
        },
        "width": 800,
        "xaxis": {
         "anchor": "y",
         "domain": [
          0,
          0.2888888888888889
         ]
        },
        "xaxis2": {
         "anchor": "y2",
         "domain": [
          0.35555555555555557,
          0.6444444444444445
         ]
        },
        "xaxis3": {
         "anchor": "y3",
         "domain": [
          0.7111111111111111,
          1
         ]
        },
        "yaxis": {
         "anchor": "x",
         "domain": [
          0,
          1
         ]
        },
        "yaxis2": {
         "anchor": "x2",
         "domain": [
          0,
          1
         ]
        },
        "yaxis3": {
         "anchor": "x3",
         "domain": [
          0,
          1
         ]
        }
       }
      }
     },
     "metadata": {},
     "output_type": "display_data"
    }
   ],
   "source": [
    "fig = make_subplots(rows=1, cols=3)\n",
    "\n",
    "fig.add_trace(go.Scatter(x = [2011+i for i in range(13)], y = l1,\n",
    "                           mode = 'markers+lines' , \n",
    "                           showlegend = False, line_shape='spline', name = 'Axis vector cosine variation for tech VS regulation'), row = 1, col = 1)\n",
    "\n",
    "fig.add_trace(go.Scatter(x = [2011+i for i in range(13)], y = l2,\n",
    "                           mode = 'markers+lines' , \n",
    "                           showlegend = False, line_shape='spline', name = 'Axis vector cosine variation for positive VS negative'), row = 1, col = 2)\n",
    "\n",
    "fig.add_trace(go.Scatter(x = [2011+i for i in range(13)], y = l3,\n",
    "                           mode = 'markers+lines' , \n",
    "                           showlegend = False, line_shape='spline', name = 'Axis vector cosine variation for cognition VS affect'), row = 1, col = 3)\n",
    "\n",
    "fig.update_layout(height = 300, width = 800) #, title_text=  \" Axis vector cosine variation for tech VS regulation, and for positive VS negative\")\n",
    "\n",
    "fig.show()"
   ]
  }
 ],
 "metadata": {
  "kernelspec": {
   "display_name": "base",
   "language": "python",
   "name": "python3"
  },
  "language_info": {
   "codemirror_mode": {
    "name": "ipython",
    "version": 3
   },
   "file_extension": ".py",
   "mimetype": "text/x-python",
   "name": "python",
   "nbconvert_exporter": "python",
   "pygments_lexer": "ipython3",
   "version": "3.10.9"
  },
  "orig_nbformat": 4
 },
 "nbformat": 4,
 "nbformat_minor": 2
}
