{
 "cells": [
  {
   "cell_type": "markdown",
   "metadata": {},
   "source": [
    "# **Imports**"
   ]
  },
  {
   "cell_type": "code",
   "execution_count": 1,
   "metadata": {},
   "outputs": [
    {
     "name": "stdout",
     "output_type": "stream",
     "text": [
      "Cosine Similarity b1-b2: -0.39971082824723836\n",
      "Cosine Similarity b1-b2: -0.3283980118771736\n",
      "Cosine Similarity b1-b2: -0.4343392279125446\n",
      "Cosine Similarity b1-b2: -0.3556753325971033\n",
      "Cosine Similarity b1-b2: -0.25868816236356595\n",
      "Cosine Similarity b1-b2: -0.3282046873655816\n",
      "Cosine Similarity b1-b2: -0.34722643033966344\n",
      "Cosine Similarity b1-b2: -0.35393206801784416\n",
      "Cosine Similarity b1-b2: -0.3328882761888091\n",
      "Cosine Similarity b1-b2: -0.3341682316005257\n",
      "Cosine Similarity b1-b2: -0.02389130901932727\n",
      "Cosine Similarity b1-b2: -0.16105655829265958\n",
      "Cosine Similarity b1-b2: -0.0879007369208663\n",
      "Cosine Similarity b1-b2: 0.09162228538266397\n"
     ]
    }
   ],
   "source": [
    "from gensim.test.utils import datapath, get_tmpfile\n",
    "from gensim.models import KeyedVectors\n",
    "from gensim.scripts.glove2word2vec import glove2word2vec\n",
    "import json\n",
    "import re\n",
    "import PyPDF2\n",
    "import pandas as pd\n",
    "import numpy as np\n",
    "import matplotlib.pyplot as plt\n",
    "from dask import dataframe as dd\n",
    "import plotly.express as px\n",
    "import math\n",
    "from plotly.subplots import make_subplots\n",
    "import plotly.graph_objects as go\n",
    "from src.text_cleaning import *\n",
    "import ast\n",
    "from numpy.linalg import norm\n",
    "from sklearn.preprocessing import normalize\n",
    "from sklearn.feature_extraction.text import CountVectorizer\n",
    "from src.weights import *\n",
    "from nltk.cluster.util import cosine_distance\n",
    "from nltk.cluster import KMeansClusterer\n",
    "import nltk\n",
    "import random\n",
    "import pacmap\n",
    "from sklearn.decomposition import PCA\n",
    "import warnings\n",
    "warnings.filterwarnings(\"ignore\")\n",
    "from src.proj_functs import *\n",
    "from src.projections import *"
   ]
  },
  {
   "cell_type": "markdown",
   "metadata": {},
   "source": [
    "# **Computations**"
   ]
  },
  {
   "cell_type": "code",
   "execution_count": 2,
   "metadata": {},
   "outputs": [],
   "source": [
    "def read(text) :\n",
    "    return text.replace('_', ' ')\n",
    "\n",
    "def representative_speeches(df, nbr : int):\n",
    "\n",
    "    biggest_on_axis_1 = df.sort_values(by=['cos axe 1'], ascending = False).head(nbr)\n",
    "    lowest_on_axis_1 = df.sort_values(by=['cos axe 1'], ascending = True).head(nbr)\n",
    "    biggest_on_axis_2 = df.sort_values(by=['cos axe 2'], ascending = False).head(nbr)\n",
    "    lowest_on_axis_2 = df.sort_values(by=['cos axe 2'], ascending = True).head(nbr)\n",
    "\n",
    "    biggest_on_axis_1['text'] = biggest_on_axis_1['text'].apply(read)\n",
    "    lowest_on_axis_1['text'] = lowest_on_axis_1['text'].apply(read)\n",
    "    biggest_on_axis_2['text'] = biggest_on_axis_2['text'].apply(read)\n",
    "    lowest_on_axis_2['text'] = lowest_on_axis_2['text'].apply(read)\n",
    "\n",
    "    return (biggest_on_axis_1, lowest_on_axis_1, biggest_on_axis_2, lowest_on_axis_2)\n",
    "\n",
    "def scatter_representative_speeches(df, nbr:str) :\n",
    "\n",
    "    a = representative_speeches(df, nbr)[0]\n",
    "    b = representative_speeches(df, nbr)[1]\n",
    "    c = representative_speeches(df, nbr)[2]\n",
    "    d = representative_speeches(df, nbr)[3]\n",
    "\n",
    "    a['color'] = 1\n",
    "    b['color'] = 2\n",
    "    c['color'] = 3\n",
    "    d['color'] = 4\n",
    "\n",
    "    df_join = pd.concat([a, b, c, d], ignore_index=True)\n",
    "\n",
    "    fig = px.scatter(df_join, x='cos axe 1', y='cos axe 2', color=\"color\", hover_data=['text'])\n",
    "    fig.show()"
   ]
  },
  {
   "cell_type": "code",
   "execution_count": 3,
   "metadata": {},
   "outputs": [
    {
     "data": {
      "application/vnd.plotly.v1+json": {
       "config": {
        "plotlyServerURL": "https://plot.ly"
       },
       "data": [
        {
         "customdata": [
          [
           "reilli believ need reset mean come peopl yearold born ireland rais francisco influenti pioneer thinker internet publish compani reilli media began produc comput manual late earli spot mani influenti tech trend ever sinc opensourc softwar wifi maker movement data among book futur look work chang world shape technolog sometim hard pessimist come convinc destini remain human would describ complex econom call action wrap busi book wrap memoir studi classic harvard involv tech revolut sinc could book start point talk univers incom inequ nick made point often appreci whole cycl capit depend peopl thing shortsight approach capit rich richer trickl endgam thatthat idea play observ make whole career name rise fall technolog platform lesson rise fall societi platform creat valu particip flourish start take much valu exampl thatat begin career tech industri microsoft tech industri microsoft liber origin part first revolut democratis forc microsoft recreat monopoli suck room sure enough custom went somewher continu book write googl optimis relev work facebook optimis someth slightli differ someth click peopl find engag spend time seen fake news target facebook wellintent incred idealist algorithm becom increasingli connect wider economyi ultim notion technolog elimin respons tell tell goal like googl relev facebook engag massiv goal tell everi compani pursu sharehold valu valu sharehold even mean shed employe commun thing creat incent peopl game systemin fake news show facebook quit right algorithm algorithm manag market could take privat sector within mention idealist streak tech compani make optimist chang need step understand mean practis ideal googl evil thing well think harder funni compani respect regard amazon stuff great amazon keep interest product great admir elon musk jeff bezo favourit entrepreneur alway prais amazon fact consist bold reinvest futur look googl feel like rich peopl work peopl live ever whatev like great amazon think mani compani exist support amazon cloud comput platform invent whole categori alway push lower higher margin feel jeff commit futur peopl thing begin prosper central theme book impact market suggest amazon lead amazon introduc robot also peopl pack product warehous speed deliveri time narr augment worker pattern histori steam shovel could human worker mean human worker busi start peopl back neighbourhood post offic everyon thought show crazi stuff amazon uber revolut urban transport augment direct untrain peopl work equival steam back career proudest realli proud role play reshap narr opensourc softwar seen thing free softwar huge flower opportun open world guess look entir career talk valu generos generos someth past generos someth gener generos thing begin prosper human human natur interest late read book highli recommend chang life russ robert funni expect libertarian account free market great great work theori moral sentiment desir peopl good desir peopl seen good peer root thing human behaviour spent career talk good mayb classic train realm role entrepreneur within steel build skyscrap steel build suspens bridg keep advanc technolog make thing possibl result becom richer technolog entrepreneur find thing previous imposs futur reilli publish random copi guardianbookshopcom call free onlin phone "
          ],
          [
           "expert need mani briton felt bombard warn econom doom ahead referendum becom dirti rough ride last dismiss profess outright spare thought next time find last minut hotel bargain summon cheap taxi ride expert help make away world current account deficit anoth opportun make money come togetherth goal simpl consum cheaper thing produc find effici thing make profit welcom world micro jacket wear professor spotifi fact first enter london offic music stream compani hard find human pile recept touch screen devic announc page chief economist digit brand found decad sweden emerg shortli lead team rewrit yearold rulebook insist industri beat heart alway sell compani latest innov insight dashboard artist manag compani allow mani peopl listen music favourit track crucial past someon album know went till itun download page idea page describ transact busi defin music industri lift content consum monetis spotifi becom success attract rose last though accompani rise payment artist push loss focus make spotifi profit believ insight listen habit could compani stress privaci alway paramount innov like insight help connect artist sometim reach market might otherwis know cite addit last album shape pool sign band embrac face challeng sever front artist believ music alway paid consum access illeg download still valu physic case frontman thom york made dislik free stream servic like spotifi clear brand compani last desper fart corps chang page recent band manag believ citi term listen spotifi said easi london manchest birmingham glasgow york chicago told number chile number four mexico citi mean know four citi noth europ easi ascertain whether knowledg influenc band decis worth note tour date mexico academ background preston mcafe went work yahoo googl microsoft chief spend time manag peopl rest time spent consult intern extern well work microsoft engin smooth problem figur strategi bought linkedin summer mcafe offer insight believ potenti workforc often compani biggest outlay unlock opportun compani make employe happier biggest compon compani human resourc compon understand least chang mean world autom rise robot threaten around accord andi haldan england chief believ human left scrap heap least next decad hear stuff robot take near term think empow peopl compani face bigger challeng threat startup disrupt exist market overnight think corner offic compani worri slam dunk think uber taxi industri custom quickli even destin rocket scienc understand custom surviv mcafe depend compani chang bread butter custom drive jonathan head econom research uber choic flexibl independ word often roll tongu believ variabl work futur join uber februari first compani data scienc team spend time shape polici share idea decis maker experi compani think tradit forc competit becom flexibl find larg employ greater length give employe control schedul optimist happen labour market face autom seen past famou exampl know introduc number teller tripl rather went zero industri disappear alway believ rise popular driverless help push deliveri cost onlin shopper futur peopl differ kind work point point make transact cost deliv someth essenti zero saysbut futur bright technolog alway help creat human alway need oper design mcafe world machin design machin thing might differ heard mass unemploy argument back luddit machin replac never happen time differ first time machin think real differ know "
          ],
          [
           "appl first releas back certainli happi start life problem criticis mani decid howev appl compani like fail sinc origin went live work tirelessli improv last wwdc develop confer francisco appl reveal host major improv make appl user experi better list appl featur introduct live inform nearbi public transport updat tell nearest stop train station well inform correct entranc exit take even whether access stair escal even detail rout plan form transport exampl walk stop catch train nearbi flyover tour popular citi landmark also avail within give user view hundr destin across world appl launch featur insid appl softwar brand capabl grab seat worldrenown michelin restaur aqua shard chapel sketch make easi find look amidst thousand restaur check user review pick best tabl without ever leav even option book uber home without ever leav anyon visit capit also appl locat nearbi bike share option santand cycl electr vehicl charg station polar network also shown servic appl instal activ devic improv updat releas regular basi well push updat appl also announc launch campaign call today appl technolog giant bring dozen educ session month appl store rang topic photo video music code design free programm avail everyon skill level cater session help advanc skill appl popular product includ iphon ipad heart everi appl store desir educ inspir commun serv said angela ahrendt appl senior vice presid retail today appl evolv experi better serv local custom entrepreneur creat modernday town squar everyon welcom space best appl come togeth connect anoth discov passion take skill next level think enlighten experi everyon join "
          ],
          [
           "yearold american busi magnat investor author philanthropist cofound world largest softwar compani back bestknown entrepreneur person comput revolut knowledg comput thing made businessman success take twitter today share import life lesson inspir colleg graduat career advic tweet respons energi bioscienc promis make huge impact would start next success surround right peopl surround peopl challeng teach push best self like american businessman warren buffet measur happi whether peopl close happi differ make even reveal inspir read could give graduat present would inspir book ever read better angel natur violenc declin finish peac time human histori matter think world better want spread progress peopl place mean ignor seriou problem face mean believ solv core worldview sustain tough time reason work think amaz time aliv make gate worth "
          ],
          [
           "wolf name orang spend night bush outsid golden gate park corner soak wife buddi everyon call part francisco home come experi place said orang sport beard pierc multicolour sweater heard summer best thing ever happen happen orang crisscross unit sleep rough three could feel glow later peopl treat actual human unlik anywher sunshin power artist passion glitter also sens etho summer hippi turn neighbourhood countercultur citadel bring back colour creativ conscious happen transform societi sunshin power artist busi owner photograph rori around week easi believ peopl backpack loung bench hold flower store sell handmad jewelri vintag cloth line mingl incens across citi poster psychedel swirl proclaim summer perpetu area lift bath peopl cant afford home francisco come moreit resembl minor miracl time capsul spirit beat poet flower children gather creat paradigm share commun aliv francisco mean wear flower sure bring credit card accept summer histori bohemian idyl merri prankster longer area today global headquart tech commun euphem custom disrupt mean start compani free mean tinder grindr francisco sound refer psychedel rock group world expens unequ citi billionair step sleep shape sidewalk evict yearold woman recent becam symbol gentrif artist writer musician leav cheaper citi even techi sixfigur salari complain rent compani like uber airbnb appropri word share economi euphem perpetu corner summer photograph place hippi subsist acid food handout hipster bowl organ yoga studio subscript place timothi turn tune drop modern mantra click swipe updat citi lost soul said attend summer later help switchboard volunt group succeed digger guerrilla theatr group organis free concert free food free medic care free even free shop gave away store distract sell spoke observ polit rebuf walkin vendor hawk cloth sorri made enough money late cours surpris citi chang half centuri summer cast enchant francisco babi boomer succeed gener around world swirl polit music revolt never manag fulli replic wonder francisco cling citi hold dozen concert tour exhibit archiv retro imageri includ authent volkswagen bead curtain carpet neon blue seat commemor tour trip promis slogan look summer attend summer store photograph rori guardianth fine museum golden gate park host show call summer experi fashion rock roll music poster outfit textil light make feel like step back time still live histori mani influenc still aliv ideolog chang said jill curat like think etho still still aliv francisco still intellectu curiou citi support tech worker engag cultur said troubl afford live citi basic come money silicon valley nobodi laid america tech duffi stain artist selfdescrib hippi gave harsher verdict total differ citi artist left summer spirit extinguish said museum steve promin local poet detect endur trace citi light book store hard glare acceler everyth music innov citi lack music someth realli gone still feel peac hippi thing everyon said power artist nonprofit rais fund clinic shelter date cite citi progress polit defend right women immigr lgbt commun passion yoga summer becom norm power said artist could surviv francisco artist live gave repli tune trump timothi four five busi wolf orang second left sunshin right photograph rori orang homeless acknowledg money troubl overshadow summer recent arriv stood attir said money tshirt like anoth youth request anonym said former softwar coder fallen hard time think want sleep rough overcrowd homeless drug addict crime includ sexual assault sour origin summer octob much influx left remaind held mock funer death hippi mani stay francisco bequeath known legaci omit flower power myth settl poor neighbourhood inadvert displac africanamerican resid today compris popul hippi gentrif wave jazz club disappear said poet francisco continu eras aspect past said someth happen place "
          ],
          [
           "agre manchest fantast creativ innov divers citi sure join welcom exampl factori project spent regener studio amaz creativ space also welcom fact yesterday announc number tier visa avail highli brightest tech peopl also join welcom fact success tech north manchest success stori expand across whole tech nation "
          ],
          [
           "someon phrase women technolog mean perhap pictur highprofil senior technolog figur like sheryl sandberg marissa mayer despit myriad campaign increas divers sector view woman technolog mean remain surprisingli research reveal femal student would consid career technolog first choic explan mani felt enough inform career tech could involv felt tech sector simpli creativ enough realli want close gender need show next gener divers creativ excit sector career technolog alway work tech giant photograph hazel youtub hazel start tradit rout work inhous googleown youtub found nich broke away built profil acknowledg lack understand natur industri dedic skill involv build success career onlin often quit shrewd busi peopl know might seem like make fluffi unimport content awar make content kind thing peopl enjoy whatev peopl think video work gone behind scene even someth seemingli simpl straight camera actual taken time hard work dedic upload regular video handl everi aspect script edit process grade music graphic well upload promot actual process everi singl video promot skill pitch three script upcom film festiv shortli direct seri fullscreen none would possibl spent learn write direct produc content youtub built loyal support audienc technolog creativ photograph lisa technolog creativ handinhand huge number busi owner entrepreneur expertis build backbon busi save costli owner card galleri onlin invit stationeri supplier built busi scratch continu handl code websit digit market inhous initi site basic function would everyth write content imag code print pack arrang courier career background gave good foundat databas manag side thing help enorm research implement shop cart system plugin supplier often surpris much input team want deal technic digit side feel busi involv explain outsourc encourag busi owner much costli mistak busi exampl creativ enterpris reli heavili technolog drive card galleri chang massiv term relianc technolog past need tech background success sarah cofound first playground babi newborn photograph emili sarah cofound first playground babi newborn occur world well servic technolog connect peopl find likemind nearbi background advertis citi broker neither clue creat admit convinc market idea invit join team tech advis took pitch investor help credibl believ idea investor tech basic product explain fact easili understood premis product help market size around world global opportun repres believ parent tech market buoyant lack tech qualif held back advic wouldb entrepreneur enabl like advis allow build product without commit would certainli benefit photograph cofound custom manag platform agre histori degre train advertis commun obviou candid start tech compani attend hackathon chang cofound hackathon idea appli acceler place invest went hackathon basic knowledg photoshop could mock user interfac design last five learn much tech busi realli believ best learn thing thrown deep woman technolog limit conform narrow ideal goodby creativ quit next gener talent celebr divers technolog sector everyth brows guardian sign guardian career latest vacanc career advic "
          ],
          [
           "know thati genuin surpris alway told share birthday much greater success music sell mani album illustri career "
          ],
          [
           "amazon reveal brand openplan london headquart announc plan bring research london sleek shini interior shot show employe enjoy modern kitchen complet coffe machin sandwich maker ceil cover lightbulb entranc boast huge amount space tabl shunt side room recept desk tuck away wall compani also appear taken relax approach meet room workspac comfi armchair around build outsid larg open space garden island bench employe meanwhil amazon chief express desir maintain divers workforc follow brexit internet giant reveal creat research develop london base doug gurr said firm employ larg number citizen statu prioritis brexit talk larg organis larg number citizen weve alway celebr divers workforc benefit huge divers workforc optimist continu case forward said respons brexit comment come fear grow skill shortag sector like tech sever european union continent talent deter amazon expans plan firm announc headcount shoreditch head offic take storey princip place build total squar feet role includ softwar develop engin expert data analyst graphic design work build technolog amazon video servic fresh recruit drive mean amazon corpor research develop role capit across three offic shoreditch holborn barbican digit matt said great news amazon increas invest develop cuttingedg technolog london anoth confid worldlead centr creativ innov firm said invest sinc track bring total headcount perman employe london world truli great citi home talent creativ peopl planet delight provid team innov purposebuilt workplac gurr "
          ],
          [
           "abid problem write digit technolog avoid sociologist call sociolog last five minut someth technolog reduc collect attent span wind obsess next iphon travail uber facebook weaponis russia samsung smartphon mostli breathless search call thing becom digit technolog compani control exploit accordingli find genuin difficult judg whether particular develop realli someth unpreced contemporari variant someth much exampl consid amazon gone onlin booksel everyth store besid process bricksandmortar shop busi turn book gateway drug peopl idea shop onlin last coupl amazon open shock horror bricksandmortar book store gone bought whole food market upscal groceri chain reduc exorbit first whole idea behind amazon could much effici reduc elimin cost physic store take step back possibl pattern amazon found creatur turn creatur internet broadband technolog thing brought highspe connect almost everyon product first internet boom compani went bust build broadband back centuri find similar cycl left unit railway system earli creatur infrastructur firm call sear start sear market celebr catalogu everyth store techniqu amazon sell stuff small margin build huge warehous manag formid logist busi success corpor histori sear someth extraordinari open bricksandmortar store rest histori except histori sober peak sear store fewer world follow hero villain tech industri face bipartisan backlash interest histor parallel evok news facebook plan creat urban settlement describ integr villag provid much need servic transit solut well offic space part vision creat neighbourhood centr provid commun servic plan build squar feet retail space includ groceri store pharmaci addit retail begin word reviv anoth capitalist idea compani town articl call facebook founder mark zuckerberg remind anoth eponym town illinoi town creat railroad mogul later absorb citi creation write lucr probusi utopia fill satisfi particip employe investor alik veneer inde shini amen promis yard garden indoor plumb trash remov rare industri worker time garden shop centr equip barber shop dentist offic slew overpr retail offer vanguard capitalist dabbl luxuri turn googl think along similar line even wellpaid employe find silicon valley unafford marx right histori repeat enter farcic phase "
          ],
          [
           "instagram kevin systrom mike krieger went stanford point knew want someth entrepreneuri idea come california surround mani peopl entrepreneuri ventur water inspir think kevin interest entrepreneurship even earlier high make reconnect univers interest build product help peopl connect tell stori although know product would quit knew want pursu someth took nine month found thing actual make systrom good realli well seven busi still close good best think best would spent much time busi also balanc time stress calm vice versa therapist cofound happi accid also complementari skill bring technolog engin side bring product sens design also great work investor today great work across differ depart facebook instagram sold facebook like focu technolog side work want thing demonstr global traction least initi interest built product call predecessor instagram locat checkin also allow user share photo prove popular featur think rais financ product secur seed fund coupl hundr peopl realli passion user stori realli mental check list differ risk product might face founder risk right founder execut risk market risk need remov impedi investor mind earli possibl product learn look dream someth alreadi coupl hundr peopl think made differ rais hardest coupl even last half seen product major evolut sound like silli exampl squar photo actual deal chang feed stori instagram featur launch allow user give overview event pull togeth video photo short resist chang product come staff conserv chang scari feel like drive could cliff instagram still make differ take leap faith make chang wrong roll back decis could make could total tank compani learn decis feel realli hard necessarili mean right mean take right kind much lost sleep earli took toll advic would give tech think abil make thing super import fair amount peopl incred idea great even better pair abil prototyp today resourc around build acquir skill earli possibl develop proudest facebook enter growth phase person compani team hundr everi month meet everybodi togeth talk next month rememb meet screen video show impact instagram across world look around everybodi proud creat work realli special point readi person work busi fact make transit mean instagram user follow least busi advic would give entrepreneur creat busi profil entrepreneur access analyt insight audienc time instagram learn valu data instagram want bring peopl secondli entrepreneur varieti differ instagram tool tell stori instagram feed also experi stori even post live bring audienc along view busi whether behind scene anyth done would hire much faster much lost sleep earli took toll health probabl relationship also took comfort make chang product disrupt krieger spoke instagram entrepreneur becom guardian small busi network advic insight best practic direct inbox "
          ],
          [
           "brexit receiv boost today facebook open largest engin outsid london today bring anoth capit facebook chief nicola mendelsohn said invest show commit ever philip said confid meanwhil invest fund reportedli pump creat larg biotech compani tori lead brexit jacob reesmogg told mail onlin surpris prepar leav european union becom even attract place invest facebook squar foot offic open today place bustl oxford central london half staff offic engin provid highskil mendelsohn vice presid facebook europ said flourish entrepreneuri ecosystem intern reput engin excel make best place world build tech compani weve built compani huge part facebook stori past decad look forward continu work achiev mission bring world closer togeth chancellor visit offic today birthday said want congratul facebook open london offic best place start busi also best place grow sign confid innov compani like facebook invest terrif news hire highli skill worker next trendi offic design frank architect behind museum spain also includ incub space startup london mayor sadiq welcom fantast announc launch compani incub play crucial role attract vital talent london help pave next gener success startup meanwhil financi time report life scienc fund base across pond biotech compani unnam investor move signific chunk oper across atlant announc major boost theresa said want world biotech industri "
          ],
          [
           "past month life paid bargain month sleep diagon bunk room share sleep diagon accommod could make night without life hacker housein juli last left home comfi suburb washington make mile drive francisco mother along ride graduat colleg clich stori pursuit tech dream leas high rent area usual secur leas without offer well exactli come easi went reach kentucki receiv call look hacker said place bunch tech peopl live hack build stuff never heard hacker descript vagu sound cool enough night around found zoom favorit pride commun offer movi theater workspac kitchen weekend activ tech steep share bedroom would live heart downtown crazi smart engin appli follow email roll kansa director happi want speak shot worri look come east coast gener fear everyon francisco would obsess selfhelp book feel howev three away home repli late night kansa hotel interview skype director happi mike pretti nervou look normal standard want live would contribut built past kept answer said goodby follow morn receiv email accept time rent francisco hour mike move curiou mother decid drive pretti purpl citi build south market neighborhood regard onlin magic place live stoke drove sixth magic land read instead litter trash dispos needl urin mother horror convinc could leav preciou cargo mayb mayb wrong address clearli show room open door surpris thrill setup yearold softwar engin room smell sport clear view monster structur would come know salesforc tower soon francisco tallest skyscrap stand tall tower luxuri stood symbol glori opportun seiz silicon valley reason night make first dinner open cabinet door spice caught glimps sparkl cockroach sens worri meth startup itselfth found exgoogl name alon nicknam controversi charact name danni oper cutthroat mindset effici persist startup would fine except francisco pretti sensit subject rent inflat gentrif driven tech move soon learn sixth gentrif debat tech utopia francisco gospel mission nonprofit mission homeless peopleth build photograph controversi start fill room still construct januari great emphasi commun slogan like clean getgo establish tech entrepreneur design engin live place spur technic discuss motiv sometim inspir sens close tribal brotherhood founder pull strategi colleg fratern filter recruit noah softwar engin live three recal interview process pier complet pitch dark pull uber abandon warehous uber driver look good think suicid nope find somewher live call danni abandon warehous tell around back walk total dark water right next like kill sure walk like also appar interview sketch seri interrog interview test scream founder nicknam lung could interest experi anoth earli tenant also pier experi reminisc like real startup peopl alway construct never water special kind person live focus build compani share similar thought earli much figur kind place show like room like find first move pile mattress peopl pick enough everyon stori peopl legitim sleep cloth despit thrive tone person sacrific name entrepreneurship defin moment salesforc host hackathon competit engin compet creat product scratch hour compet larg number engin finalist prize money move check still cabinet tact impress potenti resid type peopl receiv entir salari bitcoin back trade busi earli stage tech startup fund notabl come hang time talk cool compani invest ethereum altern bitcoin boast market move knew noth begin tenant fact pretti content longer construct actual mattress water flow live room sport mural ping pong soon becam appar glamor current presid formerli titl director happi live luxuri pingpong tabl room small shower microscop door fell hing bunk ladder snap half shower head would vanish light work cockroach certainli outnumb solut manag best gush post facebook group date back tell stori post anonym septemb help second cockroach found cabinet want touch post anonym januari sinc seem cockroach propos start repres januari pest control come wednesday make sure cockroach histori later sent messag pictur facebook think cockroach problem solv salt dinner photograph contrast life outsid front door sound luxuri someth sixth tenant would avoid best experi howev differ live sixth work commut pass hourli hotel food kitchen clinic needl exchang daili occurr would drug sold peopl poop crack smoke peopl stiff board heroin needl still offer drug chase nake peopl yell breakin countless fight dial four time peopl unconsci attack peopl twice scar attack meth harrow experi would night bedroom window face alley uncommon fall asleep monoton sound scream hysteria someon lose grip realiti drug involv commun least tenant work appl organ volunt local food kitchen everi sunday month probabl join differ peopl volunt pointit peanut light problem effort show assumpt move commun softwar engin absurdli smart painstakingli awkward correct smart surprisingli awkward first week rememb call back home dude code play guitar cultur alway chang peopl move mostli though univers defin tech entrepreneurship open intern dynam realli interest realiz peopl live women repres sampl tech industri hookup roommat happen uncommon still seem serv consist spawn ground legitim romant relationship alway cute cozi dinner photograph sport heavi cultur defin stay move four startup basement fifth work research paper consist work hour week would break mario kart subway crazi enough tenant know work fulltim neither compani work awar first month unemploy time woefulli seek incom built daili ritual togeth kitchen tabl sunset sunset roommat would come home code reliev tranquil launch seri activ card game explod kitten show like rick discuss elon musk latest everi singl resid sort project craft outsid standup comedi make music build build game build becom photograph though hustl alway lead result incom catch earli tenant begin tell stori make everyon hear rosi tell stori major peopl everyth right work still leav citi month broke crush dream month alway three four peopl tread water hardli breath everyon make startup compani talent worker thrown surviv good women tear save stale leftov food commun live seen sixfigur softwar engin someon pizza advers everyon made experi attract first move august plan move three month instead stay entir warm memori thanksgiv host person famili dinner roommat mike said think benefit peopl live make numer lifelong someth hard come mani adult colleg realli grate live reason altern lifestyl wish peopl would give happen find sixth somewhat sunni francisco look pretti purpl build gate ring doorbel sent "
          ],
          [
           "great modern hectic live increasingli difficult give attent deserv without someon never need feed walk worri tear mayb soni bring robot back japanes electron firm pioneer home robot announc decad robot canin return shelv artifici centimetr hound flap tail behav like real except canin instinct learn interact owner surround upgrad pack array sensor camera microphon internet connect well advanc back cloud comput develop much window photograph screen display divers rang emot camera nose snap photo bigger chang improv actuat technolog allow move smoothli natur like real recognis owner detect smile word prais learn action sale januari japan foreign sale announc come soni confirm renaiss forecast profit financi send share surg nineyear high part compani attempt rekindl pioneer prowess pioneer entertain robot june sell initi batch minut ship around japan ceas product seven later core consum electron busi struggl emerg asian chief execut robot photograph imag difficult decis stop project continu develop robot chief execut said news brief engin half develop strongli believ robot capabl build relationship peopl help realis soni mission inspir soni said sell least mani origin without give timefram pillar futur growth catch like alphabet googl appl facebookin invest undisclos usbas startup focus technolog allow machin learn continu autonom interact real world soni also establish ventur capit fund build partnership research startup compani soni educ launch first product teach children code build program robot plastic block mourn robot truli human "
          ],
          [
           "thing infuri arriv home sorri miss card wait hour deliveri report last estim fail deliveri cost retail mention frustrat inconveni custom happen shower doorbel problem cofound ding john inspir someth wife busi make product prototyp entrepreneur began develop list idea simpl everyday thing forgotten doorbel list idea make product forget suppos technolog better ding photograph ding design product look like modern doorbel button connect chime insid wifi turn connect phone alert like skype whatsapp call answer call allow talk directli person door anywher worldit simpl idea potenti deliveri also live disabl home children anyon might find difficult door quickli need someth allow live kind ondemand lifestyl next step product door peopl home whatev happen john favourit moreth doorbel compet fastgrow smart home technolog market sector estim worth rise demand smart energi meter fridg virtual assist amazon alexa googl start award fund design spark programm follow join john acceler caught compani director marsh describ ding perfect product intend stock doorbel releas later success campaign kickstart indiegogo pick preorder deliveri expect august recent launch equiti crowdfund campaign rais alway challeng market matter rout take benefit kickstart crowdfund site sound board idea chang made base feedback featur prioritis popular demand often chicken situat ventur capitalist decis crowdfund third time invest want sell product first need make product need gener interest prove market follow quickli enough make sure product product launch ding gener buzz alreadi design award credit success reput industri collabor cowork space compani current base help boost profil keep moral high great network peopl differ excit project learn small busi internet plan launch product smart home space particularli home secur deliveri interest architect properti develop someth commerci either flat apart offic build like door entri system around deliveri system smart lock open home peopl nervou open entir someon look deliveri solut well could open deliveri subject collabor make busi part coupl admit everyon insist right path rather separ work live deal tackl everyth togeth spoke recent quit nice said time probabl wors good time better could said entrepreneurship alway someth want someth lightli give freedom explor chang thing sign becom guardian small busi network advic insight best practic direct inbox "
          ],
          [
           "pleasur follow jarrow doubt live period profound chang creat digit revolut therefor welcom chancellor announc budget invest skill technolog equip give confid rise challeng feel confid throughout histori pioneer chang rippl across world advent steam engin invent internet good embrac chang start dotcom boom spent work tokyo develop chip enough memori enabl digit card phone technolog develop time smaller chip iphon today rate progress digit phenomen continu global tech support driven finest academ institut world bold busi challeng norm chichest home rollsroyc stateoftheart technolog manufactur engin masterpiec even includ electr rollsroyc constitu also home fresh food industri seen firsthand robot ensur perfect grow condit herb salad move packag technolog alreadi impact busi chichest achiev full potenti need integr plan embrac educ primari eightyearold learn basic code secondari tertiari includ math digit skill stage anybodi local comprehens school liverpool social mobil tech chichest univers technolog engin design creativ technolog combin ambit clear invest scienc highest level chancellor also invest infrastructur develop fast fibr broadband network import talk advanc technolog must baffl constitu struggl stream music even download film leav must flexibl innov side centuri competit advantag thank geographi languag time zone institut includ stand work tech know make attract busi trade technolog head start host world data flow alreadi well develop platform part expand tech citi tech nation welcom budget industri strategi optimist futur economi invest longterm success nation industri technolog includ construct importantli peopl skill need secur futur prosper "
          ],
          [
           "hightechnolog seem overwhelm world right good five valuabl public compani planet alphabet amazon appl facebook microsoft american tech firm peopl quarter global popul activ facebook everi month unlik europ begin wrestl seriou issu privaci monopoli pariti among free historian silicon valley know decad research problem well great success shadow book troublemak gener silicon valley upstart invent futur chronicl narrow strip peninsula south francisco transform obscur region singl technolog core birthplac five major industri person comput video game modern ventur capit biotechnolog advanc semiconductor logic essenti rise today eight favourit book shed light american technolog offer glimps might head histor book share theme singl compani technolog person deserv credit invent success launch look forward wari socal futurist turn fiction airlin reserv sonic hedgehog make phone seem magic amazon googl twitter facebook softwar oper half compani ventur capit fund book trace histori industri open charm descript typic trace interact softwar comput make coffe next take reader back softwar birth airlin reserv system offer fine analysi right microsoft antitrust case turn centuri would sequel paranoid surviv andi grove greatest guid technolog becom busi tech industri greatest manag grove huge influenti success intel pioneer microchip compani describ compani teamwork among employe measur everyth impos disciplin featur sens harbing today manag practic book also share great stori favourit detail grove board gordon made wrench decis abandon compani core memori busi focu microprocessor today heart intel success begin biotech salli much chip comput softwar book base extens histori crucial document among first show rise silicon valley stori biotech firm grip stori collabor pushback among academ scientist ventur capitalist global popul terrifi entranc possibl call genet engin super true stori gari first fiction pick novel near futur book publish alreadi feel like blueprint work fiction charact never without electron devic wear around neck tell peopl place encount tell includ target advertis jean score substitut virtual real imag word call right await dream machin revolut made comput person book histori birth internet interact person comput thcenturi technolog visionari earli push easytous comput connect offic pentagon philosoph import earli sourc fund behind movement make comput interact could help peopl think amplifi hightech detail replica charl differ engin forerunn comput photograph antonio observ soul machin traci classic account data gener effort build cuttingedg comput compani known darth vader comput industri fade memori book remain best account life hightech firm written phrase hightech firm enter public lexicon never busi tale suspens chart race data gener greatest rival digit equip corpor tension among differ divis compani unforgett person major player classic anoth work fiction time sciencefict novel colleg first time read comput desk network printer attach account exil place call cyberspac peopl global comput network experi simul realiti pure fantasi today cours idea obtain realiti sort work geniu includ film matrix debt masterpiec fire valley make person comput paul valley titl silicon valley tell much broader stori open charl differ engin first decad centuri famou compani appl foremost among real gift book remind ecosystem club newslett magazin technic swap meet incident meet person comput rise note worth track first edit find detail except rich ultim histori video game pong pokemon kent great stori histori noth beat ultim histori knew pacman origin call puck someon realis would easi vandal chang video game industri bigger movi origin shadi world gambl pinbal possibl mafia connect kent book supplement academ analys anoth work would updat present work mother ironi household technolog open microwav ruth schwartz cheat sinc technolog tradit hightech good mention great look work maintain household becam woman respons centuri industrialis central argument clean technolog advanc mostli replac work done servant time standard cleanli rose result amount time women spent clean remain constant even increas troublemak gener silicon valley upstart invent futur berlin publish schuster avail guardian bookshop includ free "
          ],
          [
           "differ today huge declar yearold resid southwestern provinc capit like differ earth nestl among mountain peak typic known poverti innov child poor went grandmoth villag villag food rapidli develop citi plan reinvent technolog attract thousand techsavvi entrepreneur weeklong expo draw name open data centr embrac selfproclaim nicknam china data valley china growth gener power tier eastern citi post econom growth among china provinc last rank best perform citi institut miss invest opportun mean miss today china tech poster child peopl live built electr water hour drive district suburb design strateg heart technolog aspir foxconn plant among first open pack hundr employe brandish smartphon centr besid newli built road line bicycl newli built industri park public transport foxconn among first arriv come incent support lower cost help draw compani includ microsoft huawei hyundai motor tencent qualcomm alibaba partnership india profession colleg electron agre data park compani jointli develop health technolog sever univers explor collabor project invest increas creat capit chines provinc highest number peopl live poverti photograph helen mark chang establish pattern econom growth china overwhelmingli base around eastern growth corridor beij shanghai southern citi shenzhen shanghai alon grow averag annual rate past popul soar cost afford china increasingli third data expo latest opportun market benefit alibaba announc launch block data centr public secur bureau tencent showcas augment realiti unveil recognit data invest almost last landlock provinc growth also muchneed infrastructur modern railway station intern airport anoth highway train track plan complet also effort boost tourism draw intern visitor accord offici mani domest growth inevit transform life citi resid programm improv peopl resettl home lift peopl poverti last alon road bumpi narrow rememb live newer residenti district transport conveni peopl live built electr water well seen resid citi photograph helen roxburgh come famili poor alway hungri need worri food everyth much better husband join commun choir everi sing song park play feel happi grow citi also show success draw talent offic administr yang studi prestigi beij univers complet master degre hong kong come back nativ find today citi child live small built side mountain father ride bicycl take school often look bookstor school although book afford graduat good univers peopl often come back small town intern compani confer opportun time lectur normal univers agre origin move back shanghai father decid like lifestyl stay even compar mani compani public familiar brand shop mall tall build empti road district plan becom heart tech photograph helen cheap around yuan month central apart compar fresher lush surround countrysid also teacher jerri chose beij pollut concern afford salari similar beij suck cost live much cheaper eager talent peopl crane road howev much done rebrand district current enorm build site maroon surround countrysid recent survey worst chines citi traffic skylin domin crane roadwork particularli around financi citi district although impress citi museum difficult catch actual open even short walk citi centr disrupt road block construct work close also remain seen whether draw china best tech brain establish like beij stateback china silicon valley technolog compani sinc expert warn mani compani fight nich express concern enough talent pool peopl know technic data warehous data cloud enough peopl actual understand applic human tech wang cofound consult constel data problem china global industri lack peopl understand social implic kind data track china sore lack peopl train technolog captur mani peopl train analysi interpret requir think outsid china ghost citi sand come district also need prove spread wealth home impoverish peopl provinc resid live less china nation averag accord chariti around half villag women work illiter villag remot mountain region face challeng scare land resourc soil degrad flood limit access drink water healthcar issu develop project china distribut benefit sarah roger research univers melbourn develop tend close counti town typic poorest peopl live ultim target local offici past poverti someth nobodi realli care much jinp target local level meet target troubl also local build thing system design less tangibl thing like train sustain measur realli neatli local polit system provinc middl class shake find three good weather three good road famili three silver coin urban chang feet local mind disrupt caus roadwork construct final citi guardian citi twitter facebook join discuss explor archiv "
          ],
          [
           "londonbas compani design make comput anyon build latest lineup typifi mission tech featur machin current cost accessori perform includ track sensor light board dazzl pixel design game connect real world data kano portfolio peopl make digit democrat inclus entertain creativ curiou whether explain cofound alex klein endtoend comput compani whose tech simpl build shape devic hold expens laptop allow someon creat technolog discov code simpl step storytel physic comput play kano global commun span spawn differ kind comput compani porou wall line code share klein feed develop physic build screen camera open code world game music interact onlin busi chose complet system strategi believ solv problem technolog passiv consumer continu parent teacher everyon need someth made someth engag ultim know insid control swipe comput engag averag hour first month alon user play possibl technolog began challeng klein make comput simpl lego recordbreak crowdfund launch compani sold process make program digit literaci access least connect welloff kano first part benefit launchpad amazon programm design product recognit global marketplac help ecommerc expertis market could tell stori reach custom expand brand review especi help develop klein whose founder saul entrepreneur scratch comput approach prove appl cofound code steve wozniak give thumb musician nile rodger daft punk tenni novak djokov come board workshop busi forg partnership notabl obama educ institut lead investor ventur capitalist billionair busi heavyweight sorrel sherri compani employ opensourc compon chain china manufactur latest comput brain raspberri model fast market refresh design hardwar hard reflect klein startup begin weav togeth physic compon lowest possibl point workshop languag recent fund round invest softwar cost continu drive lower barrier also show silicon success london tech enterpris citi find attitud favour longer term think rich pool talent colleg ramp mass retail store global compani plan extend reach partnership platform team studio launch region languag product well help nurtur engin next gener land goal kano klein give peopl enjoy understand world around work express feel control futur busi name inspir kano father streamlin modern martial judo also mean make greek teacher tech fear slayer social bridg reason kano look keep multipli wherev world amazon launchpad programm design help startup innov product market custom across world sinc launchpad work ventur capit firm acceler crowdfund platform help firm "
          ],
          [
           "doug gurr said firm employ larg number citizen statu prioritis brexit talk larg organis larg number citizen weve alway celebr divers workforc benefit huge divers workforc optimist continu case forward said respons comment come fear grow skill shortag sector like tech sever european union deter amazon expans plan firm announc headcount shoreditch head offic take storey princip place build total squar feet role includ softwar develop engin expert data analyst graphic design work build technolog amazon video servic fresh recruit drive mean amazon corpor research develop role capit across three offic shoreditch holborn digit matt said great news amazon increas invest develop cuttingedg technolog london anoth confid worldlead centr creativ innov firm said invest sinc track bring total headcount perman employe london world truli great citi home talent creativ peopl planet delight provid team innov purposebuilt workplac gurr "
          ],
          [
           "time realli chang welcom wacki world chri whose staff call best boss spent turn workplac multicolour palac absolut insid compani list victorian castl cotswold star cinema free popcorn meet room design cave lodg downton librari secret passag playstat tabl footbal pinbal machin around ceil psychedel board room neon quot fall castl wall certainli castl recept area mass lush work area kaleidoscop colour orang paint everywher crazi photo happi hamster wall grey steel condit vent given coat vibrant pink paint carpet tile produc startl rainbow effect photo sooth forest scene bright colour cartoon comic graphic previous drab neglect offic area even inch screen toilet individu theme rest pink palac would place five star hotel gent urin shape like roll icon whole extravag look work design laurenc star chang room think boss taken leav sens think deadli seriou purpos behind magnific makeov near gloucestershir look team paramount valuabl asset chri founder boss comparison websit amaz physic environ small piec jigsaw creat great place work team truli feel valu opinion listen feel empow worth perk benefit offer perk pretti remark mani compani give free coffe moneysav voucher chri offer employe holiday abroad destin includ florida york copenhagen bonu cent salari perform staff also given donat chariti choic nearli forgot free beer well monthli social event chri live nearbi cotswold villag wife three children work softwar programm oracl tech giant left lightbulb moment thought seriou money busi could probabl earn earn work spare bedroom built websit list loan save account deal traffic grew trickl advertis site differ site variou financi product soon realis much plate shortterm project want longterm game later launch comparison websit eight grown staff seven turnov region profit plough back castl start month project employe miss current offic want coffe machin rais desk could stand next rather agre want offic burst life energi exactli chri brought person trainer need someon could think outsid first decid build busi outsid london knew recruit tricki eight lucki enough built team best class individu next search king queen tech plan grow team anoth cent castl might seem like extravag base modest compani chri insist realli costeffect choic compar squar feet space london much "
          ],
          [
           "appl camp outsid compani flagship london store three iphon went home empti today reportedli blew money casino unfortun name front queue regent join realiti star marco pierr thursday peopl queu wristband allow hour away line time manag blow iphon money casino accord pierr result pierr celebr chef becam first line phone despit alreadi home said number queue enough money back home oversp casino last night first appl mileston devic today custom back storag model whop storag model expens phone user also treat appl newli upgrad user interfac transform iphon experi "
          ],
          [
           "earlier summer justin notic number hackathon seem trail around silicon roundabout east london area tout answer californian valley home technolog giant googl facebook last least everi weekend might month said freelanc programm regular design event coder often bring contact doubt mind declin event symptom brexit activ slow mani startup rein back spend amid uncertainti econom outlook also fear attract intern talent need preserv london mantl europ preemin technolog week fear increas claim startup longer access singl biggest sourc invest fund ventur capit fund report european invest fund turn commit chill palpabl meet entrepreneur thursday near market minut walk roundabout entrepreneur startup founder servic provid huddl around mobil phone embryon expect brexit honest left wonder london good place said profession background oversea disast manag part team earli stage develop translat tailor chariti worker project theori ideal citi histor home mani global programm justin note activ sinc referendum last project wonder happen later want fund exampl want oper across europ born belgium czech turkish belgian heritag also typic mani european worker feel much less welcom right feel everyth brexit role cornerston investor tech startup would replac uncertainti flow develop engin foremost concern figur lead invest firm probabl money avail ventur capit earlystag tech busi ever biggest concern talent front said brigg partner ventur ventur fund focus tech compani global ambit stop magnet best talent univers stop attract best comput scienc engin undergradu across europ clearli startup suffer smaller talent pool fish mani best smartest scandinavian german move london certainli stop think probabl slow uncertainti anecdot know compani hire peopl plan come london peopl decid take berlin instead exampl money front ventur capit firm remain europ richest sourc come fuell tech startup role frequent crucial last support small mediums enterpris sign agreement would provid support fund moratorium lend project case dilig need thorough take account wider rang factor ventur capit fund reportedli recent rebuf fund includ ventur episod ventur initi backer startup propos nation invest fund could help fledgl busi welcom tech citi stateback organis support thousand digit tech compani chief execut gerard call clear backup plan timesensit issu import consequ maintain confid tech sector saidther concern europ includ citi cast rival london florian found partner project ventur capit firm invest earlystag european technolog startup said note slowdown commit ukbas fund howev moment part restrict next fund still backer invest ukbas startup often limit impos activ definit slowdown even delay back meetup emphasis london endur attract good place hard place live especi someon everyth project also maintain famili berlin nice alreadi place like slovenia offer benefit entic peopl reloc probusi atmospher link market said whose translat text amus brexit goal slump alreadi valu invest compani came dollar account lose valu futur expans would requir pool skill intern worker want oper place need personnel specif languag peopl portugues spanish need peopl "
          ],
          [
           "spiegel snap yearold cofound reput play nasti play nice work rich next month snap owner snapchat public york stock exchang cement spiegel cofound bobbi place rank tech backstori mani tech biggest name start dorm room stanford phenomen growth twentysometh colleg dropout founder blah blah blah might sound like share sale differ could mark turn point tech sale futurei snapchat facebookread road sell snapchat stori investor london pari york part stori must sell compani look rais eyewat initi public offer earli investor maintain control compani want snapchat tech titan notabl googl facebook gone public retain control compani even googl twin mark zuckerberg sell wall keep pachter wedbush analyst compar situat twilight zone episod good life town live fear sixyearold power abil banish resid ever think anyth offend realli moral corrupt invest banker tell want hear back invest banker honest opinion best corpor would investor morph sinc googl geniu insecur founder utterli convinc vision appropri creation want make sure aliv involv compani vision challeng saidif wouldb investor snapchat stori spiegel geniu pachter reason sale success earli sign retail investor especi younger clamour appbas free trade boast trader survey custom last week found definit interest snap think peopl pump said cofound said custom tend younger averag broker given demograph snapchat user user anticip ever investor line piec snapchat like consequ success sale control remain peopl snap fiveyearold compani start life differ messag disappear short interv least suppos filter allow user morph face voic everchang array option gener seen illconsid social post snapchat offer less perman share spiegel analyst compar posit episod twilight zone photograph servic found audienc peopl snapchat creat snap averag yearold user spend minut servic user media compani celeb brand short video stori attract daili activ world gone mobil amaz number growth slow recent yearonyear facebook copi mani snapchat featur snap revenu grew loss also mount almost investor morph geniu pachter invest someth everyon snap sale compani could facebook twitter lost wall interest month wors still could total bust facebook rapidli copi mani snapchat move servic last investor realli yearold california lawyer grew pacif glitter angel enclav east drive ferrari date swift live girlfriend model miranda glamor life carv equal display talent chutzpah former best snapchat cofound fell partner eavesdrop plan oust nasti legal tussl paid walk zuckerberg start make play snapchat suggest spiegel come visit facebook sprawl silicon valley headquart receiv messag spiegel return offic copi employe next shock tech world emerg turn offer facebook compani peopl world build busi like spiegel told cover stori think trade shortterm gain interest spiegel right interest spiegel skill snapchat earli investor bunch would hard impress spiegel impress snapchat prove right back walk away sale snap class stock share worth control share rest share benchmark silicon valley investor count uber twitter among class share anoth ventur capit firm staff execut includ lynton britishborn former head soni pictur snap fraction highli valuabl percentag lynton wife jami alter becam earli investor compani daughter come snapchat spiegel make money perhap emerg steve zuckerberg gate perhap perhap money investor rememb keep opinion "
          ],
          [
           "theatr matter everi chanc actual work theatr kind latenight solo drink soul bottl wine search theatr matter work theatr money eventu convers cheap free though probabl mean world nintendo switch still need theatr entertain sort natur evolv know must speak nation listen moreth answer cours still theatr reason advent novel kill play advent film kill human share stori give opportun respect escap better understand world around read novel peopl differ engend empathi watch film boost feel group bond theatr feel live share experi like cross want experi bath sometim want share experi bunch stranger dark live busi complic world everi chanc read public transport snatch minut away email hard carv time interact form without check phone occasion screen sever thing make less effici brain theatr demand complet attent least caught phone kevin spacey might shout cultur demand continu remain reach email access boss spend time dark told stori suspend disbelief peopl know defiant selfcar mani theatr matter type theatr grand show find nation theatr intimaci experiment work small room edinburgh fring festiv excit wander stair back know find theatr like good exercis escap empathi adventur food soul might laugh might either share someth stranger increasingli divid world feel avenu london mani theatr matter type theatr blockbust show intimaci experiment work photograph alan industri theatr still massiv problem although genuin excit peopl work hard issu gender inequ represent race disabl class stage better reach make everyon feel welcom thing excit theatr need camera larg budget huge amount space somebodi somebodi watch access form beginn brilliant student drama amateur dramat profession theatr need better energi week compani work clean break took short play creat theatr women experi crimin justic system week mark anniversari corston report incarcer women recent prison resid women event could policymak politician realiti prison woman ukth short play brought base actual word actor began perform women women would prison pass best theatr bring thing peopl stori place life never time import "
          ],
          [
           "speed capac happen jeremi clarkson slug produc effect kill gear closest guest came spat mayb waiter pilgrim guest often curiou certainli busi blue plaqu laugh hang pair blue jean mark spot sure clarkson would make certainli approv driven across yorkshir tough someth discord volkswagen offer buyer pickup creator belov beetl peopl hippi intimid brute last redoubt urban even name anorak mayb rock insid stori interior comfort pickup busi farmer builder also lifestyl surpris want slice pickup well sold sinc initi launch back latest version less cari decent road manner still pack prodigi offroad punch room five adult comfort cabin actual echo load enough carri guess fridg four cano sofa entir content also vehicl problem rough pickup smooth citi saloon believ mani spot london week drove drive urban area make stand like convent term practic hard beat allnew litr diesel drive system link auto also offer version manual offroad mode electron differenti lock help find traction scale steep inclin degre wade water cabin basic comfort emphasi durabl plenti tech includ infotain system clear touchscreen satnav smartphon connect live wilder live citi grow upkeep road ahead head display augment head world first augment drive devic hardli catchi descript gadget groundbreak augment realiti technolog project inform directli windscreen pilot style appear road ahead mean look forward stay project transpar imag directli line sight depend want scroll call messag notif email music diagnost inform keep firmli road feel natur also incorpor gestur accept call wave special engin dial advanc softwar control phone avail preorder amazon learn visit prepar takeoff huge benevol fund support raffl lucki winner aston vanquish arrow prize certainli licenc thrill definit raffl ticket dame judi photograph adrian dame judi team benevol fund lead welfar chariti offici open anticip raffl lucki winner drive away rare aston vanquish arrow limit edit actor longtim support chariti delight first look even find time give quick wash ticket chanc worth money rais directli chariti support past present personnel cambridg commiss vanquish arrow uniqu tribut royal forc team kindli donat benevol fund celebr icon histori engin except craftsmanship unforgett drive experi aston icon arrow brand vanquish arrow boast number special featur echo arrow includ flash side complement blue carbon raffl part ongo drive ensur chariti continu vital work support current former famili time need sale raffl ticket provid veteran compani popular benevol fund lunch club contribut send former veteran cours support return civilian bought directli benevol fund websit show event across summer raffl open decemb draw take place decemb email follow twitter "
          ],
          [
           "antonio seen futur terrifi home drone room right small island north seattl live ravag selfsuffici compost toilet rifl like survivor seen unimagin horrif thing product manag facebook violent revolt tech overlord mention pass build camp rest normal sleepwalk toward apocalyps post instagram pictur recent airbnb stay back selfdriv uber first episod secret silicon valley sunday sober look tech chang societi quickli industri revolut noth compar come tech geniu jeremi whose artifici intellig softwar probabl replac doctor arriv screen skateboard four wheel seem neat symbol redund present technolog writer jami bartlett beard seem analogu compar hoodi inventor ventur capitalist meet tell anyon wisdom head finish chill dystopia bartlett visit silicon valley mansion engin mostli idealist vision invent revers climat chang anoth come burger tell silicon valley inhabit make world better make dollar process mutual exclus airbnb execut claim connect peopl across world help peopl earn money rent effect push cost local citi barcelona uber someth vagu chang save world programm show affect livelihood taxi driver wors claim india three uber driver kill bartlett emot interview widow fallen brand bartlett idea scrappi startup challeng good rather corpor realli problem excit truck driven mile along highway comput program incred diagnos diseas scan fraction second redund truck driver radiologist inventor selfdriv truck invent even imagin skateboard forese disast massiv social turmoil peopl scare enough unrest thcenturi cornwal poldark final sunday come wail spot three ship horizon hitch skirt alert everyon french least lost grain high peopl starv riot predict must truli stand rich mighti ride roughshod across tavern meet incens grow influenc facebook googl sorri mean evil deed poldark task train volunt fight french mobilis protect grain store lead tens standoff angri much hero defus situat announc point futur someon stand good everyon guess simmer standoff sensit naval offic husband broke french prison give tast heaven sway grass grip seri bonker ever save brilliant miss although exactli look forward poldark westminst "
          ],
          [
           "facebook breath neck group videochat houseparti develop francisco startup life teenag audienc facebook desper month snif around tini competitor even invit team headquart last summer facebook launch group video chat tool within messeng decemb februari invit teen headquart quiz return amazon card videochat juli facebook demonstr houseparti clone bonfir employe earli septemb launch foer tech rattl convers traction cofound houseparti told wall journal august push hard push hard might enough world power compani cling drive creation innov number busi launch economist investor entrepreneur point finger thing deep pocket resourc compani like facebook googl amazon appl combin valu almost make increasingli difficult startup compet attract invest peopl fund amazon might compet said founder wish remain anonym startup versu startup would fair fight startup versu amazon game even multibilliondollar startup like snap snapchat parent compani struggl compet tech houseparti snap heel facebook first facebook play nice make offer snapchat strategi work instagram whatsapp fail facebook clone snapchat featur awkwardli first relentlessli resourc compani snap potenti slice advertis market clear correl hard sure whether concentr money caus effect startup declin exist fewer startup make easier incumb firm accumul power howev industri becom concentr also rais barrier entrepreneurship choke innov elsewher marketplac financ next gener research scale afford said ventur capitalist cite googl experiment project loon internet fiber highspe internet waymo selfdriv play market make histor domain startup compani power staff salari higher even less incent worker leav pathway entrepreneur leav endgam often acquir previou employ rather grow larg enough compet strategi outset acquir googl fuel consolid said hathaway economist brook thrill amazon invest funnel startup discuss less thrill later amazon launch latest voicecontrol devic echo show almost perfect clone alexapow tablet comput focus video conferenc commun plan amazon invest would seen move area echo show launch focus commun core vision instead featur like ecommerc connect home declin comment piec furiou tell recod earlier thesi thesi commun trojan hors devic throughout home throughout extend famili home differ want sell deterg actual want help famili commun easier kind tactic rattl investor founder said make harder startup rais money even adjac market particularli skirt amazon ventur capitalist confirm describ amazon launch almost ident product coincid amazon could theoret nearli consum busi world said frequent meet invest decis inform amazon amazon anyth hero villain tech industri face bipartisan backlash moreit problem within tech industri sinc share compani less almost halv compani accord censu bureau data total number startup form last survey huge drop prerecess figur persist fairli precipit declin said john founder center american entrepreneurship organ address declin reason troubl busi account virtual creation account disproportion disrupt innov coincid time startup rate longterm declin economi grown better said growth emerg contact author "
          ],
          [
           "jamaican american credit start cultur revolut york bronx august bronx decid play instrument break notic crowd went wild coke rock break hype crowd microphon role known master ceremoni doodl game featur interact allow track select groundbreak record record includ apach incred band funki worm ohio player princ paul achiev unlock within game provid inform differ play game user select record collect cursor scratch record found bottom screen move adjust volum track button left chang speed paus music click centr record click trophi screen mani achiev left unlock track unlock achiev googl doodl start anim histori star freddi former host doodl also includ custom logo graffiti artist youtub global head music said today world celebr cultur revolut span count googl doodl webpag said start bronx commonli known bronx follow fallout construct cross bronx expressway demolish neighborhood time particularli tough youth need outlet unifi sound beat voic call bronx rose task citi access mean hard work could transform power instrument express also illustr technic innov start folk like hollywood grandmast flash grassroot movement creat cultur music danc avail borough citi beyond "
          ],
          [
           "renown execut biggest compani world back brexit sensat fashion speak theresa fleet visit beam move speak battersea primari school told optimist futur told morn news show term never better time aliv yearold also wade presid donald trump controversi immigr admit appl flourish becom number global manufactur without immigr better divers compani stress statement cook meet appl said posit meet today discuss appl continu invest unit kingdom proud appl innov growth support nearli across cook also london mayor sadiq tweet delight welcom appl execut capit delight welcom citi discuss access talent digit skill appl invest london wrote elsewher good morn viewer confus cook popular present paul audienc post appl boss visit think film forth uncanni resembl anoth follow anyon think cook appl look like paul teas cook paul lost twin good morn weekday "
          ],
          [
           "would appropri consider amount independ oper bodi right proper comment dispatch happen howev wrongdo right proper address "
          ],
          [
           "contrast debat realli issu aros report thank leed north tabl extens debat plan condit passag tabl number seek address concern rais respons consult measur particular tabl take forward recommend report deleg power regulatori reform first would appli affirm parliamentari procedur regul made subsect accept view procedur adequ level parliamentari scrutini exercis power accordingli second also respond recommend requir consult make regul subsect provid requir consult place said would regard procedur adequ level parliamentari scrutini particular power agre recommend import consider given view develop local plan author interest make regul subsect therefor place duti carri consult make regul respond view express respons consult improv plan condit number respond across rang sector includ local author develop interest group call guidanc propos power come forc updat plan guidanc issu oper provis agre view made commit respons consult publish updat guidanc support chang brought forward give assur would place duti issu guidanc plan author oper regul made guidanc advic interest applic local author interest seek constrain propos power subsect right intend power prevent local author impos plan condit accord nation plan polici framework howev alreadi effect regul made subsect must consist test plan condit nation plan polici framework subsect provid must make provis subsect appropri ensur condit meet polici test paragraph nation plan polici framework benefit plan condit impos necessari relev plan develop permit enforc precis reason respect case simpl unnecessari place polici test face done rather refer framework name make clear legisl purpos power ensur complianc test constraint power subsect appli requir public consult affirm parliamentari procedur regul made power provid power make regul kind condit impos plan permiss circumst propos power appli respect plan permiss includ permiss mayor london local author neighbourhood plan group light respons receiv consult propos power decid appropri appli power make oppos appli plan permiss therefor sought effect "
          ],
          [
           "think must follow execut function northern ireland northern ireland offic carri function substitut execut duti appli depart assur introduc statutori instrument explanatori memorandum sourc anoth variou depart differ respons draft public statutori instrument duti produc explanatori memorandum consid envisag except made northern ireland cover want paragraph schedul enabl queen printer make arrang publish document consid connect anyth publish schedul think allow approach nottingham east request commit ensur remain access comprehens exit basi withdraw think said probe measur note comment understand posit address particular learn edinburgh south seek place power make provis judici notic admiss legal proceed specifi evid certain matter judici notic term cover matter treat alreadi within knowledg therefor requir prove evid would usual would remov power schedul replac provis clarifi scope power power part schedul cover limit technic area affirm procedur appli worri remov would make lose clariti power appli imagin intent support clarifi provis would insert underneath power think achiev greater clariti schedul respect learn tabl press final deal tempt plung debat impact assess regulatori sector analys cours remind impact assess publish introduc line gener practic differ recent publish impact assess alongsid legisl want continu pursu approach must done proportion appropri would impos openend requir queen printer publish impact assess could fear creat duti could meet queen printer respons decid publish alongsid legisl mere publish quit rightli might think time specif respons endors releas inform would expos negoti posit would risk precis would respons departmentth queen respect place know analysi undertaken make judgment publish appropri safe proportion context remark nottingham east withdraw support passag schedul stand part "
          ],
          [
           "rais excel point also rais european chemic agenc registr cost busi fall exit know particular agenc allow third particip tabl parliamentari variou depart work done prepar duplic work regulatori agenc seri repli essenti said dont know much cost dont know system havent realli start work simpli good enough busi citizen deserv certainti need statutori instrument exit correct retain letter environ food rural affair septemb environ said piec legisl relat depart would longer work exit unless correct absolut huge bodi heard give power make regul believ disput appropri might remedi failur retain oper know full scope cover huge amount defici retain aris exit explanatori note contain worri rather brazen exampl mean exampl obtain opinion commiss instanc power correct would allow domest legisl either replac refer commiss decid remov requir start remov report enforc requir heart brexit deregul charter take right away ensur environment social right lost citizen want make sweep chang scrutini place part schedul paragraph waiv affirm procedur regul opinion reason urgenc necessari make regul without draft laid basic consult matter urgent said accept tabl procedur broxbourn provis could waiv opinion regul urgent want pass statutori instrument environ sphere anyon tell regul urgent given need pass exit "
          ],
          [
           "come moment sanction enabl continu impos updat lift sanction respons fastmov event european union withdraw suffici sinc need power simpli preserv freez exist sanction unit nation also insuffici sanction suprem rule could implement asset freez addit power need measur kind involv infring individu right short sanction enabl continu complianc intern leav ensur perman secur continu play central role shape sanction return decisionmak power sanction undersecretari said focu power polici might describ framework provid power implement sanction impos sanction independ alli power address later introduc secondari legisl appli sanction particular oblig implement sanction face polit choic replic current sanction take account consult mention open speech envisag four element power impos sanction justifi appropri power ensur individu organis challeng sanction impos power exempt licens certain type activ would otherwis restrict humanitarian deliveri might sanction power adopt regul antimoney launder counterterrorist financ detail scrutini obvious come publish second read report alway howev perhap respond rapidli time timeto mainli front bencher consult elect purdah need consid respons decid final posit publish bishop auckland helen lead foreign commonwealth offic take lead foreign polici includ sanction darlington jenni whether procedur intend adopt affirm import efficaci delay involv affirm procedur lead asset flight asset frozen caught consid issu respond consult respons publish shortli "
          ],
          [
           "take learn point utmost serious alway respect think real signific attach fact provis schedul hardli longest piec legisl seen certainli pore rightli learn justic intervent deal directli cours recognis concern rais nottingham east consid feasibl impos statutori duti requir summari retain direct legisl scale task would hard overst word think appli case accord legal databas current regul forc impos statutori duti requir plain english summari would think disproportion given mani explanatori materi alreadi issu lawand inde bodi includ health safeti execut exampl document registr evalu authoris restrict chemic regul publish european chemic agenc measur mention mani time believ present access "
          ],
          [
           "regul turn briefli respond name nottingham east depart lead crossgovern work assess intern agreement result withdraw arrang need made ensur continu busi individu requir implement legisl parliamentari scrutini ratif appropri wellestablish procedur work intern partner identifi full rang agreement might impact exit take view account would appropri stage publish type assess propos would prejudic outcom discuss action would practic "
          ],
          [
           "agre know problem easi solv central today debat context said would famili link list given right learn camberwel peckham prison month difficult difficult chang polici opportun consid matter reflect think strengthen achiev object justic welcom fact majesti inspector prison statutori foot consid statutori recognit inspector role visit place detent posit develop chief inspector prison requir regard statutori purpos prison particularli glad respond chief inspector recommend within matter urgent within case gener inspect scrutini inspect power prison probat ombudsman statutori foot welcom well accept recommend protocol finalis said would produc final version second read consult draft protocol januari know final protocol agre publish think import publish soon possibl develop accordingli recommend protocol relationship inspector ministri need know relationship whiplash pose challeng heard evid associ insur associ legal profession deal whiplash case convinc case date establish followup doubtless awar announc last call evid whiplash term refer inquiri includ definit whiplash preval road traffic whiplash claim consid whether fraudul whiplash claim stack whether provis part introduc effect tariff regul damag whiplash claim particular includ consider impact rais small claim limit whiplash claim andthi directli link small claim limit person injuri claim gener also includ consider role claim manag compani touch date challeng justic influenc convinc polici establish crossparti basi meet object claim made save pass motorist level fraud system test satisfact justic rememb conserv major consult paper rational includ employ injuri reform whiplash claim wrote chancellor last week told employ injuri aspect would dealt statutori instrument follow complet whiplash measur "
          ],
          [
           "sure follow contribut reliev know make brief rise speak seek chang focu specif point first purpos second scope purpos explanatori note crown power make secondari legisl enabl continu complianc intern oblig prevent remedi breach might otherwis aris result gentli entir clear breach might requir power clear breach occur could case remedi power contain legisl exampl trade alreadi publish domest legisl intend discuss nottingham east said comprehens speech gave exampl type intern treati oblig deal howev would hear exampl date heard intern oblig perhap coupl believ power must deleg power regulatori reform note explicit sort oblig mind scope mani concern scope power contain although explicit restrict appli case believ tabl scope deleg power circumscrib reduc right freedom know mani includ wakefield wish make speech draw remark close "
          ],
          [
           "need make progress forgiv much explain procedur work propos affirm procedur take account fact address legisl train wholli effect piec legisl subject polici input scrutini process limit number support approach come group citi intern regulatori strategi group refer debat yesterday financi market strategi group includ player london financi world independ bodi drawn lead practition citi firm institut fact recent retir chief justic like indic modest propos pretti strong term expertis applic bodi identifi potenti sourc legal uncertainti affect wholesal financi market give exampl first situat regard second payment servic direct direct appli next domest import regulatori technic standard underpin oper direct expect finalis european author brexit moment allow adopt standard would give streamlin mean deal provis prospectu regul came forc summer import element take effect month brexit full primari legisl incorpor deal streamlin procedur citi institut practition think would much sensibl procedur propos certainti delay primari legisl process regul place alreadi prepar grate offic citi london assist draft sure want find mean achiev respond find mean take forward "
          ],
          [
           "awar ministri justic recent consult issu receiv respons total respons consult publish march sinc laid statutori instrument implement chang respons "
          ],
          [
           "pleasur follow right learn beaconsfield concern tertiari legisl invit cosign taken consider would requir tertiari legisl made power regul subject parliamentari control would toward address concern tertiari legisl rise speak tabl name pose sever risk environment legisl exit becom zombi legisl longer updat enforc vulner water drop entir seek prevent environment protect water would requir come solut import environment protect come deal swath environment want tamper fiddl leav brought sinc seen dirti europ neither qualiti target climat chang target water qualiti standard rule regul affect almost everi aspect wast manag industri interest said yesterday wast water food agricultur would subject continu regulatori align wait mean practic mean bath cleaner beach drive fueleffici hold account pollut part global gold standard chemic regul chemic pharmaceut industri yesterday wrote environ term wish stay registr evalu authoris chemic regul previou consider ministri justic told respons concern reach directli applic fundament misunderstand reach creat bodyth european chemic regul evalu authoris enforc bodi although direct directli applic valid bodi carri function find case bodi think dump function duplic legisl perfect eleg solut today world environment standard crucial hold account certainli focus mind threat infring infract proceed leav mean lose enforc account mechan requir ensur environment enforc exit call environment protect said necessari sinc refus introduc preserv retain environment much environment need technic correct unpick legal institut agenc biggest administr constitut task face sinc world "
          ],
          [
           "rise speak provis name particularli press later even apologis absent debat coupl hour preserv high level environment protect come membership discuss tonight real risk brexit creat come enforc particular environment standard european commiss monitor action implement compli back european justic abil impos effect financi sanction absolut vital driver press deliv environment improv exampl clean london case studi make point absenc effect domest enforc regim replic vital role function current perform commiss difficult deliv manifesto pledg leav environ better found novemb good debat case fulli transpos environment principl debat ultim fruitless term heard great deal side chamber import environment principl futur protect environ perhap significantli environmentalist encourag rather remark comed time right dorset oliv environ food rural affair learn plan first announc novemb consult independ statutori bodi challeng potenti public bodi environment need hold bodi account enforc point believ intend introduc environment protect establish environment protect bodi prosecutori power independ charg polic enforc nation polici statement incorpor environment principl amount welcom recognit part risk environment protect leav domest enforc regim taken face valu also seem acknowledg environment protect bodi must absolut independ must prosecutori investigatori hold public bodi account includ necessari must robust durabl easili abolish function erod stealth howev still know whether concret plan soon practic ensur protect environment standard march someth alon rumin bath "
          ],
          [
           "moment want make progress mani note last protect current guarante membership environ worker right food establish robust system monitor enforc provid institut agenc perhap import part system precis strong pressur implement within specifi timescal incent adher aris monitor enforc role agenc commiss guardian respond legitim complaint seriou breach refer european justic sanction follow includ fine mani hundr exactli enforc mechan lose result brexit although talk move across legisl great repeal enforc process agenc make sure stuff done automat transfer "
          ],
          [
           "make progress secondli commit ensur withdraw agreement fulli implement exit power implement withdraw agreement crucial achiev describ power help ensur posit swiftli implement content withdraw agreement requir place ensur maximum legal certainti upon exit respect remind unabl implement withdraw agreement time risk unabl meet oblig intern scupper prospect deal think side want achiev ensur smooth orderli exit essenti appropri legisl chang made point exit want give capabl make appropri chang swiftli support busi individu make sure readi power enabl risk turn briefli prevent power number econom assess publish undertak rigor extens analysi support exit negoti defin futur partnership inform understand exit affect domest polici alreadi establish process provid econom fiscal report independ produc offici forecast requir produc detail fiveyear forecast economi public financ twice autumn budget statement forecast reflect publicli polici time forecast made includ polici leav clear disclos materi might undermin negoti particular negoti inform potenti econom consider import negoti capit negoti posit want best deal inde unit goal even mean achiev differ aspect detail want negoti posit undermin reason support request assess broader respons treasuri unnecessari treasuri core purpos effect financ econom ministri financ ministri treasuri continu account public expenditur manag public financ econom ministri continu prioritis polici reduc obstacl growth manag relationship financ ministri oversea withdraw chang core respons treasuri assess confirm would wast valuabl public financ unnecessari turn recognis huge import legal servic sector economi contribut also recognis legal servic underpin mani import part economi includ financi servic manufactur creativ industri propos bold ambiti partnership prioritis secur trade possibl servic commit secur best deal legal profess juli posit paper ongo union judici administr proceed also made clear leav direct jurisdict european time commit minimis uncertainti disrupt individu busi includ aris chang treatment case pend time exit want agreement implement period base exist structur rule regul chang report propos would delay imped import legisl work necessari prepar legal servic sector possibl negoti outcom withdraw would prevent regul made laid strategi food standard framework withdraw worldlead standard food safeti qualiti back rigor legisl framework depart health food standard agenc relev bodi work close togeth ensur regulatori regim food safeti remain robust leav commit ensur high food standard home promot high standard intern opportun build worldlead reput qualiti standard would appropri power publish individu particular report purpos incorpor withdraw agreement fulli comprehens fulfil oblig withdraw agreement intern power intend report domest strategi caveat power defin would caus uncertainti partner busi citizen address mani relat possibl stand part unamend shall turn briefli schedul give effect schedul provid parliamentari scrutini secondari legisl made power includ attempt strike balanc need prepar statut book time articl process need side undertak proper scrutini longestablish parliamentari procedur usual procedur decad dilut normal scrutini process howev alway said would listen reflect concern rais understand concern might enough scrutini instrument made undersecretari exit european union wycomb made clear yesterday would support tabl procedur broxbourn support whole draw procedur expertis recent interim report ensur opportun challeng appropri procedur instrument made three power without undermin certainti wish provid instrument brought forward power mean propos procedur instrument recommend instead debat affirm instrument give even clearer voic scrutinis power instrument made urgenc come affirm guarante opportun debat instrument schedul seri trigger affirm procedur substanti power complex decis exampl creat public bodi creat charg creat power legisl respons instrument also choos affirm procedur even instrument meet test schedul taken approach chang either primari secondari legisl chang primari legisl minor adopt affirm procedur small correct primari legisl would impract instead requir affirm procedur base type chang rather type legisl chang made rare case urgenc procedur introduc tabl procedur assur would procedur exampl case clear practic reason correct made time exit particular limit time avail situat could aris exampl content particular statutori instrument depend negoti took place nearer exit process know paper today name nottingham east whether still place seek restrict power emerg situat understand word emerg quit right circumst urgenc accur descript ensur legal certainti finallyi grate design make consequenti transit provis result exit oper contain power ensur properli statut book could instanc housekeep task revok design "
          ],
          [
           "begin urgent name matthew wish emphasis narrowli focus sure attend alreadi attend urgent matter intend provid select exit european union impact assess aris sector analys carri majesti must focu matter occas gener rerun brexitrel matter sure mani exampl week month come sure expend energi adequ term drawn "
          ],
          [
           "point earli afternoon publish letter social secur advisori regard emerg legisl person independ payment support chronic disabl peopl recal consult social secur advisori introduc regul februari come forc time subsequ examin regul damn find highlight need consult wide chang test propos chang crucial also warn could impact exist award direct contradict repeatedli claim current recipi would lose could tell whether receiv indic plan make statement issu time intend action recommend also seek guidanc ensur polici effect scrutinis properli held account issu "
          ],
          [
           "thank solicitor gener give import clariti content memorandum propos publish decemb said memorandum seek identifi sourc right contain within charter heard today debat concern side identifi sourc everi singl right number instanc cite also undertak review outlin action prepar take fill point exit retain exist right "
          ],
          [
           "check back action matter public record someon prosecut proce crime asset frozen becom matter public record avail allthat import reiter point sanction undertak assess exist sanction polici postbrexit ensur continu proactiv approach right chang sanction regim consid context rather make chang point cours continu dialogu parliamentari work absolut ensur spirit tabl esher walton carri forward discuss time howev legisl assess made postbrexit consid sanction wider pictur want talk duti enforc agenc power part rule strength system oppos perhap regim talk today agenc oper independ behind desk agenc pick peopl polit rival like leav agenc much possibl oper independ part balanc safeguard societi "
          ],
          [
           "last point promis give scottish nation addit though recognis pressur limit time acknowledg anybodi count import statement shall reflect request understand pressur parliamentari timet european union legisl first clear suprem rule know whether requir nevertheless becom full parliamentari process chamber placethat rout avail chang primari give reassur extent clearli depend rule ultim interpret evel arrang might help remind matter subject arrang meet three test first must refer matter devolv scotland secondli legisl must refer england england wale thirdli must certif statutori instrument meet test publish determin final shape give effect exit euth repeal test continu would case measur repeal european commun clearli ukwid implic would appli part unit kingdom "
          ],
          [
           "previou select recent chemic inquiri head around know want term chemic regul even discuss stakehold even explor issu come almost blank sheet paper referendum held discuss taken place even referendum could know peopl welcom procedur provid enhanc scrutini simpli provid mechan recommend statutori instrument introduc treat affirm procedur rather procedur scrutinis request debat requir take place paper said could requir debat simpli correct hansard societi describ inaccuraci paper ignor best decept worst time know affirm resolut object proper debat rare tactic infrequ believ need model allow enhanc scrutini includ option requir provid evid explan statutori instrument requir debat allow recommend statutori instrument mani mention public consult wakefield talk alert brought forward statutori instrument true mani pass unnot know legisl enhanc scrutini alon enough power make correct still broad gener vagu need improv clarifi must also stronger substant limit power includ gener limit specif limit safeguard environment standard care restrict power effect scrutinis prevent power weaken environment protect threaten roll back environment gain well said greener prais earlier debat environ think prais tabl discuss rather result accept continu push issu "
          ],
          [
           "posit paper enforc disput resolut secur enforc justic signific implic scottish legal system area devolv scottish advanc public paper absolut consult scottish scottish offic assur give oversight happen "
          ],
          [
           "matter fact right undersecretari exit european union saidi think rightthat half sanction involv subject resolut come separ european union given debat exit european union sanction reason focu european angl consult schedul debat explain practic alli issu intellig share polic judici matter thing need enforc complianc sanction regim effect lack plan anoth exampl threaten secur bargain chip brexit negoti role financi sector like implement effect sanction regim particularli term tackl money launder terrorist fund size citi london mean role vital record lead area although concern remain money launder sanction evas critic concern extent sanction regim appli oversea territori follow revel panama paper clear oversea territori could play part track clamp illicit financ appli especi cayman island virgin island face heavi critic past also territori bermuda respons legisl area assess whether sanction adequ implement enforc oversea territori crown depend channel island bermuda respons legisl area regim step take monitor implement enforc oversea territori commit report regularli matter sanction import signific shame clariti today form legisl wind debat answer "
          ],
          [
           "come group relat enforc investig recoveri power primarili compos agre part technic uncontroversi therefor intend linger quickli summaris benefit consequenti remov restrict hmrc crimin power former revenu function ring fenc aros follow merger majesti custom excis inland revenu interven period legisl chang brought major within scope hmrc crimin justic power remain anomali exampl investig certain power fight stamp duti fraud fraud crime regardless function hmrc commit ensur necessari power avail case provid hmrc crimin justic power relat power allow extens moratorium period enforc agenc investig suspici activ report transact allow proceed deliv number minor technic improv provis allow automat extens moratorium period hear await make decis applic help ensur compani provid inform custom whose transact subject suspici activ report fact made allow immigr offic appli extens allow explicit right appeal northern ireland major remain clarifi oper seizur forfeitur power proce crime antiterror crime secur mani chang extrem technic natur highlight signific allow director gener nation crime agenc design level senior offic authoris certain polic design current exist ensur interest accru forfeit fund agenc account return owner fund person success appeal forfeitur provid power determin compens paid respons compens introduc duti polic consult treasuri ensur full rang terrorist assetfreez power consid exercis relat power provid requir consult devolv administr provis relat seizur game voucher slip commenc ensur provis implement effect scotland northern ireland devolv administr scottish approv legisl consent shortli although assert none provis devolv respect wale note assembl alreadi provid extens discuss northern ireland execut plan place legisl consent consid enforc author northern ireland ensur access power suspens assembl prior elect prevent pursu time clearli extrem unusu circumst remain commit central principl sewel convent therefor commit commenc provis matter devolv northern ireland without appropri consent obtain intent pick execut follow elect possibl resolv receiv royal assent like make beyond doubt relev provis commenc separ time differ area unit kingdom "
          ],
          [
           "invit interven point finish speech give clariti glad anoth superior intellect baffl provis word attempt deal poor transposit retain found incorrectli incomplet transpos would statutori oblig make necessari modif correct piec fulli correctli transpos direct still reli clear exampl correctli transpos direct exampl royal societi protect bird point articl bird direct relat marin environ requir carri research work inform effort protect wild bird back possibl enforc environment protect properli without monitor ascertain scale problem requir carri research transpos domest legisl mean instanc seabird censu overdu royal societi protect bird take complaint european commiss clearli differ scenario brexit concern enshrin domest principl domest refer greenwich woolwich matthew sure wakefield deal shortli ensur whole bodi exist environment continu effect mean specif substant oblig broad comprehens framework oblig embed includ principl underpin interpret environment pollut principl respons damag environ must precautionari principl suspect risk polici could caus sever harm public health environ proceed principl current part bodi environment treati function european union also contain wide rang legal agreement guid decis make provid basi legal challeng richard wildfowl wetland trust principl like precaut pollut heart environment would ensur public author carri duti must regard environment principl current enshrin schedul statesth touch right action domest failur compli gener principl litig european creat problem grate could clarifi anoth issu mention earlier north hermon gener principl seem specif exclud environment principl environ gave evid environment audit last week said principl could best enshrin guidanc although know case precautionari principl enforc relat plan issu mean would appli broadli current simpli guidanc principl equival exit must place domest legisl bind guidanc guidanc public author must take account need follow conflict prioriti "
          ],
          [
           "thank intervent particular case cardiff central rais seri investig uncov wrongdo listen term problem small medium larger enterpris rais take away thing stand found evid anyth untoward done organis privat action type remedi preclud whether also regul kind receivership specif regul subject insolv regul receiv howev gener profession organis regulatori function subject regulatori rule appli profession bodi receiv like royal institut charter surveyor establish royal charter independ protect consum maintain develop stand profess home intern profession standard take disciplinari action breach rule regulatori regim independ regulatori board major recent announc rule deal conflict interest introduc earli next receiv belong insolv practition associ also regulatori power respond concern gener issu need address receivership enter memorandum understand relat voluntari registr scheme receiv provid system voluntari regul agre standard memorandum updat receiv also associ properti charg receiv also known receiv associ recent form bodi repres interest receiv promot better standard unlik regulatori bodi jointli review profession practic standard underpin work receiv review expect includ public consult consid degre independ requir lender receivership appoint scheme strengthen selfregulatori regim receiv appoint lender concern valu loan agre lender action awar possibl receiv might appoint certain circumst outset potenti problem receiv face conflict interest conflict aris mani area profession practic gener success dealt sensibl proportion sometim profession busi turn busi opportun conflict conflict otherwis properli manag sometim cours right action taken legal regulatori action follow wrong cardiff central identifi case thing gone wrong posit whether unaccept improperli manag conflict interest ought permit occur shabir case matter appropri author light relev regulatori rule also rememb consid shabir case like receivership exist mani time presum work well mani case independ regul receiv profession bodi also longestablish subject ongo review object improv standard better protect consum number point made debat respond best insolv financi servic regul profession regul surveyor matter ministri justic respons howev ensur point rais topic cardiff central debat pass appropri depart cardiff central whether royal institut charter surveyor investig alleg made shabir found evid misconduct also offer speak discuss concern reopen investig without evid seriou fraud offic carri investig decid insuffici evid meet criteria prosecut also believ financi servic provid must properli regul case differ regul must made present system chang financi conduct author consid matter relev regul provis financi servic small mediums enterpris consid report publish would appropri comment process ongo frontbench spokesman sefton central wider econom regulatori issu refer regard work economi treasuri consider still work issu rais report said alreadi would appropri anticip investig report conclus acknowledg vigour tenac cardiff central campaign behalf shabir appreci concern rais difficult situat creat constitu financi crisi interven specif case commit particular action chang legal regulatori framework relat receiv howev promis ministri justic continu keep issu respons relat receiv review pass concern rais depart necessari "
          ],
          [
           "inde true suppos would tend argu could enforc odditi principl think danc head confid intend power constraint within equal confid seriou issu whether signific chang propos procedur repeat procedur seem handl seriou issu contrast highli hypothet consider alreadi differ form subject seriou discuss earlier relat bring import environment principl treati function european union english time withdraw replac role commiss play independ enforc agenc environment principl procedur substant action "
          ],
          [
           "right poor qualiti public health issu take urgent action ensur short delay timet result delay implement plan tackl public health issu quickli possibl without prejud democrat process need safeguard public health exampl possibl except circumst consult could publish purdah howev would gener appli event unexpect public health exampl contamin need dealt instantli instanc fall categori "
          ],
          [
           "point carri unanim word thatth impact assess aris analys provid exit european union confirm whether mean effect bind whether mean failur compli fact contempt "
          ],
          [
           "cours suggest produc middl gener elect campaign quit clear consult respons come period undersecretari exit european union said offici look respons anoth exampl chao confus evid part whole brexit process anoth exampl monday without explan withdrew unifi patent across board polici process sensibl piec chess board import area polici respons consult paper said legal power need maintain sanction look polici goal align futur sanction impos european union understand first part realli want learn whether second part true sanction effect must obvious coordin partner sure make decis initi review sanction must explicitli link process partner european union hitherto sanction often relat uphold valu foreign secur polici includ human right democraci good rule continu cornerston polici postbrexit would grate europ america confirm european hitherto adopt decis togeth necessari regul element individu sanction regim number home offic treasuri depart intern taken respons implement explain depart take lead coordin depart futur sanction labour carri widerang review sanction polici report outcom review outlin core principl sanction polici sanction target regim rather ordinari peopl includ exempt minimis humanitarian impact innoc civilian clear object includ well defin realist demand complianc judg clear exit strategi effect arrang implement enforc especi neighbour sanction avoid unnecessari advers impact econom commerci interest believ principl remain appropri would like assur take view consult paper legisl creat framework contain power impos sanction regim detail laid secondari legisl somewhat vagu seem present number henri viii power would grate could tell supervis account arrang assum creat broad framework given import ensur individu sanction regim care calibr believ good case secondari legisl impos sanction subject affirm procedur word sanction chang sanction requir debat rather upstair mechan would provid requisit parliamentari scrutini opportun hold account would also like know level oversight built process review sanction consult paper sanction subject intern propos similar approach review could includ period review individu design entir sanction regim need adapt chang circumst ongo parliamentari scrutini independ oversight alway necessari want provid clariti procedur account independ oversight built legisl would like publish annual report implement sanction regim give role period review instanc make annual report subject debat well role ongo sanction yearli basi realli difficult meaning debat issu take place clariti extent futur ukeu take place ilford north said particularli true decis whether sanction impos first place case ukrain good exampl remain import work futur serv perhap promin recent remind collect impos sanction still real impact outsid everybodi know play role make intellectu case sanction undertook signific diplomat effort ensur ukeu sanction continu leav maintain abil shape decis sanction impos wont mumbl hear whether instead mumbl front bench answer debat "
          ],
          [
           "publish nation shipbuild strategi septemb next launch programm five type frigat current consid least differ propos industri across "
          ],
          [
           "understand argument reason reject precis futureproof contain specif figur power requir ofcom review speed technolog advanc expect demand univers servic oblig "
          ],
          [
           "moment document publish estim sector cover account around economi provid comprehens framework analys entir economi believ approach structur analysi help cover relev part economi given list publish feel first part address second part call impact assess aris sector analys provid exit european union "
          ],
          [
           "believ publish assess prepar make appoint privat read room build need must analysi mani treati must assess impact import "
          ],
          [
           "draft phase guidelin second phase progress commit undertaken first phase respect full translat faith legal term quickli legisl "
          ],
          [
           "pass novemb impact assess aris sector analys provid select exit european union take serious parliamentari respons clear would provid inform past three week depart work collat bring togeth inform access inform glad confirm inform provid select exit european union select inde devolv administr also permiss inform initi discuss parliamentari author make inform avail read room clear start would respond also document exist form request inde made clear debat thatther misunderstand sector analysi actual seri impact assess said sector analysi wide qualit quantit analysi contain rang document develop differ time sinc referendum recognis although open possibl also oblig consid public interest materi publish furthermor import recognis case commerci confidenti inform analysi mani case analysi develop underpin advic negoti option variou scenario well understood case success administr advic must remain privat light right exit european union made statement novemb explain given document exist form request would time collat bring togeth inform access inform commit report would provid within three week provid inform yesterday commit endors respons releas inform would undermin negoti posit contrari assert place give firm assur pass would subsequ publish full preced agre pass inform select confid basi assur receiv materi share clear rule intellig materi select enter select receiv document assur provid confidenti sensit materi would publish keep usual practic sensit issu sector report provid contain inform would undermin negoti materi commerci market sensit doubt substanti undertak open possibl subject overwhelm nation interest preserv negoti posit collat page analysi less month pass cover sector consid novemb satisfi "
          ],
          [
           "second read plainli want make progress perhap ought dictionari christma list analysi readi analysi outlin compon problemth regulatori structur market size onand impact assess play whitehal guidelin involv forecast "
          ],
          [
           "absolut noth certain confidenti inform report mean would appropri publish right home made avail privi basi "
          ],
          [
           "great repeal pass european lawth acqui origin word might refer european institut refer institut exampl might local publish procur contract offici journal european union would longer would appropri publish websit secondari legisl princip technic concern major area polici chang primarili address primari legisl cite exampl "
          ],
          [
           "come issu freight want make coupl point passeng someth qualiti also mention part regulatori process civil aviat author expect decid cost surfac access scheme would treat part regulatori settlement includ cost would recover airport user import addit point specif dealt initi remark reassur element packag propos bring forward know mani view estim believ surfac access cost might accept estim peopl might surprisingli might cost accept extravag estim final plan design approv runway rang potenti option surfac access improv develop produc detail plan said earlier part develop consent properli consid normal statutori plan process sens prejudg exactli need necessari meet clear principl surfac access part process take place "
          ],
          [
           "like certain refer airport commiss surfac access strateg road network propos publish highway england octob document includ propos widen made statement media week effect would ahead answer written receiv clear confirm propos ahead land properti acquisit heston "
          ],
          [
           "absolut right highlight import inform current finalis detail technic appli qualif count perform tabl publish list soon possibl "
          ],
          [
           "know alreadi awar registr evalu authoris restrict regulatori complianc compani constitu essenti continu effect trade across border realli want compani move elsewher perhap regul easier follow lose good research develop manufactur incred import scienc technolog engin math sector agre leav reach risk "
          ],
          [
           "give time although might cover point want rais might appear system design around need lawabid compani vast major appreci open abus maintain open extens access regist world power tool identifi fals inaccur possibl fraudul inform mani view data well error omiss wors inform held regist subject signific polic varieti user compani alway look improv qualiti data signific recent develop includ introduct report function make rais concern easier ever irregular rais compani follow compani case inaccuraci correct immedi search compani regist indic data avail scrutini compani work close enforc agenc nation crime agenc share data analysi combat econom crime talk scottish limit partnership right rais fulli recognis concern past seriou concern rais partnership vehicl crimin result depart launch call evid earlier collect inform extent problem limit partnership legal framework might therefor need strengthen consid evid confirm activ consid reform announc next step shortli said import mention scottish limit partnership popular form incorpor accept number increas last give rise perfectli legitim suspicion also mani legitim busi across economi particularli invest pension sector fulfil genuin commerci need right mention letter last month june scottish limit partnership number legal entiti requir identifi disclos peopl signific compani inform form part central regist publicli avail consist requir alreadi place form compani sinc object requir provid transpar ownership control scottish limit partnership scottish limit partnership also requir submit statement least confirm peopl signific control inform compani regist accur right highlight letter mani compani compli assur chase requir buildup name regist control still compani undertak complianc activ ensur scottish limit partnership compli regul summari confirm activ consid option reform partnership approach soon "
          ],
          [
           "move page line insert claim deal peopl compani hold primari infring claim manufactur import product therefor written freeli fact definit provid "
          ],
          [
           "novemb ofqual exam regul publish regulatori assess potenti cost deliveri impact reform gener qualif part ongo work ofqual commit overse introduct exam evalu effect want recent consult futur primari assess plan establish settl trust system "
          ],
          [
           "cours want correct answer scienc clinic practic move significantli sinc know farreach advanc regul medicin reason report delay felt need contain rather said confid report review process focu implement report recommend "
          ],
          [
           "disappoint posit second guess conclus discuss recommend appropri take account clinic decis made recent past decis king manag decid whether take forward evolv right manag look health provis round respons deliv healthcar local resid need take account inform sourc avail think right necessarili certain issu need form view right configur avail data sourc process explain process understand area right advic independ reconfigur panel approv propos took decis northeast london scheme allow proceed made clear timeit sinc repeat respons health author chang take place clinic safe believ remark might made visit area recent must consid context number chang sinc decis made four element process first team review revalid model back ensur propos made remain appropri would expect team secondli board trust board board need agre busi case aris recommend thirdli achiev england improv requir approv busi case final envisag clinic gateway assur construct manag seri gateway review differ stage process plan implement project proce assur system readi patient safeti everi step decis necessari taken interven period "
          ],
          [
           "happi give reassur build safeti programm place number peopl departmentth increas dramat reason necessari everi build first test follow result test interim measur remedi alloc individu depart individu follow local author associ privat sector oper handl test respons result test necessari make sure necessari work take place continu necessari "
          ],
          [
           "grate clarif know foundat world trade system arrang mutual recognit sanitari check matter second point make relat inspect requir leav consid control surveil requir import food left decid introduc statutori inspect opportun consid approach taken casebycas basi port author undertak addit check food import statutori charg decis continu taken basi need balanc cost gener local taxat consid must remain free charg manner reflect consider provid suffici reassur final separ issu earlier debat whether would consid materi relat retain decid legisl mean effect happi confirm posit place letter librari detail record enabl "
          ],
          [
           "statement repres anoth consult propos peopl real world want action problem sector well known scottish legisl matter back properti factor scotland primari object creat statutori framework protect homeown factor servic provid minimum standard properti factor came forc octob appli residenti properti land manag whether privat sector busi local author associ compulsori regist factor oper registr help ensur properti factor awar standard compli crimin offenc oper properti factor scotland unregist legisl follow exampl code conduct minimum standard practic regist properti factor statutorili oblig compli rout redress homeown panel independ judici bodi separ scottish local author homeown appli panel believ properti factor fail compli code conduct otherwis fail carri factor duti anoth exampl scottish nation lead progress polici scotland tori refere footbal match given behind scotland meet scottish kevin discuss alreadi oper scotland work well learn repres homeown across "
          ],
          [
           "need make progress forgiv much explain procedur work propos affirm procedur take account fact address legisl train wholli effect piec legisl subject polici input scrutini process limit number support approach come group citi intern regulatori strategi group refer debat yesterday financi market strategi group includ player london financi world independ bodi drawn lead practition citi firm institut fact recent retir chief justic like indic modest propos pretti strong term expertis applic bodi identifi potenti sourc legal uncertainti affect wholesal financi market give exampl first situat regard second payment servic direct direct appli next domest import regulatori technic standard underpin oper direct expect finalis european author brexit moment allow adopt standard would give streamlin mean deal provis prospectu regul came forc summer import element take effect month brexit full primari legisl incorpor deal streamlin procedur citi institut practition think would much sensibl procedur propos certainti delay primari legisl process regul place alreadi prepar grate offic citi london assist draft sure want find mean achiev respond find mean take forward "
          ],
          [
           "publish assess carri depart potenti effect exit without agreement "
          ],
          [
           "speech give rise suggest might argu along ought proper evalu pilot england second want compar appl appl perhap need proper governmentsponsor vaccin pilot project england "
          ],
          [
           "said power public import formal delet right learn provid wrong place therebi mislead reader want find authorit sourc retain anoth exampl would regul enter forc partial applic immedi exit exampl regul protect measur pest plant enter forc provis appli rest appli exit answer directli power exist shall move paragraph paragraph observ base provid thatani mean effect treati valid mean effect instrument shall treat cours someth determin mean purpos foreign normal fact plead prove often recours expert evid quit rightli howev want allow continu treat exit certain purpos necessari decid purpos interpret retain legal proceed "
          ],
          [
           "make good point tobacco compani inde villain scenario last effect wellresourc strategi hmrc estim fallen half sinc peak everi reason fear success seriou threat progress reduct market share illicit tobacco soon revers alreadi suggest recent small uptick hmrc figur specif problem local author figur charter trade standard institut publish last show total budget trade standard across great fallen number trade standard staff fallen half mean chanc catch someon sell illicit tobacco unscrupul retail local consum significantli reduc inform local enforc action help track chain less inform mean less track intellig interest either public health public financ make rapid progress european intern level revis tobacco product direct establish traceabl system tobacco packag requir code system access enforc offic give inform movement product chain manufactur address point made harrow east system also requir secur featur prevent tamper ensur product genuin european commiss carri consult research system specif consid current propos larg construct sensibl tobacco industri system manufactur desper adopt implement direct requir code system develop four major manufactur known although hive nomin independ compani opinion fulfil requir independ protocol elimin illicit trade tobacco product protocol explicitli requir take respons control measur rather reli industri selfregul clearli fail deliv past therefor confirm intend particip european traceabl system also clearli work ensur specif includ robust requir independ tobacco industri industri must control traceabl system either directli indirectli proxi global track trace system offer world health organis illicit trade protocol rightli negoti first subsidiari treati framework convent tobacco control system consist protocol obviou work global system would even effect confin protocol also contain import provis control tobacco chain includ requir manufactur conduct dilig custom keep proper record transact becom protocol numer occas includ tobacco control plan welcom statement give clear commit move rapidli ratifi protocol date ratif would excel certainli need happen juli deadlin particip first meet octob geneva like spoken welcom tobacco control plan england perfect repres real commit tackl smoke epidem trust also strengthen continu scottish well welsh northern ireland address public health prioriti howev approach still need strengthen supplement action illicit trade list much make commit call today along side look forward arriv first truli smokefre gener throughout unit kingdom "
          ],
          [
           "thank solicitor gener give import clariti content memorandum propos publish decemb said memorandum seek identifi sourc right contain within charter heard today debat concern side identifi sourc everi singl right number instanc cite also undertak review outlin action prepar take fill point exit retain exist right "
          ],
          [
           "previou given detail previou demonstr oper "
          ],
          [
           "address misconcept right learn statement edit redact report time pass subsequ clear document exist form request collat inform includ sensit materi document freeli admit seen contain redact notic origin suggest redact debat novemb came speak front bench also said debat along public domain inform would undermin negoti posit accept level detail confidenti issu tactic discuss statement made debat tell right learn logic consequ posit suggest mechan avail allow share materi advanc select cours righti address open statement select discuss term clear said want receiv document first would give assur would treat basi clear protect commerci sensit inform absenc restrict select might document mind oblig allow sensit inform public clear open possibl within oblig materi provid select substanti bizarr right learn dismiss without seen opportun consid fulli reflect think reason conclud fulli discharg term share page analysi select analysi describ activ sector current regulatori regim sector report exist framework across globe trade facilit sector well sector view cover rang repres crosssector view busi organis throughout taken care incorpor uptod view stakehold view propos implement period right learn repres analysi cours refer sector analys respond share sector analys note select statement follow meet morn welcom fact arrang made view document confid think find great deal valuabl inform assur also accept request discuss content assur depart take respons extrem serious provid vast amount factual inform help scrutini confid requir respect overrid duti nation interest "
          ],
          [
           "regular discuss chancellor rang issu depart specif discuss treasuri financi conduct author propos remedi area plan ensur detail cost charg publish given pension scheme "
          ],
          [
           "thank statement earli sight also thank word step last night unifi defiant realli speak alway know polic keep safe yesterday shock true realli prayer keith famili victim yesterday outrag continu beyond thank polic emerg servic staff keep safe utterli dedic role attack hate freedom peac democraci toler open uniti work unravel unspeak attack happen agre must either action curtail valu inde "
          ],
          [
           "commend right power statement prayer suffer particularli keith wonder brave polic offic face threat violent ideolog broken arch enter daili basi bear testament time fail alway fail beacon freedom place target fail right ensur extol righteou defianc face evil lace compass toler "
          ],
          [
           "pleasur follow right sutton coldfield think honour reelect enfield north grate everyon place trust look forward continu work constitu issu import first foremost public servic enfield effect huge polic health servic school seen conserv feel safe home neighbourhood import thing life terrorist incid recent month london manchest highlight fragil sens safeti thought prayer injur lost event tribut incred braveri shown emerg servic whole commun enfield felt event deepli deepli concern rise violent crime particularli knife crime recent spate stab borough result three murder sinc april great debt gratitud polic offic respond speedili profession incid sadli howev tragic event becom increasingli shockingli commun everpres issu doorstep past seven conserv violent crime enfield rocket duti minimis risk ordinari lawabid citizen need polic patrol "
          ],
          [
           "thank leadership bleak moment brave guardian keith fought life yesterday bournemouth east fought save life finest back polic defeat terror believ heed wise word demonis divid play right evil terror "
          ],
          [
           "join welcom franc today associ remark happen yesterday within metr appal atroc polic still piec togeth took place behind behov rush judgment wait polic establish fact stay unit commun allow fear voic hatr divid cower today unit human democrat valu human impuls solidar stand togeth time dark advers express condol famili polic offic keith gave life yesterday defenc public democraci thank polic secur personnel keep safe everi estat especi tribut braveri took action stop perpetr yesterday assault polic secur staff lost yesterday continu fulfil duti despit shock grief fallen mani express talk late last night polic secur staff everi worker neighbour said danger violent incid take place instinct away safeti polic emerg servic toward grate public servic yesterday today everi pull uniform protect want express admir bournemouth east whose effort yesterday deserv special commend skill save life innoc peopl kill yesterday walk across westminst bridg mani london tourist chamber done said injur includ peopl nation send deepest condol still critic condit includ french schoolchildren welcom capit visit brittani send sympathi peopl town commun thank dedic nation health servic staff work save live includ hospit rush straight scene incid support save live mani peopl total traumatis yesterday watch televis worri safeti look help anoth think anoth demonstr commun human defeat poison divis hatr "
          ],
          [
           "would like word condol gratitud alreadi eloqu express yesterday constitu caught attack eight month pregnant pass gratitud thank staff polic consider treat fivehour lockdown agre continu daili work repres must continu must encourag come particip democraci valu action "
          ],
          [
           "jason reveal famili still miss manchest arena terror attack hour broke tear emot facebook live post comedian reveal still miss atroc claim live martyn famili tweet famili still miss call martyn wear retro shirt deidr tattoo manag martyn come dine also appear tattoo post social media within venu explos said sneak toilet break maci song entir arena idea jason origin greater manchest appear facebook live talk event took place ariana grand concert thousand children attend unabl hold back tear jason explain five children american singer known perform like would taken point comedian broke tear want life chang peopl tonight empti comedian said unfortun hatr wont though moment visibl shaken jason paid tribut courag emerg servic rush scene save live peopl flee scene toward danger zone said facebook live post last minut comedian experi rang emot includ confus grief anger said couldnt understand solut terror problem discov need someon clever think jason said later facebook post sorri injur live devast cowardic peopl never anoth concert live horribl night effect psycholog forev total respect amaz emerg servic toward troubl danger everi natur fibr must tell steward arena stay help peopl safeti legend made proud offer room lift home peopl desper hour need made realis although think event make weaker actual bring togeth commun eventu make stronger thought also ariana grand must absolut devast children ador must today know gave mani peopl even even peopl last moment heart would full happi gave follow attack jason comic john bishop postpon chariti manchest take stage saturday night citi perform octob statement said consult chariti venu john bishop decid postpon chariti show children adventur farm saturday night manchest respect lost live last night atroc heart broken poor famili left devast cowardli attack respect emerg servic civilian help citi darkest hour like great citi manchest comedi back monday octob rais even money help disadvantag disabl termin north veteran broadcast terri christian return comedi show salford notic surg first respons vehicl post written mirror terri said manchest true world citi alway live live spirit kind moral loos make everyday kind inhabit sincer blog post focus manchest resili overcom atroc cite bomb blitz attack exampl attack fail dampen citi spirit terri said tini sliver comfort come know death cult mental perpetr backer never kind resili peopl like manchest even target children citi histori much proud wont meet evil evil well rememb beauti peopl lost live mourn famili whose pain must unimagin emot post note well ever scar unnecessari loss face senseless evil happi children smile danc peopl includ children pronounc dead offici injuri toll risen "
          ],
          [
           "sadli abus intimid direct public life famili work alongsid sure whole want join tribut amaz team constitu parliamentari case nina luci deal peopl courtesi respect great shame target traitor organis daili mail extent abus call unfortun great work home listen work alongsid next find truli shock unaccept "
          ],
          [
           "thank call make maiden speech first congratul lincoln fantast maiden speech share passion repres constitu also congratul scot caith sutherland easter jami speech echo sentiment legaci charl heard passion contribut today brexit process must best deal economi protect defend right nation fight behalf constitu midlothian thank send must tribut predecessor know work hard repres midlothian sure contribut commun rememb well thank congratul warm friendli conduct campaign maiden speech wear midlothian tartan spoke repres landscap blue repres reservoir repres coal midlothian remark first second world elect repres midlothian want make point anoth first first woman elect serv midlothian proud inde secondli although miner proud come good mine grandfath work keep strong midlothian tradit aliv honour receiv endors support local retir miner group speak former miner repres midlothian would also like tribut former midlothian honour know learn eric eric said maiden speechi proud socialist trade unionist glad carri mantl grate help campaign must paper list peopl part pass warm wish eric tradit talk histori constitu maiden speech feel come done fantast highlight rich histori gladston proud proud dolli sheep palac chapel would like talk peopl midlothian futur june elect serv spoke local food food fact project talk mark told person stori told found reli food give food need gave friendship support help develop network help food mark stori remind etho central chariti idea behind food central work carri talk help peopl need handout essenti give peopl tool need live live full work peopl variou receiv benefit support chariti want want support thing handout media might believ mark report last week demand food gone famili week servic said peopl come foodbank afford feed famili sanction suffer benefit welfar reform simpli feed famili incom wage inadequ help absolut disgrac someth spend time fight fight good good wage support elderli peopl disabl fall hard time happen midlothian strong proud commun come togeth solidar time miner strike loss done nowbut also mani fantast come togeth celebr enjoy commun youth project councillor margot commun radio diamond commun coffe morn share roll weekend commun sinc elect attend mani children gala poll grate receiv nice soup roll older peopl carer name want project like bring commun togeth flourish start speech tribut labour eric wise word eric maiden speech talk aboutth standard rich vast major poor speech talk labour stand vulner peopl peopl benefit along although phrase stolen today reclaim echo sentiment proud elect repres peopl midlothian platform messag join bench fight mani "
          ],
          [
           "thank word today also word step yesterday difficult import time spoke thank proud braveri keith famili grate keep safe wish tribut polic parliamentari staff westminst calm profession yesterday wish tribut emerg trauma team king colleg hospit care injur horrif crime cost live caus injuri terror fail fail busi fail despit trauma staff outsid window work fail rightli said allow pretext divis hatr islamophobia democraci strong robust horrif crime terror fail "
          ],
          [
           "grate opportun give maiden speech import debat educ mani peopl face increas often great pride rise speak repres constitu home citi manchest citi victim terribl attack adult children kill peopl injur attend concert manchest arena pure evil face tragedi peopl manchest respond know solidar compass determin seek endang life succeed event happen alway danger peopl divid unfortun increas hate crime wake attack week later peopl manchest elect citi first ever think power messag terrorist bigot attempt divid never succeed follow footstep predecessor late gerald gerald legend place miss side brought colour proceed liter sens style time sharp serv almost pass away earlier serv mani role environ senior shadow cabinet select cultur media sport later father gerald tireless constitu return work issu peac south asia middl east stand oppress peopl continu alway grate support advic friendship know hard follow although promis match dress sens best least fill shoe never forget peopl manchest gorton given privileg repres gorton constitu wonder divers vibrant place take gorton whalley rang thrive local busi track wonder space alexandra park cours famou mile also spiritu place home huge number place worship beauti histor build gorton monasteri victoria park mosqu first mosqu manchest without challeng seven auster constitu hard three children live poverti averag wage less nation averag manchest citi budget fewer polic elect campaign promis would alway manchest gorton first exactli intend time place manchest thrive worldclass citi great place live peopl constitu decent hardwork play rule right thing alway felt benefit citi success fair deal stand auster fight extra invest school local busi manchest gorton need deserv journey place typic born pakistan came adopt poverti child sinc manchest home nearli often tell peopl although born pakistan made manchest left school qualif went straight work labour cotton later becam driver polic offic manchest offic caught elect campaign voter approach said would like candid hurt want know said twenti arrest even brief chat chang mind alway felt miss educ support wife children also went night school olevel alevel eventu degre becam solicitor want defend need work becom partner firm gorton past manchest councillor mayor latterli enter polit believ power social justic transform live bring deliv opportun believ world someon prospect determin content charact circumst birth colour skin although progress made clear recent increas inequ still done father societi unfair clearli look childreni three daughter equal societi sinc equal women still earn less want wait anoth treat equal alway equal stand antisemit islamophobia form discrimin look forward upcom releas race audit better ensur public servic fail vulner societi doubt touch issu futur debat also bring experi time european bear import discuss come brexit thank indulg made maiden speech look forward make voic manchest gorton heard loud clear time "
          ],
          [
           "would like join tribut late manchest gorton alway grate right show possibl children immigr treasur root still embrac activ role play public life sure speak whole deepli miss sympathi famili person sleep mani often support provid crisi point support project homeless prevent endtoend approach tackl homeless rough sleep "
          ],
          [
           "welcom word speak back today right attempt attack democraci fail braveri keith gave life keep peopl safe also violent cowardli attempt attack freedom peopl walk along bridg heart agre attack freedom also fail commun resili determin perhap uniqu partnership polic commun faith across part partnership work crucial make sure terrorist never "
          ],
          [
           "congratul chelmsford vicki quick mark first make maiden speech made passion case chelmsford clearli mess around honour follow live extrem challeng time past certainli test resili divers commun time adult life offer heartfelt condol everyon affect absolut appal event grenfel tower last week like across mani constitu deepli shock happen like want know everyth power ensur commun affect support avail everi possibl lesson urgent learn chang made sicken event avoid tragedi never repeat also face horrifi senseless violenc london manchest offer sincer deepest condol affect terror attack even recent incid finsburi park alongsid newcastl upon tyne central privileg join multifaith commun host newcastl unit hebrew congreg synagogu part great togeth initi memori dearli miss move great togeth event held across last provid clearer demonstr determin hate intoler divid also made except clear last month incred profession dedic braveri emerg servic express deepest gratitud well know tirelessli work keep safe horrif moment experienc recent round leav great togeth event newcastl stood gate local polic offic togeth look back scene insid peopl mani faith none enjoy buffet break fast togeth outsid number muslim pray togeth grass entranc synagogu power scene greatli honour stand chamber today newcastl upon tyne north thank constitu reelect increas particularli kind given june birthday also proud part divers histori contain femal lgbt disabl make mistak alway work perhap hearten howev fact constitu reelect posit labour messag better futur local area oppos fear divis newcastl upon tyne north reject conserv manifesto devoid vision inexplic held remov free school infant school pupil reintroduc foxhunt time sort polici prioriti nation forc drop worst plan given outcom elect left howev still worri content graciou speech show still listen public urgent need economi oper work mani behalf constitu shall time avail mani concern week chancellor inform nation appar deaf messag sent gener elect final accept weari public spend well tell peopl newcastl upon tyne north beyond weari come issu look forward hear chancellor damascen convers actual mean public servic area includ provid newcastl citi northumbria polic make hundr worth sinc peopl qualiti life sevenyear assault local servic result choic made coalit conserv citi commun deserv better clearer messag deliv elect campaign grow alarm peopl feel conserv mismanag underfund social care servic anyon work frontlin health servic know break point patient know wait time surgeri treatment ambul mental health support servic medicin ration across england hardwork demoralis staff increasingli less unfair unsaf patient scandal sixth largest economi world nurs turn food freez bring overdu cours pressur exacerb seven punit social care budget left system crisi mani older vulner peopl without vital care support need meanwhil staff work northeast remain unnecessari unaccept uncertainti futur staff peopl deserv better anger result conserv fund plan school constitu lose pupil situat place intoler pressur local school face stark realiti bigger class size lose teacher subject vital resourc time determin press ahead total baffl obsess divert fund toward free school grammar school sincer latter dead water instead want know children live poverti constitu live famili problem debt biggest issu thousand constitu remain plight endur unfair chang pension notif total unaccept treatment sever decad hard work nation insur contribut care respons often lifetim discrimin injustic never stop fight rectifi constitu deserv much better mention critic concern newcastl northeast creation fairer economi work everyon know mani peopl remain trap precari irregular lowpaid work creat sinc nine insecur peopl northeast deserv better requir creation longterm good skill welcom announc graciou speech grow burgeon space sector allow satellit launch continu press ensur support busi base constitu creat grow good futur also remain concern nestl decis offshor includ plant constitu particularli refus work union work keep unaccept newcastl intern airport singl largest employ site constitu still certainti intend mitig impact devolv passeng duti scotland month time know whether deal prop northern ireland tabl "
          ],
          [
           "keith show huge braveri courag sought protect parliamentari commun terror attack also father husband charlton athlet posthum recipi medal polic memori trust work westminst citi erect memori outsid carriag gate someth "
          ],
          [
           "pleasur follow livingston hannah thank right arundel south nick secur import debat backbench busi keep keep chamber thursday afternoon realli import crossparti debat know right work hard lgbti right home abroad parliamentarian across come importantli speak lead take courag human support courag lead world lgbt right posit journey famili neighbour openli identifi belong lgbt commun reflect polici made huge sinc particularli introduct marriag equal ture abolit offenc affect mani peopl summer announc consult gender recognit fortun work alongsid constitu tara transgend commun work hard issu welcom plan look forward move forward former women equal absolut delight carri first investig transgend right absolut right thatsom peopl identifi transgend must tackl issu affect famili mental health commun work area world lead thank juli lesbian liaison team hampshir polic work across commun want equal make safer happier healthier also wish thank work openli matter fire servic commun work togeth becom stronger work tran peopl particular commun becom stronger hate crime awar week huge respons temper languag action toler matter hate crime leav individu famili commun isol societi highlight broken societi place hate toler understand make safer place live congratul hampshir polic crime commission focu joint work hampshir citizen advic servic safe report space also congratul wight secur right host pride event next great occas contact constitu eastleigh also want hold pride event want town flag delight hear ribbl valley also thing today listen stori live fear across world must rememb crime target bulli threaten live whoever arei crime peopl behaviour report help congratul hampshir wight youth commiss carri project tackl behaviour behaviour school unaccept achiev need focu attent abroad heard peril born chechnya azerbaijan egypt heart sink hear chechnya lgbti person even exist also talk australia compulsori simpl pose chang allow samesex coupl strong would huge victori lgbti australian move would help send clear global messag welcom make live peopl around world better foreign commonwealth offic budget must ensur continu work free equal campaign reach estim peopl social media give huge abil chang attitud made huge lgbti right parliamentarian exampl local commun chamber across globe "
          ],
          [
           "continu establish commiss counter extrem support erad extremist ideolog form wonder divers inclus open mani peopl proudli call home time seen commun come togeth demonstr unwav kind compass support anoth secret share share compassion outlook despis life wish harm finsburi park westminst london bridg manchest extrem ignor neither wish explain away extremist need confront narr weaponis peopl horrif violenc need call taken head afford accommod "
          ],
          [
           "happi facilit discuss wish thank entir team inde everyon look usand mean look usin place secur cleaner hospit everybodi good alway receiv prais deserv also wish thank famili quit ordeal live particularli given lifestyl lead thank constitu reelect grate sure speak behalf although grate also repres across take serious best repres breadth opinion although sometim overlook would like special thank three peopl inspir proud know well freedom centr freedom disco home villag inspir idea month event disabl children mental health challeng done fantast manag visit sever time amaz deserv credit dian bennett care vale local food inspir know well northern part constitu fantast call patrick great reinvigor salt product honour live area volunt commun engag involv heart peopl daytoday activ busi famili volunt incred never known live work abroad mani degre dedic honour associ mani issu would like rais someth chamber today intoler increasingli concern intoler abus intimid happen extrem right left polit repres reflect daytoday activ place gener along banter disagre sometim vehement think know strongli held opinion necessarili mean right selfawar realis sometim persuad right know perfectli valid fair look data point differ view opinion polici come debat place time unfortun public alway moment particularli onlin realli dishearten abus vitriol hatr exist place howev respons place loudli clearli accept polit associ shape form somebodi name hashtag twitter account make realli vile comment must stand name distanc comment want associ must activ social media compani answer well make vile comment first place must stand count "
          ],
          [
           "start record admir work south cambridgeshir heidi know person passion feel peopl right normanton pontefract castleford yvett westmorland lonsdal face onlin sometim offlin abus believ reflect best charact come protect vulner peopl world south cambridgeshir cambridg daniel mention constitu want thank peopl walthamstow reflect sentiment thank debbi bliss organis warmth walthamstow project take sleep blanket emerg blanket children still calai thank migrant action group help peopl make best live thank refuge kitchen take children calai thank katrina side side refuge also thank nation organis safe passag help refuge valiantli fought sadli lost high todayi debat continu peopl group reflect realiti public reaction children happen recognis nation better place offer sanctuari today debat best nobodi help children need thing right even press today perhap peopl think resolv issu conflict sadli continu around world push factor lead peopl make danger journey abat wish world otherwis realiti realiti ground calai hundr unaccompani children still sleep rough need warmth walthamstow "
          ],
          [
           "thank begin echo tribut pass away last tribut predecessor former right moray thank servic peopl constitu sure right agre previou angu firmli establish true statesman although miss contribut place continu contribut public life time ever nation debat need consid ration voic also thank leadership demonstr westminst bench miss good must made rather cheap previou first scotland point unlik alex least major elect scotland made rather cheap alex still sturgeon much thorn side first time sinc terribl event summer behalf take opportun tribut profession dedic sacrific emerg servic respons event summer tremend debt gratitud loss life grenfel tower tragic unnecessari famili victim heartbroken mani angri tragedi could avoid speak behalf commit support work chamber famili answer need deserv summer also cowardic violenc terror whole unit grief outrag attack manchest london bridg week finsburi park mosqu place must unit show leadership citizen despit despic effort small minor misguid individu commun societi divid stand firm terrorist attack muslim stand wrongli claim name islam customari commend mover second proceed queen speech tribut right newburi richard whose interest knowledg agricultur fisheri issu import come month import sector impact kind brexit deal achiev told second spelthorn kwasi rise star right wing conserv "
          ],
          [
           "move right john bercow take start belat congratul father took earlier sadli lost anoth intak well respect gerald saidh life honestli said bercow said serv virtual depart great offic throughout distinguish career tribut record public servic resili presid open proceed today elect welcom return natur familiar welcom side might realis offic name back mere agent king afford protect agent king offer news suffer monarch wrath fewer seven behead warn fortun descript chang sinc modern protect right back bencher without fear lose misbehav chamber compar father experi youngster place howev seen mani chang serv gone except worn occas sorri gone except hour chang increas technolog advanc media never sleep challeng continu multipli right buckingham john bercow sinc june seen rise challeng grow shown utterli imparti fearless defend whether mighti raucou determin open democraci bring reform made access schoolchildren offic reach peopl across energet ambassador throughout around world also devot hardwork constitu word endors right sutton coldfield right normanton pontefract castleford yvett favourit endors right learn camberwel peckham stand said reappoint small statur make mistak offic giant perhap true good thing come small packag propos right part alway found scrupul fair never allow view compromis imparti although think part agre stranger controversi think annoy front bench time time probabl testament sens commun among work precinct appli vigour mani vari task fall role also qualiti mani wonder abil recal obscur inform warn command english languag note father abil remain inordin length time record hour minut uninterrupt stint syria debat caus much admir comment strength bladder qualiti asid right perform chamber match record outsid host event chariti presid administr place great patienc good humour attest like gone charact present challeng next great chang peopl democrat present time face real threat freedom democraci preciou life brought starkli focu cyberattack unspeak violenc elect campaign death keith cours loss taken week right alway swiftli join word reassur proud manchest stand shoulder shoulder commun come lethal attack time like deliber need experi matur commit believ shown right devot disput serv strength fortitud great pleasur commend serv next "
          ],
          [
           "join right express gratitud support solidar french shown difficult time like mani contin franc obvious felt horror trauma terribl terrorist attack grate french support shown right absolut right descript polic offic everi uniform know confront cours duti fact often forgotten peopl polic offic walk actual life line safeti secur show enorm braveri grate also grate right said emerg servic hospit rush forward give support injur time knew might happen vicin whether might danger final right said time import show valu prevail terrorist live show uniti purpos valu share nation forward ensur terrorist defeat "
          ],
          [
           "alway great privileg respond front bench debat hear eclect issu realis true passion great mani issu gateshead open debat said offer home truth northeast constitu certainli paint vibrant pictur jewish commun gateshead celebr cross mind move easter recess import rememb connect easter jewish obvious much symbol posit calendar mani languag word easter ident similar strangford remind true mean easter much gave rose offer easter messag gateshead banter harrow east footbal unfortun latter place moment said want newcastl unit good season mention point mention barrow christma adjourn debat absolut great streak apologis barrow might watch debat poplar limehous came shop list passion cochair allparti group maritim port rais import issu leav european union support train next gener merchant navi support call also support call fire rescu servic statutori duti respect flood firefight alreadi respond flood incid call southend rais issu school fund formula sure case constitu feel school lose certainli case constitu surpris given rhetor grammar school receiv letter royal grammar school outlin huge face budget appear school safe head southend talent competit place would wish good luck whichev talent competit brentford isleworth ruth rais issu request help support past month highlight work serv constitu much behind scene beckenham rais issu syria remind role play world stage answer alway seem obviou easter recess might time mani reflect role play rais issu hysteroscopi think away time soon might want think suspect thing resolv back next adjourn debat recess rais exact issu everi opportun right leicest east keith talk mani issu relat polic matter real need justic polic widow move toward easter adjourn great sens loss heart last week lost keith part westminst villag affect everi behalf frontbench team condol famili place mourn loss rememb kill injur last wednesday terror thank work hard keep safe constitu also thank work secur servic work unseen save great mani live wish heywood middleton happi birthday suspect mani birthday greet right leicest east birthday rais import issu compulsori first school issu came light constitu recent larg gather taken microphon somebodi back epilept surpris room knew situat room full peopl respond first aider call think campaign compulsori first school fulli support strangford talk issu ethiopia somalia great passion campaign global justic poverti know continu fight justic move toward easter adjourn wish staff staff work estat happi easter particular easter wish polic secur work hard often gone unnot certainli past happi peac easter happi everyon "
          ],
          [
           "permiss would like make statement terrorist attack seen sinc last summer like rose seven week left wake worst terrorist attack seen decad khalid strike heart democraci foil brave polic offic tragic prove first mani attempt bring terror hate month later cowardli devast attack manchest left peopl dead injur suicid bomber target children concert manchest arena june deliber driven pedestrian london bridg three vehicl began stab peopl nearbi borough market eight peopl kill injur monday almost exactli brutal murder woke news return farright terror vicious drive group muslim worshipp north london fallen attack nine treat hospit westminst manchest arena london bridg finsburi park innoc peopl dead hospitalis tragic loss innoc life last week mother father lost daughter viciou attack london bridg stab celebr borough market week plan arena manchest salman commit heinou crime decid ticket come london enjoy wonder trip onceinalifetim experi instead last trip ever made know everyon want join express sorrow pain famili feel famili lost feel well pass thought prayer victim still recov trauma tragedi event also know want join acknowledg incred effort emerg servic difficult period event recent month serv remind braveri profession incred sacrific made work keep safe home noth sadden stand deliv statement like terror repres worst human seek spread fear intoler hate counter threat alway crucial part work introduc measur disrupt travel foreign fighter pass investigatori power give polic intellig servic power tool need keep public safe also seven week legisl strengthen respons terrorist financ crimin financ protect overal polic fund real term sinc increas counterterror budget fund uplift number polic offic process recruit addit secur intellig staff channel programm offer voluntari tailor programm support peopl assess risk radicalis support atrisk individu sinc follow referr counterterror internet referr unit social media provid remov piec illeg terrorist materi sinc februari howev enter phase global terror mani challeng face unpreced believ experienc trend threat face june westminst bridg attack march secur servic foil plot link inspir islamist extremist sinc seen five plot prevent well three islamist extremist plot succeed cours appal attack finsburi park earlier week must therefor must defeat ideolog hatr turn peopl mind away violenc toward pluralist valu must make sure ideolog flourish first place must forc tech compani take content platform must also identifi challeng stamp extrem lurk commun commiss counter extrem labour cours tackl racial inequ commiss racial equal need toand tackl extremist seek radicalis weaponis peopl today also mean difficult gone wrong light terrorist attack london manchest counterterror strategi review make sure polic secur servic need keep safe addit review handl recent terror attack look whether lesson learn approach announc former independ review terror legisl overse manchest london deprav action murder intent tear apart hate overwhelm defianc borough market recent dish oliv plastic shopper search delici treat tourist flick shadow shard rather divid recent violenc peopl seem even closer togeth follow exampl trader shopper borough market terrorist want fear turn anoth never give terrorist want stand togeth make point terrorist never valu uniti prevail commend statement "
          ],
          [
           "thank give opportun deliv maiden speech import debat pleasur follow right harlow robert honour privileg elect birmingham edgbaston constitu return femal everi elect sinc recent predecessor select labour candid edgbaston knew respect afar agre everi singl issu passion fierc defend labour valu first campaign session almost everi whose door knock seem stori help knew brilliant constitu follow contribut edgbaston never forgotten thousand constitu help small also honour first femal sikh bench alongsid slough dhesi first sikh first sikh femal come huge sens respons mani rais difficult issu behalf sikh matter hate crime bagh massacr sikh ethnic monitor censu independ public inquiri involv sikh genocid mani decad sikh live paid fought world contribut societi everi imagin histor moment sikh begin look like peopl serv sophia granddaught ruler formid sikh empir queen victoria would immens proud unit kingdom elect first femal sikh promin suffragett fought women right born bred divers citi unit kingdom proud vibrant excit multicultur societi live today walk birmingham caribbean restaur next indian dress shop gurdwara mosqu road cathol school polish accent irish accent even occasion exot alright neighbour whether first gener live work togeth make birmingham uniqu fascin citi today delight prospect great citi host commonwealth game peopl make place special edgbaston certainli special constitu made four divers edgbaston part constitu affluent equal area depriv constitu home beauti botan garden silver sweep reservoir univers hospit birmingham trust prestigi birmingham univers evergrow newman univers mani excel school tower inspir write ring influenti chamber commerc worldfam cricket ground univers hospit trust birmingham univers biggest employ constitu today debat public sector tuition import public sector caus chao seen wage fall inflat sinc nurs constitu forc food make meet creat workforc crisi caus miseri patient hospit surgeri part constitu chronic understaf knockon effect wait list spiral control seven balanc book back staff spent birmingham children hospit summer unfortun incid involv daughter trampolin ever bowl skill courag dedic staff bring work live rise tuition concern peopl famili impact hike increas student debt person constitu univers studi threeyear cours cost fiveyear medicin cours mention live cost peopl grow normal household constitu money tight astronom intimid money graduat wage stagnat student debt rise everyon societi benefit engin doctor social worker futur today revok rise tuition like behind histori record ordinari stori simpl valu father drove around constitu repres work everi hour could make sure sibl best possibl start life mother father provid brother sister simpl valu valu permeat everi aspect upbring bring today first work build someth live hour father spent drive deliv commun project presid local gurdwara resolv anoth squabbl never lost simpl dedic hard work belief could make thing better commun certainli achiev much secondli parent taught forget peopl around less fortun parent knew like start complet afresh feel alon lost ever sinc passion believ import thing commit simpl kind whether sympathet somebodi desper break last point would like draw upon make maiden speech issu around mental health emot wellb make person feel alon confus lone hopeless lost issu cruel indiscrimin affect time constitu high proport peopl heard teenag girl suffer anxieti bodi imag mani photoshop imag social media middleag suffer depress overwhelm find imposs make morn older person live alon worri make meet sleep night statu report royal societi public health show rate anxieti depress peopl increas past yearsthat nearli children peopl suffer sever depress report also nearli nine girl unhappi bodi shape peopl experienc cyberbulli action taken case cyberbulli report parent girl seven terrifi need much stop trend make sure children fulfil potenti ensur school given time opportun resourc make person social health econom educ lesson prioriti afterthought work social media platform identifi user could suffer mental health problem signpost help need support famili make sens heartbreak issu children could face build level resili mani peopl suffer mental health emot wellb issu caus inde caus addit issu substanc alcohol misus reach addict centr redeem constitu amaz work support peopl without would complet lost adrift societi john provid food support suffer homeless mental health issu recognis vital support faith organis along public sector worker constitu provid finest hour creation welfar safeti fell hard time tackl issu alcohol substanc misus need rethink safeti make sure emot help support anyon need whenev need time treat caus issu rather symptom final grow retir mean rest lifetim hard opportun feet focu thing passion rather destin dread unfortun resid constitu stage life make meet worri whether pension stretch cover whole month feel isol home local commun facil close left count sinc spoke someon checkout assist local supermarket recent channel documentari peopl home wonder remind amaz abil make differ peopl around essenti bring peopl togeth mission birmingham edgbaston whenev walk chamber fight fund servic incred work support constitu face mani issu speak peopl constitu whose voic need heard loudli work bring commun constitu closer togeth also think back drive hard work build platform opportun sibl succeed spirit bring role grate peopl edgbaston restless work fight everi singl "
          ],
          [
           "thank much allow opportun make maiden speech within import debat commend previou eloqu deliv strong messag drug debat first wish tribut predecessor fiona decad determin dedic servic constitu along predecessor fondli rememb peopl slough honour servic emul becom hardwork constitu slough deserv slough major cultur creativ highest number corpor startup compani headquart anywher slough trade estat instanc largest industri estat provid small startup construct busi appreci hard busi need work succeed becom engin economi home topperform school superb infrastructur link think agre slough bright futur silicon valley england vibrant divers commun kashmiri live harmoni side side punjabi irish polish ancestri inde world microcosm howev juxtapos idyl scenario unemploy fact highest level homeless child obes malnutrit lack afford social need work close slough labourrun help deliv resid need achiev econom progress care environ slough town first elect first ever mayor three decad later elect first ever turban sikh believ first ever elect european ceil truli broken sincer mani like follow decad come enorm collect achiev escap historyth huge excit anticip sheer heavili shoulder among liter thousand messag around globe individu succinctli feel realli happi final someon look like overwhelm recent trip north elderli walk tear stream said proud didnt think would sens bulli school look differ stand crowd case respect embrac countrymen women includ within highest echelon establish could demonstr greater embrac elect serv bench august mother addit human right abus elsewher world forget embrac even accept still huge problem exampl neighbour franc find extrem disappoint incred iron turban sikh soldier live liber descend even photo taken without remov turban even send children school without remov turban warp interpret secular preclud muslim wear hijab wear skull christian wear cross accept still problem advanc nation close alli unit sever sikh shot dead mistaken terrorist fight ignor overcom polit hate divis includ islamophobia preval certain societi media call condemn espous polit integr hollow word believ strongli commun cohes integr serv mayor integr mayor theme messag consist took school variou faith group wider commun proud distinct ident whatev also proud share heritag born brought nation also proud thought particularli pertin deliv messag belong minor commun none less distinct stand crowd distinct advantag much brightli colour turban magnet repeatedli point toward slough make invalu contribut proceed whilst proud sikh serv true sikh spirit better regardless background colour creed stand today feel immens proud part divers ever wherein women ethnic minor lesbian bisexu transgend peopl peopl disabl elect ever work cours need done polit public rightli proud achiev faith famili commun central life thing pivot life doubt continu guid come valu equal social justic deliv highqual public servic part societi truli togeth look share solidar express union hardwork peopl internationalist valu free qualiti educ includ higher educ free qualiti health social care free point need format grandfath retir teacher commit socialist explain labour famili treat equal pocket mean well abandon busi make speech river blood trade apartheid labour speak peopl like stand solidar south african easi platitud nelson mandela person hero mine whole world regard hero stand solidar peopl chip truli take immens courag labour best conclud born local father work langley factori mother work local petrol pump compani road could imagin serv town inde could imagin constitu offic would throw away spent earli close begin great humil take august offic faith place realli make peopl slough proud seek serv constitu "
          ],
          [
           "absolut confirm said endors allow indulg father medic offic mani recent paid visit climb bomber treat made wonder experi someon play part mani tribut work night secur "
          ],
          [
           "alway pleasur call speak introduct quickli focu real mean christma actual date remembr word christma mean christ celebr time asid peopl around world rememb fact christ gave divin come earth human frailti babi grow tempt test everi ultim part plan salvat everi person planet death resurrect point christma easter celebr time peopl everi nation tribe tongu time recognis date promis fulfil time birth offer birth believ accept christ birth certif plan belov peopl christma realli christma time rememb know christian throughout world join thank real mean christma time must also rememb across world persecut deliber verbal physic abus worship peopl insid outsid pray peopl keep much thought short time mention scriptur text receiv labour night thought much want know talk quickli want focu volunt sincer thank peopl commun work night week weekend sacrif inde provid help assist peopl throughout spend whole christma famili take care peopl famili also think staff healthcar staff auxiliari porter clean staff servic technician polic servic northern ireland polic servic intellig agenc sleep sleep also think fire servic prison offic staff road servic also uniform whether royal navi armi forc peopl post part world close famili take moment think also want take time highlight fact nation would work without help support liter armi volunt daili give time energi make differ help peopl throughout land simpli could live life without live nation giver peopl give charit gener throughout whole alway make feel proud think give mental know peopl northern ireland perhap give nation averag everybodi region unit kingdom give keep mind also consciou fact mention chariti time mention quickli food peopl work trussel trust food independ food staggeringli volunt almost hour unpaid work equival basic wage volunt food consid well mainli support sector thousand donat food help peopl commun make contribut christma time want express sincer thank throughout volunt help commun group constitu strangford rest great unit kingdom great northern ireland societi simpli would work without peopl help selfless clear christma hear peopl donat food provid gift peopl carol sing elderli peopl invit neighbour christma much famili famili christma time wish everi enjoy famili around well famili ever mind offer sincer thank everyon play part make someon life better salvat armi help individu homeless organis mention focu peopl work behalf constitu thank patienc quit someth know said mani time sincer fact probabl show patienc anybodi next realli word endeavour make happen taken seven rememb rememb come spare said right chorley much thought keep famili much mind prayer time thank fairli much patienc kind much back bencher back bencher aspir anyth back bencher particularli enjoy opportun particip debat thank hansard staff understand accent actual quit challeng time must much challeng anybodi also thank staff includ secur look right majesti majesti majesti merri christma happi also publicli wish constitu strangford privileg repres merri christma happi bless "
          ],
          [
           "want respect bless first refer entri regist financi interest absolut respect harrow east hammersmith andi said sure provid templat privat tone thorough work give credit involv work work pleasur applaud agre part whole strategi spirit wish tribut peopl commun play part local also vital brian castl offic recent retir could call time even concern homeless person constitu would tell within hour servic provid help given person great asset also give credit colin previou borough command invit polic saturday morn shift amaz polic deal peopl sleep rough wish amaz policemen cajol peopl initi help receiv servic need also happen health mental health agenda psychiatr servic depart triag system vital part whole strategi everyon particularli peopl find rough sleep homeless person treat somebodi injuri heartbroken walk know home also tribut schoolgirl constitu sold amaz cupcak bake rais money said give page smash smash target think harrow east also smash target hero wear cape hero spider drawn face today hero wear suit back reduc homeless privileg "
          ],
          [
           "like dudley north begin thank good peopl constitu return place pledg continu work hard lost good peopl walthamstow elect period want tribut work local commun eleanor passion campaign councillor much give whose life brutal short would join look queen speech could local healthcar servic would passion advoc campaign futur cross hospit whose build built came exist treat peopl everi highest figur ever group worker deserv rise nurs doctor mani bench rightli furiou hear messag past seven seen auster torn social econom threadbar thing look queen speech need echo call invest polic massiv amount gang crime walthamstow talk simpli help mani constitu rais deep concern educ school fund teacher good school rise level person debt like makerfield yvonn worri also sustain transform plan ruin miss queen speech import commit equal mani know fight equal defend exist right advanc need made women northern ireland coalit deal made unless speak rule june clear women discrimin taxpay access abort right whatev person view matter abil provid fund enabl women access servic thousand women travel northern ireland understand decis made belfast influenc happen hospit walthamstow hospit across "
          ]
         ],
         "hovertemplate": "cos axe 1=%{x}<br>cos axe 2=%{y}<br>text=%{customdata[0]}<br>color=%{marker.color}<extra></extra>",
         "legendgroup": "",
         "marker": {
          "color": [
           1,
           1,
           1,
           1,
           1,
           1,
           1,
           1,
           1,
           1,
           1,
           1,
           1,
           1,
           1,
           1,
           1,
           1,
           1,
           1,
           1,
           1,
           1,
           1,
           1,
           1,
           1,
           1,
           1,
           1,
           2,
           2,
           2,
           2,
           2,
           2,
           2,
           2,
           2,
           2,
           2,
           2,
           2,
           2,
           2,
           2,
           2,
           2,
           2,
           2,
           2,
           2,
           2,
           2,
           2,
           2,
           2,
           2,
           2,
           2,
           3,
           3,
           3,
           3,
           3,
           3,
           3,
           3,
           3,
           3,
           3,
           3,
           3,
           3,
           3,
           3,
           3,
           3,
           3,
           3,
           3,
           3,
           3,
           3,
           3,
           3,
           3,
           3,
           3,
           3,
           4,
           4,
           4,
           4,
           4,
           4,
           4,
           4,
           4,
           4,
           4,
           4,
           4,
           4,
           4,
           4,
           4,
           4,
           4,
           4,
           4,
           4,
           4,
           4,
           4,
           4,
           4,
           4,
           4,
           4
          ],
          "coloraxis": "coloraxis",
          "symbol": "circle"
         },
         "mode": "markers",
         "name": "",
         "orientation": "v",
         "showlegend": false,
         "type": "scatter",
         "x": [
          0.6900270693536279,
          0.6194174018309271,
          0.6132053020641642,
          0.6125004274427689,
          0.6067700114428595,
          0.6011904558630642,
          0.5965767993271455,
          0.5910261264741529,
          0.5793967863468498,
          0.5755137450044239,
          0.5715986109689561,
          0.562660321316289,
          0.5606126139998503,
          0.5604813856614453,
          0.5602070610495249,
          0.5600514474984778,
          0.5591499764932311,
          0.5553281096373426,
          0.5547506785063568,
          0.5525289254475262,
          0.5471757647095117,
          0.5459582016661785,
          0.5440447784642696,
          0.5440435624325017,
          0.541587056157435,
          0.5413454699502889,
          0.5412083261176505,
          0.5393759896389063,
          0.5377209931331367,
          0.5374684683089135,
          -0.6872299187507599,
          -0.6842790535981288,
          -0.6811715675274397,
          -0.6738848167009281,
          -0.6736265614072057,
          -0.6726533989724622,
          -0.6694935586601559,
          -0.666950782049094,
          -0.6624926170224209,
          -0.6587650136517647,
          -0.6571805984479503,
          -0.6571279872393903,
          -0.6479163029835285,
          -0.6456615279389769,
          -0.6436222382761109,
          -0.6431611165564771,
          -0.6423105244438866,
          -0.6418089367477422,
          -0.6393473213093522,
          -0.6391644619384959,
          -0.6373261581997373,
          -0.6344210767844048,
          -0.6336222873196735,
          -0.6325836629217158,
          -0.6320623348237354,
          -0.631809860324138,
          -0.6313133915413259,
          -0.6304968703079712,
          -0.6303906284012,
          -0.6292789996745706,
          -0.163253317747215,
          -0.2898159673021524,
          -0.48680522030470563,
          -0.5558646358685996,
          -0.3762283357816876,
          -0.48535121018618005,
          -0.3563540405574301,
          -0.350628524667038,
          -0.49189356052420535,
          -0.3827305573040693,
          -0.35685355966095367,
          -0.24779967194424563,
          -0.24173764813046045,
          -0.41869323092172767,
          -0.08324668870804525,
          -0.49045740731168697,
          -0.4878941675396881,
          -0.5421975051839716,
          -0.5424075989960409,
          -0.6288791488171717,
          -0.5008765365159131,
          -0.6587650136517647,
          -0.6252448717185296,
          -0.11809587665803431,
          -0.5711082322483844,
          -0.39112609324981323,
          -0.6418089367477422,
          -0.3016738155184157,
          -0.5066949939382879,
          -0.5687806182718492,
          0.10405657505931662,
          0.14545314083261218,
          0.004531268556214473,
          0.20616157709026176,
          0.09384663774200802,
          0.021244573998151238,
          0.30134867439236257,
          0.14454038512919054,
          0.3193773794708974,
          -0.09864845691224942,
          0.38972990273658803,
          0.15410334913295265,
          0.06767712395323207,
          0.048854957529821455,
          0.1650122792537451,
          0.079762406203565,
          0.14493929392458452,
          0.2246483905246034,
          0.10027833746026285,
          0.06715160217947616,
          0.19674440349540714,
          0.10113441548481243,
          0.12893266649234228,
          0.06619172558553965,
          0.32493604112569374,
          0.47561152024016623,
          0.29142044225396313,
          0.27464698955982486,
          0.12495429955248466,
          0.14274403185730047
         ],
         "xaxis": "x",
         "y": [
          -0.16934163999532237,
          -0.050048150817525866,
          -0.0699106691311618,
          -0.12887255657552923,
          -0.3148042137457688,
          -0.2975355855839719,
          -0.052063182509095515,
          -0.2276954130439283,
          -0.08261176532406467,
          -0.10188170189292566,
          -0.1181228596660806,
          -0.12436126274944416,
          -0.18032947312473968,
          -0.054599022548786826,
          -0.062311116424131244,
          -0.028754019260976982,
          0.009918535319879613,
          -0.08471607110555343,
          0.09169457571360148,
          -0.08067533827244316,
          -0.15575553476713372,
          -0.1662412425542738,
          -0.03455289592457329,
          -0.11963404823591066,
          -0.2258414677380459,
          -0.08471927103294231,
          -0.21862375745972995,
          -0.08574577675720157,
          -0.023970104807583707,
          -0.2266783950302762,
          0.2779555591494938,
          0.38829646954137415,
          0.372361919249872,
          0.34764592424314855,
          0.2202333767915519,
          0.3683994529212769,
          0.38825125026376667,
          0.38996530002726376,
          0.35549610146381605,
          0.4465741828015717,
          0.33400909246591487,
          0.39198942096464995,
          0.295705153992218,
          0.28019165974852633,
          0.3749749715780622,
          0.18275251750626137,
          0.3723519609781401,
          0.44149177555954927,
          0.14925688976800444,
          0.35615531409748113,
          0.2904944932557996,
          0.2790419005953212,
          0.18183517432479127,
          0.2962978161011095,
          0.28525128049758613,
          0.36447933250881104,
          0.3974424404094823,
          0.1584575264027836,
          0.34818298776621587,
          0.24495866030465535,
          0.514203430670154,
          0.5118473427137946,
          0.5064184777252422,
          0.5018789394470918,
          0.49150421288620055,
          0.48921945338721956,
          0.4838425508196802,
          0.47322533940271494,
          0.4658508369607019,
          0.4656156768774897,
          0.46357965325479805,
          0.46317047634235525,
          0.46033330500458747,
          0.4580650308483768,
          0.4540836175393268,
          0.4534874380973774,
          0.45315777407833513,
          0.45119181656537893,
          0.4497722553893857,
          0.44906717669110024,
          0.4470645852500405,
          0.4465741828015717,
          0.44641003215674335,
          0.44344178504228776,
          0.44339135749461334,
          0.4426536097266087,
          0.44149177555954927,
          0.44020649020536956,
          0.43999408776534715,
          0.4398737749798134,
          -0.6100476247255835,
          -0.5880910599537168,
          -0.5712637823882041,
          -0.5643551490823984,
          -0.5549433291402247,
          -0.540374403565579,
          -0.5328917665357481,
          -0.5302193690592902,
          -0.5300394249164028,
          -0.5282778471958592,
          -0.5277570657536066,
          -0.5274729738366866,
          -0.525467575728627,
          -0.5233409389456605,
          -0.5202542099405078,
          -0.5189528219295879,
          -0.5189115329689798,
          -0.5174117657958321,
          -0.5163510017440001,
          -0.515598581020283,
          -0.5152133086820918,
          -0.5142989988045619,
          -0.5128914073207989,
          -0.5114148791861002,
          -0.5079128397170052,
          -0.5073060218235873,
          -0.5059740718526311,
          -0.5057766078032081,
          -0.5007970506475204,
          -0.49873110152187294
         ],
         "yaxis": "y"
        }
       ],
       "layout": {
        "coloraxis": {
         "colorbar": {
          "title": {
           "text": "color"
          }
         },
         "colorscale": [
          [
           0,
           "#0d0887"
          ],
          [
           0.1111111111111111,
           "#46039f"
          ],
          [
           0.2222222222222222,
           "#7201a8"
          ],
          [
           0.3333333333333333,
           "#9c179e"
          ],
          [
           0.4444444444444444,
           "#bd3786"
          ],
          [
           0.5555555555555556,
           "#d8576b"
          ],
          [
           0.6666666666666666,
           "#ed7953"
          ],
          [
           0.7777777777777778,
           "#fb9f3a"
          ],
          [
           0.8888888888888888,
           "#fdca26"
          ],
          [
           1,
           "#f0f921"
          ]
         ]
        },
        "legend": {
         "tracegroupgap": 0
        },
        "margin": {
         "t": 60
        },
        "template": {
         "data": {
          "bar": [
           {
            "error_x": {
             "color": "#2a3f5f"
            },
            "error_y": {
             "color": "#2a3f5f"
            },
            "marker": {
             "line": {
              "color": "#E5ECF6",
              "width": 0.5
             },
             "pattern": {
              "fillmode": "overlay",
              "size": 10,
              "solidity": 0.2
             }
            },
            "type": "bar"
           }
          ],
          "barpolar": [
           {
            "marker": {
             "line": {
              "color": "#E5ECF6",
              "width": 0.5
             },
             "pattern": {
              "fillmode": "overlay",
              "size": 10,
              "solidity": 0.2
             }
            },
            "type": "barpolar"
           }
          ],
          "carpet": [
           {
            "aaxis": {
             "endlinecolor": "#2a3f5f",
             "gridcolor": "white",
             "linecolor": "white",
             "minorgridcolor": "white",
             "startlinecolor": "#2a3f5f"
            },
            "baxis": {
             "endlinecolor": "#2a3f5f",
             "gridcolor": "white",
             "linecolor": "white",
             "minorgridcolor": "white",
             "startlinecolor": "#2a3f5f"
            },
            "type": "carpet"
           }
          ],
          "choropleth": [
           {
            "colorbar": {
             "outlinewidth": 0,
             "ticks": ""
            },
            "type": "choropleth"
           }
          ],
          "contour": [
           {
            "colorbar": {
             "outlinewidth": 0,
             "ticks": ""
            },
            "colorscale": [
             [
              0,
              "#0d0887"
             ],
             [
              0.1111111111111111,
              "#46039f"
             ],
             [
              0.2222222222222222,
              "#7201a8"
             ],
             [
              0.3333333333333333,
              "#9c179e"
             ],
             [
              0.4444444444444444,
              "#bd3786"
             ],
             [
              0.5555555555555556,
              "#d8576b"
             ],
             [
              0.6666666666666666,
              "#ed7953"
             ],
             [
              0.7777777777777778,
              "#fb9f3a"
             ],
             [
              0.8888888888888888,
              "#fdca26"
             ],
             [
              1,
              "#f0f921"
             ]
            ],
            "type": "contour"
           }
          ],
          "contourcarpet": [
           {
            "colorbar": {
             "outlinewidth": 0,
             "ticks": ""
            },
            "type": "contourcarpet"
           }
          ],
          "heatmap": [
           {
            "colorbar": {
             "outlinewidth": 0,
             "ticks": ""
            },
            "colorscale": [
             [
              0,
              "#0d0887"
             ],
             [
              0.1111111111111111,
              "#46039f"
             ],
             [
              0.2222222222222222,
              "#7201a8"
             ],
             [
              0.3333333333333333,
              "#9c179e"
             ],
             [
              0.4444444444444444,
              "#bd3786"
             ],
             [
              0.5555555555555556,
              "#d8576b"
             ],
             [
              0.6666666666666666,
              "#ed7953"
             ],
             [
              0.7777777777777778,
              "#fb9f3a"
             ],
             [
              0.8888888888888888,
              "#fdca26"
             ],
             [
              1,
              "#f0f921"
             ]
            ],
            "type": "heatmap"
           }
          ],
          "heatmapgl": [
           {
            "colorbar": {
             "outlinewidth": 0,
             "ticks": ""
            },
            "colorscale": [
             [
              0,
              "#0d0887"
             ],
             [
              0.1111111111111111,
              "#46039f"
             ],
             [
              0.2222222222222222,
              "#7201a8"
             ],
             [
              0.3333333333333333,
              "#9c179e"
             ],
             [
              0.4444444444444444,
              "#bd3786"
             ],
             [
              0.5555555555555556,
              "#d8576b"
             ],
             [
              0.6666666666666666,
              "#ed7953"
             ],
             [
              0.7777777777777778,
              "#fb9f3a"
             ],
             [
              0.8888888888888888,
              "#fdca26"
             ],
             [
              1,
              "#f0f921"
             ]
            ],
            "type": "heatmapgl"
           }
          ],
          "histogram": [
           {
            "marker": {
             "pattern": {
              "fillmode": "overlay",
              "size": 10,
              "solidity": 0.2
             }
            },
            "type": "histogram"
           }
          ],
          "histogram2d": [
           {
            "colorbar": {
             "outlinewidth": 0,
             "ticks": ""
            },
            "colorscale": [
             [
              0,
              "#0d0887"
             ],
             [
              0.1111111111111111,
              "#46039f"
             ],
             [
              0.2222222222222222,
              "#7201a8"
             ],
             [
              0.3333333333333333,
              "#9c179e"
             ],
             [
              0.4444444444444444,
              "#bd3786"
             ],
             [
              0.5555555555555556,
              "#d8576b"
             ],
             [
              0.6666666666666666,
              "#ed7953"
             ],
             [
              0.7777777777777778,
              "#fb9f3a"
             ],
             [
              0.8888888888888888,
              "#fdca26"
             ],
             [
              1,
              "#f0f921"
             ]
            ],
            "type": "histogram2d"
           }
          ],
          "histogram2dcontour": [
           {
            "colorbar": {
             "outlinewidth": 0,
             "ticks": ""
            },
            "colorscale": [
             [
              0,
              "#0d0887"
             ],
             [
              0.1111111111111111,
              "#46039f"
             ],
             [
              0.2222222222222222,
              "#7201a8"
             ],
             [
              0.3333333333333333,
              "#9c179e"
             ],
             [
              0.4444444444444444,
              "#bd3786"
             ],
             [
              0.5555555555555556,
              "#d8576b"
             ],
             [
              0.6666666666666666,
              "#ed7953"
             ],
             [
              0.7777777777777778,
              "#fb9f3a"
             ],
             [
              0.8888888888888888,
              "#fdca26"
             ],
             [
              1,
              "#f0f921"
             ]
            ],
            "type": "histogram2dcontour"
           }
          ],
          "mesh3d": [
           {
            "colorbar": {
             "outlinewidth": 0,
             "ticks": ""
            },
            "type": "mesh3d"
           }
          ],
          "parcoords": [
           {
            "line": {
             "colorbar": {
              "outlinewidth": 0,
              "ticks": ""
             }
            },
            "type": "parcoords"
           }
          ],
          "pie": [
           {
            "automargin": true,
            "type": "pie"
           }
          ],
          "scatter": [
           {
            "fillpattern": {
             "fillmode": "overlay",
             "size": 10,
             "solidity": 0.2
            },
            "type": "scatter"
           }
          ],
          "scatter3d": [
           {
            "line": {
             "colorbar": {
              "outlinewidth": 0,
              "ticks": ""
             }
            },
            "marker": {
             "colorbar": {
              "outlinewidth": 0,
              "ticks": ""
             }
            },
            "type": "scatter3d"
           }
          ],
          "scattercarpet": [
           {
            "marker": {
             "colorbar": {
              "outlinewidth": 0,
              "ticks": ""
             }
            },
            "type": "scattercarpet"
           }
          ],
          "scattergeo": [
           {
            "marker": {
             "colorbar": {
              "outlinewidth": 0,
              "ticks": ""
             }
            },
            "type": "scattergeo"
           }
          ],
          "scattergl": [
           {
            "marker": {
             "colorbar": {
              "outlinewidth": 0,
              "ticks": ""
             }
            },
            "type": "scattergl"
           }
          ],
          "scattermapbox": [
           {
            "marker": {
             "colorbar": {
              "outlinewidth": 0,
              "ticks": ""
             }
            },
            "type": "scattermapbox"
           }
          ],
          "scatterpolar": [
           {
            "marker": {
             "colorbar": {
              "outlinewidth": 0,
              "ticks": ""
             }
            },
            "type": "scatterpolar"
           }
          ],
          "scatterpolargl": [
           {
            "marker": {
             "colorbar": {
              "outlinewidth": 0,
              "ticks": ""
             }
            },
            "type": "scatterpolargl"
           }
          ],
          "scatterternary": [
           {
            "marker": {
             "colorbar": {
              "outlinewidth": 0,
              "ticks": ""
             }
            },
            "type": "scatterternary"
           }
          ],
          "surface": [
           {
            "colorbar": {
             "outlinewidth": 0,
             "ticks": ""
            },
            "colorscale": [
             [
              0,
              "#0d0887"
             ],
             [
              0.1111111111111111,
              "#46039f"
             ],
             [
              0.2222222222222222,
              "#7201a8"
             ],
             [
              0.3333333333333333,
              "#9c179e"
             ],
             [
              0.4444444444444444,
              "#bd3786"
             ],
             [
              0.5555555555555556,
              "#d8576b"
             ],
             [
              0.6666666666666666,
              "#ed7953"
             ],
             [
              0.7777777777777778,
              "#fb9f3a"
             ],
             [
              0.8888888888888888,
              "#fdca26"
             ],
             [
              1,
              "#f0f921"
             ]
            ],
            "type": "surface"
           }
          ],
          "table": [
           {
            "cells": {
             "fill": {
              "color": "#EBF0F8"
             },
             "line": {
              "color": "white"
             }
            },
            "header": {
             "fill": {
              "color": "#C8D4E3"
             },
             "line": {
              "color": "white"
             }
            },
            "type": "table"
           }
          ]
         },
         "layout": {
          "annotationdefaults": {
           "arrowcolor": "#2a3f5f",
           "arrowhead": 0,
           "arrowwidth": 1
          },
          "autotypenumbers": "strict",
          "coloraxis": {
           "colorbar": {
            "outlinewidth": 0,
            "ticks": ""
           }
          },
          "colorscale": {
           "diverging": [
            [
             0,
             "#8e0152"
            ],
            [
             0.1,
             "#c51b7d"
            ],
            [
             0.2,
             "#de77ae"
            ],
            [
             0.3,
             "#f1b6da"
            ],
            [
             0.4,
             "#fde0ef"
            ],
            [
             0.5,
             "#f7f7f7"
            ],
            [
             0.6,
             "#e6f5d0"
            ],
            [
             0.7,
             "#b8e186"
            ],
            [
             0.8,
             "#7fbc41"
            ],
            [
             0.9,
             "#4d9221"
            ],
            [
             1,
             "#276419"
            ]
           ],
           "sequential": [
            [
             0,
             "#0d0887"
            ],
            [
             0.1111111111111111,
             "#46039f"
            ],
            [
             0.2222222222222222,
             "#7201a8"
            ],
            [
             0.3333333333333333,
             "#9c179e"
            ],
            [
             0.4444444444444444,
             "#bd3786"
            ],
            [
             0.5555555555555556,
             "#d8576b"
            ],
            [
             0.6666666666666666,
             "#ed7953"
            ],
            [
             0.7777777777777778,
             "#fb9f3a"
            ],
            [
             0.8888888888888888,
             "#fdca26"
            ],
            [
             1,
             "#f0f921"
            ]
           ],
           "sequentialminus": [
            [
             0,
             "#0d0887"
            ],
            [
             0.1111111111111111,
             "#46039f"
            ],
            [
             0.2222222222222222,
             "#7201a8"
            ],
            [
             0.3333333333333333,
             "#9c179e"
            ],
            [
             0.4444444444444444,
             "#bd3786"
            ],
            [
             0.5555555555555556,
             "#d8576b"
            ],
            [
             0.6666666666666666,
             "#ed7953"
            ],
            [
             0.7777777777777778,
             "#fb9f3a"
            ],
            [
             0.8888888888888888,
             "#fdca26"
            ],
            [
             1,
             "#f0f921"
            ]
           ]
          },
          "colorway": [
           "#636efa",
           "#EF553B",
           "#00cc96",
           "#ab63fa",
           "#FFA15A",
           "#19d3f3",
           "#FF6692",
           "#B6E880",
           "#FF97FF",
           "#FECB52"
          ],
          "font": {
           "color": "#2a3f5f"
          },
          "geo": {
           "bgcolor": "white",
           "lakecolor": "white",
           "landcolor": "#E5ECF6",
           "showlakes": true,
           "showland": true,
           "subunitcolor": "white"
          },
          "hoverlabel": {
           "align": "left"
          },
          "hovermode": "closest",
          "mapbox": {
           "style": "light"
          },
          "paper_bgcolor": "white",
          "plot_bgcolor": "#E5ECF6",
          "polar": {
           "angularaxis": {
            "gridcolor": "white",
            "linecolor": "white",
            "ticks": ""
           },
           "bgcolor": "#E5ECF6",
           "radialaxis": {
            "gridcolor": "white",
            "linecolor": "white",
            "ticks": ""
           }
          },
          "scene": {
           "xaxis": {
            "backgroundcolor": "#E5ECF6",
            "gridcolor": "white",
            "gridwidth": 2,
            "linecolor": "white",
            "showbackground": true,
            "ticks": "",
            "zerolinecolor": "white"
           },
           "yaxis": {
            "backgroundcolor": "#E5ECF6",
            "gridcolor": "white",
            "gridwidth": 2,
            "linecolor": "white",
            "showbackground": true,
            "ticks": "",
            "zerolinecolor": "white"
           },
           "zaxis": {
            "backgroundcolor": "#E5ECF6",
            "gridcolor": "white",
            "gridwidth": 2,
            "linecolor": "white",
            "showbackground": true,
            "ticks": "",
            "zerolinecolor": "white"
           }
          },
          "shapedefaults": {
           "line": {
            "color": "#2a3f5f"
           }
          },
          "ternary": {
           "aaxis": {
            "gridcolor": "white",
            "linecolor": "white",
            "ticks": ""
           },
           "baxis": {
            "gridcolor": "white",
            "linecolor": "white",
            "ticks": ""
           },
           "bgcolor": "#E5ECF6",
           "caxis": {
            "gridcolor": "white",
            "linecolor": "white",
            "ticks": ""
           }
          },
          "title": {
           "x": 0.05
          },
          "xaxis": {
           "automargin": true,
           "gridcolor": "white",
           "linecolor": "white",
           "ticks": "",
           "title": {
            "standoff": 15
           },
           "zerolinecolor": "white",
           "zerolinewidth": 2
          },
          "yaxis": {
           "automargin": true,
           "gridcolor": "white",
           "linecolor": "white",
           "ticks": "",
           "title": {
            "standoff": 15
           },
           "zerolinecolor": "white",
           "zerolinewidth": 2
          }
         }
        },
        "xaxis": {
         "anchor": "y",
         "domain": [
          0,
          1
         ],
         "title": {
          "text": "cos axe 1"
         }
        },
        "yaxis": {
         "anchor": "x",
         "domain": [
          0,
          1
         ],
         "title": {
          "text": "cos axe 2"
         }
        }
       }
      }
     },
     "metadata": {},
     "output_type": "display_data"
    }
   ],
   "source": [
    "scatter_representative_speeches(df_2017, 30)"
   ]
  },
  {
   "cell_type": "code",
   "execution_count": 4,
   "metadata": {},
   "outputs": [
    {
     "data": {
      "text/html": [
       "<div>\n",
       "<style scoped>\n",
       "    .dataframe tbody tr th:only-of-type {\n",
       "        vertical-align: middle;\n",
       "    }\n",
       "\n",
       "    .dataframe tbody tr th {\n",
       "        vertical-align: top;\n",
       "    }\n",
       "\n",
       "    .dataframe thead th {\n",
       "        text-align: right;\n",
       "    }\n",
       "</style>\n",
       "<table border=\"1\" class=\"dataframe\">\n",
       "  <thead>\n",
       "    <tr style=\"text-align: right;\">\n",
       "      <th></th>\n",
       "      <th>Unnamed: 0</th>\n",
       "      <th>text</th>\n",
       "      <th>sentence_embedding</th>\n",
       "      <th>source</th>\n",
       "      <th>party</th>\n",
       "      <th>keywords</th>\n",
       "      <th>year</th>\n",
       "      <th>proj_embedding_x</th>\n",
       "      <th>proj_embedding_y</th>\n",
       "      <th>cos axe 1</th>\n",
       "      <th>cos axe 2</th>\n",
       "    </tr>\n",
       "  </thead>\n",
       "  <tbody>\n",
       "    <tr>\n",
       "      <th>7113</th>\n",
       "      <td>7113.0</td>\n",
       "      <td>would appropri consider amount independ oper b...</td>\n",
       "      <td>['-0.06787063758851469', '-0.10807076212260336...</td>\n",
       "      <td>par</td>\n",
       "      <td>Con</td>\n",
       "      <td>[]</td>\n",
       "      <td>2017</td>\n",
       "      <td>-0.493482</td>\n",
       "      <td>0.029099</td>\n",
       "      <td>-0.687230</td>\n",
       "      <td>0.277956</td>\n",
       "    </tr>\n",
       "    <tr>\n",
       "      <th>7786</th>\n",
       "      <td>7786.0</td>\n",
       "      <td>contrast debat realli issu aros report thank l...</td>\n",
       "      <td>['-0.03900079175152582', '0.010084351390706736...</td>\n",
       "      <td>par</td>\n",
       "      <td>Con</td>\n",
       "      <td>[]</td>\n",
       "      <td>2017</td>\n",
       "      <td>-0.452862</td>\n",
       "      <td>0.120997</td>\n",
       "      <td>-0.684279</td>\n",
       "      <td>0.388296</td>\n",
       "    </tr>\n",
       "    <tr>\n",
       "      <th>21893</th>\n",
       "      <td>21893.0</td>\n",
       "      <td>think must follow execut function northern ire...</td>\n",
       "      <td>['-0.0607481674626385', '0.08534007643022573',...</td>\n",
       "      <td>par</td>\n",
       "      <td>Con</td>\n",
       "      <td>['edge', 'tech']</td>\n",
       "      <td>2017</td>\n",
       "      <td>-0.388289</td>\n",
       "      <td>0.092781</td>\n",
       "      <td>-0.681172</td>\n",
       "      <td>0.372362</td>\n",
       "    </tr>\n",
       "    <tr>\n",
       "      <th>20919</th>\n",
       "      <td>20919.0</td>\n",
       "      <td>rais excel point also rais european chemic age...</td>\n",
       "      <td>['-0.06470761626460986', '-0.00350242579236670...</td>\n",
       "      <td>par</td>\n",
       "      <td>Lab</td>\n",
       "      <td>['excel']</td>\n",
       "      <td>2017</td>\n",
       "      <td>-0.402341</td>\n",
       "      <td>0.079714</td>\n",
       "      <td>-0.673885</td>\n",
       "      <td>0.347646</td>\n",
       "    </tr>\n",
       "    <tr>\n",
       "      <th>11865</th>\n",
       "      <td>11865.0</td>\n",
       "      <td>come moment sanction enabl continu impos updat...</td>\n",
       "      <td>['-0.07121734986012887', '0.026574939805798392...</td>\n",
       "      <td>par</td>\n",
       "      <td>Con</td>\n",
       "      <td>[]</td>\n",
       "      <td>2017</td>\n",
       "      <td>-0.468107</td>\n",
       "      <td>-0.014290</td>\n",
       "      <td>-0.673627</td>\n",
       "      <td>0.220233</td>\n",
       "    </tr>\n",
       "    <tr>\n",
       "      <th>21891</th>\n",
       "      <td>21891.0</td>\n",
       "      <td>take learn point utmost serious alway respect ...</td>\n",
       "      <td>['-0.16427862983438665', '-0.03334673335832106...</td>\n",
       "      <td>par</td>\n",
       "      <td>Con</td>\n",
       "      <td>[]</td>\n",
       "      <td>2017</td>\n",
       "      <td>-0.330935</td>\n",
       "      <td>0.079536</td>\n",
       "      <td>-0.672653</td>\n",
       "      <td>0.368399</td>\n",
       "    </tr>\n",
       "    <tr>\n",
       "      <th>21160</th>\n",
       "      <td>21160.0</td>\n",
       "      <td>regul turn briefli respond name nottingham eas...</td>\n",
       "      <td>['-0.04656238799476917', '0.029661750132907505...</td>\n",
       "      <td>par</td>\n",
       "      <td>Con</td>\n",
       "      <td>[]</td>\n",
       "      <td>2017</td>\n",
       "      <td>-0.411626</td>\n",
       "      <td>0.117045</td>\n",
       "      <td>-0.669494</td>\n",
       "      <td>0.388251</td>\n",
       "    </tr>\n",
       "    <tr>\n",
       "      <th>6997</th>\n",
       "      <td>6997.0</td>\n",
       "      <td>agre know problem easi solv central today deba...</td>\n",
       "      <td>['-0.06971022376466604', '-0.07991989402134969...</td>\n",
       "      <td>par</td>\n",
       "      <td>Lab</td>\n",
       "      <td>[]</td>\n",
       "      <td>2017</td>\n",
       "      <td>-0.324058</td>\n",
       "      <td>0.094296</td>\n",
       "      <td>-0.666951</td>\n",
       "      <td>0.389965</td>\n",
       "    </tr>\n",
       "    <tr>\n",
       "      <th>21154</th>\n",
       "      <td>21154.0</td>\n",
       "      <td>sure follow contribut reliev know make brief r...</td>\n",
       "      <td>['-0.12890731611804954', '0.029409835315031718...</td>\n",
       "      <td>par</td>\n",
       "      <td>Lab</td>\n",
       "      <td>[]</td>\n",
       "      <td>2017</td>\n",
       "      <td>-0.380314</td>\n",
       "      <td>0.085760</td>\n",
       "      <td>-0.662493</td>\n",
       "      <td>0.355496</td>\n",
       "    </tr>\n",
       "    <tr>\n",
       "      <th>17824</th>\n",
       "      <td>17824.0</td>\n",
       "      <td>need make progress forgiv much explain procedu...</td>\n",
       "      <td>['-0.022034905724411302', '0.03625110354263639...</td>\n",
       "      <td>par</td>\n",
       "      <td>Con</td>\n",
       "      <td>['tech']</td>\n",
       "      <td>2017</td>\n",
       "      <td>-0.261493</td>\n",
       "      <td>0.111456</td>\n",
       "      <td>-0.658765</td>\n",
       "      <td>0.446574</td>\n",
       "    </tr>\n",
       "  </tbody>\n",
       "</table>\n",
       "</div>"
      ],
      "text/plain": [
       "       Unnamed: 0                                               text  \\\n",
       "7113       7113.0  would appropri consider amount independ oper b...   \n",
       "7786       7786.0  contrast debat realli issu aros report thank l...   \n",
       "21893     21893.0  think must follow execut function northern ire...   \n",
       "20919     20919.0  rais excel point also rais european chemic age...   \n",
       "11865     11865.0  come moment sanction enabl continu impos updat...   \n",
       "21891     21891.0  take learn point utmost serious alway respect ...   \n",
       "21160     21160.0  regul turn briefli respond name nottingham eas...   \n",
       "6997       6997.0  agre know problem easi solv central today deba...   \n",
       "21154     21154.0  sure follow contribut reliev know make brief r...   \n",
       "17824     17824.0  need make progress forgiv much explain procedu...   \n",
       "\n",
       "                                      sentence_embedding source party  \\\n",
       "7113   ['-0.06787063758851469', '-0.10807076212260336...    par   Con   \n",
       "7786   ['-0.03900079175152582', '0.010084351390706736...    par   Con   \n",
       "21893  ['-0.0607481674626385', '0.08534007643022573',...    par   Con   \n",
       "20919  ['-0.06470761626460986', '-0.00350242579236670...    par   Lab   \n",
       "11865  ['-0.07121734986012887', '0.026574939805798392...    par   Con   \n",
       "21891  ['-0.16427862983438665', '-0.03334673335832106...    par   Con   \n",
       "21160  ['-0.04656238799476917', '0.029661750132907505...    par   Con   \n",
       "6997   ['-0.06971022376466604', '-0.07991989402134969...    par   Lab   \n",
       "21154  ['-0.12890731611804954', '0.029409835315031718...    par   Lab   \n",
       "17824  ['-0.022034905724411302', '0.03625110354263639...    par   Con   \n",
       "\n",
       "               keywords  year  proj_embedding_x  proj_embedding_y  cos axe 1  \\\n",
       "7113                 []  2017         -0.493482          0.029099  -0.687230   \n",
       "7786                 []  2017         -0.452862          0.120997  -0.684279   \n",
       "21893  ['edge', 'tech']  2017         -0.388289          0.092781  -0.681172   \n",
       "20919         ['excel']  2017         -0.402341          0.079714  -0.673885   \n",
       "11865                []  2017         -0.468107         -0.014290  -0.673627   \n",
       "21891                []  2017         -0.330935          0.079536  -0.672653   \n",
       "21160                []  2017         -0.411626          0.117045  -0.669494   \n",
       "6997                 []  2017         -0.324058          0.094296  -0.666951   \n",
       "21154                []  2017         -0.380314          0.085760  -0.662493   \n",
       "17824          ['tech']  2017         -0.261493          0.111456  -0.658765   \n",
       "\n",
       "       cos axe 2  \n",
       "7113    0.277956  \n",
       "7786    0.388296  \n",
       "21893   0.372362  \n",
       "20919   0.347646  \n",
       "11865   0.220233  \n",
       "21891   0.368399  \n",
       "21160   0.388251  \n",
       "6997    0.389965  \n",
       "21154   0.355496  \n",
       "17824   0.446574  "
      ]
     },
     "execution_count": 4,
     "metadata": {},
     "output_type": "execute_result"
    }
   ],
   "source": [
    "representative_speeches(df_2017, 10)[1]"
   ]
  }
 ],
 "metadata": {
  "kernelspec": {
   "display_name": "base",
   "language": "python",
   "name": "python3"
  },
  "language_info": {
   "codemirror_mode": {
    "name": "ipython",
    "version": 3
   },
   "file_extension": ".py",
   "mimetype": "text/x-python",
   "name": "python",
   "nbconvert_exporter": "python",
   "pygments_lexer": "ipython3",
   "version": "3.10.9"
  }
 },
 "nbformat": 4,
 "nbformat_minor": 2
}
