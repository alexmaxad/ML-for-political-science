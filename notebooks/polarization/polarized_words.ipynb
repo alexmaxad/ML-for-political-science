{
 "cells": [
  {
   "cell_type": "markdown",
   "metadata": {},
   "source": [
    "# **Imports**"
   ]
  },
  {
   "cell_type": "code",
   "execution_count": 1,
   "metadata": {},
   "outputs": [
    {
     "name": "stdout",
     "output_type": "stream",
     "text": [
      "/Users/alexandrequeant/Desktop/Travail-TSE\n"
     ]
    }
   ],
   "source": [
    "import os\n",
    "os.chdir(\"../..\")\n",
    "os.chdir(r\"src\")\n",
    "\n",
    "from Polarization.word_partisanship import *\n",
    "\n",
    "import warnings\n",
    "warnings.filterwarnings(\"ignore\")\n",
    "\n",
    "os.chdir(\"../\")"
   ]
  },
  {
   "cell_type": "markdown",
   "metadata": {},
   "source": [
    "# **Function**"
   ]
  },
  {
   "cell_type": "code",
   "execution_count": 3,
   "metadata": {},
   "outputs": [
    {
     "name": "stdout",
     "output_type": "stream",
     "text": [
      "25\n"
     ]
    },
    {
     "data": {
      "text/html": [
       "<div>\n",
       "<style scoped>\n",
       "    .dataframe tbody tr th:only-of-type {\n",
       "        vertical-align: middle;\n",
       "    }\n",
       "\n",
       "    .dataframe tbody tr th {\n",
       "        vertical-align: top;\n",
       "    }\n",
       "\n",
       "    .dataframe thead th {\n",
       "        text-align: right;\n",
       "    }\n",
       "</style>\n",
       "<table border=\"1\" class=\"dataframe\">\n",
       "  <thead>\n",
       "    <tr style=\"text-align: right;\">\n",
       "      <th></th>\n",
       "      <th>words</th>\n",
       "      <th>deltas</th>\n",
       "      <th>cos</th>\n",
       "    </tr>\n",
       "  </thead>\n",
       "  <tbody>\n",
       "    <tr>\n",
       "      <th>10626</th>\n",
       "      <td>nearest store</td>\n",
       "      <td>0.972732</td>\n",
       "      <td>0.173627</td>\n",
       "    </tr>\n",
       "    <tr>\n",
       "      <th>17899</th>\n",
       "      <td>accid realli</td>\n",
       "      <td>0.972732</td>\n",
       "      <td>0.385218</td>\n",
       "    </tr>\n",
       "    <tr>\n",
       "      <th>17768</th>\n",
       "      <td>relentlessli unprofit</td>\n",
       "      <td>0.972732</td>\n",
       "      <td>0.088884</td>\n",
       "    </tr>\n",
       "    <tr>\n",
       "      <th>5969</th>\n",
       "      <td>includ donaldson</td>\n",
       "      <td>0.972732</td>\n",
       "      <td>0.213658</td>\n",
       "    </tr>\n",
       "    <tr>\n",
       "      <th>4353</th>\n",
       "      <td>acceler review</td>\n",
       "      <td>0.972732</td>\n",
       "      <td>0.221210</td>\n",
       "    </tr>\n",
       "    <tr>\n",
       "      <th>3504</th>\n",
       "      <td>ensur rule</td>\n",
       "      <td>0.528525</td>\n",
       "      <td>0.100825</td>\n",
       "    </tr>\n",
       "    <tr>\n",
       "      <th>8634</th>\n",
       "      <td>attack found</td>\n",
       "      <td>0.262364</td>\n",
       "      <td>0.208014</td>\n",
       "    </tr>\n",
       "    <tr>\n",
       "      <th>909</th>\n",
       "      <td>loud onelin</td>\n",
       "      <td>-0.470004</td>\n",
       "      <td>0.302196</td>\n",
       "    </tr>\n",
       "    <tr>\n",
       "      <th>15157</th>\n",
       "      <td>starri also</td>\n",
       "      <td>-0.470004</td>\n",
       "      <td>0.440384</td>\n",
       "    </tr>\n",
       "    <tr>\n",
       "      <th>14233</th>\n",
       "      <td>avail voic</td>\n",
       "      <td>-0.470004</td>\n",
       "      <td>0.358825</td>\n",
       "    </tr>\n",
       "    <tr>\n",
       "      <th>12693</th>\n",
       "      <td>pornographi sextort</td>\n",
       "      <td>-0.470004</td>\n",
       "      <td>0.204877</td>\n",
       "    </tr>\n",
       "    <tr>\n",
       "      <th>3834</th>\n",
       "      <td>appear girlfriend</td>\n",
       "      <td>-0.470004</td>\n",
       "      <td>0.311815</td>\n",
       "    </tr>\n",
       "    <tr>\n",
       "      <th>13065</th>\n",
       "      <td>content justifi</td>\n",
       "      <td>-0.470004</td>\n",
       "      <td>0.191123</td>\n",
       "    </tr>\n",
       "    <tr>\n",
       "      <th>1024</th>\n",
       "      <td>smart break</td>\n",
       "      <td>-0.470004</td>\n",
       "      <td>0.268952</td>\n",
       "    </tr>\n",
       "    <tr>\n",
       "      <th>8730</th>\n",
       "      <td>region escal</td>\n",
       "      <td>-0.489548</td>\n",
       "      <td>0.094133</td>\n",
       "    </tr>\n",
       "    <tr>\n",
       "      <th>15630</th>\n",
       "      <td>accept password</td>\n",
       "      <td>-0.489548</td>\n",
       "      <td>0.139228</td>\n",
       "    </tr>\n",
       "    <tr>\n",
       "      <th>3007</th>\n",
       "      <td>determin futur</td>\n",
       "      <td>-0.534082</td>\n",
       "      <td>0.233589</td>\n",
       "    </tr>\n",
       "  </tbody>\n",
       "</table>\n",
       "</div>"
      ],
      "text/plain": [
       "                       words    deltas       cos\n",
       "10626          nearest store  0.972732  0.173627\n",
       "17899           accid realli  0.972732  0.385218\n",
       "17768  relentlessli unprofit  0.972732  0.088884\n",
       "5969        includ donaldson  0.972732  0.213658\n",
       "4353          acceler review  0.972732  0.221210\n",
       "3504              ensur rule  0.528525  0.100825\n",
       "8634            attack found  0.262364  0.208014\n",
       "909              loud onelin -0.470004  0.302196\n",
       "15157            starri also -0.470004  0.440384\n",
       "14233             avail voic -0.470004  0.358825\n",
       "12693    pornographi sextort -0.470004  0.204877\n",
       "3834       appear girlfriend -0.470004  0.311815\n",
       "13065        content justifi -0.470004  0.191123\n",
       "1024             smart break -0.470004  0.268952\n",
       "8730            region escal -0.489548  0.094133\n",
       "15630        accept password -0.489548  0.139228\n",
       "3007          determin futur -0.534082  0.233589"
      ]
     },
     "execution_count": 3,
     "metadata": {},
     "output_type": "execute_result"
    }
   ],
   "source": [
    "partizan_words(['GUA'], ['TE'], 2017, with_parliament=False)"
   ]
  }
 ],
 "metadata": {
  "kernelspec": {
   "display_name": "base",
   "language": "python",
   "name": "python3"
  },
  "language_info": {
   "codemirror_mode": {
    "name": "ipython",
    "version": 3
   },
   "file_extension": ".py",
   "mimetype": "text/x-python",
   "name": "python",
   "nbconvert_exporter": "python",
   "pygments_lexer": "ipython3",
   "version": "3.11.5"
  }
 },
 "nbformat": 4,
 "nbformat_minor": 2
}
