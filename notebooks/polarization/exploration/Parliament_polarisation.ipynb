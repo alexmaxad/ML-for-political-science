{
 "cells": [
  {
   "cell_type": "markdown",
   "metadata": {},
   "source": [
    "# **Imports**"
   ]
  },
  {
   "cell_type": "code",
   "execution_count": 1,
   "metadata": {},
   "outputs": [],
   "source": [
    "import os\n",
    "os.chdir(\"../../..\")\n",
    "os.chdir(r\"src\")\n",
    "\n",
    "from GloVe.weights import *\n",
    "import warnings\n",
    "warnings.filterwarnings(\"ignore\")\n",
    "import plotly.express as px\n",
    "from Axes.projection_functions import *\n",
    "from Polarization.polarization_functions import *\n",
    "import math\n",
    "from tqdm import tqdm\n",
    "from matplotlib import pyplot as plt\n",
    "import numpy as np\n",
    "\n",
    "os.chdir(\"../\")"
   ]
  },
  {
   "cell_type": "markdown",
   "metadata": {},
   "source": [
    "# **Overall Parliament**"
   ]
  },
  {
   "cell_type": "code",
   "execution_count": 2,
   "metadata": {},
   "outputs": [],
   "source": [
    "party_1 = \"Lab\"\n",
    "party_2 = \"Con\""
   ]
  },
  {
   "cell_type": "code",
   "execution_count": 3,
   "metadata": {
    "tags": []
   },
   "outputs": [],
   "source": [
    "import datetime\n",
    "\n",
    "def print_with_timestamp(message):\n",
    "    \"\"\"\n",
    "    Prints a message with a timestamp.\n",
    "\n",
    "    :param message: The message to print.\n",
    "    \"\"\"\n",
    "    # Get the current time\n",
    "    now = datetime.datetime.now()\n",
    "    \n",
    "    # Format the timestamp as desired\n",
    "    timestamp = now.strftime(\"%Y-%m-%d %H:%M:%S\")\n",
    "    \n",
    "    # Print the message with the timestamp\n",
    "    print(f\"{timestamp}: {message}\")"
   ]
  },
  {
   "cell_type": "code",
   "execution_count": 7,
   "metadata": {},
   "outputs": [],
   "source": [
    "df = standard_opening(\n",
    "        \"data/FinalDataframes/FilteredFinalDataFrame_201\" + str(3) + \".csv\", True\n",
    "    )"
   ]
  },
  {
   "cell_type": "code",
   "execution_count": 12,
   "metadata": {},
   "outputs": [
    {
     "data": {
      "text/html": [
       "<div>\n",
       "<style scoped>\n",
       "    .dataframe tbody tr th:only-of-type {\n",
       "        vertical-align: middle;\n",
       "    }\n",
       "\n",
       "    .dataframe tbody tr th {\n",
       "        vertical-align: top;\n",
       "    }\n",
       "\n",
       "    .dataframe thead th {\n",
       "        text-align: right;\n",
       "    }\n",
       "</style>\n",
       "<table border=\"1\" class=\"dataframe\">\n",
       "  <thead>\n",
       "    <tr style=\"text-align: right;\">\n",
       "      <th></th>\n",
       "      <th>index</th>\n",
       "      <th>year</th>\n",
       "      <th>Speaker</th>\n",
       "      <th>party</th>\n",
       "      <th>text</th>\n",
       "      <th>source</th>\n",
       "      <th>keywords</th>\n",
       "      <th>agenda</th>\n",
       "      <th>url</th>\n",
       "    </tr>\n",
       "    <tr>\n",
       "      <th>level_0</th>\n",
       "      <th></th>\n",
       "      <th></th>\n",
       "      <th></th>\n",
       "      <th></th>\n",
       "      <th></th>\n",
       "      <th></th>\n",
       "      <th></th>\n",
       "      <th></th>\n",
       "      <th></th>\n",
       "    </tr>\n",
       "  </thead>\n",
       "  <tbody>\n",
       "    <tr>\n",
       "      <th>7310</th>\n",
       "      <td>NaN</td>\n",
       "      <td>2013.0</td>\n",
       "      <td>NaN</td>\n",
       "      <td>NaN</td>\n",
       "      <td>[develop, inevit, meant, chang, date, game, gu...</td>\n",
       "      <td>DE</td>\n",
       "      <td>[tech]</td>\n",
       "      <td>[dont, digit, date]</td>\n",
       "      <td>https://www.express.co.uk/life-style/science-t...</td>\n",
       "    </tr>\n",
       "    <tr>\n",
       "      <th>7311</th>\n",
       "      <td>NaN</td>\n",
       "      <td>2013.0</td>\n",
       "      <td>NaN</td>\n",
       "      <td>NaN</td>\n",
       "      <td>[easi, brand, luddit, gadget, behind, crowd, t...</td>\n",
       "      <td>DE</td>\n",
       "      <td>[tech]</td>\n",
       "      <td>[techonolog, cant, stop, march, progress]</td>\n",
       "      <td>https://www.express.co.uk/life-style/science-t...</td>\n",
       "    </tr>\n",
       "    <tr>\n",
       "      <th>7312</th>\n",
       "      <td>NaN</td>\n",
       "      <td>2013.0</td>\n",
       "      <td>NaN</td>\n",
       "      <td>NaN</td>\n",
       "      <td>[speak, mysteri, event, compani, headquart, me...</td>\n",
       "      <td>DE</td>\n",
       "      <td>[facebook]</td>\n",
       "      <td>[facebook, creat, search, engin]</td>\n",
       "      <td>https://www.express.co.uk/news/uk/371044/faceb...</td>\n",
       "    </tr>\n",
       "    <tr>\n",
       "      <th>7313</th>\n",
       "      <td>NaN</td>\n",
       "      <td>2013.0</td>\n",
       "      <td>NaN</td>\n",
       "      <td>NaN</td>\n",
       "      <td>[internet, troll, mark, post, chill, messag, w...</td>\n",
       "      <td>DE</td>\n",
       "      <td>[facebook]</td>\n",
       "      <td>[depress, lifestyl, facebook, threat, thug]</td>\n",
       "      <td>https://www.express.co.uk/news/uk/370867/depre...</td>\n",
       "    </tr>\n",
       "    <tr>\n",
       "      <th>7314</th>\n",
       "      <td>NaN</td>\n",
       "      <td>2013.0</td>\n",
       "      <td>NaN</td>\n",
       "      <td>NaN</td>\n",
       "      <td>[graph, search, engin, access, inform, share, ...</td>\n",
       "      <td>DE</td>\n",
       "      <td>[facebook, tech]</td>\n",
       "      <td>[facebook, launch, search, engin, graph, search]</td>\n",
       "      <td>https://www.express.co.uk/life-style/science-t...</td>\n",
       "    </tr>\n",
       "    <tr>\n",
       "      <th>...</th>\n",
       "      <td>...</td>\n",
       "      <td>...</td>\n",
       "      <td>...</td>\n",
       "      <td>...</td>\n",
       "      <td>...</td>\n",
       "      <td>...</td>\n",
       "      <td>...</td>\n",
       "      <td>...</td>\n",
       "      <td>...</td>\n",
       "    </tr>\n",
       "    <tr>\n",
       "      <th>16591</th>\n",
       "      <td>NaN</td>\n",
       "      <td>2013.0</td>\n",
       "      <td>NaN</td>\n",
       "      <td>NaN</td>\n",
       "      <td>[three, investor, compani, want, replac, gate,...</td>\n",
       "      <td>DE</td>\n",
       "      <td>[microsoft, gates]</td>\n",
       "      <td>[gate, pressur, quit, microsoft]</td>\n",
       "      <td>https://www.express.co.uk/finance/city/433921/...</td>\n",
       "    </tr>\n",
       "    <tr>\n",
       "      <th>16592</th>\n",
       "      <td>NaN</td>\n",
       "      <td>2013.0</td>\n",
       "      <td>NaN</td>\n",
       "      <td>NaN</td>\n",
       "      <td>[awardwin, rapper, dwarf, enorm, model, surfac...</td>\n",
       "      <td>DE</td>\n",
       "      <td>[surface]</td>\n",
       "      <td>[dizze, surfac, launch, tablet]</td>\n",
       "      <td>https://www.express.co.uk/news/uk/438874/dizze...</td>\n",
       "    </tr>\n",
       "    <tr>\n",
       "      <th>16593</th>\n",
       "      <td>NaN</td>\n",
       "      <td>2013.0</td>\n",
       "      <td>NaN</td>\n",
       "      <td>NaN</td>\n",
       "      <td>[power, successor, offici, went, sale, midnigh...</td>\n",
       "      <td>DE</td>\n",
       "      <td>[tech]</td>\n",
       "      <td>[eager, queue, hour, soni, playstat, launch]</td>\n",
       "      <td>https://www.express.co.uk/life-style/science-t...</td>\n",
       "    </tr>\n",
       "    <tr>\n",
       "      <th>16594</th>\n",
       "      <td>NaN</td>\n",
       "      <td>2013.0</td>\n",
       "      <td>NaN</td>\n",
       "      <td>NaN</td>\n",
       "      <td>[known, today, xbox, squar, popular, tourist, ...</td>\n",
       "      <td>DE</td>\n",
       "      <td>[xbox, tech]</td>\n",
       "      <td>[leicest, squar, alight, starstud, xbox, launch]</td>\n",
       "      <td>https://www.express.co.uk/life-style/science-t...</td>\n",
       "    </tr>\n",
       "    <tr>\n",
       "      <th>16595</th>\n",
       "      <td>NaN</td>\n",
       "      <td>2013.0</td>\n",
       "      <td>NaN</td>\n",
       "      <td>NaN</td>\n",
       "      <td>[queu, hour, number, store, across, eagerli, a...</td>\n",
       "      <td>DE</td>\n",
       "      <td>[tech]</td>\n",
       "      <td>[soni, playstat, releas, frenzi, across]</td>\n",
       "      <td>https://www.express.co.uk/life-style/science-t...</td>\n",
       "    </tr>\n",
       "  </tbody>\n",
       "</table>\n",
       "<p>371 rows × 9 columns</p>\n",
       "</div>"
      ],
      "text/plain": [
       "         index    year Speaker party  \\\n",
       "level_0                                \n",
       "7310       NaN  2013.0     NaN   NaN   \n",
       "7311       NaN  2013.0     NaN   NaN   \n",
       "7312       NaN  2013.0     NaN   NaN   \n",
       "7313       NaN  2013.0     NaN   NaN   \n",
       "7314       NaN  2013.0     NaN   NaN   \n",
       "...        ...     ...     ...   ...   \n",
       "16591      NaN  2013.0     NaN   NaN   \n",
       "16592      NaN  2013.0     NaN   NaN   \n",
       "16593      NaN  2013.0     NaN   NaN   \n",
       "16594      NaN  2013.0     NaN   NaN   \n",
       "16595      NaN  2013.0     NaN   NaN   \n",
       "\n",
       "                                                      text source  \\\n",
       "level_0                                                             \n",
       "7310     [develop, inevit, meant, chang, date, game, gu...     DE   \n",
       "7311     [easi, brand, luddit, gadget, behind, crowd, t...     DE   \n",
       "7312     [speak, mysteri, event, compani, headquart, me...     DE   \n",
       "7313     [internet, troll, mark, post, chill, messag, w...     DE   \n",
       "7314     [graph, search, engin, access, inform, share, ...     DE   \n",
       "...                                                    ...    ...   \n",
       "16591    [three, investor, compani, want, replac, gate,...     DE   \n",
       "16592    [awardwin, rapper, dwarf, enorm, model, surfac...     DE   \n",
       "16593    [power, successor, offici, went, sale, midnigh...     DE   \n",
       "16594    [known, today, xbox, squar, popular, tourist, ...     DE   \n",
       "16595    [queu, hour, number, store, across, eagerli, a...     DE   \n",
       "\n",
       "                   keywords                                            agenda  \\\n",
       "level_0                                                                         \n",
       "7310                 [tech]                               [dont, digit, date]   \n",
       "7311                 [tech]         [techonolog, cant, stop, march, progress]   \n",
       "7312             [facebook]                  [facebook, creat, search, engin]   \n",
       "7313             [facebook]       [depress, lifestyl, facebook, threat, thug]   \n",
       "7314       [facebook, tech]  [facebook, launch, search, engin, graph, search]   \n",
       "...                     ...                                               ...   \n",
       "16591    [microsoft, gates]                  [gate, pressur, quit, microsoft]   \n",
       "16592             [surface]                   [dizze, surfac, launch, tablet]   \n",
       "16593                [tech]      [eager, queue, hour, soni, playstat, launch]   \n",
       "16594          [xbox, tech]  [leicest, squar, alight, starstud, xbox, launch]   \n",
       "16595                [tech]          [soni, playstat, releas, frenzi, across]   \n",
       "\n",
       "                                                       url  \n",
       "level_0                                                     \n",
       "7310     https://www.express.co.uk/life-style/science-t...  \n",
       "7311     https://www.express.co.uk/life-style/science-t...  \n",
       "7312     https://www.express.co.uk/news/uk/371044/faceb...  \n",
       "7313     https://www.express.co.uk/news/uk/370867/depre...  \n",
       "7314     https://www.express.co.uk/life-style/science-t...  \n",
       "...                                                    ...  \n",
       "16591    https://www.express.co.uk/finance/city/433921/...  \n",
       "16592    https://www.express.co.uk/news/uk/438874/dizze...  \n",
       "16593    https://www.express.co.uk/life-style/science-t...  \n",
       "16594    https://www.express.co.uk/life-style/science-t...  \n",
       "16595    https://www.express.co.uk/life-style/science-t...  \n",
       "\n",
       "[371 rows x 9 columns]"
      ]
     },
     "execution_count": 12,
     "metadata": {},
     "output_type": "execute_result"
    }
   ],
   "source": [
    "df[df['source'] =='DE']"
   ]
  },
  {
   "cell_type": "code",
   "execution_count": 4,
   "metadata": {},
   "outputs": [
    {
     "name": "stderr",
     "output_type": "stream",
     "text": [
      "  0%|          | 0/10 [00:00<?, ?it/s]"
     ]
    },
    {
     "name": "stdout",
     "output_type": "stream",
     "text": [
      "la len de df est 21832\n",
      "2024-03-21 07:55:17: avant de compute les values\n"
     ]
    },
    {
     "name": "stderr",
     "output_type": "stream",
     "text": [
      " 10%|█         | 1/10 [01:35<14:15, 95.01s/it]"
     ]
    },
    {
     "name": "stdout",
     "output_type": "stream",
     "text": [
      "2024-03-21 07:56:48: après avoir compute les values\n",
      "0.5049493909378511\n",
      "Year 2010 computed\n",
      "la len de df est 24962\n",
      "2024-03-21 07:56:53: avant de compute les values\n"
     ]
    },
    {
     "name": "stderr",
     "output_type": "stream",
     "text": [
      " 20%|██        | 2/10 [03:09<12:39, 94.96s/it]"
     ]
    },
    {
     "name": "stdout",
     "output_type": "stream",
     "text": [
      "2024-03-21 07:58:23: après avoir compute les values\n",
      "0.5074017177379185\n",
      "Year 2011 computed\n",
      "la len de df est 22692\n",
      "2024-03-21 07:58:27: avant de compute les values\n"
     ]
    },
    {
     "name": "stderr",
     "output_type": "stream",
     "text": [
      " 30%|███       | 3/10 [04:40<10:50, 92.88s/it]"
     ]
    },
    {
     "name": "stdout",
     "output_type": "stream",
     "text": [
      "2024-03-21 07:59:54: après avoir compute les values\n",
      "0.5074190057573603\n",
      "Year 2012 computed\n",
      "la len de df est 24728\n",
      "2024-03-21 07:59:58: avant de compute les values\n"
     ]
    },
    {
     "name": "stderr",
     "output_type": "stream",
     "text": [
      " 40%|████      | 4/10 [06:17<09:26, 94.49s/it]"
     ]
    },
    {
     "name": "stdout",
     "output_type": "stream",
     "text": [
      "2024-03-21 08:01:31: après avoir compute les values\n",
      "0.5081598774398101\n",
      "Year 2013 computed\n",
      "la len de df est 22452\n",
      "2024-03-21 08:01:36: avant de compute les values\n"
     ]
    },
    {
     "name": "stderr",
     "output_type": "stream",
     "text": [
      " 50%|█████     | 5/10 [07:49<07:48, 93.74s/it]"
     ]
    },
    {
     "name": "stdout",
     "output_type": "stream",
     "text": [
      "2024-03-21 08:03:03: après avoir compute les values\n",
      "0.5072184204001211\n",
      "Year 2014 computed\n",
      "la len de df est 20852\n",
      "2024-03-21 08:03:08: avant de compute les values\n"
     ]
    },
    {
     "name": "stderr",
     "output_type": "stream",
     "text": [
      " 60%|██████    | 6/10 [09:19<06:09, 92.41s/it]"
     ]
    },
    {
     "name": "stdout",
     "output_type": "stream",
     "text": [
      "2024-03-21 08:04:33: après avoir compute les values\n",
      "0.5092800470562432\n",
      "Year 2015 computed\n",
      "la len de df est 25602\n",
      "2024-03-21 08:04:39: avant de compute les values\n"
     ]
    },
    {
     "name": "stderr",
     "output_type": "stream",
     "text": [
      " 70%|███████   | 7/10 [10:58<04:43, 94.39s/it]"
     ]
    },
    {
     "name": "stdout",
     "output_type": "stream",
     "text": [
      "2024-03-21 08:06:11: après avoir compute les values\n",
      "0.5092089677220946\n",
      "Year 2016 computed\n",
      "la len de df est 22249\n",
      "2024-03-21 08:06:17: avant de compute les values\n"
     ]
    },
    {
     "name": "stderr",
     "output_type": "stream",
     "text": [
      " 80%|████████  | 8/10 [12:33<03:09, 94.62s/it]"
     ]
    },
    {
     "name": "stdout",
     "output_type": "stream",
     "text": [
      "2024-03-21 08:07:47: après avoir compute les values\n",
      "0.5115856451490097\n",
      "Year 2017 computed\n",
      "la len de df est 28205\n",
      "2024-03-21 08:07:53: avant de compute les values\n"
     ]
    },
    {
     "name": "stderr",
     "output_type": "stream",
     "text": [
      " 90%|█████████ | 9/10 [14:19<01:38, 98.31s/it]"
     ]
    },
    {
     "name": "stdout",
     "output_type": "stream",
     "text": [
      "2024-03-21 08:09:33: après avoir compute les values\n",
      "0.5108078096085928\n",
      "Year 2018 computed\n",
      "la len de df est 24508\n",
      "2024-03-21 08:09:38: avant de compute les values\n"
     ]
    },
    {
     "name": "stderr",
     "output_type": "stream",
     "text": [
      "100%|██████████| 10/10 [15:51<00:00, 95.14s/it]"
     ]
    },
    {
     "name": "stdout",
     "output_type": "stream",
     "text": [
      "2024-03-21 08:11:05: après avoir compute les values\n",
      "0.5111704326140949\n",
      "Year 2019 computed\n"
     ]
    },
    {
     "name": "stderr",
     "output_type": "stream",
     "text": [
      "\n"
     ]
    }
   ],
   "source": [
    "real_pol = []\n",
    "random_pol = []\n",
    "CI_lows_real = []\n",
    "CI_high_real = []\n",
    "CI_lows_random = []\n",
    "CI_high_random = []\n",
    "\n",
    "for i in tqdm(range(10)):\n",
    "    df = standard_opening(\n",
    "        \"data/FinalDataframes/FilteredFinalDataFrame_201\" + str(i) + \".csv\", True\n",
    "    )\n",
    "    df = df[df[\"source\"] == \"par\"]\n",
    "    year = eval(\"201\" + str(i))\n",
    "\n",
    "    print('la len de df est '+str(len(df)))\n",
    "\n",
    "    print_with_timestamp('avant de compute les values')\n",
    "    values = compute_polarization_and_CI(df, year, party_1, party_2)\n",
    "    print_with_timestamp('après avoir compute les values')\n",
    "\n",
    "    real_pol.append(values[0])\n",
    "    random_pol.append(values[1])\n",
    "\n",
    "    CI_lows_real.append(values[2])\n",
    "    CI_high_real.append(values[3])\n",
    "    CI_lows_random.append(values[4])\n",
    "    CI_high_random.append(values[5])\n",
    "\n",
    "    print(values[0])\n",
    "\n",
    "    print(\"Year 201\" + str(i) + \" computed\")"
   ]
  },
  {
   "cell_type": "code",
   "execution_count": 5,
   "metadata": {},
   "outputs": [],
   "source": [
    "df_pol_parliament = pd.DataFrame(\n",
    "    {\n",
    "        \"real polarization\": real_pol,\n",
    "        \"random polarization\": random_pol,\n",
    "        \"real low CI\": CI_lows_real,\n",
    "        \"real high CI\": CI_high_real,\n",
    "        \"random low CI\": CI_lows_random,\n",
    "        \"random high CI\": CI_high_random,\n",
    "    }\n",
    ")\n",
    "\n",
    "df_pol_parliament.to_csv(\n",
    "    \"data/polarization values/parliament polarisation values\", index=False\n",
    ")\n",
    "\n",
    "real_pol = np.array(real_pol)\n",
    "random_pol = np.array(random_pol)\n",
    "CI_lows_real = np.array(CI_lows_real)\n",
    "CI_high_real = np.array(CI_high_real)\n",
    "CI_lows_random = np.array(CI_lows_random)\n",
    "CI_high_random = np.array(CI_high_random)\n",
    "x = [2010 + i for i in range(len(real_pol))]"
   ]
  },
  {
   "cell_type": "code",
   "execution_count": 6,
   "metadata": {},
   "outputs": [
    {
     "data": {
      "image/png": "[encoded data removed]",
      "text/plain": [
       "<Figure size 1000x600 with 1 Axes>"
      ]
     },
     "metadata": {},
     "output_type": "display_data"
    }
   ],
   "source": [
    "# Création du graphique\n",
    "plt.figure(figsize=(10, 6))  # Définition de la taille de la figure\n",
    "\n",
    "plt.plot(\n",
    "    x, real_pol, label=\"Polarisation réelle\", color=\"blue\", linewidth=2\n",
    ")  # Tracé de la polarisation réelle\n",
    "plt.fill_between(\n",
    "    x, CI_lows_real, CI_high_real, color=\"blue\", alpha=0.1\n",
    ")  # Remplissage de l'intervalle de confiance\n",
    "plt.plot(\n",
    "    x,\n",
    "    random_pol,\n",
    "    label=\"Polarisation aléatoire\",\n",
    "    color=\"orange\",\n",
    "    linestyle=\"--\",\n",
    "    linewidth=2,\n",
    ")  # Tracé de la polarisation aléatoire en pointillés\n",
    "plt.fill_between(\n",
    "    x, CI_lows_random, CI_high_random, color=\"blue\", alpha=0.1\n",
    ")  # Remplissage de l'intervalle de confiance\n",
    "\n",
    "plt.title(\n",
    "    \"Polarisation du parlement entre 2010 et 2019 sur le thème des Bigtech\"\n",
    ")  # Titre du graphique\n",
    "plt.xlabel(\"Année\")  # Nom de l'axe des x\n",
    "plt.ylabel(\"Polarisation\")  # Nom de l'axe des y\n",
    "plt.legend()  # Affichage de la légende\n",
    "plt.grid(True, linestyle=\"--\", alpha=0.5)  # Affichage de la grille en pointillés\n",
    "plt.tight_layout()  # Ajustement automatique des marges\n",
    "plt.show()  # Affichage du graphique"
   ]
  },
  {
   "cell_type": "markdown",
   "metadata": {},
   "source": [
    "# **By company**"
   ]
  },
  {
   "cell_type": "code",
   "execution_count": null,
   "metadata": {},
   "outputs": [],
   "source": [
    "party_1 = \"Lab\"\n",
    "party_2 = \"Con\""
   ]
  },
  {
   "cell_type": "code",
   "execution_count": null,
   "metadata": {},
   "outputs": [],
   "source": [
    "dfs_BT = []\n",
    "for i in tqdm(range(10)):\n",
    "    df = standard_opening(\n",
    "        \"data/FinalDataframes/FilteredFinalDataFrame_201\" + str(i) + \".csv\", True\n",
    "    )\n",
    "    df = df[df[\"source\"] == \"par\"]\n",
    "    dfs_BT.append(df_BT(df))"
   ]
  },
  {
   "cell_type": "code",
   "execution_count": null,
   "metadata": {},
   "outputs": [],
   "source": [
    "values_by_company = {}\n",
    "companies = [\"am\", \"fb\", \"ap\", \"go\", \"mi\"]\n",
    "\n",
    "for company in companies:\n",
    "    values_by_company[company] = {}\n",
    "\n",
    "    values_by_company[company][\"real_pol\"] = []\n",
    "    values_by_company[company][\"random_pol\"] = []\n",
    "    values_by_company[company][\"CI_lows_real\"] = []\n",
    "    values_by_company[company][\"CI_high_real\"] = []\n",
    "    values_by_company[company][\"CI_lows_random\"] = []\n",
    "    values_by_company[company][\"CI_high_random\"] = []\n",
    "\n",
    "    for i in tqdm(range(10)):\n",
    "        df = dfs_BT[i]\n",
    "        df = df[df[\"source\"] == \"par\"]\n",
    "        df = df[df[\"class\"] == company]\n",
    "        year = eval(\"201\" + str(i))\n",
    "\n",
    "        values = compute_polarization_and_CI(df, year, party_1, party_2)\n",
    "\n",
    "        values_by_company[company][\"real_pol\"].append(values[0])\n",
    "        values_by_company[company][\"random_pol\"].append(values[1])\n",
    "\n",
    "        values_by_company[company][\"CI_lows_real\"].append(values[2])\n",
    "        values_by_company[company][\"CI_high_real\"].append(values[3])\n",
    "        values_by_company[company][\"CI_lows_random\"].append(values[4])\n",
    "        values_by_company[company][\"CI_high_random\"].append(values[5])\n",
    "\n",
    "        print(\"Year 201\" + str(i) + \" computed\")"
   ]
  },
  {
   "cell_type": "code",
   "execution_count": null,
   "metadata": {},
   "outputs": [],
   "source": [
    "df_pol_parliament_BT = {}\n",
    "for company in companies:\n",
    "    df_pol_parliament_BT[company] = pd.DataFrame(values_by_company[company])\n",
    "    df_pol_parliament_BT[company].to_csv(\n",
    "        \"data/polarization values/parliament polarisation values \" + company,\n",
    "        index=False,\n",
    "    )"
   ]
  },
  {
   "cell_type": "code",
   "execution_count": null,
   "metadata": {},
   "outputs": [],
   "source": [
    "plt.figure(figsize=(10, 6))  # Définition de la taille de la figure\n",
    "\n",
    "for company in companies:\n",
    "    real_pol = np.array(df_pol_parliament_BT[company][\"real_pol\"])\n",
    "    # random_pol = np.array(df_pol_parliament_BT[company]['random_pol'])\n",
    "    CI_lows_real = np.array(df_pol_parliament_BT[company][\"CI_lows_real\"])\n",
    "    CI_high_real = np.array(df_pol_parliament_BT[company][\"CI_high_real\"])\n",
    "    # CI_lows_random = np.array(df_pol_parliament_BT[company]['CI_lows_random'])\n",
    "    # CI_high_random = np.array(df_pol_parliament_BT[company]['CI_high_random'])\n",
    "    x = [2010 + i for i in range(len(real_pol))]\n",
    "\n",
    "    plt.plot(\n",
    "        x, real_pol, label=\"Polarisation réelle \" + company, linewidth=2\n",
    "    )  # Tracé de la polarisation réelle\n",
    "    plt.fill_between(\n",
    "        x, CI_lows_real, CI_high_real, alpha=0.1\n",
    "    )  # Remplissage de l'intervalle de confiance\n",
    "\n",
    "plt.title(\n",
    "    \"Polarisation du parlement entre 2010 et 2019 par Bigtech\"\n",
    ")  # Titre du graphique\n",
    "plt.xlabel(\"Année\")  # Nom de l'axe des x\n",
    "plt.ylabel(\"Polarisation\")  # Nom de l'axe des y\n",
    "plt.legend()  # Affichage de la légende\n",
    "plt.grid(True, linestyle=\"--\", alpha=0.5)  # Affichage de la grille en pointillés\n",
    "plt.tight_layout()  # Ajustement automatique des marges\n",
    "plt.show()  # Affichage du graphique"
   ]
  },
  {
   "cell_type": "markdown",
   "metadata": {},
   "source": [
    "### **A look at the number of articles by company**"
   ]
  },
  {
   "cell_type": "code",
   "execution_count": null,
   "metadata": {},
   "outputs": [],
   "source": [
    "l_tot = {\"fb\": [], \"am\": [], \"go\": [], \"ap\": [], \"mi\": []}\n",
    "l_par = {\"fb\": [], \"am\": [], \"go\": [], \"ap\": [], \"mi\": []}\n",
    "companies = [\"am\", \"fb\", \"ap\", \"go\", \"mi\"]\n",
    "\n",
    "for i in tqdm(range(10)):\n",
    "    df = standard_opening(\n",
    "        \"data/FinalDataframes/FilteredFinalDataFrame_201\" + str(i) + \".csv\", True\n",
    "    )\n",
    "    df = df_BT(df)\n",
    "\n",
    "    df_par = df[df[\"source\"] == \"par\"]\n",
    "\n",
    "    for company in companies:\n",
    "        df_par_company = df_par[df_par[\"class\"] == company]\n",
    "        df_company = df[df[\"class\"] == company]\n",
    "\n",
    "        l_tot[company].append(len(df_company))\n",
    "        l_par[company].append(len(df_par_company))"
   ]
  },
  {
   "cell_type": "code",
   "execution_count": null,
   "metadata": {},
   "outputs": [],
   "source": [
    "# Years\n",
    "years = range(2010, 2020)\n",
    "\n",
    "# Plotting the first plot\n",
    "plt.figure(figsize=(18, 7))\n",
    "\n",
    "plt.subplot(1, 2, 1)  # 1 row, 2 columns, first plot\n",
    "for i, (key, values) in enumerate(l_tot.items()):\n",
    "    plt.plot(\n",
    "        years,\n",
    "        values,\n",
    "        label=key,\n",
    "        color=colors[i % len(colors)],\n",
    "        linestyle=line_styles[i % len(line_styles)],\n",
    "        linewidth=2,\n",
    "    )\n",
    "\n",
    "plt.xlabel(\"Year\", fontsize=14)\n",
    "plt.ylabel(\"Number of Articles or Speeches\", fontsize=14)\n",
    "plt.title(\"Number of Articles by Company from All Sources\", fontsize=16)\n",
    "plt.grid(True)\n",
    "plt.legend(fontsize=12)\n",
    "plt.style.use(\"seaborn-darkgrid\")\n",
    "\n",
    "# Plotting the second plot\n",
    "plt.subplot(1, 2, 2)  # 1 row, 2 columns, second plot\n",
    "for i, (key, values) in enumerate(l_par.items()):\n",
    "    plt.plot(\n",
    "        years,\n",
    "        values,\n",
    "        label=key,\n",
    "        color=colors[i % len(colors)],\n",
    "        linestyle=line_styles[i % len(line_styles)],\n",
    "        linewidth=2,\n",
    "    )\n",
    "\n",
    "plt.xlabel(\"Year\", fontsize=14)\n",
    "plt.ylabel(\"Number of Speeches\", fontsize=14)\n",
    "plt.title(\"Number of Speeches by Company from the Parliament\", fontsize=16)\n",
    "plt.grid(True)\n",
    "plt.legend(fontsize=12)\n",
    "plt.style.use(\"seaborn-darkgrid\")\n",
    "\n",
    "# Adjust layout\n",
    "plt.tight_layout()\n",
    "\n",
    "# Show plots\n",
    "plt.show()"
   ]
  }
 ],
 "metadata": {
  "kernelspec": {
   "display_name": "base",
   "language": "python",
   "name": "python3"
  },
  "language_info": {
   "codemirror_mode": {
    "name": "ipython",
    "version": 3
   },
   "file_extension": ".py",
   "mimetype": "text/x-python",
   "name": "python",
   "nbconvert_exporter": "python",
   "pygments_lexer": "ipython3",
   "version": "3.11.5"
  }
 },
 "nbformat": 4,
 "nbformat_minor": 2
}
