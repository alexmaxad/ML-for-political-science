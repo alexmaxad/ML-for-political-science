{
 "cells": [
  {
   "cell_type": "markdown",
   "metadata": {},
   "source": [
    "# **Imports**"
   ]
  },
  {
   "cell_type": "code",
   "execution_count": 1,
   "metadata": {},
   "outputs": [],
   "source": [
    "import os\n",
    "os.chdir(\"../\")\n",
    "os.chdir(r\"src\")\n",
    "\n",
    "import warnings\n",
    "\n",
    "warnings.filterwarnings(\"ignore\")\n",
    "import dask.dataframe as dd\n",
    "from Processing.preprocess_parliament import *\n",
    "import ast\n",
    "import json\n",
    "from collections import Counter\n",
    "import operator\n",
    "\n",
    "os.chdir(\"../\")"
   ]
  },
  {
   "cell_type": "markdown",
   "metadata": {},
   "source": [
    "# **Original dataframe filtering**"
   ]
  },
  {
   "cell_type": "code",
   "execution_count": 2,
   "metadata": {},
   "outputs": [],
   "source": [
    "df_total = dd.read_csv('data/without parliament/FinalDataframes/FinalDataFrame_WP.csv', assume_missing=True, dtype={'url': 'object'})\n",
    "df_total = df_total.compute()"
   ]
  },
  {
   "cell_type": "code",
   "execution_count": 3,
   "metadata": {},
   "outputs": [],
   "source": [
    "df_total['text'] = df_total['text'].map(ast.literal_eval)\n",
    "df_total['agenda'] = df_total['agenda'].map(ast.literal_eval)"
   ]
  },
  {
   "cell_type": "code",
   "execution_count": 4,
   "metadata": {},
   "outputs": [],
   "source": [
    "df_total.reset_index(inplace=True)"
   ]
  },
  {
   "cell_type": "code",
   "execution_count": 5,
   "metadata": {},
   "outputs": [
    {
     "data": {
      "text/plain": [
       "59842"
      ]
     },
     "execution_count": 5,
     "metadata": {},
     "output_type": "execute_result"
    }
   ],
   "source": [
    "len(df_total)"
   ]
  },
  {
   "cell_type": "code",
   "execution_count": 6,
   "metadata": {},
   "outputs": [
    {
     "data": {
      "text/html": [
       "<div>\n",
       "<style scoped>\n",
       "    .dataframe tbody tr th:only-of-type {\n",
       "        vertical-align: middle;\n",
       "    }\n",
       "\n",
       "    .dataframe tbody tr th {\n",
       "        vertical-align: top;\n",
       "    }\n",
       "\n",
       "    .dataframe thead th {\n",
       "        text-align: right;\n",
       "    }\n",
       "</style>\n",
       "<table border=\"1\" class=\"dataframe\">\n",
       "  <thead>\n",
       "    <tr style=\"text-align: right;\">\n",
       "      <th></th>\n",
       "      <th>index</th>\n",
       "      <th>year</th>\n",
       "      <th>text</th>\n",
       "      <th>agenda</th>\n",
       "      <th>url</th>\n",
       "      <th>source</th>\n",
       "      <th>keywords</th>\n",
       "    </tr>\n",
       "  </thead>\n",
       "  <tbody>\n",
       "    <tr>\n",
       "      <th>0</th>\n",
       "      <td>0</td>\n",
       "      <td>2023.0</td>\n",
       "      <td>[indiana, woman, gunpoint, later, perpetr, fac...</td>\n",
       "      <td>[damien, boyc, date, judg, follow, illconsid, ...</td>\n",
       "      <td>https://www.theguardian.com/us-news/2023/jun/2...</td>\n",
       "      <td>GUA</td>\n",
       "      <td>['facebook']</td>\n",
       "    </tr>\n",
       "    <tr>\n",
       "      <th>1</th>\n",
       "      <td>1</td>\n",
       "      <td>2023.0</td>\n",
       "      <td>[publish, mirror, express, daili, star, newspa...</td>\n",
       "      <td>[reach, digit, revenu, almost, sinc, januari, ...</td>\n",
       "      <td>https://www.theguardian.com/business/2023/may/...</td>\n",
       "      <td>GUA</td>\n",
       "      <td>['facebook']</td>\n",
       "    </tr>\n",
       "    <tr>\n",
       "      <th>2</th>\n",
       "      <td>2</td>\n",
       "      <td>2023.0</td>\n",
       "      <td>[music, festiv, place, enjoy, headlin, adel, t...</td>\n",
       "      <td>[freddi, mercuri, among, perform, protest, met...</td>\n",
       "      <td>https://www.theguardian.com/technology/2023/ju...</td>\n",
       "      <td>GUA</td>\n",
       "      <td>['facebook', 'tech']</td>\n",
       "    </tr>\n",
       "    <tr>\n",
       "      <th>3</th>\n",
       "      <td>3</td>\n",
       "      <td>2023.0</td>\n",
       "      <td>[facebook, owner, meta, fine, record, suspend,...</td>\n",
       "      <td>[penalti, ireland, privaci, regul, record, bre...</td>\n",
       "      <td>https://www.theguardian.com/technology/2023/ma...</td>\n",
       "      <td>GUA</td>\n",
       "      <td>['meta', 'facebook', 'tech']</td>\n",
       "    </tr>\n",
       "    <tr>\n",
       "      <th>4</th>\n",
       "      <td>4</td>\n",
       "      <td>2023.0</td>\n",
       "      <td>[facebook, fine, suspend, data, transfer, iris...</td>\n",
       "      <td>[decis, ireland, privaci, regul, record, breac...</td>\n",
       "      <td>https://www.theguardian.com/technology/2023/ma...</td>\n",
       "      <td>GUA</td>\n",
       "      <td>['facebook', 'tech']</td>\n",
       "    </tr>\n",
       "    <tr>\n",
       "      <th>...</th>\n",
       "      <td>...</td>\n",
       "      <td>...</td>\n",
       "      <td>...</td>\n",
       "      <td>...</td>\n",
       "      <td>...</td>\n",
       "      <td>...</td>\n",
       "      <td>...</td>\n",
       "    </tr>\n",
       "    <tr>\n",
       "      <th>59837</th>\n",
       "      <td>35721</td>\n",
       "      <td>2016.0</td>\n",
       "      <td>[microsoft, launch, surfac, book, back, octob,...</td>\n",
       "      <td>[microsoft, surfac, book, review, brilliant, h...</td>\n",
       "      <td>https://www.telegraph.co.uk/technology/2016/02...</td>\n",
       "      <td>TE</td>\n",
       "      <td>['microsoft', 'surface', 'tech']</td>\n",
       "    </tr>\n",
       "    <tr>\n",
       "      <th>59838</th>\n",
       "      <td>35722</td>\n",
       "      <td>2016.0</td>\n",
       "      <td>[found, three, cambridg, graduat, predict, nex...</td>\n",
       "      <td>[swiftkey, founder, sold, stake, bicycl, miss,...</td>\n",
       "      <td>https://www.telegraph.co.uk/technology/2016/02...</td>\n",
       "      <td>TE</td>\n",
       "      <td>['microsoft', 'tech']</td>\n",
       "    </tr>\n",
       "    <tr>\n",
       "      <th>59839</th>\n",
       "      <td>35723</td>\n",
       "      <td>2016.0</td>\n",
       "      <td>[appl, ipad, outsold, microsoft, entir, surfac...</td>\n",
       "      <td>[ipad, outsel, entir, microsoft, surfac, rang]</td>\n",
       "      <td>https://www.telegraph.co.uk/technology/2016/02...</td>\n",
       "      <td>TE</td>\n",
       "      <td>['ipad', 'microsoft', 'surface', 'tech']</td>\n",
       "    </tr>\n",
       "    <tr>\n",
       "      <th>59840</th>\n",
       "      <td>35724</td>\n",
       "      <td>2015.0</td>\n",
       "      <td>[microsoft, unveil, pinnacl, laptop, design, f...</td>\n",
       "      <td>[best, luck, microsoft, surfac, book, isnt, save]</td>\n",
       "      <td>https://www.telegraph.co.uk/technology/2015/12...</td>\n",
       "      <td>TE</td>\n",
       "      <td>['microsoft', 'surface', 'tech']</td>\n",
       "    </tr>\n",
       "    <tr>\n",
       "      <th>59841</th>\n",
       "      <td>35725</td>\n",
       "      <td>2016.0</td>\n",
       "      <td>[window, latest, version, microsoft, yearold, ...</td>\n",
       "      <td>[window, review, fresh, start, microsoft]</td>\n",
       "      <td>https://www.telegraph.co.uk/technology/2016/01...</td>\n",
       "      <td>TE</td>\n",
       "      <td>['microsoft', 'windows', 'tech']</td>\n",
       "    </tr>\n",
       "  </tbody>\n",
       "</table>\n",
       "<p>59842 rows × 7 columns</p>\n",
       "</div>"
      ],
      "text/plain": [
       "       index    year                                               text  \\\n",
       "0          0  2023.0  [indiana, woman, gunpoint, later, perpetr, fac...   \n",
       "1          1  2023.0  [publish, mirror, express, daili, star, newspa...   \n",
       "2          2  2023.0  [music, festiv, place, enjoy, headlin, adel, t...   \n",
       "3          3  2023.0  [facebook, owner, meta, fine, record, suspend,...   \n",
       "4          4  2023.0  [facebook, fine, suspend, data, transfer, iris...   \n",
       "...      ...     ...                                                ...   \n",
       "59837  35721  2016.0  [microsoft, launch, surfac, book, back, octob,...   \n",
       "59838  35722  2016.0  [found, three, cambridg, graduat, predict, nex...   \n",
       "59839  35723  2016.0  [appl, ipad, outsold, microsoft, entir, surfac...   \n",
       "59840  35724  2015.0  [microsoft, unveil, pinnacl, laptop, design, f...   \n",
       "59841  35725  2016.0  [window, latest, version, microsoft, yearold, ...   \n",
       "\n",
       "                                                  agenda  \\\n",
       "0      [damien, boyc, date, judg, follow, illconsid, ...   \n",
       "1      [reach, digit, revenu, almost, sinc, januari, ...   \n",
       "2      [freddi, mercuri, among, perform, protest, met...   \n",
       "3      [penalti, ireland, privaci, regul, record, bre...   \n",
       "4      [decis, ireland, privaci, regul, record, breac...   \n",
       "...                                                  ...   \n",
       "59837  [microsoft, surfac, book, review, brilliant, h...   \n",
       "59838  [swiftkey, founder, sold, stake, bicycl, miss,...   \n",
       "59839     [ipad, outsel, entir, microsoft, surfac, rang]   \n",
       "59840  [best, luck, microsoft, surfac, book, isnt, save]   \n",
       "59841          [window, review, fresh, start, microsoft]   \n",
       "\n",
       "                                                     url source  \\\n",
       "0      https://www.theguardian.com/us-news/2023/jun/2...    GUA   \n",
       "1      https://www.theguardian.com/business/2023/may/...    GUA   \n",
       "2      https://www.theguardian.com/technology/2023/ju...    GUA   \n",
       "3      https://www.theguardian.com/technology/2023/ma...    GUA   \n",
       "4      https://www.theguardian.com/technology/2023/ma...    GUA   \n",
       "...                                                  ...    ...   \n",
       "59837  https://www.telegraph.co.uk/technology/2016/02...     TE   \n",
       "59838  https://www.telegraph.co.uk/technology/2016/02...     TE   \n",
       "59839  https://www.telegraph.co.uk/technology/2016/02...     TE   \n",
       "59840  https://www.telegraph.co.uk/technology/2015/12...     TE   \n",
       "59841  https://www.telegraph.co.uk/technology/2016/01...     TE   \n",
       "\n",
       "                                       keywords  \n",
       "0                                  ['facebook']  \n",
       "1                                  ['facebook']  \n",
       "2                          ['facebook', 'tech']  \n",
       "3                  ['meta', 'facebook', 'tech']  \n",
       "4                          ['facebook', 'tech']  \n",
       "...                                         ...  \n",
       "59837          ['microsoft', 'surface', 'tech']  \n",
       "59838                     ['microsoft', 'tech']  \n",
       "59839  ['ipad', 'microsoft', 'surface', 'tech']  \n",
       "59840          ['microsoft', 'surface', 'tech']  \n",
       "59841          ['microsoft', 'windows', 'tech']  \n",
       "\n",
       "[59842 rows x 7 columns]"
      ]
     },
     "execution_count": 6,
     "metadata": {},
     "output_type": "execute_result"
    }
   ],
   "source": [
    "df_total"
   ]
  },
  {
   "cell_type": "markdown",
   "metadata": {},
   "source": [
    "## **Vocabulary use**"
   ]
  },
  {
   "cell_type": "markdown",
   "metadata": {},
   "source": [
    "Here we use the global vocabulary of our dataframes in order to keep only the 20 000 most repeated words in our texts"
   ]
  },
  {
   "cell_type": "code",
   "execution_count": 8,
   "metadata": {},
   "outputs": [],
   "source": [
    "with open('data/without parliament/words/words_final_WP.json') as f:\n",
    "    words = json.load(f)"
   ]
  },
  {
   "cell_type": "code",
   "execution_count": 9,
   "metadata": {},
   "outputs": [],
   "source": [
    "word_counts = Counter(words)"
   ]
  },
  {
   "cell_type": "code",
   "execution_count": 10,
   "metadata": {},
   "outputs": [],
   "source": [
    "bow_sorted = sorted(word_counts.items(), key=operator.itemgetter(1), reverse=True)"
   ]
  },
  {
   "cell_type": "code",
   "execution_count": 11,
   "metadata": {},
   "outputs": [
    {
     "data": {
      "text/plain": [
       "384119"
      ]
     },
     "execution_count": 11,
     "metadata": {},
     "output_type": "execute_result"
    }
   ],
   "source": [
    "len(bow_sorted)"
   ]
  },
  {
   "cell_type": "code",
   "execution_count": 12,
   "metadata": {},
   "outputs": [],
   "source": [
    "filtrage = bow_sorted[:20000]"
   ]
  },
  {
   "cell_type": "code",
   "execution_count": 13,
   "metadata": {},
   "outputs": [],
   "source": [
    "liste_filtree = [i[0] for i in filtrage]"
   ]
  },
  {
   "cell_type": "code",
   "execution_count": 14,
   "metadata": {},
   "outputs": [],
   "source": [
    "def filtre(liste) :\n",
    "    nouvelle_liste = []\n",
    "    for word in liste :\n",
    "        if word in liste_filtree :\n",
    "            nouvelle_liste.append(word)\n",
    "    return(nouvelle_liste)"
   ]
  },
  {
   "cell_type": "code",
   "execution_count": 15,
   "metadata": {},
   "outputs": [],
   "source": [
    "df_total['text'] = df_total['text'].apply(filtre)"
   ]
  },
  {
   "cell_type": "code",
   "execution_count": 16,
   "metadata": {},
   "outputs": [
    {
     "data": {
      "text/html": [
       "<div>\n",
       "<style scoped>\n",
       "    .dataframe tbody tr th:only-of-type {\n",
       "        vertical-align: middle;\n",
       "    }\n",
       "\n",
       "    .dataframe tbody tr th {\n",
       "        vertical-align: top;\n",
       "    }\n",
       "\n",
       "    .dataframe thead th {\n",
       "        text-align: right;\n",
       "    }\n",
       "</style>\n",
       "<table border=\"1\" class=\"dataframe\">\n",
       "  <thead>\n",
       "    <tr style=\"text-align: right;\">\n",
       "      <th></th>\n",
       "      <th>index</th>\n",
       "      <th>year</th>\n",
       "      <th>text</th>\n",
       "      <th>agenda</th>\n",
       "      <th>url</th>\n",
       "      <th>source</th>\n",
       "      <th>keywords</th>\n",
       "    </tr>\n",
       "  </thead>\n",
       "  <tbody>\n",
       "    <tr>\n",
       "      <th>0</th>\n",
       "      <td>0</td>\n",
       "      <td>2023.0</td>\n",
       "      <td>[indiana, woman, gunpoint, later, perpetr, mon...</td>\n",
       "      <td>[damien, boyc, date, judg, follow, illconsid, ...</td>\n",
       "      <td>https://www.theguardian.com/us-news/2023/jun/2...</td>\n",
       "      <td>GUA</td>\n",
       "      <td>['facebook']</td>\n",
       "    </tr>\n",
       "    <tr>\n",
       "      <th>1</th>\n",
       "      <td>1</td>\n",
       "      <td>2023.0</td>\n",
       "      <td>[publish, mirror, express, daili, star, newspa...</td>\n",
       "      <td>[reach, digit, revenu, almost, sinc, januari, ...</td>\n",
       "      <td>https://www.theguardian.com/business/2023/may/...</td>\n",
       "      <td>GUA</td>\n",
       "      <td>['facebook']</td>\n",
       "    </tr>\n",
       "    <tr>\n",
       "      <th>2</th>\n",
       "      <td>2</td>\n",
       "      <td>2023.0</td>\n",
       "      <td>[music, festiv, place, enjoy, headlin, adel, t...</td>\n",
       "      <td>[freddi, mercuri, among, perform, protest, met...</td>\n",
       "      <td>https://www.theguardian.com/technology/2023/ju...</td>\n",
       "      <td>GUA</td>\n",
       "      <td>['facebook', 'tech']</td>\n",
       "    </tr>\n",
       "    <tr>\n",
       "      <th>3</th>\n",
       "      <td>3</td>\n",
       "      <td>2023.0</td>\n",
       "      <td>[facebook, owner, meta, fine, record, suspend,...</td>\n",
       "      <td>[penalti, ireland, privaci, regul, record, bre...</td>\n",
       "      <td>https://www.theguardian.com/technology/2023/ma...</td>\n",
       "      <td>GUA</td>\n",
       "      <td>['meta', 'facebook', 'tech']</td>\n",
       "    </tr>\n",
       "    <tr>\n",
       "      <th>4</th>\n",
       "      <td>4</td>\n",
       "      <td>2023.0</td>\n",
       "      <td>[facebook, fine, suspend, data, transfer, iris...</td>\n",
       "      <td>[decis, ireland, privaci, regul, record, breac...</td>\n",
       "      <td>https://www.theguardian.com/technology/2023/ma...</td>\n",
       "      <td>GUA</td>\n",
       "      <td>['facebook', 'tech']</td>\n",
       "    </tr>\n",
       "    <tr>\n",
       "      <th>...</th>\n",
       "      <td>...</td>\n",
       "      <td>...</td>\n",
       "      <td>...</td>\n",
       "      <td>...</td>\n",
       "      <td>...</td>\n",
       "      <td>...</td>\n",
       "      <td>...</td>\n",
       "    </tr>\n",
       "    <tr>\n",
       "      <th>59837</th>\n",
       "      <td>35721</td>\n",
       "      <td>2016.0</td>\n",
       "      <td>[microsoft, launch, surfac, book, back, octob,...</td>\n",
       "      <td>[microsoft, surfac, book, review, brilliant, h...</td>\n",
       "      <td>https://www.telegraph.co.uk/technology/2016/02...</td>\n",
       "      <td>TE</td>\n",
       "      <td>['microsoft', 'surface', 'tech']</td>\n",
       "    </tr>\n",
       "    <tr>\n",
       "      <th>59838</th>\n",
       "      <td>35722</td>\n",
       "      <td>2016.0</td>\n",
       "      <td>[found, three, cambridg, graduat, predict, nex...</td>\n",
       "      <td>[swiftkey, founder, sold, stake, bicycl, miss,...</td>\n",
       "      <td>https://www.telegraph.co.uk/technology/2016/02...</td>\n",
       "      <td>TE</td>\n",
       "      <td>['microsoft', 'tech']</td>\n",
       "    </tr>\n",
       "    <tr>\n",
       "      <th>59839</th>\n",
       "      <td>35723</td>\n",
       "      <td>2016.0</td>\n",
       "      <td>[appl, ipad, outsold, microsoft, entir, surfac...</td>\n",
       "      <td>[ipad, outsel, entir, microsoft, surfac, rang]</td>\n",
       "      <td>https://www.telegraph.co.uk/technology/2016/02...</td>\n",
       "      <td>TE</td>\n",
       "      <td>['ipad', 'microsoft', 'surface', 'tech']</td>\n",
       "    </tr>\n",
       "    <tr>\n",
       "      <th>59840</th>\n",
       "      <td>35724</td>\n",
       "      <td>2015.0</td>\n",
       "      <td>[microsoft, unveil, pinnacl, laptop, design, f...</td>\n",
       "      <td>[best, luck, microsoft, surfac, book, isnt, save]</td>\n",
       "      <td>https://www.telegraph.co.uk/technology/2015/12...</td>\n",
       "      <td>TE</td>\n",
       "      <td>['microsoft', 'surface', 'tech']</td>\n",
       "    </tr>\n",
       "    <tr>\n",
       "      <th>59841</th>\n",
       "      <td>35725</td>\n",
       "      <td>2016.0</td>\n",
       "      <td>[window, latest, version, microsoft, yearold, ...</td>\n",
       "      <td>[window, review, fresh, start, microsoft]</td>\n",
       "      <td>https://www.telegraph.co.uk/technology/2016/01...</td>\n",
       "      <td>TE</td>\n",
       "      <td>['microsoft', 'windows', 'tech']</td>\n",
       "    </tr>\n",
       "  </tbody>\n",
       "</table>\n",
       "<p>59842 rows × 7 columns</p>\n",
       "</div>"
      ],
      "text/plain": [
       "       index    year                                               text  \\\n",
       "0          0  2023.0  [indiana, woman, gunpoint, later, perpetr, mon...   \n",
       "1          1  2023.0  [publish, mirror, express, daili, star, newspa...   \n",
       "2          2  2023.0  [music, festiv, place, enjoy, headlin, adel, t...   \n",
       "3          3  2023.0  [facebook, owner, meta, fine, record, suspend,...   \n",
       "4          4  2023.0  [facebook, fine, suspend, data, transfer, iris...   \n",
       "...      ...     ...                                                ...   \n",
       "59837  35721  2016.0  [microsoft, launch, surfac, book, back, octob,...   \n",
       "59838  35722  2016.0  [found, three, cambridg, graduat, predict, nex...   \n",
       "59839  35723  2016.0  [appl, ipad, outsold, microsoft, entir, surfac...   \n",
       "59840  35724  2015.0  [microsoft, unveil, pinnacl, laptop, design, f...   \n",
       "59841  35725  2016.0  [window, latest, version, microsoft, yearold, ...   \n",
       "\n",
       "                                                  agenda  \\\n",
       "0      [damien, boyc, date, judg, follow, illconsid, ...   \n",
       "1      [reach, digit, revenu, almost, sinc, januari, ...   \n",
       "2      [freddi, mercuri, among, perform, protest, met...   \n",
       "3      [penalti, ireland, privaci, regul, record, bre...   \n",
       "4      [decis, ireland, privaci, regul, record, breac...   \n",
       "...                                                  ...   \n",
       "59837  [microsoft, surfac, book, review, brilliant, h...   \n",
       "59838  [swiftkey, founder, sold, stake, bicycl, miss,...   \n",
       "59839     [ipad, outsel, entir, microsoft, surfac, rang]   \n",
       "59840  [best, luck, microsoft, surfac, book, isnt, save]   \n",
       "59841          [window, review, fresh, start, microsoft]   \n",
       "\n",
       "                                                     url source  \\\n",
       "0      https://www.theguardian.com/us-news/2023/jun/2...    GUA   \n",
       "1      https://www.theguardian.com/business/2023/may/...    GUA   \n",
       "2      https://www.theguardian.com/technology/2023/ju...    GUA   \n",
       "3      https://www.theguardian.com/technology/2023/ma...    GUA   \n",
       "4      https://www.theguardian.com/technology/2023/ma...    GUA   \n",
       "...                                                  ...    ...   \n",
       "59837  https://www.telegraph.co.uk/technology/2016/02...     TE   \n",
       "59838  https://www.telegraph.co.uk/technology/2016/02...     TE   \n",
       "59839  https://www.telegraph.co.uk/technology/2016/02...     TE   \n",
       "59840  https://www.telegraph.co.uk/technology/2015/12...     TE   \n",
       "59841  https://www.telegraph.co.uk/technology/2016/01...     TE   \n",
       "\n",
       "                                       keywords  \n",
       "0                                  ['facebook']  \n",
       "1                                  ['facebook']  \n",
       "2                          ['facebook', 'tech']  \n",
       "3                  ['meta', 'facebook', 'tech']  \n",
       "4                          ['facebook', 'tech']  \n",
       "...                                         ...  \n",
       "59837          ['microsoft', 'surface', 'tech']  \n",
       "59838                     ['microsoft', 'tech']  \n",
       "59839  ['ipad', 'microsoft', 'surface', 'tech']  \n",
       "59840          ['microsoft', 'surface', 'tech']  \n",
       "59841          ['microsoft', 'windows', 'tech']  \n",
       "\n",
       "[59842 rows x 7 columns]"
      ]
     },
     "execution_count": 16,
     "metadata": {},
     "output_type": "execute_result"
    }
   ],
   "source": [
    "df_total"
   ]
  },
  {
   "cell_type": "markdown",
   "metadata": {},
   "source": [
    "We save the filtered final dataframe"
   ]
  },
  {
   "cell_type": "code",
   "execution_count": 18,
   "metadata": {},
   "outputs": [],
   "source": [
    "df_total.to_csv('data/without parliament/FinalDataframes/FilteredFinalDataFrame_WP.csv', index=False)"
   ]
  },
  {
   "cell_type": "markdown",
   "metadata": {},
   "source": [
    "# **Saving by year**"
   ]
  },
  {
   "cell_type": "markdown",
   "metadata": {},
   "source": [
    "We save a dataframe for each year"
   ]
  },
  {
   "cell_type": "code",
   "execution_count": 19,
   "metadata": {},
   "outputs": [],
   "source": [
    "for i in range(14):\n",
    "    df_year = df_total.loc[df_total['year'] == (2010+i)]\n",
    "    df_year.to_csv('data/without parliament/FinalDataframes/FilteredFinalDataFrame_201'+str(i)+'_WP.csv', index=False)"
   ]
  },
  {
   "cell_type": "markdown",
   "metadata": {},
   "source": [
    "## Years observation for database description"
   ]
  },
  {
   "cell_type": "markdown",
   "metadata": {},
   "source": [
    "Here we study the number of articles coming from the different newspapers each year in order to remove newpapers from our study of a year if its number of articles is too low"
   ]
  },
  {
   "cell_type": "code",
   "execution_count": 2,
   "metadata": {},
   "outputs": [],
   "source": [
    "df_2010 = dd.read_csv('data/FinalDataframes/FilteredFinalDataFrame_2010.csv', assume_missing=True, dtype={'url': 'object'})\n",
    "df_2010 = df_2010.compute()\n",
    "df_2010['text'] = df_2010['text'].map(ast.literal_eval)\n",
    "df_2010['agenda'] = df_2010['agenda'].map(ast.literal_eval)"
   ]
  },
  {
   "cell_type": "code",
   "execution_count": 3,
   "metadata": {},
   "outputs": [],
   "source": [
    "df_2011 = dd.read_csv('data/FinalDataframes/FilteredFinalDataFrame_2011.csv', assume_missing=True, dtype={'url': 'object'})\n",
    "df_2011 = df_2011.compute()\n",
    "df_2011['text'] = df_2011['text'].map(ast.literal_eval)\n",
    "df_2011['agenda'] = df_2011['agenda'].map(ast.literal_eval)"
   ]
  },
  {
   "cell_type": "code",
   "execution_count": 4,
   "metadata": {},
   "outputs": [],
   "source": [
    "df_2012 = dd.read_csv('data/FinalDataframes/FilteredFinalDataFrame_2012.csv', assume_missing=True, dtype={'url': 'object'})\n",
    "df_2012 = df_2012.compute()\n",
    "df_2012['text'] = df_2012['text'].map(ast.literal_eval)\n",
    "df_2012['agenda'] = df_2012['agenda'].map(ast.literal_eval)"
   ]
  },
  {
   "cell_type": "code",
   "execution_count": 5,
   "metadata": {},
   "outputs": [],
   "source": [
    "df_2013 = dd.read_csv('data/FinalDataframes/FilteredFinalDataFrame_2013.csv', assume_missing=True, dtype={'url': 'object'})\n",
    "df_2013 = df_2013.compute()\n",
    "df_2013['text'] = df_2013['text'].map(ast.literal_eval)\n",
    "df_2013['agenda'] = df_2013['agenda'].map(ast.literal_eval)"
   ]
  },
  {
   "cell_type": "code",
   "execution_count": 6,
   "metadata": {},
   "outputs": [],
   "source": [
    "df_2014 = dd.read_csv('data/FinalDataframes/FilteredFinalDataFrame_2014.csv', assume_missing=True, dtype={'url': 'object'})\n",
    "df_2014 = df_2014.compute()\n",
    "df_2014['text'] = df_2014['text'].map(ast.literal_eval)\n",
    "df_2014['agenda'] = df_2014['agenda'].map(ast.literal_eval)"
   ]
  },
  {
   "cell_type": "code",
   "execution_count": 7,
   "metadata": {},
   "outputs": [],
   "source": [
    "df_2015 = dd.read_csv('data/FinalDataframes/FilteredFinalDataFrame_2015.csv', assume_missing=True, dtype={'url': 'object'})\n",
    "df_2015 = df_2015.compute()\n",
    "df_2015['text'] = df_2015['text'].map(ast.literal_eval)\n",
    "df_2015['agenda'] = df_2015['agenda'].map(ast.literal_eval)"
   ]
  },
  {
   "cell_type": "code",
   "execution_count": 8,
   "metadata": {},
   "outputs": [],
   "source": [
    "df_2016 = dd.read_csv('data/FinalDataframes/FilteredFinalDataFrame_2016.csv', assume_missing=True, dtype={'url': 'object'})\n",
    "df_2016 = df_2016.compute()\n",
    "df_2016['text'] = df_2016['text'].map(ast.literal_eval)\n",
    "df_2016['agenda'] = df_2016['agenda'].map(ast.literal_eval)"
   ]
  },
  {
   "cell_type": "code",
   "execution_count": 9,
   "metadata": {},
   "outputs": [],
   "source": [
    "df_2017 = dd.read_csv('data/FinalDataframes/FilteredFinalDataFrame_2017.csv', assume_missing=True, dtype={'url': 'object'})\n",
    "df_2017 = df_2017.compute()\n",
    "df_2017['text'] = df_2017['text'].map(ast.literal_eval)\n",
    "df_2017['agenda'] = df_2017['agenda'].map(ast.literal_eval)"
   ]
  },
  {
   "cell_type": "code",
   "execution_count": 10,
   "metadata": {},
   "outputs": [],
   "source": [
    "df_2018 = dd.read_csv('data/FinalDataframes/FilteredFinalDataFrame_2018.csv', assume_missing=True, dtype={'url': 'object'})\n",
    "df_2018 = df_2018.compute()\n",
    "df_2018['text'] = df_2018['text'].map(ast.literal_eval)\n",
    "df_2018['agenda'] = df_2018['agenda'].map(ast.literal_eval)"
   ]
  },
  {
   "cell_type": "code",
   "execution_count": 11,
   "metadata": {},
   "outputs": [],
   "source": [
    "df_2019 = dd.read_csv('data/FinalDataframes/FilteredFinalDataFrame_2019.csv', assume_missing=True, dtype={'url': 'object'})\n",
    "df_2019 = df_2019.compute()\n",
    "df_2019['text'] = df_2019['text'].map(ast.literal_eval)\n",
    "df_2019['agenda'] = df_2019['agenda'].map(ast.literal_eval)"
   ]
  },
  {
   "cell_type": "code",
   "execution_count": 12,
   "metadata": {},
   "outputs": [],
   "source": [
    "df_2020 = dd.read_csv('data/FinalDataframes/FilteredFinalDataFrame_20110.csv', assume_missing=True, dtype={'url': 'object'})\n",
    "df_2020 = df_2020.compute()\n",
    "df_2020['text'] = df_2020['text'].map(ast.literal_eval)\n",
    "df_2020['agenda'] = df_2020['agenda'].map(ast.literal_eval)"
   ]
  },
  {
   "cell_type": "code",
   "execution_count": 13,
   "metadata": {},
   "outputs": [],
   "source": [
    "df_2021 = dd.read_csv('data/FinalDataframes/FilteredFinalDataFrame_20111.csv', assume_missing=True, dtype={'url': 'object'})\n",
    "df_2021 = df_2021.compute()\n",
    "df_2021['text'] = df_2021['text'].map(ast.literal_eval)\n",
    "df_2021['agenda'] = df_2021['agenda'].map(ast.literal_eval)"
   ]
  },
  {
   "cell_type": "code",
   "execution_count": 14,
   "metadata": {},
   "outputs": [],
   "source": [
    "df_2022 = dd.read_csv('data/FinalDataframes/FilteredFinalDataFrame_20112.csv', assume_missing=True, dtype={'url': 'object'})\n",
    "df_2022 = df_2022.compute()\n",
    "df_2022['text'] = df_2022['text'].map(ast.literal_eval)\n",
    "df_2022['agenda'] = df_2022['agenda'].map(ast.literal_eval)"
   ]
  },
  {
   "cell_type": "code",
   "execution_count": 15,
   "metadata": {},
   "outputs": [],
   "source": [
    "df_2023 = dd.read_csv('data/FinalDataframes/FilteredFinalDataFrame_20113.csv', assume_missing=True, dtype={'url': 'object'})\n",
    "df_2023 = df_2023.compute()\n",
    "df_2023['text'] = df_2023['text'].map(ast.literal_eval)\n",
    "df_2023['agenda'] = df_2023['agenda'].map(ast.literal_eval)"
   ]
  },
  {
   "cell_type": "code",
   "execution_count": 16,
   "metadata": {},
   "outputs": [
    {
     "name": "stdout",
     "output_type": "stream",
     "text": [
      "23839\n",
      "27658\n",
      "26912\n",
      "29328\n",
      "26950\n",
      "25983\n",
      "32787\n",
      "29640\n",
      "34378\n",
      "29050\n"
     ]
    }
   ],
   "source": [
    "for i in range(10):\n",
    "    print(len(eval('df_201'+str(i))))"
   ]
  },
  {
   "cell_type": "code",
   "execution_count": 17,
   "metadata": {},
   "outputs": [
    {
     "name": "stdout",
     "output_type": "stream",
     "text": [
      "3743\n",
      "3517\n",
      "2315\n",
      "1385\n"
     ]
    }
   ],
   "source": [
    "for i in range(4):\n",
    "    print(len(eval('df_202'+str(i))))"
   ]
  },
  {
   "cell_type": "code",
   "execution_count": 18,
   "metadata": {},
   "outputs": [
    {
     "name": "stdout",
     "output_type": "stream",
     "text": [
      "797\n",
      "738\n",
      "688\n",
      "530\n"
     ]
    }
   ],
   "source": [
    "for i in range(4):\n",
    "    print(len(eval('df_202'+str(i)).loc[eval('df_202'+str(i))['source'] == 'DM']))"
   ]
  },
  {
   "cell_type": "code",
   "execution_count": 19,
   "metadata": {},
   "outputs": [
    {
     "name": "stdout",
     "output_type": "stream",
     "text": [
      "966\n",
      "778\n",
      "214\n",
      "93\n"
     ]
    }
   ],
   "source": [
    "for i in range(4):\n",
    "    print(len(eval('df_202'+str(i)).loc[eval('df_202'+str(i))['source'] == 'DE']))"
   ]
  },
  {
   "cell_type": "code",
   "execution_count": 20,
   "metadata": {},
   "outputs": [
    {
     "name": "stdout",
     "output_type": "stream",
     "text": [
      "832\n",
      "1125\n",
      "827\n",
      "491\n"
     ]
    }
   ],
   "source": [
    "for i in range(4):\n",
    "    print(len(eval('df_202'+str(i)).loc[eval('df_202'+str(i))['source'] == 'GUA']))"
   ]
  },
  {
   "cell_type": "code",
   "execution_count": 21,
   "metadata": {},
   "outputs": [
    {
     "name": "stdout",
     "output_type": "stream",
     "text": [
      "833\n",
      "532\n",
      "178\n",
      "150\n"
     ]
    }
   ],
   "source": [
    "for i in range(4):\n",
    "    print(len(eval('df_202'+str(i)).loc[eval('df_202'+str(i))['source'] == 'TE']))"
   ]
  },
  {
   "cell_type": "markdown",
   "metadata": {},
   "source": [
    "Telegraph c'est bon que pour 2016-2019"
   ]
  },
  {
   "cell_type": "code",
   "execution_count": 22,
   "metadata": {},
   "outputs": [
    {
     "name": "stdout",
     "output_type": "stream",
     "text": [
      "315\n",
      "344\n",
      "408\n",
      "121\n"
     ]
    }
   ],
   "source": [
    "for i in range(4):\n",
    "    print(len(eval('df_202'+str(i)).loc[eval('df_202'+str(i))['source'] == 'MET']))"
   ]
  },
  {
   "cell_type": "code",
   "execution_count": 26,
   "metadata": {},
   "outputs": [
    {
     "data": {
      "application/vnd.plotly.v1+json": {
       "config": {
        "plotlyServerURL": "https://plot.ly"
       },
       "data": [
        {
         "hovertemplate": "variable=The Guardian<br>index=%{x}<br>value=%{y}<extra></extra>",
         "legendgroup": "The Guardian",
         "line": {
          "color": "#636efa",
          "dash": "solid"
         },
         "marker": {
          "symbol": "circle"
         },
         "mode": "lines",
         "name": "The Guardian",
         "orientation": "v",
         "showlegend": true,
         "type": "scatter",
         "x": [
          2010,
          2011,
          2012,
          2013,
          2014,
          2015,
          2016,
          2017,
          2018,
          2019,
          2020,
          2021,
          2022,
          2023
         ],
         "xaxis": "x",
         "y": [
          1374,
          1474,
          1631,
          1923,
          1908,
          1573,
          1496,
          1133,
          987,
          986,
          832,
          1125,
          827,
          491
         ],
         "yaxis": "y"
        },
        {
         "hovertemplate": "variable=Metro<br>index=%{x}<br>value=%{y}<extra></extra>",
         "legendgroup": "Metro",
         "line": {
          "color": "#EF553B",
          "dash": "solid"
         },
         "marker": {
          "symbol": "circle"
         },
         "mode": "lines",
         "name": "Metro",
         "orientation": "v",
         "showlegend": true,
         "type": "scatter",
         "x": [
          2010,
          2011,
          2012,
          2013,
          2014,
          2015,
          2016,
          2017,
          2018,
          2019,
          2020,
          2021,
          2022,
          2023
         ],
         "xaxis": "x",
         "y": [
          445,
          301,
          224,
          306,
          301,
          244,
          318,
          324,
          547,
          486,
          315,
          344,
          408,
          121
         ],
         "yaxis": "y"
        },
        {
         "hovertemplate": "variable=The Telegraph<br>index=%{x}<br>value=%{y}<extra></extra>",
         "legendgroup": "The Telegraph",
         "line": {
          "color": "#00cc96",
          "dash": "solid"
         },
         "marker": {
          "symbol": "circle"
         },
         "mode": "lines",
         "name": "The Telegraph",
         "orientation": "v",
         "showlegend": true,
         "type": "scatter",
         "x": [
          2010,
          2011,
          2012,
          2013,
          2014,
          2015,
          2016,
          2017,
          2018,
          2019,
          2020,
          2021,
          2022,
          2023
         ],
         "xaxis": "x",
         "y": [
          0,
          0,
          1,
          0,
          1,
          27,
          655,
          703,
          901,
          787,
          833,
          532,
          178,
          150
         ],
         "yaxis": "y"
        },
        {
         "hovertemplate": "variable=The Daily Mail<br>index=%{x}<br>value=%{y}<extra></extra>",
         "legendgroup": "The Daily Mail",
         "line": {
          "color": "#ab63fa",
          "dash": "solid"
         },
         "marker": {
          "symbol": "circle"
         },
         "mode": "lines",
         "name": "The Daily Mail",
         "orientation": "v",
         "showlegend": true,
         "type": "scatter",
         "x": [
          2010,
          2011,
          2012,
          2013,
          2014,
          2015,
          2016,
          2017,
          2018,
          2019,
          2020,
          2021,
          2022,
          2023
         ],
         "xaxis": "x",
         "y": [
          5,
          741,
          2138,
          2000,
          1885,
          1708,
          2223,
          2035,
          1465,
          678,
          797,
          738,
          688,
          530
         ],
         "yaxis": "y"
        },
        {
         "hovertemplate": "variable=The Daily Express<br>index=%{x}<br>value=%{y}<extra></extra>",
         "legendgroup": "The Daily Express",
         "line": {
          "color": "#FFA15A",
          "dash": "solid"
         },
         "marker": {
          "symbol": "circle"
         },
         "mode": "lines",
         "name": "The Daily Express",
         "orientation": "v",
         "showlegend": true,
         "type": "scatter",
         "x": [
          2010,
          2011,
          2012,
          2013,
          2014,
          2015,
          2016,
          2017,
          2018,
          2019,
          2020,
          2021,
          2022,
          2023
         ],
         "xaxis": "x",
         "y": [
          183,
          180,
          226,
          371,
          403,
          1579,
          2493,
          3196,
          2363,
          1605,
          3743,
          3517,
          2315,
          1385
         ],
         "yaxis": "y"
        }
       ],
       "layout": {
        "autosize": false,
        "height": 500,
        "legend": {
         "title": {
          "text": "variable"
         },
         "tracegroupgap": 0
        },
        "margin": {
         "t": 60
        },
        "template": {
         "data": {
          "bar": [
           {
            "error_x": {
             "color": "#2a3f5f"
            },
            "error_y": {
             "color": "#2a3f5f"
            },
            "marker": {
             "line": {
              "color": "#E5ECF6",
              "width": 0.5
             },
             "pattern": {
              "fillmode": "overlay",
              "size": 10,
              "solidity": 0.2
             }
            },
            "type": "bar"
           }
          ],
          "barpolar": [
           {
            "marker": {
             "line": {
              "color": "#E5ECF6",
              "width": 0.5
             },
             "pattern": {
              "fillmode": "overlay",
              "size": 10,
              "solidity": 0.2
             }
            },
            "type": "barpolar"
           }
          ],
          "carpet": [
           {
            "aaxis": {
             "endlinecolor": "#2a3f5f",
             "gridcolor": "white",
             "linecolor": "white",
             "minorgridcolor": "white",
             "startlinecolor": "#2a3f5f"
            },
            "baxis": {
             "endlinecolor": "#2a3f5f",
             "gridcolor": "white",
             "linecolor": "white",
             "minorgridcolor": "white",
             "startlinecolor": "#2a3f5f"
            },
            "type": "carpet"
           }
          ],
          "choropleth": [
           {
            "colorbar": {
             "outlinewidth": 0,
             "ticks": ""
            },
            "type": "choropleth"
           }
          ],
          "contour": [
           {
            "colorbar": {
             "outlinewidth": 0,
             "ticks": ""
            },
            "colorscale": [
             [
              0,
              "#0d0887"
             ],
             [
              0.1111111111111111,
              "#46039f"
             ],
             [
              0.2222222222222222,
              "#7201a8"
             ],
             [
              0.3333333333333333,
              "#9c179e"
             ],
             [
              0.4444444444444444,
              "#bd3786"
             ],
             [
              0.5555555555555556,
              "#d8576b"
             ],
             [
              0.6666666666666666,
              "#ed7953"
             ],
             [
              0.7777777777777778,
              "#fb9f3a"
             ],
             [
              0.8888888888888888,
              "#fdca26"
             ],
             [
              1,
              "#f0f921"
             ]
            ],
            "type": "contour"
           }
          ],
          "contourcarpet": [
           {
            "colorbar": {
             "outlinewidth": 0,
             "ticks": ""
            },
            "type": "contourcarpet"
           }
          ],
          "heatmap": [
           {
            "colorbar": {
             "outlinewidth": 0,
             "ticks": ""
            },
            "colorscale": [
             [
              0,
              "#0d0887"
             ],
             [
              0.1111111111111111,
              "#46039f"
             ],
             [
              0.2222222222222222,
              "#7201a8"
             ],
             [
              0.3333333333333333,
              "#9c179e"
             ],
             [
              0.4444444444444444,
              "#bd3786"
             ],
             [
              0.5555555555555556,
              "#d8576b"
             ],
             [
              0.6666666666666666,
              "#ed7953"
             ],
             [
              0.7777777777777778,
              "#fb9f3a"
             ],
             [
              0.8888888888888888,
              "#fdca26"
             ],
             [
              1,
              "#f0f921"
             ]
            ],
            "type": "heatmap"
           }
          ],
          "heatmapgl": [
           {
            "colorbar": {
             "outlinewidth": 0,
             "ticks": ""
            },
            "colorscale": [
             [
              0,
              "#0d0887"
             ],
             [
              0.1111111111111111,
              "#46039f"
             ],
             [
              0.2222222222222222,
              "#7201a8"
             ],
             [
              0.3333333333333333,
              "#9c179e"
             ],
             [
              0.4444444444444444,
              "#bd3786"
             ],
             [
              0.5555555555555556,
              "#d8576b"
             ],
             [
              0.6666666666666666,
              "#ed7953"
             ],
             [
              0.7777777777777778,
              "#fb9f3a"
             ],
             [
              0.8888888888888888,
              "#fdca26"
             ],
             [
              1,
              "#f0f921"
             ]
            ],
            "type": "heatmapgl"
           }
          ],
          "histogram": [
           {
            "marker": {
             "pattern": {
              "fillmode": "overlay",
              "size": 10,
              "solidity": 0.2
             }
            },
            "type": "histogram"
           }
          ],
          "histogram2d": [
           {
            "colorbar": {
             "outlinewidth": 0,
             "ticks": ""
            },
            "colorscale": [
             [
              0,
              "#0d0887"
             ],
             [
              0.1111111111111111,
              "#46039f"
             ],
             [
              0.2222222222222222,
              "#7201a8"
             ],
             [
              0.3333333333333333,
              "#9c179e"
             ],
             [
              0.4444444444444444,
              "#bd3786"
             ],
             [
              0.5555555555555556,
              "#d8576b"
             ],
             [
              0.6666666666666666,
              "#ed7953"
             ],
             [
              0.7777777777777778,
              "#fb9f3a"
             ],
             [
              0.8888888888888888,
              "#fdca26"
             ],
             [
              1,
              "#f0f921"
             ]
            ],
            "type": "histogram2d"
           }
          ],
          "histogram2dcontour": [
           {
            "colorbar": {
             "outlinewidth": 0,
             "ticks": ""
            },
            "colorscale": [
             [
              0,
              "#0d0887"
             ],
             [
              0.1111111111111111,
              "#46039f"
             ],
             [
              0.2222222222222222,
              "#7201a8"
             ],
             [
              0.3333333333333333,
              "#9c179e"
             ],
             [
              0.4444444444444444,
              "#bd3786"
             ],
             [
              0.5555555555555556,
              "#d8576b"
             ],
             [
              0.6666666666666666,
              "#ed7953"
             ],
             [
              0.7777777777777778,
              "#fb9f3a"
             ],
             [
              0.8888888888888888,
              "#fdca26"
             ],
             [
              1,
              "#f0f921"
             ]
            ],
            "type": "histogram2dcontour"
           }
          ],
          "mesh3d": [
           {
            "colorbar": {
             "outlinewidth": 0,
             "ticks": ""
            },
            "type": "mesh3d"
           }
          ],
          "parcoords": [
           {
            "line": {
             "colorbar": {
              "outlinewidth": 0,
              "ticks": ""
             }
            },
            "type": "parcoords"
           }
          ],
          "pie": [
           {
            "automargin": true,
            "type": "pie"
           }
          ],
          "scatter": [
           {
            "fillpattern": {
             "fillmode": "overlay",
             "size": 10,
             "solidity": 0.2
            },
            "type": "scatter"
           }
          ],
          "scatter3d": [
           {
            "line": {
             "colorbar": {
              "outlinewidth": 0,
              "ticks": ""
             }
            },
            "marker": {
             "colorbar": {
              "outlinewidth": 0,
              "ticks": ""
             }
            },
            "type": "scatter3d"
           }
          ],
          "scattercarpet": [
           {
            "marker": {
             "colorbar": {
              "outlinewidth": 0,
              "ticks": ""
             }
            },
            "type": "scattercarpet"
           }
          ],
          "scattergeo": [
           {
            "marker": {
             "colorbar": {
              "outlinewidth": 0,
              "ticks": ""
             }
            },
            "type": "scattergeo"
           }
          ],
          "scattergl": [
           {
            "marker": {
             "colorbar": {
              "outlinewidth": 0,
              "ticks": ""
             }
            },
            "type": "scattergl"
           }
          ],
          "scattermapbox": [
           {
            "marker": {
             "colorbar": {
              "outlinewidth": 0,
              "ticks": ""
             }
            },
            "type": "scattermapbox"
           }
          ],
          "scatterpolar": [
           {
            "marker": {
             "colorbar": {
              "outlinewidth": 0,
              "ticks": ""
             }
            },
            "type": "scatterpolar"
           }
          ],
          "scatterpolargl": [
           {
            "marker": {
             "colorbar": {
              "outlinewidth": 0,
              "ticks": ""
             }
            },
            "type": "scatterpolargl"
           }
          ],
          "scatterternary": [
           {
            "marker": {
             "colorbar": {
              "outlinewidth": 0,
              "ticks": ""
             }
            },
            "type": "scatterternary"
           }
          ],
          "surface": [
           {
            "colorbar": {
             "outlinewidth": 0,
             "ticks": ""
            },
            "colorscale": [
             [
              0,
              "#0d0887"
             ],
             [
              0.1111111111111111,
              "#46039f"
             ],
             [
              0.2222222222222222,
              "#7201a8"
             ],
             [
              0.3333333333333333,
              "#9c179e"
             ],
             [
              0.4444444444444444,
              "#bd3786"
             ],
             [
              0.5555555555555556,
              "#d8576b"
             ],
             [
              0.6666666666666666,
              "#ed7953"
             ],
             [
              0.7777777777777778,
              "#fb9f3a"
             ],
             [
              0.8888888888888888,
              "#fdca26"
             ],
             [
              1,
              "#f0f921"
             ]
            ],
            "type": "surface"
           }
          ],
          "table": [
           {
            "cells": {
             "fill": {
              "color": "#EBF0F8"
             },
             "line": {
              "color": "white"
             }
            },
            "header": {
             "fill": {
              "color": "#C8D4E3"
             },
             "line": {
              "color": "white"
             }
            },
            "type": "table"
           }
          ]
         },
         "layout": {
          "annotationdefaults": {
           "arrowcolor": "#2a3f5f",
           "arrowhead": 0,
           "arrowwidth": 1
          },
          "autotypenumbers": "strict",
          "coloraxis": {
           "colorbar": {
            "outlinewidth": 0,
            "ticks": ""
           }
          },
          "colorscale": {
           "diverging": [
            [
             0,
             "#8e0152"
            ],
            [
             0.1,
             "#c51b7d"
            ],
            [
             0.2,
             "#de77ae"
            ],
            [
             0.3,
             "#f1b6da"
            ],
            [
             0.4,
             "#fde0ef"
            ],
            [
             0.5,
             "#f7f7f7"
            ],
            [
             0.6,
             "#e6f5d0"
            ],
            [
             0.7,
             "#b8e186"
            ],
            [
             0.8,
             "#7fbc41"
            ],
            [
             0.9,
             "#4d9221"
            ],
            [
             1,
             "#276419"
            ]
           ],
           "sequential": [
            [
             0,
             "#0d0887"
            ],
            [
             0.1111111111111111,
             "#46039f"
            ],
            [
             0.2222222222222222,
             "#7201a8"
            ],
            [
             0.3333333333333333,
             "#9c179e"
            ],
            [
             0.4444444444444444,
             "#bd3786"
            ],
            [
             0.5555555555555556,
             "#d8576b"
            ],
            [
             0.6666666666666666,
             "#ed7953"
            ],
            [
             0.7777777777777778,
             "#fb9f3a"
            ],
            [
             0.8888888888888888,
             "#fdca26"
            ],
            [
             1,
             "#f0f921"
            ]
           ],
           "sequentialminus": [
            [
             0,
             "#0d0887"
            ],
            [
             0.1111111111111111,
             "#46039f"
            ],
            [
             0.2222222222222222,
             "#7201a8"
            ],
            [
             0.3333333333333333,
             "#9c179e"
            ],
            [
             0.4444444444444444,
             "#bd3786"
            ],
            [
             0.5555555555555556,
             "#d8576b"
            ],
            [
             0.6666666666666666,
             "#ed7953"
            ],
            [
             0.7777777777777778,
             "#fb9f3a"
            ],
            [
             0.8888888888888888,
             "#fdca26"
            ],
            [
             1,
             "#f0f921"
            ]
           ]
          },
          "colorway": [
           "#636efa",
           "#EF553B",
           "#00cc96",
           "#ab63fa",
           "#FFA15A",
           "#19d3f3",
           "#FF6692",
           "#B6E880",
           "#FF97FF",
           "#FECB52"
          ],
          "font": {
           "color": "#2a3f5f"
          },
          "geo": {
           "bgcolor": "white",
           "lakecolor": "white",
           "landcolor": "#E5ECF6",
           "showlakes": true,
           "showland": true,
           "subunitcolor": "white"
          },
          "hoverlabel": {
           "align": "left"
          },
          "hovermode": "closest",
          "mapbox": {
           "style": "light"
          },
          "paper_bgcolor": "white",
          "plot_bgcolor": "#E5ECF6",
          "polar": {
           "angularaxis": {
            "gridcolor": "white",
            "linecolor": "white",
            "ticks": ""
           },
           "bgcolor": "#E5ECF6",
           "radialaxis": {
            "gridcolor": "white",
            "linecolor": "white",
            "ticks": ""
           }
          },
          "scene": {
           "xaxis": {
            "backgroundcolor": "#E5ECF6",
            "gridcolor": "white",
            "gridwidth": 2,
            "linecolor": "white",
            "showbackground": true,
            "ticks": "",
            "zerolinecolor": "white"
           },
           "yaxis": {
            "backgroundcolor": "#E5ECF6",
            "gridcolor": "white",
            "gridwidth": 2,
            "linecolor": "white",
            "showbackground": true,
            "ticks": "",
            "zerolinecolor": "white"
           },
           "zaxis": {
            "backgroundcolor": "#E5ECF6",
            "gridcolor": "white",
            "gridwidth": 2,
            "linecolor": "white",
            "showbackground": true,
            "ticks": "",
            "zerolinecolor": "white"
           }
          },
          "shapedefaults": {
           "line": {
            "color": "#2a3f5f"
           }
          },
          "ternary": {
           "aaxis": {
            "gridcolor": "white",
            "linecolor": "white",
            "ticks": ""
           },
           "baxis": {
            "gridcolor": "white",
            "linecolor": "white",
            "ticks": ""
           },
           "bgcolor": "#E5ECF6",
           "caxis": {
            "gridcolor": "white",
            "linecolor": "white",
            "ticks": ""
           }
          },
          "title": {
           "x": 0.05
          },
          "xaxis": {
           "automargin": true,
           "gridcolor": "white",
           "linecolor": "white",
           "ticks": "",
           "title": {
            "standoff": 15
           },
           "zerolinecolor": "white",
           "zerolinewidth": 2
          },
          "yaxis": {
           "automargin": true,
           "gridcolor": "white",
           "linecolor": "white",
           "ticks": "",
           "title": {
            "standoff": 15
           },
           "zerolinecolor": "white",
           "zerolinewidth": 2
          }
         }
        },
        "width": 500,
        "xaxis": {
         "anchor": "y",
         "domain": [
          0,
          1
         ],
         "title": {
          "text": "index"
         }
        },
        "yaxis": {
         "anchor": "x",
         "domain": [
          0,
          1
         ],
         "title": {
          "text": "value"
         }
        }
       }
      }
     },
     "metadata": {},
     "output_type": "display_data"
    }
   ],
   "source": [
    "data_trace = {'The Guardian': [1374 , 1474, 1631, 1923, 1908, 1573, 1496, 1133, 987, 986, 832, 1125, 827, 491],\n",
    "        'Metro' : [445,301,224,306,301,244,318,324,547,486,315,344,408,121],\n",
    "        'The Telegraph' : [0,0,1,0,1,27,655,703,901,787,833,532,178,150],\n",
    "        'The Daily Mail' : [5, 741, 2138, 2000, 1885, 1708, 2223, 2035, 1465, 678, 797, 738, 688, 530],\n",
    "        'The Daily Express' : [183, 180, 226, 371, 403, 1579, 2493, 3196, 2363, 1605, 3743, 3517, 2315, 1385],\n",
    "        }\n",
    "  \n",
    "df_trace = pd.DataFrame(data_trace, index=[2010, 2011, 2012, 2013, 2014, 2015, 2016, 2017, 2018, 2019, 2020, 2021, 2022, 2023])\n",
    "df_trace.transpose()\n",
    "import plotly.express as px\n",
    "fig = px.line(df_trace)\n",
    "fig.update_layout(\n",
    "    autosize=False,\n",
    "    width=500,\n",
    "    height=500)\n",
    "fig.show()"
   ]
  },
  {
   "cell_type": "markdown",
   "metadata": {},
   "source": [
    "## By political party"
   ]
  },
  {
   "cell_type": "code",
   "execution_count": 27,
   "metadata": {},
   "outputs": [],
   "source": [
    "dfp = dd.read_csv('data/FinalDataframes/FilteredFinalDataFrame.csv', assume_missing=True, dtype={'url': 'object'})\n",
    "dfp = dfp.compute()\n",
    "dfp['text'] = dfp['text'].map(ast.literal_eval)\n",
    "dfp['agenda'] = dfp['agenda'].map(ast.literal_eval)"
   ]
  },
  {
   "cell_type": "code",
   "execution_count": 28,
   "metadata": {},
   "outputs": [],
   "source": [
    "dfp = dfp[['year', 'party']]\n",
    "dfp = dfp.groupby(by=['year', 'party'])['party'].count()\n",
    "dfp = pd.DataFrame(dfp)\n",
    "dfp['count'] = dfp['party']\n",
    "dfp = dfp[['count']]\n",
    "dfp.reset_index(inplace=True)\n",
    "dfp = dfp.loc[dfp['party'].str.contains('Con|Lab|SNP|LibDem|DUP')]"
   ]
  },
  {
   "cell_type": "code",
   "execution_count": 30,
   "metadata": {},
   "outputs": [
    {
     "data": {
      "application/vnd.plotly.v1+json": {
       "config": {
        "plotlyServerURL": "https://plot.ly"
       },
       "data": [
        {
         "hovertemplate": "party=Con<br>year=%{x}<br>count=%{y}<extra></extra>",
         "legendgroup": "Con",
         "line": {
          "color": "#636efa",
          "dash": "solid"
         },
         "marker": {
          "symbol": "circle"
         },
         "mode": "lines",
         "name": "Con",
         "orientation": "v",
         "showlegend": true,
         "type": "scatter",
         "x": [
          2010,
          2011,
          2012,
          2013,
          2014,
          2015,
          2016,
          2017,
          2018,
          2019
         ],
         "xaxis": "x",
         "y": [
          9559,
          13084,
          11829,
          12182,
          11590,
          11525,
          14212,
          12331,
          15726,
          13205
         ],
         "yaxis": "y"
        },
        {
         "hovertemplate": "party=DUP<br>year=%{x}<br>count=%{y}<extra></extra>",
         "legendgroup": "DUP",
         "line": {
          "color": "#EF553B",
          "dash": "solid"
         },
         "marker": {
          "symbol": "circle"
         },
         "mode": "lines",
         "name": "DUP",
         "orientation": "v",
         "showlegend": true,
         "type": "scatter",
         "x": [
          2010,
          2011,
          2012,
          2013,
          2014,
          2015,
          2016,
          2017,
          2018,
          2019
         ],
         "xaxis": "x",
         "y": [
          169,
          257,
          293,
          380,
          331,
          350,
          452,
          377,
          544,
          574
         ],
         "yaxis": "y"
        },
        {
         "hovertemplate": "party=Lab<br>year=%{x}<br>count=%{y}<extra></extra>",
         "legendgroup": "Lab",
         "line": {
          "color": "#00cc96",
          "dash": "solid"
         },
         "marker": {
          "symbol": "circle"
         },
         "mode": "lines",
         "name": "Lab",
         "orientation": "v",
         "showlegend": true,
         "type": "scatter",
         "x": [
          2010,
          2011,
          2012,
          2013,
          2014,
          2015,
          2016,
          2017,
          2018,
          2019
         ],
         "xaxis": "x",
         "y": [
          8917,
          8282,
          7541,
          8548,
          7422,
          6122,
          7118,
          6517,
          8397,
          7293
         ],
         "yaxis": "y"
        },
        {
         "hovertemplate": "party=LibDem<br>year=%{x}<br>count=%{y}<extra></extra>",
         "legendgroup": "LibDem",
         "line": {
          "color": "#ab63fa",
          "dash": "solid"
         },
         "marker": {
          "symbol": "circle"
         },
         "mode": "lines",
         "name": "LibDem",
         "orientation": "v",
         "showlegend": true,
         "type": "scatter",
         "x": [
          2010,
          2011,
          2012,
          2013,
          2014,
          2015,
          2016,
          2017,
          2018,
          2019
         ],
         "xaxis": "x",
         "y": [
          2363,
          2542,
          2299,
          2570,
          2163,
          826,
          362,
          410,
          583,
          527
         ],
         "yaxis": "y"
        },
        {
         "hovertemplate": "party=SNP<br>year=%{x}<br>count=%{y}<extra></extra>",
         "legendgroup": "SNP",
         "line": {
          "color": "#FFA15A",
          "dash": "solid"
         },
         "marker": {
          "symbol": "circle"
         },
         "mode": "lines",
         "name": "SNP",
         "orientation": "v",
         "showlegend": true,
         "type": "scatter",
         "x": [
          2010,
          2011,
          2012,
          2013,
          2014,
          2015,
          2016,
          2017,
          2018,
          2019
         ],
         "xaxis": "x",
         "y": [
          208,
          245,
          190,
          219,
          208,
          1316,
          2550,
          1938,
          2082,
          1814
         ],
         "yaxis": "y"
        }
       ],
       "layout": {
        "autosize": false,
        "height": 500,
        "legend": {
         "title": {
          "text": "party"
         },
         "tracegroupgap": 0
        },
        "margin": {
         "t": 60
        },
        "template": {
         "data": {
          "bar": [
           {
            "error_x": {
             "color": "#2a3f5f"
            },
            "error_y": {
             "color": "#2a3f5f"
            },
            "marker": {
             "line": {
              "color": "#E5ECF6",
              "width": 0.5
             },
             "pattern": {
              "fillmode": "overlay",
              "size": 10,
              "solidity": 0.2
             }
            },
            "type": "bar"
           }
          ],
          "barpolar": [
           {
            "marker": {
             "line": {
              "color": "#E5ECF6",
              "width": 0.5
             },
             "pattern": {
              "fillmode": "overlay",
              "size": 10,
              "solidity": 0.2
             }
            },
            "type": "barpolar"
           }
          ],
          "carpet": [
           {
            "aaxis": {
             "endlinecolor": "#2a3f5f",
             "gridcolor": "white",
             "linecolor": "white",
             "minorgridcolor": "white",
             "startlinecolor": "#2a3f5f"
            },
            "baxis": {
             "endlinecolor": "#2a3f5f",
             "gridcolor": "white",
             "linecolor": "white",
             "minorgridcolor": "white",
             "startlinecolor": "#2a3f5f"
            },
            "type": "carpet"
           }
          ],
          "choropleth": [
           {
            "colorbar": {
             "outlinewidth": 0,
             "ticks": ""
            },
            "type": "choropleth"
           }
          ],
          "contour": [
           {
            "colorbar": {
             "outlinewidth": 0,
             "ticks": ""
            },
            "colorscale": [
             [
              0,
              "#0d0887"
             ],
             [
              0.1111111111111111,
              "#46039f"
             ],
             [
              0.2222222222222222,
              "#7201a8"
             ],
             [
              0.3333333333333333,
              "#9c179e"
             ],
             [
              0.4444444444444444,
              "#bd3786"
             ],
             [
              0.5555555555555556,
              "#d8576b"
             ],
             [
              0.6666666666666666,
              "#ed7953"
             ],
             [
              0.7777777777777778,
              "#fb9f3a"
             ],
             [
              0.8888888888888888,
              "#fdca26"
             ],
             [
              1,
              "#f0f921"
             ]
            ],
            "type": "contour"
           }
          ],
          "contourcarpet": [
           {
            "colorbar": {
             "outlinewidth": 0,
             "ticks": ""
            },
            "type": "contourcarpet"
           }
          ],
          "heatmap": [
           {
            "colorbar": {
             "outlinewidth": 0,
             "ticks": ""
            },
            "colorscale": [
             [
              0,
              "#0d0887"
             ],
             [
              0.1111111111111111,
              "#46039f"
             ],
             [
              0.2222222222222222,
              "#7201a8"
             ],
             [
              0.3333333333333333,
              "#9c179e"
             ],
             [
              0.4444444444444444,
              "#bd3786"
             ],
             [
              0.5555555555555556,
              "#d8576b"
             ],
             [
              0.6666666666666666,
              "#ed7953"
             ],
             [
              0.7777777777777778,
              "#fb9f3a"
             ],
             [
              0.8888888888888888,
              "#fdca26"
             ],
             [
              1,
              "#f0f921"
             ]
            ],
            "type": "heatmap"
           }
          ],
          "heatmapgl": [
           {
            "colorbar": {
             "outlinewidth": 0,
             "ticks": ""
            },
            "colorscale": [
             [
              0,
              "#0d0887"
             ],
             [
              0.1111111111111111,
              "#46039f"
             ],
             [
              0.2222222222222222,
              "#7201a8"
             ],
             [
              0.3333333333333333,
              "#9c179e"
             ],
             [
              0.4444444444444444,
              "#bd3786"
             ],
             [
              0.5555555555555556,
              "#d8576b"
             ],
             [
              0.6666666666666666,
              "#ed7953"
             ],
             [
              0.7777777777777778,
              "#fb9f3a"
             ],
             [
              0.8888888888888888,
              "#fdca26"
             ],
             [
              1,
              "#f0f921"
             ]
            ],
            "type": "heatmapgl"
           }
          ],
          "histogram": [
           {
            "marker": {
             "pattern": {
              "fillmode": "overlay",
              "size": 10,
              "solidity": 0.2
             }
            },
            "type": "histogram"
           }
          ],
          "histogram2d": [
           {
            "colorbar": {
             "outlinewidth": 0,
             "ticks": ""
            },
            "colorscale": [
             [
              0,
              "#0d0887"
             ],
             [
              0.1111111111111111,
              "#46039f"
             ],
             [
              0.2222222222222222,
              "#7201a8"
             ],
             [
              0.3333333333333333,
              "#9c179e"
             ],
             [
              0.4444444444444444,
              "#bd3786"
             ],
             [
              0.5555555555555556,
              "#d8576b"
             ],
             [
              0.6666666666666666,
              "#ed7953"
             ],
             [
              0.7777777777777778,
              "#fb9f3a"
             ],
             [
              0.8888888888888888,
              "#fdca26"
             ],
             [
              1,
              "#f0f921"
             ]
            ],
            "type": "histogram2d"
           }
          ],
          "histogram2dcontour": [
           {
            "colorbar": {
             "outlinewidth": 0,
             "ticks": ""
            },
            "colorscale": [
             [
              0,
              "#0d0887"
             ],
             [
              0.1111111111111111,
              "#46039f"
             ],
             [
              0.2222222222222222,
              "#7201a8"
             ],
             [
              0.3333333333333333,
              "#9c179e"
             ],
             [
              0.4444444444444444,
              "#bd3786"
             ],
             [
              0.5555555555555556,
              "#d8576b"
             ],
             [
              0.6666666666666666,
              "#ed7953"
             ],
             [
              0.7777777777777778,
              "#fb9f3a"
             ],
             [
              0.8888888888888888,
              "#fdca26"
             ],
             [
              1,
              "#f0f921"
             ]
            ],
            "type": "histogram2dcontour"
           }
          ],
          "mesh3d": [
           {
            "colorbar": {
             "outlinewidth": 0,
             "ticks": ""
            },
            "type": "mesh3d"
           }
          ],
          "parcoords": [
           {
            "line": {
             "colorbar": {
              "outlinewidth": 0,
              "ticks": ""
             }
            },
            "type": "parcoords"
           }
          ],
          "pie": [
           {
            "automargin": true,
            "type": "pie"
           }
          ],
          "scatter": [
           {
            "fillpattern": {
             "fillmode": "overlay",
             "size": 10,
             "solidity": 0.2
            },
            "type": "scatter"
           }
          ],
          "scatter3d": [
           {
            "line": {
             "colorbar": {
              "outlinewidth": 0,
              "ticks": ""
             }
            },
            "marker": {
             "colorbar": {
              "outlinewidth": 0,
              "ticks": ""
             }
            },
            "type": "scatter3d"
           }
          ],
          "scattercarpet": [
           {
            "marker": {
             "colorbar": {
              "outlinewidth": 0,
              "ticks": ""
             }
            },
            "type": "scattercarpet"
           }
          ],
          "scattergeo": [
           {
            "marker": {
             "colorbar": {
              "outlinewidth": 0,
              "ticks": ""
             }
            },
            "type": "scattergeo"
           }
          ],
          "scattergl": [
           {
            "marker": {
             "colorbar": {
              "outlinewidth": 0,
              "ticks": ""
             }
            },
            "type": "scattergl"
           }
          ],
          "scattermapbox": [
           {
            "marker": {
             "colorbar": {
              "outlinewidth": 0,
              "ticks": ""
             }
            },
            "type": "scattermapbox"
           }
          ],
          "scatterpolar": [
           {
            "marker": {
             "colorbar": {
              "outlinewidth": 0,
              "ticks": ""
             }
            },
            "type": "scatterpolar"
           }
          ],
          "scatterpolargl": [
           {
            "marker": {
             "colorbar": {
              "outlinewidth": 0,
              "ticks": ""
             }
            },
            "type": "scatterpolargl"
           }
          ],
          "scatterternary": [
           {
            "marker": {
             "colorbar": {
              "outlinewidth": 0,
              "ticks": ""
             }
            },
            "type": "scatterternary"
           }
          ],
          "surface": [
           {
            "colorbar": {
             "outlinewidth": 0,
             "ticks": ""
            },
            "colorscale": [
             [
              0,
              "#0d0887"
             ],
             [
              0.1111111111111111,
              "#46039f"
             ],
             [
              0.2222222222222222,
              "#7201a8"
             ],
             [
              0.3333333333333333,
              "#9c179e"
             ],
             [
              0.4444444444444444,
              "#bd3786"
             ],
             [
              0.5555555555555556,
              "#d8576b"
             ],
             [
              0.6666666666666666,
              "#ed7953"
             ],
             [
              0.7777777777777778,
              "#fb9f3a"
             ],
             [
              0.8888888888888888,
              "#fdca26"
             ],
             [
              1,
              "#f0f921"
             ]
            ],
            "type": "surface"
           }
          ],
          "table": [
           {
            "cells": {
             "fill": {
              "color": "#EBF0F8"
             },
             "line": {
              "color": "white"
             }
            },
            "header": {
             "fill": {
              "color": "#C8D4E3"
             },
             "line": {
              "color": "white"
             }
            },
            "type": "table"
           }
          ]
         },
         "layout": {
          "annotationdefaults": {
           "arrowcolor": "#2a3f5f",
           "arrowhead": 0,
           "arrowwidth": 1
          },
          "autotypenumbers": "strict",
          "coloraxis": {
           "colorbar": {
            "outlinewidth": 0,
            "ticks": ""
           }
          },
          "colorscale": {
           "diverging": [
            [
             0,
             "#8e0152"
            ],
            [
             0.1,
             "#c51b7d"
            ],
            [
             0.2,
             "#de77ae"
            ],
            [
             0.3,
             "#f1b6da"
            ],
            [
             0.4,
             "#fde0ef"
            ],
            [
             0.5,
             "#f7f7f7"
            ],
            [
             0.6,
             "#e6f5d0"
            ],
            [
             0.7,
             "#b8e186"
            ],
            [
             0.8,
             "#7fbc41"
            ],
            [
             0.9,
             "#4d9221"
            ],
            [
             1,
             "#276419"
            ]
           ],
           "sequential": [
            [
             0,
             "#0d0887"
            ],
            [
             0.1111111111111111,
             "#46039f"
            ],
            [
             0.2222222222222222,
             "#7201a8"
            ],
            [
             0.3333333333333333,
             "#9c179e"
            ],
            [
             0.4444444444444444,
             "#bd3786"
            ],
            [
             0.5555555555555556,
             "#d8576b"
            ],
            [
             0.6666666666666666,
             "#ed7953"
            ],
            [
             0.7777777777777778,
             "#fb9f3a"
            ],
            [
             0.8888888888888888,
             "#fdca26"
            ],
            [
             1,
             "#f0f921"
            ]
           ],
           "sequentialminus": [
            [
             0,
             "#0d0887"
            ],
            [
             0.1111111111111111,
             "#46039f"
            ],
            [
             0.2222222222222222,
             "#7201a8"
            ],
            [
             0.3333333333333333,
             "#9c179e"
            ],
            [
             0.4444444444444444,
             "#bd3786"
            ],
            [
             0.5555555555555556,
             "#d8576b"
            ],
            [
             0.6666666666666666,
             "#ed7953"
            ],
            [
             0.7777777777777778,
             "#fb9f3a"
            ],
            [
             0.8888888888888888,
             "#fdca26"
            ],
            [
             1,
             "#f0f921"
            ]
           ]
          },
          "colorway": [
           "#636efa",
           "#EF553B",
           "#00cc96",
           "#ab63fa",
           "#FFA15A",
           "#19d3f3",
           "#FF6692",
           "#B6E880",
           "#FF97FF",
           "#FECB52"
          ],
          "font": {
           "color": "#2a3f5f"
          },
          "geo": {
           "bgcolor": "white",
           "lakecolor": "white",
           "landcolor": "#E5ECF6",
           "showlakes": true,
           "showland": true,
           "subunitcolor": "white"
          },
          "hoverlabel": {
           "align": "left"
          },
          "hovermode": "closest",
          "mapbox": {
           "style": "light"
          },
          "paper_bgcolor": "white",
          "plot_bgcolor": "#E5ECF6",
          "polar": {
           "angularaxis": {
            "gridcolor": "white",
            "linecolor": "white",
            "ticks": ""
           },
           "bgcolor": "#E5ECF6",
           "radialaxis": {
            "gridcolor": "white",
            "linecolor": "white",
            "ticks": ""
           }
          },
          "scene": {
           "xaxis": {
            "backgroundcolor": "#E5ECF6",
            "gridcolor": "white",
            "gridwidth": 2,
            "linecolor": "white",
            "showbackground": true,
            "ticks": "",
            "zerolinecolor": "white"
           },
           "yaxis": {
            "backgroundcolor": "#E5ECF6",
            "gridcolor": "white",
            "gridwidth": 2,
            "linecolor": "white",
            "showbackground": true,
            "ticks": "",
            "zerolinecolor": "white"
           },
           "zaxis": {
            "backgroundcolor": "#E5ECF6",
            "gridcolor": "white",
            "gridwidth": 2,
            "linecolor": "white",
            "showbackground": true,
            "ticks": "",
            "zerolinecolor": "white"
           }
          },
          "shapedefaults": {
           "line": {
            "color": "#2a3f5f"
           }
          },
          "ternary": {
           "aaxis": {
            "gridcolor": "white",
            "linecolor": "white",
            "ticks": ""
           },
           "baxis": {
            "gridcolor": "white",
            "linecolor": "white",
            "ticks": ""
           },
           "bgcolor": "#E5ECF6",
           "caxis": {
            "gridcolor": "white",
            "linecolor": "white",
            "ticks": ""
           }
          },
          "title": {
           "x": 0.05
          },
          "xaxis": {
           "automargin": true,
           "gridcolor": "white",
           "linecolor": "white",
           "ticks": "",
           "title": {
            "standoff": 15
           },
           "zerolinecolor": "white",
           "zerolinewidth": 2
          },
          "yaxis": {
           "automargin": true,
           "gridcolor": "white",
           "linecolor": "white",
           "ticks": "",
           "title": {
            "standoff": 15
           },
           "zerolinecolor": "white",
           "zerolinewidth": 2
          }
         }
        },
        "width": 500,
        "xaxis": {
         "anchor": "y",
         "domain": [
          0,
          1
         ],
         "title": {
          "text": "year"
         }
        },
        "yaxis": {
         "anchor": "x",
         "domain": [
          0,
          1
         ],
         "title": {
          "text": "count"
         }
        }
       }
      }
     },
     "metadata": {},
     "output_type": "display_data"
    }
   ],
   "source": [
    "import plotly.express as px\n",
    "fig = px.line(dfp, x='year', y='count', color='party')\n",
    "fig.update_layout(\n",
    "    autosize=False,\n",
    "    width=500,\n",
    "    height=500)\n",
    "fig.show()"
   ]
  },
  {
   "cell_type": "markdown",
   "metadata": {},
   "source": [
    "## By GAFAM"
   ]
  },
  {
   "cell_type": "code",
   "execution_count": null,
   "metadata": {},
   "outputs": [
    {
     "name": "stdout",
     "output_type": "stream",
     "text": [
      "708\n",
      "964\n",
      "639\n",
      "305\n"
     ]
    }
   ],
   "source": [
    "for i in range(4):\n",
    "    print(len(eval('df_202'+str(i)).loc[eval('df_202'+str(i))['keywords'].str.contains('meta|facebook|messenger|instagram|oculus|whatsApp|zuckerberg|olivan|clegg')]))"
   ]
  },
  {
   "cell_type": "code",
   "execution_count": null,
   "metadata": {},
   "outputs": [
    {
     "name": "stdout",
     "output_type": "stream",
     "text": [
      "567\n",
      "545\n",
      "404\n",
      "267\n"
     ]
    }
   ],
   "source": [
    "for i in range(4):\n",
    "    print(len(eval('df_202'+str(i)).loc[eval('df_202'+str(i))['keywords'].str.contains('amazon|prime|whole-foods|zappos|pillpack|twitch|audible|goodreads|imdb|bezos|jassy|olsavsky|alexander')]))"
   ]
  },
  {
   "cell_type": "code",
   "execution_count": null,
   "metadata": {},
   "outputs": [
    {
     "name": "stdout",
     "output_type": "stream",
     "text": [
      "845\n",
      "616\n",
      "395\n",
      "248\n"
     ]
    }
   ],
   "source": [
    "for i in range(4):\n",
    "    print(len(eval('df_202'+str(i)).loc[eval('df_202'+str(i))['keywords'].str.contains('google|android|chrome|gmail|maps|playstore|pixel|waze|youTube|alphabet|mandiant|fitbit|looker|nest|doubleclick|page|brin|pichai|kurian')]))"
   ]
  },
  {
   "cell_type": "code",
   "execution_count": null,
   "metadata": {},
   "outputs": [
    {
     "name": "stdout",
     "output_type": "stream",
     "text": [
      "584\n",
      "469\n",
      "350\n",
      "165\n"
     ]
    }
   ],
   "source": [
    "for i in range(4):\n",
    "    print(len(eval('df_202'+str(i)).loc[eval('df_202'+str(i))['keywords'].str.contains('apple|iphone|iPad|mac|watch|macbook|ios|airpods|app-store|itunes|icloud|beats|siri|shazam|cook|jobs')]))"
   ]
  },
  {
   "cell_type": "code",
   "execution_count": null,
   "metadata": {},
   "outputs": [
    {
     "name": "stdout",
     "output_type": "stream",
     "text": [
      "1063\n",
      "887\n",
      "365\n",
      "263\n"
     ]
    }
   ],
   "source": [
    "for i in range(4):\n",
    "    print(len(eval('df_202'+str(i)).loc[eval('df_202'+str(i))['keywords'].str.contains('microsoft|windows|cortana|excel|explorer|office|edge|teams|outlook|powerpoint|skype|surface|word|xbox|linkedIn|github|mojang|gates|nadella')]))"
   ]
  },
  {
   "cell_type": "code",
   "execution_count": 32,
   "metadata": {},
   "outputs": [
    {
     "data": {
      "application/vnd.plotly.v1+json": {
       "config": {
        "plotlyServerURL": "https://plot.ly"
       },
       "data": [
        {
         "hovertemplate": "variable=Facebook<br>index=%{x}<br>value=%{y}<extra></extra>",
         "legendgroup": "Facebook",
         "line": {
          "color": "#636efa",
          "dash": "solid"
         },
         "marker": {
          "symbol": "circle"
         },
         "mode": "lines",
         "name": "Facebook",
         "orientation": "v",
         "showlegend": true,
         "type": "scatter",
         "x": [
          2010,
          2011,
          2012,
          2013,
          2014,
          2015,
          2016,
          2017,
          2018,
          2019,
          2020,
          2021,
          2022,
          2023
         ],
         "xaxis": "x",
         "y": [
          382,
          464,
          1213,
          1142,
          1277,
          1570,
          2197,
          1442,
          1535,
          991,
          708,
          964,
          639,
          305
         ],
         "yaxis": "y"
        },
        {
         "hovertemplate": "variable=Amazon<br>index=%{x}<br>value=%{y}<extra></extra>",
         "legendgroup": "Amazon",
         "line": {
          "color": "#EF553B",
          "dash": "solid"
         },
         "marker": {
          "symbol": "circle"
         },
         "mode": "lines",
         "name": "Amazon",
         "orientation": "v",
         "showlegend": true,
         "type": "scatter",
         "x": [
          2010,
          2011,
          2012,
          2013,
          2014,
          2015,
          2016,
          2017,
          2018,
          2019,
          2020,
          2021,
          2022,
          2023
         ],
         "xaxis": "x",
         "y": [
          72,
          147,
          214,
          334,
          430,
          481,
          677,
          1169,
          1215,
          1042,
          567,
          545,
          404,
          267
         ],
         "yaxis": "y"
        },
        {
         "hovertemplate": "variable=Google<br>index=%{x}<br>value=%{y}<extra></extra>",
         "legendgroup": "Google",
         "line": {
          "color": "#00cc96",
          "dash": "solid"
         },
         "marker": {
          "symbol": "circle"
         },
         "mode": "lines",
         "name": "Google",
         "orientation": "v",
         "showlegend": true,
         "type": "scatter",
         "x": [
          2010,
          2011,
          2012,
          2013,
          2014,
          2015,
          2016,
          2017,
          2018,
          2019,
          2020,
          2021,
          2022,
          2023
         ],
         "xaxis": "x",
         "y": [
          610,
          655,
          1010,
          1388,
          1144,
          1292,
          1450,
          1548,
          1361,
          972,
          845,
          616,
          395,
          248
         ],
         "yaxis": "y"
        },
        {
         "hovertemplate": "variable=Apple<br>index=%{x}<br>value=%{y}<extra></extra>",
         "legendgroup": "Apple",
         "line": {
          "color": "#ab63fa",
          "dash": "solid"
         },
         "marker": {
          "symbol": "circle"
         },
         "mode": "lines",
         "name": "Apple",
         "orientation": "v",
         "showlegend": true,
         "type": "scatter",
         "x": [
          2010,
          2011,
          2012,
          2013,
          2014,
          2015,
          2016,
          2017,
          2018,
          2019,
          2020,
          2021,
          2022,
          2023
         ],
         "xaxis": "x",
         "y": [
          274,
          680,
          1120,
          1056,
          1007,
          975,
          1567,
          1746,
          1254,
          636,
          584,
          469,
          350,
          165
         ],
         "yaxis": "y"
        },
        {
         "hovertemplate": "variable=Microsoft<br>index=%{x}<br>value=%{y}<extra></extra>",
         "legendgroup": "Microsoft",
         "line": {
          "color": "#FFA15A",
          "dash": "solid"
         },
         "marker": {
          "symbol": "circle"
         },
         "mode": "lines",
         "name": "Microsoft",
         "orientation": "v",
         "showlegend": true,
         "type": "scatter",
         "x": [
          2010,
          2011,
          2012,
          2013,
          2014,
          2015,
          2016,
          2017,
          2018,
          2019,
          2020,
          2021,
          2022,
          2023
         ],
         "xaxis": "x",
         "y": [
          220,
          269,
          318,
          330,
          334,
          664,
          1119,
          1228,
          785,
          927,
          1063,
          887,
          365,
          263
         ],
         "yaxis": "y"
        }
       ],
       "layout": {
        "autosize": false,
        "height": 500,
        "legend": {
         "title": {
          "text": "variable"
         },
         "tracegroupgap": 0
        },
        "margin": {
         "t": 60
        },
        "template": {
         "data": {
          "bar": [
           {
            "error_x": {
             "color": "#2a3f5f"
            },
            "error_y": {
             "color": "#2a3f5f"
            },
            "marker": {
             "line": {
              "color": "#E5ECF6",
              "width": 0.5
             },
             "pattern": {
              "fillmode": "overlay",
              "size": 10,
              "solidity": 0.2
             }
            },
            "type": "bar"
           }
          ],
          "barpolar": [
           {
            "marker": {
             "line": {
              "color": "#E5ECF6",
              "width": 0.5
             },
             "pattern": {
              "fillmode": "overlay",
              "size": 10,
              "solidity": 0.2
             }
            },
            "type": "barpolar"
           }
          ],
          "carpet": [
           {
            "aaxis": {
             "endlinecolor": "#2a3f5f",
             "gridcolor": "white",
             "linecolor": "white",
             "minorgridcolor": "white",
             "startlinecolor": "#2a3f5f"
            },
            "baxis": {
             "endlinecolor": "#2a3f5f",
             "gridcolor": "white",
             "linecolor": "white",
             "minorgridcolor": "white",
             "startlinecolor": "#2a3f5f"
            },
            "type": "carpet"
           }
          ],
          "choropleth": [
           {
            "colorbar": {
             "outlinewidth": 0,
             "ticks": ""
            },
            "type": "choropleth"
           }
          ],
          "contour": [
           {
            "colorbar": {
             "outlinewidth": 0,
             "ticks": ""
            },
            "colorscale": [
             [
              0,
              "#0d0887"
             ],
             [
              0.1111111111111111,
              "#46039f"
             ],
             [
              0.2222222222222222,
              "#7201a8"
             ],
             [
              0.3333333333333333,
              "#9c179e"
             ],
             [
              0.4444444444444444,
              "#bd3786"
             ],
             [
              0.5555555555555556,
              "#d8576b"
             ],
             [
              0.6666666666666666,
              "#ed7953"
             ],
             [
              0.7777777777777778,
              "#fb9f3a"
             ],
             [
              0.8888888888888888,
              "#fdca26"
             ],
             [
              1,
              "#f0f921"
             ]
            ],
            "type": "contour"
           }
          ],
          "contourcarpet": [
           {
            "colorbar": {
             "outlinewidth": 0,
             "ticks": ""
            },
            "type": "contourcarpet"
           }
          ],
          "heatmap": [
           {
            "colorbar": {
             "outlinewidth": 0,
             "ticks": ""
            },
            "colorscale": [
             [
              0,
              "#0d0887"
             ],
             [
              0.1111111111111111,
              "#46039f"
             ],
             [
              0.2222222222222222,
              "#7201a8"
             ],
             [
              0.3333333333333333,
              "#9c179e"
             ],
             [
              0.4444444444444444,
              "#bd3786"
             ],
             [
              0.5555555555555556,
              "#d8576b"
             ],
             [
              0.6666666666666666,
              "#ed7953"
             ],
             [
              0.7777777777777778,
              "#fb9f3a"
             ],
             [
              0.8888888888888888,
              "#fdca26"
             ],
             [
              1,
              "#f0f921"
             ]
            ],
            "type": "heatmap"
           }
          ],
          "heatmapgl": [
           {
            "colorbar": {
             "outlinewidth": 0,
             "ticks": ""
            },
            "colorscale": [
             [
              0,
              "#0d0887"
             ],
             [
              0.1111111111111111,
              "#46039f"
             ],
             [
              0.2222222222222222,
              "#7201a8"
             ],
             [
              0.3333333333333333,
              "#9c179e"
             ],
             [
              0.4444444444444444,
              "#bd3786"
             ],
             [
              0.5555555555555556,
              "#d8576b"
             ],
             [
              0.6666666666666666,
              "#ed7953"
             ],
             [
              0.7777777777777778,
              "#fb9f3a"
             ],
             [
              0.8888888888888888,
              "#fdca26"
             ],
             [
              1,
              "#f0f921"
             ]
            ],
            "type": "heatmapgl"
           }
          ],
          "histogram": [
           {
            "marker": {
             "pattern": {
              "fillmode": "overlay",
              "size": 10,
              "solidity": 0.2
             }
            },
            "type": "histogram"
           }
          ],
          "histogram2d": [
           {
            "colorbar": {
             "outlinewidth": 0,
             "ticks": ""
            },
            "colorscale": [
             [
              0,
              "#0d0887"
             ],
             [
              0.1111111111111111,
              "#46039f"
             ],
             [
              0.2222222222222222,
              "#7201a8"
             ],
             [
              0.3333333333333333,
              "#9c179e"
             ],
             [
              0.4444444444444444,
              "#bd3786"
             ],
             [
              0.5555555555555556,
              "#d8576b"
             ],
             [
              0.6666666666666666,
              "#ed7953"
             ],
             [
              0.7777777777777778,
              "#fb9f3a"
             ],
             [
              0.8888888888888888,
              "#fdca26"
             ],
             [
              1,
              "#f0f921"
             ]
            ],
            "type": "histogram2d"
           }
          ],
          "histogram2dcontour": [
           {
            "colorbar": {
             "outlinewidth": 0,
             "ticks": ""
            },
            "colorscale": [
             [
              0,
              "#0d0887"
             ],
             [
              0.1111111111111111,
              "#46039f"
             ],
             [
              0.2222222222222222,
              "#7201a8"
             ],
             [
              0.3333333333333333,
              "#9c179e"
             ],
             [
              0.4444444444444444,
              "#bd3786"
             ],
             [
              0.5555555555555556,
              "#d8576b"
             ],
             [
              0.6666666666666666,
              "#ed7953"
             ],
             [
              0.7777777777777778,
              "#fb9f3a"
             ],
             [
              0.8888888888888888,
              "#fdca26"
             ],
             [
              1,
              "#f0f921"
             ]
            ],
            "type": "histogram2dcontour"
           }
          ],
          "mesh3d": [
           {
            "colorbar": {
             "outlinewidth": 0,
             "ticks": ""
            },
            "type": "mesh3d"
           }
          ],
          "parcoords": [
           {
            "line": {
             "colorbar": {
              "outlinewidth": 0,
              "ticks": ""
             }
            },
            "type": "parcoords"
           }
          ],
          "pie": [
           {
            "automargin": true,
            "type": "pie"
           }
          ],
          "scatter": [
           {
            "fillpattern": {
             "fillmode": "overlay",
             "size": 10,
             "solidity": 0.2
            },
            "type": "scatter"
           }
          ],
          "scatter3d": [
           {
            "line": {
             "colorbar": {
              "outlinewidth": 0,
              "ticks": ""
             }
            },
            "marker": {
             "colorbar": {
              "outlinewidth": 0,
              "ticks": ""
             }
            },
            "type": "scatter3d"
           }
          ],
          "scattercarpet": [
           {
            "marker": {
             "colorbar": {
              "outlinewidth": 0,
              "ticks": ""
             }
            },
            "type": "scattercarpet"
           }
          ],
          "scattergeo": [
           {
            "marker": {
             "colorbar": {
              "outlinewidth": 0,
              "ticks": ""
             }
            },
            "type": "scattergeo"
           }
          ],
          "scattergl": [
           {
            "marker": {
             "colorbar": {
              "outlinewidth": 0,
              "ticks": ""
             }
            },
            "type": "scattergl"
           }
          ],
          "scattermapbox": [
           {
            "marker": {
             "colorbar": {
              "outlinewidth": 0,
              "ticks": ""
             }
            },
            "type": "scattermapbox"
           }
          ],
          "scatterpolar": [
           {
            "marker": {
             "colorbar": {
              "outlinewidth": 0,
              "ticks": ""
             }
            },
            "type": "scatterpolar"
           }
          ],
          "scatterpolargl": [
           {
            "marker": {
             "colorbar": {
              "outlinewidth": 0,
              "ticks": ""
             }
            },
            "type": "scatterpolargl"
           }
          ],
          "scatterternary": [
           {
            "marker": {
             "colorbar": {
              "outlinewidth": 0,
              "ticks": ""
             }
            },
            "type": "scatterternary"
           }
          ],
          "surface": [
           {
            "colorbar": {
             "outlinewidth": 0,
             "ticks": ""
            },
            "colorscale": [
             [
              0,
              "#0d0887"
             ],
             [
              0.1111111111111111,
              "#46039f"
             ],
             [
              0.2222222222222222,
              "#7201a8"
             ],
             [
              0.3333333333333333,
              "#9c179e"
             ],
             [
              0.4444444444444444,
              "#bd3786"
             ],
             [
              0.5555555555555556,
              "#d8576b"
             ],
             [
              0.6666666666666666,
              "#ed7953"
             ],
             [
              0.7777777777777778,
              "#fb9f3a"
             ],
             [
              0.8888888888888888,
              "#fdca26"
             ],
             [
              1,
              "#f0f921"
             ]
            ],
            "type": "surface"
           }
          ],
          "table": [
           {
            "cells": {
             "fill": {
              "color": "#EBF0F8"
             },
             "line": {
              "color": "white"
             }
            },
            "header": {
             "fill": {
              "color": "#C8D4E3"
             },
             "line": {
              "color": "white"
             }
            },
            "type": "table"
           }
          ]
         },
         "layout": {
          "annotationdefaults": {
           "arrowcolor": "#2a3f5f",
           "arrowhead": 0,
           "arrowwidth": 1
          },
          "autotypenumbers": "strict",
          "coloraxis": {
           "colorbar": {
            "outlinewidth": 0,
            "ticks": ""
           }
          },
          "colorscale": {
           "diverging": [
            [
             0,
             "#8e0152"
            ],
            [
             0.1,
             "#c51b7d"
            ],
            [
             0.2,
             "#de77ae"
            ],
            [
             0.3,
             "#f1b6da"
            ],
            [
             0.4,
             "#fde0ef"
            ],
            [
             0.5,
             "#f7f7f7"
            ],
            [
             0.6,
             "#e6f5d0"
            ],
            [
             0.7,
             "#b8e186"
            ],
            [
             0.8,
             "#7fbc41"
            ],
            [
             0.9,
             "#4d9221"
            ],
            [
             1,
             "#276419"
            ]
           ],
           "sequential": [
            [
             0,
             "#0d0887"
            ],
            [
             0.1111111111111111,
             "#46039f"
            ],
            [
             0.2222222222222222,
             "#7201a8"
            ],
            [
             0.3333333333333333,
             "#9c179e"
            ],
            [
             0.4444444444444444,
             "#bd3786"
            ],
            [
             0.5555555555555556,
             "#d8576b"
            ],
            [
             0.6666666666666666,
             "#ed7953"
            ],
            [
             0.7777777777777778,
             "#fb9f3a"
            ],
            [
             0.8888888888888888,
             "#fdca26"
            ],
            [
             1,
             "#f0f921"
            ]
           ],
           "sequentialminus": [
            [
             0,
             "#0d0887"
            ],
            [
             0.1111111111111111,
             "#46039f"
            ],
            [
             0.2222222222222222,
             "#7201a8"
            ],
            [
             0.3333333333333333,
             "#9c179e"
            ],
            [
             0.4444444444444444,
             "#bd3786"
            ],
            [
             0.5555555555555556,
             "#d8576b"
            ],
            [
             0.6666666666666666,
             "#ed7953"
            ],
            [
             0.7777777777777778,
             "#fb9f3a"
            ],
            [
             0.8888888888888888,
             "#fdca26"
            ],
            [
             1,
             "#f0f921"
            ]
           ]
          },
          "colorway": [
           "#636efa",
           "#EF553B",
           "#00cc96",
           "#ab63fa",
           "#FFA15A",
           "#19d3f3",
           "#FF6692",
           "#B6E880",
           "#FF97FF",
           "#FECB52"
          ],
          "font": {
           "color": "#2a3f5f"
          },
          "geo": {
           "bgcolor": "white",
           "lakecolor": "white",
           "landcolor": "#E5ECF6",
           "showlakes": true,
           "showland": true,
           "subunitcolor": "white"
          },
          "hoverlabel": {
           "align": "left"
          },
          "hovermode": "closest",
          "mapbox": {
           "style": "light"
          },
          "paper_bgcolor": "white",
          "plot_bgcolor": "#E5ECF6",
          "polar": {
           "angularaxis": {
            "gridcolor": "white",
            "linecolor": "white",
            "ticks": ""
           },
           "bgcolor": "#E5ECF6",
           "radialaxis": {
            "gridcolor": "white",
            "linecolor": "white",
            "ticks": ""
           }
          },
          "scene": {
           "xaxis": {
            "backgroundcolor": "#E5ECF6",
            "gridcolor": "white",
            "gridwidth": 2,
            "linecolor": "white",
            "showbackground": true,
            "ticks": "",
            "zerolinecolor": "white"
           },
           "yaxis": {
            "backgroundcolor": "#E5ECF6",
            "gridcolor": "white",
            "gridwidth": 2,
            "linecolor": "white",
            "showbackground": true,
            "ticks": "",
            "zerolinecolor": "white"
           },
           "zaxis": {
            "backgroundcolor": "#E5ECF6",
            "gridcolor": "white",
            "gridwidth": 2,
            "linecolor": "white",
            "showbackground": true,
            "ticks": "",
            "zerolinecolor": "white"
           }
          },
          "shapedefaults": {
           "line": {
            "color": "#2a3f5f"
           }
          },
          "ternary": {
           "aaxis": {
            "gridcolor": "white",
            "linecolor": "white",
            "ticks": ""
           },
           "baxis": {
            "gridcolor": "white",
            "linecolor": "white",
            "ticks": ""
           },
           "bgcolor": "#E5ECF6",
           "caxis": {
            "gridcolor": "white",
            "linecolor": "white",
            "ticks": ""
           }
          },
          "title": {
           "x": 0.05
          },
          "xaxis": {
           "automargin": true,
           "gridcolor": "white",
           "linecolor": "white",
           "ticks": "",
           "title": {
            "standoff": 15
           },
           "zerolinecolor": "white",
           "zerolinewidth": 2
          },
          "yaxis": {
           "automargin": true,
           "gridcolor": "white",
           "linecolor": "white",
           "ticks": "",
           "title": {
            "standoff": 15
           },
           "zerolinecolor": "white",
           "zerolinewidth": 2
          }
         }
        },
        "width": 500,
        "xaxis": {
         "anchor": "y",
         "domain": [
          0,
          1
         ],
         "title": {
          "text": "index"
         }
        },
        "yaxis": {
         "anchor": "x",
         "domain": [
          0,
          1
         ],
         "title": {
          "text": "value"
         }
        }
       }
      }
     },
     "metadata": {},
     "output_type": "display_data"
    }
   ],
   "source": [
    "data_trace = {'Facebook': [382 , 464, 1213, 1142, 1277, 1570, 2197, 1442, 1535, 991, 708 , 964, 639, 305],\n",
    "        'Amazon' : [72, 147, 214, 334, 430, 481, 677, 1169, 1215, 1042, 567, 545, 404, 267],\n",
    "        'Google' : [610, 655, 1010, 1388, 1144, 1292, 1450, 1548, 1361, 972, 845, 616, 395, 248],\n",
    "        'Apple' : [274, 680, 1120, 1056, 1007, 975, 1567, 1746, 1254, 636, 584, 469, 350, 165],\n",
    "        'Microsoft' : [220, 269, 318, 330, 334, 664, 1119, 1228, 785, 927, 1063, 887, 365, 263],\n",
    "        }\n",
    "  \n",
    "df_trace = pd.DataFrame(data_trace, index=[2010, 2011, 2012, 2013, 2014, 2015, 2016, 2017, 2018, 2019, 2020, 2021, 2022, 2023])\n",
    "df_trace.transpose()\n",
    "import plotly.express as px\n",
    "fig = px.line(df_trace)\n",
    "fig.update_layout(\n",
    "    autosize=False,\n",
    "    width=500,\n",
    "    height=500)\n",
    "fig.show()"
   ]
  },
  {
   "cell_type": "markdown",
   "metadata": {},
   "source": [
    "## Number of words from parliament / newpapers"
   ]
  },
  {
   "cell_type": "code",
   "execution_count": null,
   "metadata": {},
   "outputs": [],
   "source": [
    "df_p = df_total.loc[df_total['source'] == 'par']\n",
    "words_par = []\n",
    "for i in df_p['text']:\n",
    "    words_par += i"
   ]
  },
  {
   "cell_type": "code",
   "execution_count": null,
   "metadata": {},
   "outputs": [],
   "source": [
    "df_j = df_total.loc[df_total['source'] != 'par']\n",
    "words_j = []\n",
    "for i in df_j['text']:\n",
    "    words_j += i"
   ]
  },
  {
   "cell_type": "code",
   "execution_count": null,
   "metadata": {},
   "outputs": [
    {
     "data": {
      "text/plain": [
       "2.124843863274066"
      ]
     },
     "execution_count": 98,
     "metadata": {},
     "output_type": "execute_result"
    }
   ],
   "source": [
    "len(words_par)/len(words_j)"
   ]
  }
 ],
 "metadata": {
  "kernelspec": {
   "display_name": "base",
   "language": "python",
   "name": "python3"
  },
  "language_info": {
   "codemirror_mode": {
    "name": "ipython",
    "version": 3
   },
   "file_extension": ".py",
   "mimetype": "text/x-python",
   "name": "python",
   "nbconvert_exporter": "python",
   "pygments_lexer": "ipython3",
   "version": "3.11.5"
  },
  "orig_nbformat": 4
 },
 "nbformat": 4,
 "nbformat_minor": 2
}
