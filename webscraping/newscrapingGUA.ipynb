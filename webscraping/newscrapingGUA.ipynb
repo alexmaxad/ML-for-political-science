{
  "cells": [
    {
      "attachments": {},
      "cell_type": "markdown",
      "metadata": {
        "id": "8cfbXcI0H3JC"
      },
      "source": [
        "# **Imports**"
      ]
    },
    {
      "cell_type": "code",
      "execution_count": 1,
      "metadata": {
        "id": "hw3M1EPrH3JF"
      },
      "outputs": [],
      "source": [
        "import pandas as pd\n",
        "import requests\n",
        "from bs4 import BeautifulSoup\n",
        "import urllib\n",
        "#import urllib3.request,sys,time\n",
        "from urllib.error import HTTPError\n",
        "from urllib.request import urlopen\n",
        "import pandas as pd\n",
        "import time\n",
        "import warnings\n",
        "import json\n",
        "#from google.colab import files\n",
        "warnings.filterwarnings('ignore')"
      ]
    },
    {
      "attachments": {},
      "cell_type": "markdown",
      "metadata": {
        "id": "59O5Z-oMH3JH"
      },
      "source": [
        "# Treatment functions"
      ]
    },
    {
      "cell_type": "code",
      "execution_count": 2,
      "metadata": {
        "id": "fQoCnqDOH3JH"
      },
      "outputs": [],
      "source": [
        "def getNews(article_url):\n",
        "    try:\n",
        "        html = urlopen(article_url)\n",
        "    except HTTPError as e:\n",
        "        print(article_url)\n",
        "        return None\n",
        "    try :\n",
        "        bsObj = BeautifulSoup(html.read())\n",
        "        article=dict()\n",
        "    except :\n",
        "        return None\n",
        "    try:\n",
        "        article[\"category\"]=bsObj.find(\"aside\",{'data-gu-name':{'title'}}).text\n",
        "    except AttributeError as e:\n",
        "        article[\"category\"]=''\n",
        "    try:\n",
        "        article[\"keywords\"]=bsObj.find(\"div\",{'class':{'dcr-lwa3gj'}}).text\n",
        "    except AttributeError as e:\n",
        "        article[\"keywords\"]=''\n",
        "    try:\n",
        "        article[\"author\"]=bsObj.find(\"a\",{'rel':{'author'}}).text\n",
        "    except AttributeError as e:\n",
        "        article[\"author\"]=''\n",
        "    try:\n",
        "        article[\"headline\"]=bsObj.find(\"h1\",{'data-gu-name':{'headline'}}).text\n",
        "    except AttributeError as e:\n",
        "        try:\n",
        "            article[\"headline\"]=bsObj.find(\"h1\",{'itemprop':{'headline'}}).text\n",
        "        except AttributeError as e:\n",
        "            article[\"headline\"]=''\n",
        "    try:\n",
        "        article[\"summary\"]=bsObj.find(\"div\",{'class':{'content__standfirst'}}).text\n",
        "    except AttributeError as e:\n",
        "        try:\n",
        "            article[\"summary\"]=bsObj.find(\"div\",{'data-gu-name':{'standfirst'}}).text\n",
        "        except AttributeError as e:\n",
        "            article[\"summary\"]=''\n",
        "    try:\n",
        "        article[\"fulltext\"]=bsObj.find(\"div\",{'id':{'maincontent'}}).text\n",
        "    except AttributeError as e:\n",
        "        try:\n",
        "            article[\"fulltext\"]=bsObj.find(\"div\",{'class':{'from-content-api podcast__body'}}).text\n",
        "        except AttributeError as e:\n",
        "            try:\n",
        "                article[\"fulltext\"]=bsObj.find(\"div\",{'itemprop':{'articleBody'}}).text\n",
        "            except AttributeError as e:\n",
        "                article[\"fulltext\"]= ''\n",
        "    article[\"url\"]= article_url\n",
        "    time.sleep(1)\n",
        "    return article"
      ]
    },
    {
      "attachments": {},
      "cell_type": "markdown",
      "metadata": {
        "id": "kQX0KgP1H3JI"
      },
      "source": [
        "# API Test with Facebook articles"
      ]
    },
    {
      "cell_type": "code",
      "execution_count": 45,
      "metadata": {
        "id": "VCj-PbNrH3JI"
      },
      "outputs": [],
      "source": [
        "url='https://content.guardianapis.com/search?page=1&q=facebook&from-date=2010-01-01&api-key=38f1325b-db6b-4271-8110-0a8f2fd33507'\n",
        "response=requests.get(url)"
      ]
    },
    {
      "cell_type": "code",
      "execution_count": 46,
      "metadata": {
        "colab": {
          "base_uri": "https://localhost:8080/"
        },
        "id": "GyCpduQdKe_R",
        "outputId": "6af2632c-0fd7-49dc-ee26-c23a4f233fa8"
      },
      "outputs": [
        {
          "data": {
            "text/plain": [
              "<Response [200]>"
            ]
          },
          "execution_count": 46,
          "metadata": {},
          "output_type": "execute_result"
        }
      ],
      "source": [
        "response"
      ]
    },
    {
      "cell_type": "code",
      "execution_count": 47,
      "metadata": {
        "colab": {
          "base_uri": "https://localhost:8080/"
        },
        "id": "zwTDIp7SH3JJ",
        "outputId": "3670599d-9a54-4192-edfc-b45da5786fde"
      },
      "outputs": [
        {
          "data": {
            "text/plain": [
              "True"
            ]
          },
          "execution_count": 47,
          "metadata": {},
          "output_type": "execute_result"
        }
      ],
      "source": [
        "response.json()['response']['status'] != 'error' #['results'][0]['webUrl']"
      ]
    },
    {
      "cell_type": "code",
      "execution_count": 48,
      "metadata": {
        "colab": {
          "base_uri": "https://localhost:8080/",
          "height": 35
        },
        "id": "v1o6Qd6zH3JJ",
        "outputId": "32cc5924-dd4c-4b60-e14a-93e15b6eb6c9"
      },
      "outputs": [
        {
          "data": {
            "application/vnd.google.colaboratory.intrinsic+json": {
              "type": "string"
            },
            "text/plain": [
              "'https://www.theguardian.com/technology/2023/may/08/facebook-founder-mark-zuckerberg-jiu-jiutsu'"
            ]
          },
          "execution_count": 48,
          "metadata": {},
          "output_type": "execute_result"
        }
      ],
      "source": [
        "response.json()['response']['results'][9]['webUrl']"
      ]
    },
    {
      "cell_type": "code",
      "execution_count": null,
      "metadata": {
        "id": "9CxuZoAvH3JK"
      },
      "outputs": [],
      "source": [
        "for page_num in range(1,10): #doit aller jusqu'à 4000 pour Facebook\n",
        "    url = 'https://content.guardianapis.com/search?page='+str(page_num)+'&q=Facebook&from-date=2000-01-01&api-key=3a213067-3316-4156-ae7a-1bf5c7b3e834'\n",
        "    response=requests.get(url)\n",
        "    if response.json()['response']['status'] != 'error' :\n",
        "        for i in range(0,10) :\n",
        "            url_list.append(response.json()['response']['results'][i]['webUrl'])"
      ]
    },
    {
      "cell_type": "code",
      "execution_count": null,
      "metadata": {
        "id": "I85lwvOCH3JK"
      },
      "outputs": [],
      "source": [
        "df_links = pd.DataFrame(url_list, columns=['url'])"
      ]
    },
    {
      "cell_type": "code",
      "execution_count": null,
      "metadata": {
        "id": "dS26ZD8pH3JK",
        "outputId": "cd9cb5d8-898b-4235-dc0f-d6212c7520a3"
      },
      "outputs": [
        {
          "data": {
            "text/html": [
              "<div>\n",
              "<style scoped>\n",
              "    .dataframe tbody tr th:only-of-type {\n",
              "        vertical-align: middle;\n",
              "    }\n",
              "\n",
              "    .dataframe tbody tr th {\n",
              "        vertical-align: top;\n",
              "    }\n",
              "\n",
              "    .dataframe thead th {\n",
              "        text-align: right;\n",
              "    }\n",
              "</style>\n",
              "<table border=\"1\" class=\"dataframe\">\n",
              "  <thead>\n",
              "    <tr style=\"text-align: right;\">\n",
              "      <th></th>\n",
              "      <th>url</th>\n",
              "    </tr>\n",
              "  </thead>\n",
              "  <tbody>\n",
              "    <tr>\n",
              "      <th>0</th>\n",
              "      <td>https://www.theguardian.com/business/2023/may/...</td>\n",
              "    </tr>\n",
              "    <tr>\n",
              "      <th>1</th>\n",
              "      <td>https://www.theguardian.com/technology/2023/ma...</td>\n",
              "    </tr>\n",
              "    <tr>\n",
              "      <th>2</th>\n",
              "      <td>https://www.theguardian.com/technology/2023/ma...</td>\n",
              "    </tr>\n",
              "    <tr>\n",
              "      <th>3</th>\n",
              "      <td>https://www.theguardian.com/technology/2023/ap...</td>\n",
              "    </tr>\n",
              "    <tr>\n",
              "      <th>4</th>\n",
              "      <td>https://www.theguardian.com/technology/2023/ju...</td>\n",
              "    </tr>\n",
              "    <tr>\n",
              "      <th>...</th>\n",
              "      <td>...</td>\n",
              "    </tr>\n",
              "    <tr>\n",
              "      <th>235</th>\n",
              "      <td>https://www.theguardian.com/commentisfree/2023...</td>\n",
              "    </tr>\n",
              "    <tr>\n",
              "      <th>236</th>\n",
              "      <td>https://www.theguardian.com/technology/2022/no...</td>\n",
              "    </tr>\n",
              "    <tr>\n",
              "      <th>237</th>\n",
              "      <td>https://www.theguardian.com/world/2023/may/10/...</td>\n",
              "    </tr>\n",
              "    <tr>\n",
              "      <th>238</th>\n",
              "      <td>https://www.theguardian.com/world/2022/apr/18/...</td>\n",
              "    </tr>\n",
              "    <tr>\n",
              "      <th>239</th>\n",
              "      <td>https://www.theguardian.com/politics/2023/feb/...</td>\n",
              "    </tr>\n",
              "  </tbody>\n",
              "</table>\n",
              "<p>240 rows × 1 columns</p>\n",
              "</div>"
            ],
            "text/plain": [
              "                                                   url\n",
              "0    https://www.theguardian.com/business/2023/may/...\n",
              "1    https://www.theguardian.com/technology/2023/ma...\n",
              "2    https://www.theguardian.com/technology/2023/ma...\n",
              "3    https://www.theguardian.com/technology/2023/ap...\n",
              "4    https://www.theguardian.com/technology/2023/ju...\n",
              "..                                                 ...\n",
              "235  https://www.theguardian.com/commentisfree/2023...\n",
              "236  https://www.theguardian.com/technology/2022/no...\n",
              "237  https://www.theguardian.com/world/2023/may/10/...\n",
              "238  https://www.theguardian.com/world/2022/apr/18/...\n",
              "239  https://www.theguardian.com/politics/2023/feb/...\n",
              "\n",
              "[240 rows x 1 columns]"
            ]
          },
          "execution_count": 101,
          "metadata": {},
          "output_type": "execute_result"
        }
      ],
      "source": [
        "df_links"
      ]
    },
    {
      "attachments": {},
      "cell_type": "markdown",
      "metadata": {
        "id": "k5IPkUOuH3JL"
      },
      "source": [
        "# Treatment functions 2"
      ]
    },
    {
      "attachments": {},
      "cell_type": "markdown",
      "metadata": {
        "id": "6DR5msemH3JL"
      },
      "source": [
        "On crée nos deux fonctions systématiques de traitement pour The Guardian, avec en paramètres le thème que l'on veut considérer, et le nombre de pages que l'on va prendre (la page max dépend du thème, c'est environ 4000 pour Facebook)."
      ]
    },
    {
      "cell_type": "code",
      "execution_count": 3,
      "metadata": {
        "id": "-o5n6gOXam2p"
      },
      "outputs": [],
      "source": [
        "articles_list = []"
      ]
    },
    {
      "cell_type": "code",
      "execution_count": 4,
      "metadata": {
        "id": "J10_VlhWH3JL"
      },
      "outputs": [],
      "source": [
        "def articles_GUA_from_links(df_links):\n",
        "    articles = []\n",
        "    for ind in df_links.index:\n",
        "        if getNews(df_links.iloc[ind,0]) is not None :\n",
        "          try:\n",
        "            news = getNews(df_links.iloc[ind,0])\n",
        "            articles.append(news)\n",
        "            articles_list.append(news)\n",
        "          except :\n",
        "            articles = articles\n",
        "    #print(articles, 'articles')\n",
        "    return articles"
      ]
    },
    {
      "cell_type": "code",
      "execution_count": 12,
      "metadata": {
        "id": "-WUPSJllH3JL"
      },
      "outputs": [],
      "source": [
        "def articles_from_base_url_GUA(theme, pagemax) :\n",
        "    url_list = []\n",
        "    for page_num in range(918,pagemax): #doit aller jusqu'à 3103 pour Facebook, jusqu'à 2010. Commencer à 1 !!!\n",
        "      url = 'https://content.guardianapis.com/search?page='+str(page_num)+'&q='+str(theme)+'&from-date=2010-01-01&api-key=38f1325b-db6b-4271-8110-0a8f2fd33507'\n",
        "      response=requests.get(url)\n",
        "      try :\n",
        "        if response.json()['response']['status'] == 'ok' :\n",
        "          for i in range(0,10) :\n",
        "            url_list.append(response.json()['response']['results'][i]['webUrl'])\n",
        "      except :\n",
        "        url_list = url_list\n",
        "      #time.sleep(1)\n",
        "      if url_list == [] :\n",
        "        return (page_num, 'page problèmatique')\n",
        "      if page_num%100 == 0 :\n",
        "        print(page_num)\n",
        "      #print(url_list)\n",
        "    df_links = pd.DataFrame(url_list, columns=['url'])\n",
        "    #print(df_links)\n",
        "    news  = articles_GUA_from_links(df_links)\n",
        "    #print(news, 'news')\n",
        "    df_news = pd.DataFrame(news)\n",
        "    #print(df_news)\n",
        "    return df_news"
      ]
    },
    {
      "attachments": {},
      "cell_type": "markdown",
      "metadata": {
        "id": "TQTa7hB8H3JM"
      },
      "source": [
        "# Dataframe Facebook"
      ]
    },
    {
      "attachments": {},
      "cell_type": "markdown",
      "metadata": {
        "id": "JjcOU0VI4Io4"
      },
      "source": [
        "rangemax = 3103"
      ]
    },
    {
      "cell_type": "code",
      "execution_count": 113,
      "metadata": {
        "colab": {
          "base_uri": "https://localhost:8080/"
        },
        "id": "jA0u_OUTH3JM",
        "outputId": "755c61b8-912a-433b-b56d-d82e50166898"
      },
      "outputs": [],
      "source": [
        "df_news_fb = articles_from_base_url_GUA('Facebook', 3103) # il faut aller à 3103"
      ]
    },
    {
      "cell_type": "code",
      "execution_count": 31,
      "metadata": {},
      "outputs": [
        {
          "data": {
            "text/plain": [
              "6770"
            ]
          },
          "execution_count": 31,
          "metadata": {},
          "output_type": "execute_result"
        }
      ],
      "source": [
        "len(articles_list)"
      ]
    },
    {
      "attachments": {},
      "cell_type": "markdown",
      "metadata": {
        "id": "E6ui-F6Dg00D"
      },
      "source": [
        "# Travail sur articles_list"
      ]
    },
    {
      "cell_type": "code",
      "execution_count": 32,
      "metadata": {
        "colab": {
          "base_uri": "https://localhost:8080/",
          "height": 17
        },
        "id": "OxYeJqSqgZlJ",
        "outputId": "522ca56f-01a1-44f9-e352-663359e1b563"
      },
      "outputs": [],
      "source": [
        "with open(\"liste_temporaire_3_DE_GUA.json\", \"w\") as fp:\n",
        "  json.dump(articles_list, fp)\n",
        "\n",
        "#files.download(\"liste_temporaire_2_DE_GUA\")"
      ]
    },
    {
      "attachments": {},
      "cell_type": "markdown",
      "metadata": {
        "id": "wQMUMh23K4o7"
      },
      "source": [
        "**On récupère la liste temporaire, et on divise par 10 pour savoir où reprendre le scraping**"
      ]
    },
    {
      "cell_type": "code",
      "execution_count": 25,
      "metadata": {},
      "outputs": [],
      "source": [
        "with open('liste_temporaire_1_fb_GUA.json') as f:\n",
        "    liste_temporaire_1 = json.load(f)"
      ]
    },
    {
      "cell_type": "code",
      "execution_count": 26,
      "metadata": {
        "id": "D7vM6NX9udrm"
      },
      "outputs": [],
      "source": [
        "with open('liste_temporaire_2_fb_GUA.json') as f:\n",
        "    liste_temporaire_2 = json.load(f)"
      ]
    },
    {
      "cell_type": "code",
      "execution_count": 27,
      "metadata": {},
      "outputs": [],
      "source": [
        "with open('liste_temporaire_3_fb_GUA.json') as f:\n",
        "    liste_temporaire_3 = json.load(f)"
      ]
    },
    {
      "cell_type": "code",
      "execution_count": 28,
      "metadata": {},
      "outputs": [
        {
          "data": {
            "text/plain": [
              "26622"
            ]
          },
          "execution_count": 28,
          "metadata": {},
          "output_type": "execute_result"
        }
      ],
      "source": [
        "len(liste_temporaire_1) + len(liste_temporaire_2) + len(liste_temporaire_3)"
      ]
    },
    {
      "attachments": {},
      "cell_type": "markdown",
      "metadata": {},
      "source": [
        "On reconstitue le DataFrame global avec tous les articles :"
      ]
    },
    {
      "cell_type": "code",
      "execution_count": 29,
      "metadata": {},
      "outputs": [],
      "source": [
        "liste_articles = liste_temporaire_1 + liste_temporaire_2 + liste_temporaire_3"
      ]
    },
    {
      "cell_type": "code",
      "execution_count": 30,
      "metadata": {},
      "outputs": [
        {
          "data": {
            "text/plain": [
              "26622"
            ]
          },
          "execution_count": 30,
          "metadata": {},
          "output_type": "execute_result"
        }
      ],
      "source": [
        "len(liste_articles)"
      ]
    },
    {
      "attachments": {},
      "cell_type": "markdown",
      "metadata": {},
      "source": [
        "On regarde les articles problématiques pour ranger cette liste sous forme de dataframe"
      ]
    },
    {
      "cell_type": "code",
      "execution_count": 31,
      "metadata": {},
      "outputs": [],
      "source": [
        "for t in range(5):\n",
        "    for i in liste_articles:\n",
        "        try:\n",
        "            i.keys()\n",
        "        except:\n",
        "            liste_articles.remove(i)"
      ]
    },
    {
      "cell_type": "code",
      "execution_count": 98,
      "metadata": {},
      "outputs": [
        {
          "data": {
            "text/plain": [
              "26578"
            ]
          },
          "execution_count": 98,
          "metadata": {},
          "output_type": "execute_result"
        }
      ],
      "source": [
        "len(liste_articles)"
      ]
    },
    {
      "cell_type": "code",
      "execution_count": 32,
      "metadata": {},
      "outputs": [],
      "source": [
        "df_fb_GUA = pd.DataFrame(liste_articles)"
      ]
    },
    {
      "cell_type": "code",
      "execution_count": 33,
      "metadata": {},
      "outputs": [],
      "source": [
        "df_fb_GUA = df_fb_GUA[df_fb_GUA['url'].str.contains('meta|facebook|messenger|instagram|oculus|whatsApp|zuckerberg|olivan|clegg|social-media|gafa|gafam|big-tech|consumer-privacy|tech')]"
      ]
    },
    {
      "cell_type": "code",
      "execution_count": 101,
      "metadata": {},
      "outputs": [
        {
          "data": {
            "text/plain": [
              "5429"
            ]
          },
          "execution_count": 101,
          "metadata": {},
          "output_type": "execute_result"
        }
      ],
      "source": [
        "len(df_fb_GUA)"
      ]
    },
    {
      "attachments": {},
      "cell_type": "markdown",
      "metadata": {},
      "source": [
        "On perd beaucoup quand même ! "
      ]
    },
    {
      "cell_type": "code",
      "execution_count": 34,
      "metadata": {},
      "outputs": [],
      "source": [
        "#from google.colab import files\n",
        "df_fb_GUA.to_csv('df_fb_GUA.csv')\n",
        "#files.download('df_fb_GUA.csv')"
      ]
    },
    {
      "attachments": {},
      "cell_type": "markdown",
      "metadata": {
        "id": "02O-2Nx0H3JM"
      },
      "source": [
        "# Dataframe Amazon"
      ]
    },
    {
      "attachments": {},
      "cell_type": "markdown",
      "metadata": {
        "id": "5nYqx94eAua_"
      },
      "source": [
        "rangemax = 2082"
      ]
    },
    {
      "cell_type": "code",
      "execution_count": 13,
      "metadata": {},
      "outputs": [],
      "source": [
        "articles_list = []"
      ]
    },
    {
      "cell_type": "code",
      "execution_count": 14,
      "metadata": {
        "colab": {
          "base_uri": "https://localhost:8080/"
        },
        "id": "7CIyrplPH3JM",
        "outputId": "8dcdc52c-375f-4595-8076-dcfd3fd37646"
      },
      "outputs": [
        {
          "name": "stdout",
          "output_type": "stream",
          "text": [
            "1900\n",
            "2000\n",
            "https://www.theguardian.com/film/2010/apr/09/inglourious-basterds-inspiration-dvd-hit\n",
            "https://www.theguardian.com/business/2010/aug/21/ebay-businesses-turnover-rises\n",
            "https://www.theguardian.com//Smarthealthcare/patient-smart-healthcare-live-telecare-email-07jul10\n"
          ]
        }
      ],
      "source": [
        "df_news_am = articles_from_base_url_GUA('Amazon', 2082)"
      ]
    },
    {
      "attachments": {},
      "cell_type": "markdown",
      "metadata": {},
      "source": [
        "# Travail avec articles_list"
      ]
    },
    {
      "cell_type": "code",
      "execution_count": 8,
      "metadata": {},
      "outputs": [
        {
          "data": {
            "text/plain": [
              "5264"
            ]
          },
          "execution_count": 8,
          "metadata": {},
          "output_type": "execute_result"
        }
      ],
      "source": [
        "len(articles_list)"
      ]
    },
    {
      "cell_type": "code",
      "execution_count": 20,
      "metadata": {},
      "outputs": [],
      "source": [
        "with open(\"liste_temporaire_4_am_GUA.json\", \"w\") as fp:\n",
        "  json.dump(articles_list, fp)"
      ]
    },
    {
      "cell_type": "code",
      "execution_count": 21,
      "metadata": {},
      "outputs": [],
      "source": [
        "with open('liste_temporaire_1_am_GUA.json') as f:\n",
        "    liste_temporaire_1 = json.load(f)\n",
        "\n",
        "with open('liste_temporaire_2_am_GUA.json') as f:\n",
        "    liste_temporaire_2 = json.load(f)\n",
        "\n",
        "with open('liste_temporaire_3_am_GUA.json') as f:\n",
        "    liste_temporaire_3 = json.load(f)"
      ]
    },
    {
      "cell_type": "code",
      "execution_count": 22,
      "metadata": {},
      "outputs": [
        {
          "data": {
            "text/plain": [
              "18107"
            ]
          },
          "execution_count": 22,
          "metadata": {},
          "output_type": "execute_result"
        }
      ],
      "source": [
        "len(liste_temporaire_1) + len(liste_temporaire_2) + len(liste_temporaire_3)"
      ]
    },
    {
      "attachments": {},
      "cell_type": "markdown",
      "metadata": {},
      "source": [
        "# Synthèse"
      ]
    },
    {
      "cell_type": "code",
      "execution_count": 23,
      "metadata": {},
      "outputs": [],
      "source": [
        "liste_articles = liste_temporaire_1 + liste_temporaire_2 + liste_temporaire_3"
      ]
    },
    {
      "cell_type": "code",
      "execution_count": 25,
      "metadata": {},
      "outputs": [
        {
          "data": {
            "text/plain": [
              "18107"
            ]
          },
          "execution_count": 25,
          "metadata": {},
          "output_type": "execute_result"
        }
      ],
      "source": [
        "len(liste_articles)"
      ]
    },
    {
      "cell_type": "code",
      "execution_count": 26,
      "metadata": {},
      "outputs": [],
      "source": [
        "for t in range(5):\n",
        "    for i in liste_articles:\n",
        "        try:\n",
        "            i.keys()\n",
        "        except:\n",
        "            liste_articles.remove(i)"
      ]
    },
    {
      "cell_type": "code",
      "execution_count": 41,
      "metadata": {},
      "outputs": [],
      "source": [
        "df_am_GUA = pd.DataFrame(liste_articles)"
      ]
    },
    {
      "cell_type": "code",
      "execution_count": 42,
      "metadata": {
        "id": "jgdm_m2HH3JM"
      },
      "outputs": [],
      "source": [
        "df_am_GUA = df_am_GUA[df_am_GUA['url'].str.contains('amazon|prime|whole-foods|zappos|pillpack|twitch|audible|goodreads|imdb|bezos|jassy|olsavsky|alexander|gafa|gafam|big-tech|consumer-privacy|tech')]"
      ]
    },
    {
      "cell_type": "code",
      "execution_count": 43,
      "metadata": {
        "id": "jvg3-9yvH3JN"
      },
      "outputs": [],
      "source": [
        "yy=df_am_GUA[df_am_GUA['fulltext'].str.contains('forest|tribe|jungle|swallows-and-amazon|amazons')]\n",
        "df_am_GUA.drop(yy.index,inplace=True)"
      ]
    },
    {
      "cell_type": "code",
      "execution_count": null,
      "metadata": {
        "colab": {
          "base_uri": "https://localhost:8080/",
          "height": 641
        },
        "id": "OVLUhEfo_5S5",
        "outputId": "fe4b52ef-a27f-4cfd-94b1-eb22d61def08"
      },
      "outputs": [],
      "source": [
        "df_am_GUA"
      ]
    },
    {
      "cell_type": "code",
      "execution_count": 45,
      "metadata": {
        "colab": {
          "base_uri": "https://localhost:8080/",
          "height": 17
        },
        "id": "4ketA2_mo2nV",
        "outputId": "9641284a-fa1a-4793-c11a-bd622cb6b8d2"
      },
      "outputs": [],
      "source": [
        "#from google.colab import files\n",
        "df_am_GUA.to_csv('df_am_GUA.csv')\n",
        "#files.download('df_am_GUA.csv')"
      ]
    },
    {
      "attachments": {},
      "cell_type": "markdown",
      "metadata": {
        "id": "IvuToKwcH3JN"
      },
      "source": [
        "# Dataframe Apple"
      ]
    },
    {
      "attachments": {},
      "cell_type": "markdown",
      "metadata": {
        "id": "B5fbTHnwBsCA"
      },
      "source": [
        "rangemax = 2732"
      ]
    },
    {
      "cell_type": "code",
      "execution_count": 6,
      "metadata": {},
      "outputs": [],
      "source": [
        "articles_list = []"
      ]
    },
    {
      "cell_type": "code",
      "execution_count": 7,
      "metadata": {
        "id": "-CAtiC1KH3JN"
      },
      "outputs": [
        {
          "name": "stdout",
          "output_type": "stream",
          "text": [
            "1400\n",
            "1500\n",
            "1600\n",
            "1700\n",
            "1800\n",
            "1900\n",
            "2000\n",
            "2100\n",
            "2200\n",
            "2300\n",
            "2400\n",
            "2500\n",
            "2600\n",
            "2700\n",
            "https://www.theguardian.com/film/2015/nov/02/new-movies-from-sandra-bullock-and-bradley-cooper-bomb-at-us-box-office\n",
            "https://www.theguardian.com/travel/2016/feb/27/five-alls-the-plough-cotswolds-hotel-pub-review\n"
          ]
        }
      ],
      "source": [
        "df_news_ap = articles_from_base_url_GUA('Apple', 2732)"
      ]
    },
    {
      "cell_type": "code",
      "execution_count": 13,
      "metadata": {},
      "outputs": [
        {
          "data": {
            "text/plain": [
              "598"
            ]
          },
          "execution_count": 13,
          "metadata": {},
          "output_type": "execute_result"
        }
      ],
      "source": [
        "len(articles_list)"
      ]
    },
    {
      "attachments": {},
      "cell_type": "markdown",
      "metadata": {},
      "source": [
        "# Travail avec articles_list"
      ]
    },
    {
      "cell_type": "code",
      "execution_count": 15,
      "metadata": {},
      "outputs": [
        {
          "data": {
            "text/plain": [
              "598"
            ]
          },
          "execution_count": 15,
          "metadata": {},
          "output_type": "execute_result"
        }
      ],
      "source": [
        "len(articles_list)"
      ]
    },
    {
      "cell_type": "code",
      "execution_count": 17,
      "metadata": {},
      "outputs": [],
      "source": [
        "with open(\"liste_temporaire_3_ap_GUA.json\", \"w\") as fp:\n",
        "  json.dump(articles_list, fp)"
      ]
    },
    {
      "cell_type": "code",
      "execution_count": 19,
      "metadata": {},
      "outputs": [
        {
          "data": {
            "text/plain": [
              "14268"
            ]
          },
          "execution_count": 19,
          "metadata": {},
          "output_type": "execute_result"
        }
      ],
      "source": [
        "with open('liste_temporaire_1_ap_GUA.json') as f:\n",
        "    liste_temporaire_1 = json.load(f)\n",
        "\n",
        "with open('liste_temporaire_2_ap_GUA.json') as f:\n",
        "    liste_temporaire_2 = json.load(f)\n",
        "\n",
        "with open('liste_temporaire_3_ap_GUA.json') as f:\n",
        "    liste_temporaire_3 = json.load(f)\n",
        "\n",
        "\n",
        "len(liste_temporaire_1) + len(liste_temporaire_2) + len(liste_temporaire_3) "
      ]
    },
    {
      "attachments": {},
      "cell_type": "markdown",
      "metadata": {},
      "source": [
        "# Synthèse"
      ]
    },
    {
      "cell_type": "code",
      "execution_count": 20,
      "metadata": {},
      "outputs": [],
      "source": [
        "liste_articles = liste_temporaire_1 + liste_temporaire_2 + liste_temporaire_3"
      ]
    },
    {
      "cell_type": "code",
      "execution_count": 21,
      "metadata": {},
      "outputs": [],
      "source": [
        "for t in range(5):\n",
        "    for i in liste_articles:\n",
        "        try:\n",
        "            i.keys()\n",
        "        except:\n",
        "            liste_articles.remove(i)"
      ]
    },
    {
      "cell_type": "code",
      "execution_count": 22,
      "metadata": {},
      "outputs": [],
      "source": [
        "df_ap_GUA = pd.DataFrame(liste_articles)"
      ]
    },
    {
      "cell_type": "code",
      "execution_count": 23,
      "metadata": {
        "id": "Y5Hi-WC2H3JN"
      },
      "outputs": [],
      "source": [
        "df_ap_GUA = df_ap_GUA[df_ap_GUA['url'].str.contains('apple|iphone|iPad|mac|watch|macbook|ios|airpods|app-store|itunes|icloud|beats|siri|shazam|cook|jobs|gafa|gafam|big-tech|consumer-privacy|tech')]"
      ]
    },
    {
      "cell_type": "code",
      "execution_count": 24,
      "metadata": {
        "id": "h7eKTA4SH3JN"
      },
      "outputs": [],
      "source": [
        "yy=df_ap_GUA[df_ap_GUA['fulltext'].str.contains('apples|pie|pies|recipe|tart|crumble|bake|vinegar')]\n",
        "df_ap_GUA.drop(yy.index,inplace=True)"
      ]
    },
    {
      "cell_type": "code",
      "execution_count": 26,
      "metadata": {
        "id": "N0j0fpoWPaBU"
      },
      "outputs": [],
      "source": [
        "df_ap_GUA.to_csv('df_ap_GUA.csv')"
      ]
    },
    {
      "attachments": {},
      "cell_type": "markdown",
      "metadata": {
        "id": "eLDHEDToH3JN"
      },
      "source": [
        "# Dataframe Google"
      ]
    },
    {
      "attachments": {},
      "cell_type": "markdown",
      "metadata": {
        "id": "imyMI6B0Cl90"
      },
      "source": [
        "rangemax = 3103"
      ]
    },
    {
      "cell_type": "code",
      "execution_count": 21,
      "metadata": {},
      "outputs": [],
      "source": [
        "articles_list = []"
      ]
    },
    {
      "cell_type": "code",
      "execution_count": 22,
      "metadata": {
        "id": "RtWX9YyZH3JN"
      },
      "outputs": [
        {
          "name": "stdout",
          "output_type": "stream",
          "text": [
            "2400\n",
            "2500\n",
            "2600\n",
            "2700\n",
            "2800\n",
            "2900\n",
            "3000\n",
            "3100\n",
            "https://www.theguardian.com/higher-education-network/blog/2012/mar/15/ebooks-academic-future-universities-steven-schwartz\n",
            "https://www.theguardian.com//Public/public-sector-websites-usability\n",
            "https://www.theguardian.com//Smarthealthcare/microsoft-healthvault-uk-open-wellness-cameron-22jun10\n",
            "https://www.theguardian.com//Public/government-data-activate-summit\n",
            "https://www.theguardian.com//Smarthealthcare/white-paper-unravel-summary-care-records-19jul10\n",
            "https://www.theguardian.com//Public/cyber-attack-public-sector-comment\n",
            "https://www.theguardian.com//Smarthealthcare/cameron-clegg-conservatives-libdem-nhs-npfit-12may10\n",
            "https://www.theguardian.com//Smarthealthcare/information-security-ico-david-smith-nhs-05may10\n",
            "https://www.theguardian.com//Smarthealthcare/patient-13jan10\n",
            "https://www.theguardian.com//Smarthealthcare/free-data-gov-uk-open-access-03mar10\n"
          ]
        }
      ],
      "source": [
        "df_news_go = articles_from_base_url_GUA('Google', 3103)"
      ]
    },
    {
      "cell_type": "markdown",
      "metadata": {},
      "source": [
        "# Travail avec articles_list"
      ]
    },
    {
      "cell_type": "code",
      "execution_count": 23,
      "metadata": {},
      "outputs": [],
      "source": [
        "with open(\"liste_temporaire_3_go_GUA.json\", \"w\") as fp:\n",
        "  json.dump(articles_list, fp)"
      ]
    },
    {
      "cell_type": "code",
      "execution_count": 16,
      "metadata": {},
      "outputs": [
        {
          "data": {
            "text/plain": [
              "8465"
            ]
          },
          "execution_count": 16,
          "metadata": {},
          "output_type": "execute_result"
        }
      ],
      "source": [
        "len(articles_list)"
      ]
    },
    {
      "cell_type": "code",
      "execution_count": 25,
      "metadata": {},
      "outputs": [],
      "source": [
        "with open('liste_temporaire_1_go_GUA.json') as f:\n",
        "    liste_temporaire_1 = json.load(f)\n",
        "with open('liste_temporaire_2_go_GUA.json') as f:\n",
        "    liste_temporaire_2 = json.load(f)\n",
        "with open('liste_temporaire_3_go_GUA.json') as f:\n",
        "    liste_temporaire_3 = json.load(f)"
      ]
    },
    {
      "cell_type": "markdown",
      "metadata": {},
      "source": [
        "# Synthèse"
      ]
    },
    {
      "cell_type": "code",
      "execution_count": 30,
      "metadata": {},
      "outputs": [],
      "source": [
        "liste_articles = liste_temporaire_1 + liste_temporaire_2 + liste_temporaire_3"
      ]
    },
    {
      "cell_type": "code",
      "execution_count": 31,
      "metadata": {},
      "outputs": [],
      "source": [
        "for t in range(5):\n",
        "    for i in liste_articles:\n",
        "        try:\n",
        "            i.keys()\n",
        "        except:\n",
        "            liste_articles.remove(i)"
      ]
    },
    {
      "cell_type": "code",
      "execution_count": 32,
      "metadata": {},
      "outputs": [],
      "source": [
        "df_ap_GUA = pd.DataFrame(liste_articles)"
      ]
    },
    {
      "cell_type": "code",
      "execution_count": 34,
      "metadata": {
        "id": "gFo91pFKH3JN"
      },
      "outputs": [],
      "source": [
        "df_go_GUA = df_ap_GUA [df_ap_GUA ['url'].str.contains('google|android|chrome|gmail|maps|playstore|pixel|waze|youTube|alphabet|mandiant|fitbit|looker|nest|doubleclick|page|brin|pichai|kurian|gafa|gafam|big-tech|consumer-privacy|tech')]"
      ]
    },
    {
      "cell_type": "code",
      "execution_count": 37,
      "metadata": {
        "id": "rA0THozYPcys"
      },
      "outputs": [],
      "source": [
        "df_go_GUA.to_csv('df_go_GUA.csv')"
      ]
    },
    {
      "attachments": {},
      "cell_type": "markdown",
      "metadata": {
        "id": "BcDC6zkEH3JN"
      },
      "source": [
        "# Dataframe Microsoft"
      ]
    },
    {
      "attachments": {},
      "cell_type": "markdown",
      "metadata": {
        "id": "6TAyGH8-HDG6"
      },
      "source": [
        "rangemax = 932"
      ]
    },
    {
      "cell_type": "code",
      "execution_count": 13,
      "metadata": {},
      "outputs": [],
      "source": [
        "articles_list = []"
      ]
    },
    {
      "cell_type": "code",
      "execution_count": 14,
      "metadata": {
        "id": "xF_GBq5rH3JN"
      },
      "outputs": [
        {
          "name": "stdout",
          "output_type": "stream",
          "text": [
            "https://www.theguardian.com//Smarthealthcare/cameron-clegg-conservatives-libdem-nhs-npfit-12may10\n",
            "https://www.theguardian.com//Smarthealthcare/zafar-chaudry-liverpool-womens-alder-hey-31mar10\n",
            "https://www.theguardian.com//Smarthealthcare/patient-13jan10\n",
            "https://www.theguardian.com//Smarthealthcare/clinical-dashboards-bolton-homerton-salisbury-christie-14apr10\n"
          ]
        }
      ],
      "source": [
        "df_news_mi = articles_from_base_url_GUA('Microsoft', 932)"
      ]
    },
    {
      "cell_type": "markdown",
      "metadata": {},
      "source": [
        "# Travail avec articles_list"
      ]
    },
    {
      "cell_type": "code",
      "execution_count": 15,
      "metadata": {},
      "outputs": [
        {
          "data": {
            "text/plain": [
              "136"
            ]
          },
          "execution_count": 15,
          "metadata": {},
          "output_type": "execute_result"
        }
      ],
      "source": [
        "len(articles_list)"
      ]
    },
    {
      "cell_type": "code",
      "execution_count": 16,
      "metadata": {},
      "outputs": [],
      "source": [
        "with open(\"liste_temporaire_4_mi_GUA.json\", \"w\") as fp:\n",
        "  json.dump(articles_list, fp)"
      ]
    },
    {
      "cell_type": "code",
      "execution_count": 17,
      "metadata": {},
      "outputs": [],
      "source": [
        "with open('liste_temporaire_1_mi_GUA.json') as f:\n",
        "    liste_temporaire_1 = json.load(f)\n",
        "with open('liste_temporaire_2_mi_GUA.json') as f:\n",
        "    liste_temporaire_2 = json.load(f)\n",
        "with open('liste_temporaire_3_mi_GUA.json') as f:\n",
        "    liste_temporaire_3 = json.load(f)\n",
        "with open('liste_temporaire_4_mi_GUA.json') as f:\n",
        "    liste_temporaire_4 = json.load(f)"
      ]
    },
    {
      "cell_type": "code",
      "execution_count": 18,
      "metadata": {},
      "outputs": [
        {
          "data": {
            "text/plain": [
              "9316"
            ]
          },
          "execution_count": 18,
          "metadata": {},
          "output_type": "execute_result"
        }
      ],
      "source": [
        "len(liste_temporaire_1)+len(liste_temporaire_2)+len(liste_temporaire_3)+len(liste_temporaire_4)"
      ]
    },
    {
      "cell_type": "markdown",
      "metadata": {},
      "source": [
        "# Synthèse"
      ]
    },
    {
      "cell_type": "code",
      "execution_count": 19,
      "metadata": {},
      "outputs": [],
      "source": [
        "liste_articles = liste_temporaire_1 + liste_temporaire_2 + liste_temporaire_3 + liste_temporaire_4"
      ]
    },
    {
      "cell_type": "code",
      "execution_count": 20,
      "metadata": {},
      "outputs": [],
      "source": [
        "for t in range(5):\n",
        "    for i in liste_articles:\n",
        "        try:\n",
        "            i.keys()\n",
        "        except:\n",
        "            liste_articles.remove(i)"
      ]
    },
    {
      "cell_type": "code",
      "execution_count": 21,
      "metadata": {},
      "outputs": [],
      "source": [
        "df_mi_GUA = pd.DataFrame(liste_articles)"
      ]
    },
    {
      "cell_type": "code",
      "execution_count": 22,
      "metadata": {
        "id": "-IoeZuGYH3JN"
      },
      "outputs": [],
      "source": [
        "df_mi_GUA = df_mi_GUA[df_mi_GUA['url'].str.contains('microsoft|windows|cortana|excel|explorer|office|edge|teams|outlook|powerpoint|skype|surface|word|xbox|linkedIn|github|mojang|gates|nadella|gafa|gafam|big-tech|consumer-privacy|tech')]"
      ]
    },
    {
      "cell_type": "code",
      "execution_count": 23,
      "metadata": {
        "id": "qbsxbTiHPfx2"
      },
      "outputs": [],
      "source": [
        "df_mi_GUA.to_csv('df_mi_GUA.csv')"
      ]
    },
    {
      "attachments": {},
      "cell_type": "markdown",
      "metadata": {
        "id": "Z3fQwRmqH3JN"
      },
      "source": [
        "# Dataframe final"
      ]
    },
    {
      "cell_type": "code",
      "execution_count": 47,
      "metadata": {},
      "outputs": [],
      "source": [
        "df_fb_GUA = pd.read_csv('df_fb_GUA.csv', index_col=0)\n",
        "df_am_GUA = pd.read_csv('df_am_GUA.csv', index_col=0)\n",
        "df_ap_GUA = pd.read_csv('df_ap_GUA.csv', index_col=0)\n",
        "df_go_GUA = pd.read_csv('df_go_GUA.csv', index_col=0)\n",
        "df_mi_GUA = pd.read_csv('df_mi_GUA.csv', index_col=0)"
      ]
    },
    {
      "attachments": {},
      "cell_type": "markdown",
      "metadata": {
        "id": "bt3NiJe-ACkH"
      },
      "source": [
        "Il faut supprimer les lignes en double !!!"
      ]
    },
    {
      "cell_type": "code",
      "execution_count": 50,
      "metadata": {
        "id": "Jd2Oh8B4H3JT"
      },
      "outputs": [],
      "source": [
        "df_final = pd.concat([df_fb_GUA, df_am_GUA, df_ap_GUA, df_go_GUA, df_mi_GUA]).reset_index()\n",
        "df_final.drop_duplicates(subset =\"url\", keep = 'first', inplace=True)\n",
        "df_final.to_csv('articlesGUA.csv', index=False)\n",
        "#files.download('articlesGUA.csv')"
      ]
    },
    {
      "cell_type": "code",
      "execution_count": null,
      "metadata": {
        "id": "7PE8xm2FgF3T"
      },
      "outputs": [],
      "source": [
        "files.download('articlesGUA.csv')"
      ]
    },
    {
      "cell_type": "code",
      "execution_count": null,
      "metadata": {
        "id": "ziS9gaIsFm6F"
      },
      "outputs": [],
      "source": [
        "while True:pass"
      ]
    }
  ],
  "metadata": {
    "colab": {
      "collapsed_sections": [
        "8cfbXcI0H3JC",
        "kQX0KgP1H3JI",
        "02O-2Nx0H3JM"
      ],
      "provenance": []
    },
    "kernelspec": {
      "display_name": "base",
      "language": "python",
      "name": "python3"
    },
    "language_info": {
      "codemirror_mode": {
        "name": "ipython",
        "version": 3
      },
      "file_extension": ".py",
      "mimetype": "text/x-python",
      "name": "python",
      "nbconvert_exporter": "python",
      "pygments_lexer": "ipython3",
      "version": "3.7.0"
    }
  },
  "nbformat": 4,
  "nbformat_minor": 0
}
