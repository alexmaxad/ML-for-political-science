{
  "cells": [
    {
      "attachments": {},
      "cell_type": "markdown",
      "metadata": {
        "id": "brVlGe97z4nP"
      },
      "source": [
        "# **New scraping from DE**"
      ]
    },
    {
      "attachments": {},
      "cell_type": "markdown",
      "metadata": {
        "id": "9mqJDypPz4nR"
      },
      "source": [
        "# Imports"
      ]
    },
    {
      "cell_type": "code",
      "execution_count": 1,
      "metadata": {
        "id": "zvYKYVEqz4nR"
      },
      "outputs": [],
      "source": [
        "import pandas as pd\n",
        "import requests\n",
        "from bs4 import BeautifulSoup\n",
        "import urllib\n",
        "#import urllib3.request,sys,time\n",
        "from urllib.error import HTTPError\n",
        "from urllib.request import urlopen\n",
        "import pandas as pd\n",
        "import time\n",
        "import warnings\n",
        "#from google.colab import files\n",
        "warnings.filterwarnings('ignore')"
      ]
    },
    {
      "attachments": {},
      "cell_type": "markdown",
      "metadata": {
        "id": "M9HSL9kzz4nS"
      },
      "source": [
        "# Treatment functions"
      ]
    },
    {
      "cell_type": "code",
      "execution_count": 2,
      "metadata": {
        "id": "OQh3Q5_mz4nS"
      },
      "outputs": [],
      "source": [
        "#récupère les articles présents dans le résultat de recherche du DE\n",
        "def getArticle(pageurl):\n",
        "    try:\n",
        "        html = urlopen(pageurl)\n",
        "    except HTTPError as e:\n",
        "        return None\n",
        "    try:\n",
        "        headers = {\n",
        "            'User-Agent': 'My User Agent 1.0',\n",
        "        }\n",
        "        res= requests.get(pageurl, headers=headers)\n",
        "        bsObj = BeautifulSoup(res.text,'lxml')\n",
        "        #bsObj = BeautifulSoup(html.read())\n",
        "        item = bsObj.find(\"div\",{'class':{'cf'}}).findAll('a')\n",
        "    except AttributeError as e:\n",
        "        return None\n",
        "    articles_list=[]\n",
        "    for j in item:#one item is one article\n",
        "        article=dict()\n",
        "        article['url']=\"www.express.co.uk\"+j.get('href')\n",
        "        article['date']=j.p.time['datetime']\n",
        "        articles_list.append(article)\n",
        "    return articles_list"
      ]
    },
    {
      "cell_type": "code",
      "execution_count": 3,
      "metadata": {
        "id": "1Rcjs2Yyz4nS"
      },
      "outputs": [],
      "source": [
        "#crée un dictionnaire avec les infos de l'article\n",
        "def getNews(article_url):\n",
        "    try:\n",
        "        html = urlopen(article_url)\n",
        "    except HTTPError as e:\n",
        "        print(article_url)\n",
        "        return None\n",
        "    bsObj = BeautifulSoup(html.read())\n",
        "    article=dict()\n",
        "    try:\n",
        "        article[\"author\"]=bsObj.find(\"div\",{'class':{'author'}}).text\n",
        "    except AttributeError as e:\n",
        "        article[\"author\"]=''\n",
        "    try:\n",
        "        article[\"headline\"]=bsObj.find(\"header\",{'class':{'clearfix'}}).h1.text\n",
        "    except AttributeError as e:\n",
        "        article[\"headline\"]=''\n",
        "    try:\n",
        "        article[\"summary\"]=bsObj.find(\"header\",{'class':{'clearfix'}}).h3.text\n",
        "    except AttributeError as e:\n",
        "        article[\"summary\"]=''\n",
        "    try:\n",
        "        article[\"date\"]=bsObj.find(\"div\",{'class':{'dates'}}).time[\"datetime\"][:10]\n",
        "    except AttributeError as e:\n",
        "        article[\"date\"]= ''\n",
        "    try:\n",
        "        paras=bsObj.find_all(\"div\",{'class':{'text-description'}})\n",
        "        fulltext=\"\"\n",
        "        for para in paras:\n",
        "            paras_text=\" \\n \".join(i.text for i in para.find_all(\"p\"))\n",
        "            fulltext=fulltext+paras_text\n",
        "        article[\"fulltext\"]=fulltext\n",
        "    except AttributeError as e:\n",
        "        article[\"fulltext\"]= ''\n",
        "    article[\"url\"]=article_url\n",
        "    time.sleep(1)\n",
        "    return article"
      ]
    },
    {
      "cell_type": "code",
      "execution_count": 4,
      "metadata": {
        "id": "zQhfD-Ktz4nT"
      },
      "outputs": [],
      "source": [
        "#transforme la liste d'url en dataframe avec les articles\n",
        "def get_articles_from_links(articles_links):\n",
        "    articles = []\n",
        "    for ind in articles_links.index :\n",
        "        if ind%10==0:\n",
        "            print(ind)\n",
        "        article_url='https://'+articles_links['url'][ind]\n",
        "        news=getNews(article_url)\n",
        "        if news is not None:\n",
        "            articles.append(news)\n",
        "        time.sleep(1)\n",
        "    return articles"
      ]
    },
    {
      "cell_type": "code",
      "execution_count": 5,
      "metadata": {
        "id": "N7GN6zhYz4nT"
      },
      "outputs": [],
      "source": [
        "def articles_from_base_url_DE(base_url):\n",
        "    #parcours de tous les articles dispos\n",
        "    url=[]\n",
        "    for i in range(0,10001,10): #Doit aller jusqu'à #10001 !! je raccourcis pour les tests\n",
        "        if i%1000==0:\n",
        "            print(i)\n",
        "        url.append(base_url+str(i))\n",
        "    articles_links = pd.DataFrame()\n",
        "    #création de la database avec tous les liens d'articles\n",
        "    for i in range(len(url)):\n",
        "        inter = pd.DataFrame(getArticle(url[i]))\n",
        "        articles_links = pd.concat([articles_links, inter], ignore_index=True, axis=0)\n",
        "    news = get_articles_from_links(articles_links)\n",
        "    df_news = pd.DataFrame(news)\n",
        "    return df_news"
      ]
    },
    {
      "attachments": {},
      "cell_type": "markdown",
      "metadata": {
        "id": "ViBPjRm3z4nT"
      },
      "source": [
        "# Tries with Facebook"
      ]
    },
    {
      "cell_type": "code",
      "execution_count": null,
      "metadata": {
        "id": "29K6UoQ-z4nT"
      },
      "outputs": [],
      "source": [
        "#URL de base\n",
        "base_url=\"https://www.express.co.uk/search?s=facebook&order=oldest&o=\"\n",
        "\n",
        "#parcours de tous les articles dispos\n",
        "fb_url=[]\n",
        "for i in range(0,21,10): #Doit aller jusqu'à #10001 !! je raccourcis pour les tests\n",
        "    fb_url.append(base_url+str(i))"
      ]
    },
    {
      "cell_type": "code",
      "execution_count": null,
      "metadata": {
        "id": "U3LVSLRrz4nT"
      },
      "outputs": [],
      "source": [
        "articles_links = pd.DataFrame()"
      ]
    },
    {
      "cell_type": "code",
      "execution_count": null,
      "metadata": {
        "id": "9LJVnn4Dz4nU"
      },
      "outputs": [],
      "source": [
        "#création de la database avec tous les liens d'articles\n",
        "for i in range(len(fb_url)):\n",
        "    inter = pd.DataFrame(getArticle(fb_url[i]))\n",
        "    articles_links = pd.concat([articles_links, inter], ignore_index=True, axis=0)"
      ]
    },
    {
      "cell_type": "code",
      "execution_count": null,
      "metadata": {
        "colab": {
          "base_uri": "https://localhost:8080/",
          "height": 990
        },
        "id": "BR2XouD0z4nU",
        "outputId": "e5040f51-160f-453d-dd54-3aae6c9d20b7"
      },
      "outputs": [
        {
          "data": {
            "text/html": [
              "\n",
              "  <div id=\"df-785d3c4d-0878-41dd-8c59-d932f97c1873\">\n",
              "    <div class=\"colab-df-container\">\n",
              "      <div>\n",
              "<style scoped>\n",
              "    .dataframe tbody tr th:only-of-type {\n",
              "        vertical-align: middle;\n",
              "    }\n",
              "\n",
              "    .dataframe tbody tr th {\n",
              "        vertical-align: top;\n",
              "    }\n",
              "\n",
              "    .dataframe thead th {\n",
              "        text-align: right;\n",
              "    }\n",
              "</style>\n",
              "<table border=\"1\" class=\"dataframe\">\n",
              "  <thead>\n",
              "    <tr style=\"text-align: right;\">\n",
              "      <th></th>\n",
              "      <th>url</th>\n",
              "      <th>date</th>\n",
              "    </tr>\n",
              "  </thead>\n",
              "  <tbody>\n",
              "    <tr>\n",
              "      <th>0</th>\n",
              "      <td>www.express.co.uk/news/uk/3045/Father-won-t-re...</td>\n",
              "      <td>2007-03-29T01:00:00Z</td>\n",
              "    </tr>\n",
              "    <tr>\n",
              "      <th>1</th>\n",
              "      <td>www.express.co.uk/news/uk/6664/Teacher-jailed-...</td>\n",
              "      <td>2007-05-10T17:45:07Z</td>\n",
              "    </tr>\n",
              "    <tr>\n",
              "      <th>2</th>\n",
              "      <td>www.express.co.uk/news/uk/8422/One-in-five-chi...</td>\n",
              "      <td>2007-05-31T01:00:00Z</td>\n",
              "    </tr>\n",
              "    <tr>\n",
              "      <th>3</th>\n",
              "      <td>www.express.co.uk/news/uk/8840/Man-remanded-on...</td>\n",
              "      <td>2007-06-05T02:15:02Z</td>\n",
              "    </tr>\n",
              "    <tr>\n",
              "      <th>4</th>\n",
              "      <td>www.express.co.uk/news/uk/8889/Man-charged-wit...</td>\n",
              "      <td>2007-06-05T01:00:00Z</td>\n",
              "    </tr>\n",
              "    <tr>\n",
              "      <th>5</th>\n",
              "      <td>www.express.co.uk/news/uk/8970/Kate-date-murde...</td>\n",
              "      <td>2007-06-06T01:00:00Z</td>\n",
              "    </tr>\n",
              "    <tr>\n",
              "      <th>6</th>\n",
              "      <td>www.express.co.uk/sport/othersport/12517/Doubl...</td>\n",
              "      <td>2007-07-06T01:00:00Z</td>\n",
              "    </tr>\n",
              "    <tr>\n",
              "      <th>7</th>\n",
              "      <td>www.express.co.uk/news/uk/14609/Facebook-found...</td>\n",
              "      <td>2007-07-25T08:45:10Z</td>\n",
              "    </tr>\n",
              "    <tr>\n",
              "      <th>8</th>\n",
              "      <td>www.express.co.uk/news/uk/14969/Eugenie-in-row...</td>\n",
              "      <td>2007-07-29T01:00:00Z</td>\n",
              "    </tr>\n",
              "    <tr>\n",
              "      <th>9</th>\n",
              "      <td>www.express.co.uk/news/uk/15068/New-crackdown-...</td>\n",
              "      <td>2007-07-30T19:15:07Z</td>\n",
              "    </tr>\n",
              "    <tr>\n",
              "      <th>10</th>\n",
              "      <td>www.express.co.uk/news/uk/16135/Cadet-fall-may...</td>\n",
              "      <td>2007-08-10T19:45:07Z</td>\n",
              "    </tr>\n",
              "    <tr>\n",
              "      <th>11</th>\n",
              "      <td>www.express.co.uk/life-style/health/16985/The-...</td>\n",
              "      <td>2007-08-21T01:00:00Z</td>\n",
              "    </tr>\n",
              "    <tr>\n",
              "      <th>12</th>\n",
              "      <td>www.express.co.uk/finance/personalfinance/1763...</td>\n",
              "      <td>2007-08-29T01:00:00Z</td>\n",
              "    </tr>\n",
              "    <tr>\n",
              "      <th>13</th>\n",
              "      <td>www.express.co.uk/comment/columnists/ann-widde...</td>\n",
              "      <td>2007-09-12T01:00:00Z</td>\n",
              "    </tr>\n",
              "    <tr>\n",
              "      <th>14</th>\n",
              "      <td>www.express.co.uk/news/uk/20216/Facebook-is-UK...</td>\n",
              "      <td>2007-09-26T01:00:00Z</td>\n",
              "    </tr>\n",
              "    <tr>\n",
              "      <th>15</th>\n",
              "      <td>www.express.co.uk/news/uk/21226/Identity-fraud...</td>\n",
              "      <td>2007-10-06T03:15:27Z</td>\n",
              "    </tr>\n",
              "    <tr>\n",
              "      <th>16</th>\n",
              "      <td>www.express.co.uk/news/uk/23575/Ring-Road-Tram...</td>\n",
              "      <td>2007-10-29T00:00:00Z</td>\n",
              "    </tr>\n",
              "    <tr>\n",
              "      <th>17</th>\n",
              "      <td>www.express.co.uk/news/uk/24306/Family-tribute...</td>\n",
              "      <td>2007-11-06T04:15:10Z</td>\n",
              "    </tr>\n",
              "    <tr>\n",
              "      <th>18</th>\n",
              "      <td>www.express.co.uk/news/uk/25716/Face-of-the-fo...</td>\n",
              "      <td>2007-11-20T00:00:00Z</td>\n",
              "    </tr>\n",
              "    <tr>\n",
              "      <th>19</th>\n",
              "      <td>www.express.co.uk/news/uk/26149/The-perils-of-...</td>\n",
              "      <td>2007-11-23T00:00:00Z</td>\n",
              "    </tr>\n",
              "    <tr>\n",
              "      <th>20</th>\n",
              "      <td>www.express.co.uk/news/uk/27108/Teddy-teacher-...</td>\n",
              "      <td>2007-12-02T00:00:00Z</td>\n",
              "    </tr>\n",
              "    <tr>\n",
              "      <th>21</th>\n",
              "      <td>www.express.co.uk/life-style/health/28466/MORA...</td>\n",
              "      <td>2007-12-14T00:00:00Z</td>\n",
              "    </tr>\n",
              "    <tr>\n",
              "      <th>22</th>\n",
              "      <td>www.express.co.uk/news/uk/33438/Scotty-s-birth...</td>\n",
              "      <td>2008-02-01T00:00:00Z</td>\n",
              "    </tr>\n",
              "    <tr>\n",
              "      <th>23</th>\n",
              "      <td>www.express.co.uk/news/uk/34000/Another-girl-h...</td>\n",
              "      <td>2008-02-06T00:00:00Z</td>\n",
              "    </tr>\n",
              "    <tr>\n",
              "      <th>24</th>\n",
              "      <td>www.express.co.uk/news/uk/35136/Two-more-hangi...</td>\n",
              "      <td>2008-02-16T00:00:00Z</td>\n",
              "    </tr>\n",
              "    <tr>\n",
              "      <th>25</th>\n",
              "      <td>www.express.co.uk/news/uk/35374/1m-autocutie-N...</td>\n",
              "      <td>2008-02-19T00:00:00Z</td>\n",
              "    </tr>\n",
              "    <tr>\n",
              "      <th>26</th>\n",
              "      <td>www.express.co.uk/news/uk/35564/Bridgend-The-i...</td>\n",
              "      <td>2008-02-20T00:00:00Z</td>\n",
              "    </tr>\n",
              "    <tr>\n",
              "      <th>27</th>\n",
              "      <td>www.express.co.uk/news/uk/35540/She-was-a-happ...</td>\n",
              "      <td>2008-02-20T00:00:00Z</td>\n",
              "    </tr>\n",
              "    <tr>\n",
              "      <th>28</th>\n",
              "      <td>www.express.co.uk/finance/personalfinance/3554...</td>\n",
              "      <td>2008-02-20T00:00:00Z</td>\n",
              "    </tr>\n",
              "    <tr>\n",
              "      <th>29</th>\n",
              "      <td>www.express.co.uk/news/uk/35936/Pro-anorexia-w...</td>\n",
              "      <td>2008-02-24T07:15:07Z</td>\n",
              "    </tr>\n",
              "  </tbody>\n",
              "</table>\n",
              "</div>\n",
              "      <button class=\"colab-df-convert\" onclick=\"convertToInteractive('df-785d3c4d-0878-41dd-8c59-d932f97c1873')\"\n",
              "              title=\"Convert this dataframe to an interactive table.\"\n",
              "              style=\"display:none;\">\n",
              "        \n",
              "  <svg xmlns=\"http://www.w3.org/2000/svg\" height=\"24px\"viewBox=\"0 0 24 24\"\n",
              "       width=\"24px\">\n",
              "    <path d=\"M0 0h24v24H0V0z\" fill=\"none\"/>\n",
              "    <path d=\"M18.56 5.44l.94 2.06.94-2.06 2.06-.94-2.06-.94-.94-2.06-.94 2.06-2.06.94zm-11 1L8.5 8.5l.94-2.06 2.06-.94-2.06-.94L8.5 2.5l-.94 2.06-2.06.94zm10 10l.94 2.06.94-2.06 2.06-.94-2.06-.94-.94-2.06-.94 2.06-2.06.94z\"/><path d=\"M17.41 7.96l-1.37-1.37c-.4-.4-.92-.59-1.43-.59-.52 0-1.04.2-1.43.59L10.3 9.45l-7.72 7.72c-.78.78-.78 2.05 0 2.83L4 21.41c.39.39.9.59 1.41.59.51 0 1.02-.2 1.41-.59l7.78-7.78 2.81-2.81c.8-.78.8-2.07 0-2.86zM5.41 20L4 18.59l7.72-7.72 1.47 1.35L5.41 20z\"/>\n",
              "  </svg>\n",
              "      </button>\n",
              "      \n",
              "  <style>\n",
              "    .colab-df-container {\n",
              "      display:flex;\n",
              "      flex-wrap:wrap;\n",
              "      gap: 12px;\n",
              "    }\n",
              "\n",
              "    .colab-df-convert {\n",
              "      background-color: #E8F0FE;\n",
              "      border: none;\n",
              "      border-radius: 50%;\n",
              "      cursor: pointer;\n",
              "      display: none;\n",
              "      fill: #1967D2;\n",
              "      height: 32px;\n",
              "      padding: 0 0 0 0;\n",
              "      width: 32px;\n",
              "    }\n",
              "\n",
              "    .colab-df-convert:hover {\n",
              "      background-color: #E2EBFA;\n",
              "      box-shadow: 0px 1px 2px rgba(60, 64, 67, 0.3), 0px 1px 3px 1px rgba(60, 64, 67, 0.15);\n",
              "      fill: #174EA6;\n",
              "    }\n",
              "\n",
              "    [theme=dark] .colab-df-convert {\n",
              "      background-color: #3B4455;\n",
              "      fill: #D2E3FC;\n",
              "    }\n",
              "\n",
              "    [theme=dark] .colab-df-convert:hover {\n",
              "      background-color: #434B5C;\n",
              "      box-shadow: 0px 1px 3px 1px rgba(0, 0, 0, 0.15);\n",
              "      filter: drop-shadow(0px 1px 2px rgba(0, 0, 0, 0.3));\n",
              "      fill: #FFFFFF;\n",
              "    }\n",
              "  </style>\n",
              "\n",
              "      <script>\n",
              "        const buttonEl =\n",
              "          document.querySelector('#df-785d3c4d-0878-41dd-8c59-d932f97c1873 button.colab-df-convert');\n",
              "        buttonEl.style.display =\n",
              "          google.colab.kernel.accessAllowed ? 'block' : 'none';\n",
              "\n",
              "        async function convertToInteractive(key) {\n",
              "          const element = document.querySelector('#df-785d3c4d-0878-41dd-8c59-d932f97c1873');\n",
              "          const dataTable =\n",
              "            await google.colab.kernel.invokeFunction('convertToInteractive',\n",
              "                                                     [key], {});\n",
              "          if (!dataTable) return;\n",
              "\n",
              "          const docLinkHtml = 'Like what you see? Visit the ' +\n",
              "            '<a target=\"_blank\" href=https://colab.research.google.com/notebooks/data_table.ipynb>data table notebook</a>'\n",
              "            + ' to learn more about interactive tables.';\n",
              "          element.innerHTML = '';\n",
              "          dataTable['output_type'] = 'display_data';\n",
              "          await google.colab.output.renderOutput(dataTable, element);\n",
              "          const docLink = document.createElement('div');\n",
              "          docLink.innerHTML = docLinkHtml;\n",
              "          element.appendChild(docLink);\n",
              "        }\n",
              "      </script>\n",
              "    </div>\n",
              "  </div>\n",
              "  "
            ],
            "text/plain": [
              "                                                  url                  date\n",
              "0   www.express.co.uk/news/uk/3045/Father-won-t-re...  2007-03-29T01:00:00Z\n",
              "1   www.express.co.uk/news/uk/6664/Teacher-jailed-...  2007-05-10T17:45:07Z\n",
              "2   www.express.co.uk/news/uk/8422/One-in-five-chi...  2007-05-31T01:00:00Z\n",
              "3   www.express.co.uk/news/uk/8840/Man-remanded-on...  2007-06-05T02:15:02Z\n",
              "4   www.express.co.uk/news/uk/8889/Man-charged-wit...  2007-06-05T01:00:00Z\n",
              "5   www.express.co.uk/news/uk/8970/Kate-date-murde...  2007-06-06T01:00:00Z\n",
              "6   www.express.co.uk/sport/othersport/12517/Doubl...  2007-07-06T01:00:00Z\n",
              "7   www.express.co.uk/news/uk/14609/Facebook-found...  2007-07-25T08:45:10Z\n",
              "8   www.express.co.uk/news/uk/14969/Eugenie-in-row...  2007-07-29T01:00:00Z\n",
              "9   www.express.co.uk/news/uk/15068/New-crackdown-...  2007-07-30T19:15:07Z\n",
              "10  www.express.co.uk/news/uk/16135/Cadet-fall-may...  2007-08-10T19:45:07Z\n",
              "11  www.express.co.uk/life-style/health/16985/The-...  2007-08-21T01:00:00Z\n",
              "12  www.express.co.uk/finance/personalfinance/1763...  2007-08-29T01:00:00Z\n",
              "13  www.express.co.uk/comment/columnists/ann-widde...  2007-09-12T01:00:00Z\n",
              "14  www.express.co.uk/news/uk/20216/Facebook-is-UK...  2007-09-26T01:00:00Z\n",
              "15  www.express.co.uk/news/uk/21226/Identity-fraud...  2007-10-06T03:15:27Z\n",
              "16  www.express.co.uk/news/uk/23575/Ring-Road-Tram...  2007-10-29T00:00:00Z\n",
              "17  www.express.co.uk/news/uk/24306/Family-tribute...  2007-11-06T04:15:10Z\n",
              "18  www.express.co.uk/news/uk/25716/Face-of-the-fo...  2007-11-20T00:00:00Z\n",
              "19  www.express.co.uk/news/uk/26149/The-perils-of-...  2007-11-23T00:00:00Z\n",
              "20  www.express.co.uk/news/uk/27108/Teddy-teacher-...  2007-12-02T00:00:00Z\n",
              "21  www.express.co.uk/life-style/health/28466/MORA...  2007-12-14T00:00:00Z\n",
              "22  www.express.co.uk/news/uk/33438/Scotty-s-birth...  2008-02-01T00:00:00Z\n",
              "23  www.express.co.uk/news/uk/34000/Another-girl-h...  2008-02-06T00:00:00Z\n",
              "24  www.express.co.uk/news/uk/35136/Two-more-hangi...  2008-02-16T00:00:00Z\n",
              "25  www.express.co.uk/news/uk/35374/1m-autocutie-N...  2008-02-19T00:00:00Z\n",
              "26  www.express.co.uk/news/uk/35564/Bridgend-The-i...  2008-02-20T00:00:00Z\n",
              "27  www.express.co.uk/news/uk/35540/She-was-a-happ...  2008-02-20T00:00:00Z\n",
              "28  www.express.co.uk/finance/personalfinance/3554...  2008-02-20T00:00:00Z\n",
              "29  www.express.co.uk/news/uk/35936/Pro-anorexia-w...  2008-02-24T07:15:07Z"
            ]
          },
          "execution_count": 40,
          "metadata": {},
          "output_type": "execute_result"
        }
      ],
      "source": [
        "articles_links"
      ]
    },
    {
      "cell_type": "code",
      "execution_count": null,
      "metadata": {
        "colab": {
          "base_uri": "https://localhost:8080/",
          "height": 294
        },
        "id": "YRucMQcNz4nU",
        "outputId": "a1b44642-82d0-4c49-a03e-50e146a179ff"
      },
      "outputs": [
        {
          "name": "stdout",
          "output_type": "stream",
          "text": [
            "0\n"
          ]
        },
        {
          "ename": "KeyboardInterrupt",
          "evalue": "ignored",
          "output_type": "error",
          "traceback": [
            "\u001b[0;31m---------------------------------------------------------------------------\u001b[0m",
            "\u001b[0;31mKeyboardInterrupt\u001b[0m                         Traceback (most recent call last)",
            "\u001b[0;32m<ipython-input-41-dbdb28799722>\u001b[0m in \u001b[0;36m<cell line: 1>\u001b[0;34m()\u001b[0m\n\u001b[0;32m----> 1\u001b[0;31m \u001b[0mnews\u001b[0m \u001b[0;34m=\u001b[0m \u001b[0mget_articles_from_links\u001b[0m\u001b[0;34m(\u001b[0m\u001b[0marticles_links\u001b[0m\u001b[0;34m)\u001b[0m\u001b[0;34m\u001b[0m\u001b[0;34m\u001b[0m\u001b[0m\n\u001b[0m",
            "\u001b[0;32m<ipython-input-35-19c237dd5fb5>\u001b[0m in \u001b[0;36mget_articles_from_links\u001b[0;34m(articles_links)\u001b[0m\n\u001b[1;32m      9\u001b[0m         \u001b[0;32mif\u001b[0m \u001b[0mnews\u001b[0m \u001b[0;32mis\u001b[0m \u001b[0;32mnot\u001b[0m \u001b[0;32mNone\u001b[0m\u001b[0;34m:\u001b[0m\u001b[0;34m\u001b[0m\u001b[0;34m\u001b[0m\u001b[0m\n\u001b[1;32m     10\u001b[0m             \u001b[0marticles\u001b[0m\u001b[0;34m.\u001b[0m\u001b[0mappend\u001b[0m\u001b[0;34m(\u001b[0m\u001b[0mnews\u001b[0m\u001b[0;34m)\u001b[0m\u001b[0;34m\u001b[0m\u001b[0;34m\u001b[0m\u001b[0m\n\u001b[0;32m---> 11\u001b[0;31m         \u001b[0mtime\u001b[0m\u001b[0;34m.\u001b[0m\u001b[0msleep\u001b[0m\u001b[0;34m(\u001b[0m\u001b[0;36m1\u001b[0m\u001b[0;34m)\u001b[0m\u001b[0;34m\u001b[0m\u001b[0;34m\u001b[0m\u001b[0m\n\u001b[0m\u001b[1;32m     12\u001b[0m     \u001b[0;32mreturn\u001b[0m \u001b[0marticles\u001b[0m\u001b[0;34m\u001b[0m\u001b[0;34m\u001b[0m\u001b[0m\n",
            "\u001b[0;31mKeyboardInterrupt\u001b[0m: "
          ]
        }
      ],
      "source": [
        "news = get_articles_from_links(articles_links)"
      ]
    },
    {
      "cell_type": "code",
      "execution_count": null,
      "metadata": {
        "id": "jtALm0rWz4nV"
      },
      "outputs": [],
      "source": [
        "df_news = pd.DataFrame(news)"
      ]
    },
    {
      "attachments": {},
      "cell_type": "markdown",
      "metadata": {
        "id": "w2jPcLSZz4nV"
      },
      "source": [
        "Le problème est qu'on a encore énormmément trop d'articles, à cause de toutes les pubs sur les artciles qui mentionnent facebook. On ne va garder que les articles dont l'url contient le mort \"facebook\"."
      ]
    },
    {
      "cell_type": "code",
      "execution_count": null,
      "metadata": {
        "id": "02f66j5az4nV"
      },
      "outputs": [],
      "source": [
        "df_fb_DE = df_news[df_news['url'].str.contains('Facebook|Meta|facebook')]"
      ]
    },
    {
      "attachments": {},
      "cell_type": "markdown",
      "metadata": {
        "id": "Cw829HtBz4nV"
      },
      "source": [
        "# Dataframe Facebook"
      ]
    },
    {
      "attachments": {},
      "cell_type": "markdown",
      "metadata": {
        "id": "hgbF3nCvz4nV"
      },
      "source": [
        "On systématise le traitement avec une fonction générale dans la partie fonctions"
      ]
    },
    {
      "cell_type": "code",
      "execution_count": 6,
      "metadata": {
        "id": "iVsZvuUaz4nV"
      },
      "outputs": [],
      "source": [
        "#URL de base\n",
        "base_url=\"https://www.express.co.uk/search?s=facebook&order=oldest&o=\""
      ]
    },
    {
      "cell_type": "code",
      "execution_count": null,
      "metadata": {
        "colab": {
          "base_uri": "https://localhost:8080/"
        },
        "id": "QJ8OPs9Bz4nV",
        "outputId": "c040fca7-d537-4360-a306-ad391fb66488"
      },
      "outputs": [],
      "source": [
        "df_news_fb = articles_from_base_url_DE(base_url)"
      ]
    },
    {
      "attachments": {},
      "cell_type": "markdown",
      "metadata": {
        "id": "U4JbCW5npryw"
      },
      "source": [
        "Attention pour le DE les majuscules dans l'url importent !!"
      ]
    },
    {
      "cell_type": "code",
      "execution_count": 10,
      "metadata": {
        "id": "7sDc2AIoxDIS"
      },
      "outputs": [],
      "source": [
        "df_news_fb['url'] = df_news_fb['url'].str.lower()"
      ]
    },
    {
      "cell_type": "code",
      "execution_count": 11,
      "metadata": {
        "id": "B_uex3xTz4nV"
      },
      "outputs": [],
      "source": [
        "df_fb_DE = df_news_fb[df_news_fb['url'].str.contains('meta|facebook|messenger|instagram|oculus|whatsApp|zuckerberg|olivan|clegg|social-media|gafa|gafam|big-tech|consumer-privacy|tech')]"
      ]
    },
    {
      "cell_type": "code",
      "execution_count": null,
      "metadata": {
        "colab": {
          "base_uri": "https://localhost:8080/"
        },
        "id": "Dm5zp0M2DKQg",
        "outputId": "21e0e55a-191d-4316-ff88-e794848356ec"
      },
      "outputs": [],
      "source": [
        "df_fb_DE.to_csv('df_fb_DE.csv')\n",
        "#files.download('df_fb_DE.csv')"
      ]
    },
    {
      "attachments": {},
      "cell_type": "markdown",
      "metadata": {
        "id": "4PBzsaqZz4nW"
      },
      "source": [
        "# Dataframe Amazon"
      ]
    },
    {
      "cell_type": "code",
      "execution_count": 6,
      "metadata": {
        "id": "NlJ04hZzz4nW"
      },
      "outputs": [],
      "source": [
        "#URL de base\n",
        "base_url=\"https://www.express.co.uk/search?s=amazon&order=oldest&o=\""
      ]
    },
    {
      "cell_type": "code",
      "execution_count": null,
      "metadata": {
        "colab": {
          "background_save": true,
          "base_uri": "https://localhost:8080/"
        },
        "id": "HaiqEgXqz4nW",
        "outputId": "77686cfa-e327-4e9f-998e-0dcb06032764"
      },
      "outputs": [],
      "source": [
        "df_news_am = articles_from_base_url_DE(base_url)"
      ]
    },
    {
      "cell_type": "code",
      "execution_count": null,
      "metadata": {
        "id": "BEdk4fRoxnTF"
      },
      "outputs": [],
      "source": [
        "df_news_am['url'] = df_news_am['url'].str.lower()"
      ]
    },
    {
      "cell_type": "code",
      "execution_count": null,
      "metadata": {
        "id": "PnPnCVJ2z4nW"
      },
      "outputs": [],
      "source": [
        "df_am_DE = df_news_am[df_news_am['url'].str.contains('amazon|prime|whole-foods|zappos|pillpack|twitch|audible|goodreads|imdb|bezos|jassy|olsavsky|alexander|gafa|gafam|big-tech|consumer-privacy|tech')]"
      ]
    },
    {
      "cell_type": "code",
      "execution_count": null,
      "metadata": {
        "id": "ewI0Qb9Yz4nW"
      },
      "outputs": [],
      "source": [
        "df_am_DE"
      ]
    },
    {
      "attachments": {},
      "cell_type": "markdown",
      "metadata": {
        "id": "QCfp-VuAz4nW"
      },
      "source": [
        "-> piste d'amélioration : aussi considérer les artciles concernnat des compagnies directement liées aux BigTechs, par exemple Twitch pour Amazon etc. Aussi leurs dirigeants ?\n",
        "Idée : 5 produits principaux, 5 sociétés annexes, 5 dirigeants (tout au maximum)\n",
        "Car l'url peut ne pas contenir directement le nom de la BigTech, bien qu'elle soit très concernée."
      ]
    },
    {
      "attachments": {},
      "cell_type": "markdown",
      "metadata": {
        "id": "NdwWvM0Rz4nW"
      },
      "source": [
        "Mais d'après le stage précédent, il nous faut ici enlever les articles en lien avec la forêt amazonienne, qui reviennent beaucoup."
      ]
    },
    {
      "cell_type": "code",
      "execution_count": null,
      "metadata": {
        "id": "dZpAIqxCz4nW"
      },
      "outputs": [],
      "source": [
        "yy=df_am_DE[df_am_DE['fulltext'].str.contains('forest|tribe|jungle|swallows-and-amazon|amazons')]\n",
        "df_am_DE.drop(yy.index,inplace=True)"
      ]
    },
    {
      "cell_type": "code",
      "execution_count": null,
      "metadata": {
        "id": "CWMew51SDRBi"
      },
      "outputs": [],
      "source": [
        "df_am_DE.to_csv('df_am_DE.csv')\n",
        "#files.download('df_am_DE.csv')"
      ]
    },
    {
      "attachments": {},
      "cell_type": "markdown",
      "metadata": {
        "id": "BFHNLFyvz4nW"
      },
      "source": [
        "# Dataframe Apple"
      ]
    },
    {
      "cell_type": "code",
      "execution_count": null,
      "metadata": {
        "id": "lTSudye-z4nW"
      },
      "outputs": [],
      "source": [
        "#URL de base\n",
        "base_url=\"https://www.express.co.uk/search?s=apple&order=oldest&o=\""
      ]
    },
    {
      "cell_type": "code",
      "execution_count": null,
      "metadata": {
        "id": "U7bZRCaxz4nW"
      },
      "outputs": [],
      "source": [
        "df_news_ap = articles_from_base_url_DE(base_url)"
      ]
    },
    {
      "cell_type": "code",
      "execution_count": null,
      "metadata": {
        "id": "iARUJeeGxrVa"
      },
      "outputs": [],
      "source": [
        "df_news_ap['url'] = df_news_ap['url'].str.lower()"
      ]
    },
    {
      "cell_type": "code",
      "execution_count": null,
      "metadata": {
        "id": "FmFTJLzJz4nX"
      },
      "outputs": [],
      "source": [
        "df_ap_DE = df_news_ap[df_news_ap['url'].str.contains('apple|iphone|ipad|mac|watch|macbook|ios|airpods|app-store|itunes|icloud|beats|siri|shazam|cook|jobs|gafa|gafam|big-tech|consumer-privacy|tech')]"
      ]
    },
    {
      "cell_type": "code",
      "execution_count": null,
      "metadata": {
        "id": "3UVnILXRz4nX"
      },
      "outputs": [],
      "source": [
        "yy=df_ap_DE[df_ap_DE['fulltext'].str.contains('apples|pie|pies|recipe|tart|crumble|bake|vinegar')]\n",
        "df_ap_DE.drop(yy.index,inplace=True)"
      ]
    },
    {
      "cell_type": "code",
      "execution_count": null,
      "metadata": {
        "id": "JnDoRPhYDWqW"
      },
      "outputs": [],
      "source": [
        "df_ap_DE.to_csv('df_ap_DE.csv')\n",
        "#files.download('df_ap_DE.csv')"
      ]
    },
    {
      "attachments": {},
      "cell_type": "markdown",
      "metadata": {
        "id": "z6JcVLLLz4nX"
      },
      "source": [
        "# DataFrame Google"
      ]
    },
    {
      "cell_type": "code",
      "execution_count": 10,
      "metadata": {
        "id": "Xlyvzf2ez4nX"
      },
      "outputs": [],
      "source": [
        "#URL de base\n",
        "base_url=\"https://www.express.co.uk/search?s=google&order=oldest&o=\""
      ]
    },
    {
      "cell_type": "code",
      "execution_count": null,
      "metadata": {
        "id": "73-X_cyLz4nX"
      },
      "outputs": [],
      "source": [
        "df_news_go = articles_from_base_url_DE(base_url)"
      ]
    },
    {
      "cell_type": "code",
      "execution_count": 12,
      "metadata": {
        "id": "ANUoa9hhxzR2"
      },
      "outputs": [],
      "source": [
        "df_news_go['url'] = df_news_go['url'].str.lower()"
      ]
    },
    {
      "cell_type": "code",
      "execution_count": 13,
      "metadata": {
        "id": "cAy0UTKIz4nX"
      },
      "outputs": [],
      "source": [
        "df_go_DE = df_news_go[df_news_go['url'].str.contains('google|android|chrome|gmail|maps|playstore|pixel|waze|youTube|alphabet|mandiant|fitbit|looker|nest|doubleclick|page|brin|pichai|kurian|gafa|gafam|big-tech|consumer-privacy|tech')]"
      ]
    },
    {
      "cell_type": "code",
      "execution_count": 14,
      "metadata": {
        "id": "m86-XD3IDby4"
      },
      "outputs": [],
      "source": [
        "df_go_DE.to_csv('df_go_DE.csv')\n",
        "#files.download('df_go_DE.csv')"
      ]
    },
    {
      "attachments": {},
      "cell_type": "markdown",
      "metadata": {
        "id": "DxSU5_ANz4nX"
      },
      "source": [
        "# Dataframe Microsoft"
      ]
    },
    {
      "cell_type": "code",
      "execution_count": 15,
      "metadata": {
        "id": "ios1nwEQz4nX"
      },
      "outputs": [],
      "source": [
        "#URL de base\n",
        "base_url=\"https://www.express.co.uk/search?s=microsoft&order=oldest&o=\""
      ]
    },
    {
      "cell_type": "code",
      "execution_count": null,
      "metadata": {
        "id": "y4OUu2Ulz4nY"
      },
      "outputs": [],
      "source": [
        "df_news_mi = articles_from_base_url_DE(base_url)"
      ]
    },
    {
      "cell_type": "code",
      "execution_count": 17,
      "metadata": {
        "id": "IVr4aZu2x1tj"
      },
      "outputs": [],
      "source": [
        "df_news_mi['url'] = df_news_mi['url'].str.lower()"
      ]
    },
    {
      "cell_type": "code",
      "execution_count": 18,
      "metadata": {
        "id": "TNNjOJz1z4nY"
      },
      "outputs": [],
      "source": [
        "df_mi_DE = df_news_mi[df_news_mi['url'].str.contains('microsoft|windows|cortana|excel|explorer|office|edge|teams|outlook|powerpoint|skype|surface|word|xbox|linkedIn|github|mojang|gates|nadella|gafa|gafam|big-tech|consumer-privacy|tech')]"
      ]
    },
    {
      "cell_type": "code",
      "execution_count": 21,
      "metadata": {
        "id": "WObCeTzNz4nY"
      },
      "outputs": [],
      "source": [
        "df_mi_DE.to_csv('df_mi_DE.csv')\n",
        "#files.download('df_mi_DE.csv')"
      ]
    },
    {
      "attachments": {},
      "cell_type": "markdown",
      "metadata": {
        "id": "qYpUcMHPz4nY"
      },
      "source": [
        "# Dataframe final"
      ]
    },
    {
      "cell_type": "code",
      "execution_count": 47,
      "metadata": {},
      "outputs": [],
      "source": [
        "df_fb_DE = pd.read_csv('df_fb_DE.csv', index_col=[0])\n",
        "df_am_DE = pd.read_csv('df_am_DE.csv', index_col=[0])\n",
        "df_ap_DE = pd.read_csv('df_ap_DE.csv', index_col=[0])"
      ]
    },
    {
      "cell_type": "code",
      "execution_count": 48,
      "metadata": {
        "id": "tGiG2HoNz4nY"
      },
      "outputs": [],
      "source": [
        "#from google.colab import files\n",
        "df_final = pd.concat([df_fb_DE, df_am_DE, df_ap_DE, df_go_DE, df_mi_DE]).reset_index()\n",
        "df_final.drop_duplicates(subset =\"url\", keep = 'first', inplace=True)\n",
        "df_final.to_csv('articlesDE.csv')\n",
        "#files.download('articlesDE.csv')"
      ]
    }
  ],
  "metadata": {
    "colab": {
      "collapsed_sections": [
        "9mqJDypPz4nR",
        "M9HSL9kzz4nS",
        "ViBPjRm3z4nT",
        "Cw829HtBz4nV",
        "4PBzsaqZz4nW",
        "BFHNLFyvz4nW"
      ],
      "provenance": []
    },
    "kernelspec": {
      "display_name": "base",
      "language": "python",
      "name": "python3"
    },
    "language_info": {
      "codemirror_mode": {
        "name": "ipython",
        "version": 3
      },
      "file_extension": ".py",
      "mimetype": "text/x-python",
      "name": "python",
      "nbconvert_exporter": "python",
      "pygments_lexer": "ipython3",
      "version": "3.7.0"
    }
  },
  "nbformat": 4,
  "nbformat_minor": 0
}
