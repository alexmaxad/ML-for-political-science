{
  "cells": [
    {
      "attachments": {},
      "cell_type": "markdown",
      "metadata": {
        "id": "D_yRP1bt6NNc"
      },
      "source": [
        "# Imports "
      ]
    },
    {
      "cell_type": "code",
      "execution_count": 1,
      "metadata": {
        "id": "rESmJ4eM6NNd"
      },
      "outputs": [],
      "source": [
        "import pandas as pd\n",
        "import requests\n",
        "from bs4 import BeautifulSoup\n",
        "import urllib\n",
        "#import urllib3.request,sys,time\n",
        "from urllib.error import HTTPError\n",
        "from urllib.request import urlopen\n",
        "import pandas as pd\n",
        "import time\n",
        "import warnings \n",
        "warnings.filterwarnings('ignore')"
      ]
    },
    {
      "attachments": {},
      "cell_type": "markdown",
      "metadata": {
        "id": "QCkLcKIP6NNd"
      },
      "source": [
        "# Fonctions getArticle et getNews"
      ]
    },
    {
      "cell_type": "code",
      "execution_count": 2,
      "metadata": {
        "id": "WRIO4j9q6NNd"
      },
      "outputs": [],
      "source": [
        "def getArticle(pageurl):\n",
        "    try:\n",
        "        html = urlopen(pageurl)\n",
        "    except HTTPError as e:\n",
        "        return None\n",
        "    try:\n",
        "        bsObj = BeautifulSoup(html.read())\n",
        "        item = bsObj.find(\"div\",{'class':{'sch-results'}}).findAll('h3')\n",
        "    except AttributeError as e:\n",
        "        return None\n",
        "    articles_list=[]\n",
        "    for j in item:#one item is one article\n",
        "        article=dict()\n",
        "        article['url']=\"www.dailymail.co.uk\"+j.find('a').get('href')\n",
        "        articles_list.append(article)\n",
        "    return articles_list"
      ]
    },
    {
      "cell_type": "code",
      "execution_count": 3,
      "metadata": {},
      "outputs": [],
      "source": [
        "url = 'https://www.dailymail.co.uk/home/search.html?offset=0&size=50&sel=site&searchPhrase=Facebook+&sort=recent&type=article&type=video&type=permabox&days=all'"
      ]
    },
    {
      "cell_type": "code",
      "execution_count": 4,
      "metadata": {},
      "outputs": [],
      "source": [
        "html = urlopen(url)\n",
        "bsObj = BeautifulSoup(html.read())\n",
        "item = bsObj.find(\"div\",{'class':{'sch-results'}}).findAll('h3')"
      ]
    },
    {
      "cell_type": "code",
      "execution_count": null,
      "metadata": {},
      "outputs": [],
      "source": [
        "bsObj"
      ]
    },
    {
      "cell_type": "code",
      "execution_count": null,
      "metadata": {},
      "outputs": [],
      "source": [
        "item"
      ]
    },
    {
      "cell_type": "code",
      "execution_count": 7,
      "metadata": {},
      "outputs": [
        {
          "data": {
            "text/plain": [
              "bs4.BeautifulSoup"
            ]
          },
          "execution_count": 7,
          "metadata": {},
          "output_type": "execute_result"
        }
      ],
      "source": [
        "type(bsObj)"
      ]
    },
    {
      "cell_type": "code",
      "execution_count": null,
      "metadata": {},
      "outputs": [],
      "source": [
        "getArticle(url)"
      ]
    },
    {
      "cell_type": "code",
      "execution_count": 9,
      "metadata": {
        "id": "Y44ViKs86NNd"
      },
      "outputs": [],
      "source": [
        "#crée un dictionnaire avec les infos de l'article\n",
        "def getNews(article_url):\n",
        "    try:\n",
        "        html = urlopen(article_url)\n",
        "    except HTTPError as e:\n",
        "        print(article_url)\n",
        "        return None\n",
        "    try :\n",
        "        bsObj = BeautifulSoup(html.read())\n",
        "        article=dict()\n",
        "    except :\n",
        "        return None\n",
        "    try:\n",
        "        article[\"author\"]=bsObj.find(\"a\",{'class':{'author'}}).text\n",
        "    except AttributeError as e:\n",
        "        article[\"author\"]=''\n",
        "    try:\n",
        "        article[\"headline\"]=bsObj.find(\"div\",{'id':{'js-article-text'}}).h2.text\n",
        "    except AttributeError as e:\n",
        "        article[\"headline\"]=''\n",
        "    try:\n",
        "        article[\"summary\"]=bsObj.find(\"ul\",{'class':{'mol-bullets-with-font'}}).text\n",
        "    except AttributeError as e:\n",
        "        article[\"summary\"]=''\n",
        "    try:\n",
        "        article[\"date\"]=bsObj.find(\"span\",{'class':{'article-timestamp article-timestamp-updated'}}).time[\"datetime\"][:10]\n",
        "    except AttributeError as e:\n",
        "        article[\"date\"]= ''\n",
        "    try:\n",
        "        paras=bsObj.find_all(\"div\",{'itemprop':{'articleBody'}})\n",
        "        fulltext=\"\"\n",
        "        for para in paras:\n",
        "            paras_text=\" \".join(i.text for i in para.find_all(\"p\", {'class':'mol-para-with-font'}))\n",
        "            fulltext=fulltext+paras_text\n",
        "        article[\"fulltext\"]=fulltext\n",
        "    except AttributeError as e:\n",
        "        article[\"fulltext\"]=''\n",
        "    article[\"url\"]=article_url\n",
        "    time.sleep(1)\n",
        "    return article"
      ]
    },
    {
      "cell_type": "code",
      "execution_count": null,
      "metadata": {},
      "outputs": [],
      "source": [
        "articles_list = []"
      ]
    },
    {
      "cell_type": "code",
      "execution_count": 35,
      "metadata": {
        "id": "mXcYr44f6NNe"
      },
      "outputs": [],
      "source": [
        "#transforme la liste d'url en dataframe avec les articles\n",
        "def get_articles_from_links(articles_links):\n",
        "    articles = []\n",
        "    for ind in articles_links.index : \n",
        "        if ind%1000==0:\n",
        "            print(ind)\n",
        "        try :\n",
        "            article_url='https://'+articles_links.iloc[ind,0]\n",
        "            news=getNews(article_url)\n",
        "            articles_list.append(news)\n",
        "            if news is not None:\n",
        "                articles.append(news)\n",
        "        except :\n",
        "            return None\n",
        "        time.sleep(1)\n",
        "    return articles"
      ]
    },
    {
      "cell_type": "code",
      "execution_count": 36,
      "metadata": {
        "id": "htHTmv6i6NNe"
      },
      "outputs": [],
      "source": [
        "def articles_from_base_url_DM(base_url1, base_url2):\n",
        "    url = []\n",
        "    for i in range (0, 14400, 50): #les pages comprennent 50 articles, donc on parcourt par 50. Le rangemax dépend du sujet. 14400 pour Facebook. \n",
        "        url.append(base_url1+str(i)+base_url2)\n",
        "    articles_links = pd.DataFrame()\n",
        "    #création de la database avec tous les liens d'articles\n",
        "    for i in range(len(url)):\n",
        "        inter = pd.DataFrame(getArticle(url[i]))\n",
        "        articles_links = pd.concat([articles_links, inter], ignore_index=True, axis=0)\n",
        "    news = get_articles_from_links(articles_links)\n",
        "    df_news = pd.DataFrame(news)\n",
        "    return df_news    "
      ]
    },
    {
      "attachments": {},
      "cell_type": "markdown",
      "metadata": {
        "id": "uH0dEul56NNe"
      },
      "source": [
        "# Tries with Facebook"
      ]
    },
    {
      "cell_type": "code",
      "execution_count": 12,
      "metadata": {
        "id": "waKlebX-6NNe"
      },
      "outputs": [],
      "source": [
        "#URL de base \n",
        "base_url1 = 'https://www.dailymail.co.uk/home/search.html?offset='\n",
        "base_url2 = '&size=50&sel=site&searchPhrase=Facebook+&sort=recent&type=article&topic=Facebook&topic=Facebook+%28Old%29&days=all'"
      ]
    },
    {
      "cell_type": "code",
      "execution_count": 13,
      "metadata": {
        "id": "RV_7vyrT6NNe"
      },
      "outputs": [],
      "source": [
        "#parcours de tous les articles dispos \n",
        "fb_url = []\n",
        "for i in range (0, 100, 50): #les pages comprennent 50 articles, donc on parcourt par 50. Le rangemax dépend du sujet. \n",
        "    fb_url.append(base_url1+str(i)+base_url2)"
      ]
    },
    {
      "cell_type": "code",
      "execution_count": 14,
      "metadata": {
        "id": "N5t3ooSv6NNe"
      },
      "outputs": [],
      "source": [
        "articles_links = pd.DataFrame()"
      ]
    },
    {
      "cell_type": "code",
      "execution_count": 15,
      "metadata": {
        "id": "cMz1S4vC6NNe"
      },
      "outputs": [],
      "source": [
        "#création de la database avec tous les liens d'articles\n",
        "for i in range(len(fb_url)):\n",
        "    inter = pd.DataFrame(getArticle(fb_url[i]))\n",
        "    articles_links = pd.concat([articles_links, inter], ignore_index=True, axis=0)"
      ]
    },
    {
      "cell_type": "code",
      "execution_count": 16,
      "metadata": {
        "colab": {
          "base_uri": "https://localhost:8080/",
          "height": 424
        },
        "id": "-0X1fJaw6NNe",
        "outputId": "c666e996-14e4-4ce8-b534-d6bbfe597127"
      },
      "outputs": [
        {
          "data": {
            "text/html": [
              "<div>\n",
              "<style scoped>\n",
              "    .dataframe tbody tr th:only-of-type {\n",
              "        vertical-align: middle;\n",
              "    }\n",
              "\n",
              "    .dataframe tbody tr th {\n",
              "        vertical-align: top;\n",
              "    }\n",
              "\n",
              "    .dataframe thead th {\n",
              "        text-align: right;\n",
              "    }\n",
              "</style>\n",
              "<table border=\"1\" class=\"dataframe\">\n",
              "  <thead>\n",
              "    <tr style=\"text-align: right;\">\n",
              "      <th></th>\n",
              "      <th>url</th>\n",
              "    </tr>\n",
              "  </thead>\n",
              "  <tbody>\n",
              "    <tr>\n",
              "      <th>0</th>\n",
              "      <td>www.dailymail.co.uk/femail/article-12311019/Br...</td>\n",
              "    </tr>\n",
              "    <tr>\n",
              "      <th>1</th>\n",
              "      <td>www.dailymail.co.uk/femail/food/article-123092...</td>\n",
              "    </tr>\n",
              "    <tr>\n",
              "      <th>2</th>\n",
              "      <td>www.dailymail.co.uk/femail/real-life/article-1...</td>\n",
              "    </tr>\n",
              "    <tr>\n",
              "      <th>3</th>\n",
              "      <td>www.dailymail.co.uk/news/article-12308207/LAPD...</td>\n",
              "    </tr>\n",
              "    <tr>\n",
              "      <th>4</th>\n",
              "      <td>www.dailymail.co.uk/femail/article-12308191/Iv...</td>\n",
              "    </tr>\n",
              "    <tr>\n",
              "      <th>5</th>\n",
              "      <td>www.dailymail.co.uk/news/article-12306401/Moth...</td>\n",
              "    </tr>\n",
              "    <tr>\n",
              "      <th>6</th>\n",
              "      <td>www.dailymail.co.uk/news/article-12305749/Geel...</td>\n",
              "    </tr>\n",
              "    <tr>\n",
              "      <th>7</th>\n",
              "      <td>www.dailymail.co.uk/femail/real-life/article-1...</td>\n",
              "    </tr>\n",
              "    <tr>\n",
              "      <th>8</th>\n",
              "      <td>www.dailymail.co.uk/femail/cleaning/article-12...</td>\n",
              "    </tr>\n",
              "    <tr>\n",
              "      <th>9</th>\n",
              "      <td>www.dailymail.co.uk/news/article-12305265/Bris...</td>\n",
              "    </tr>\n",
              "    <tr>\n",
              "      <th>10</th>\n",
              "      <td>www.dailymail.co.uk/news/article-12304801/Data...</td>\n",
              "    </tr>\n",
              "    <tr>\n",
              "      <th>11</th>\n",
              "      <td>www.dailymail.co.uk/news/article-12287259/How-...</td>\n",
              "    </tr>\n",
              "    <tr>\n",
              "      <th>12</th>\n",
              "      <td>www.dailymail.co.uk/news/article-12303039/Holi...</td>\n",
              "    </tr>\n",
              "    <tr>\n",
              "      <th>13</th>\n",
              "      <td>www.dailymail.co.uk/sciencetech/article-122839...</td>\n",
              "    </tr>\n",
              "    <tr>\n",
              "      <th>14</th>\n",
              "      <td>www.dailymail.co.uk/news/article-12300649/Ocea...</td>\n",
              "    </tr>\n",
              "    <tr>\n",
              "      <th>15</th>\n",
              "      <td>www.dailymail.co.uk/news/article-12299315/Rent...</td>\n",
              "    </tr>\n",
              "    <tr>\n",
              "      <th>16</th>\n",
              "      <td>www.dailymail.co.uk/femail/article-12298893/Do...</td>\n",
              "    </tr>\n",
              "    <tr>\n",
              "      <th>17</th>\n",
              "      <td>www.dailymail.co.uk/sciencetech/article-122958...</td>\n",
              "    </tr>\n",
              "    <tr>\n",
              "      <th>18</th>\n",
              "      <td>www.dailymail.co.uk/tvshowbiz/article-12298227...</td>\n",
              "    </tr>\n",
              "    <tr>\n",
              "      <th>19</th>\n",
              "      <td>www.dailymail.co.uk/news/article-12298383/Quee...</td>\n",
              "    </tr>\n",
              "    <tr>\n",
              "      <th>20</th>\n",
              "      <td>www.dailymail.co.uk/femail/article-12297605/Ic...</td>\n",
              "    </tr>\n",
              "    <tr>\n",
              "      <th>21</th>\n",
              "      <td>www.dailymail.co.uk/news/article-12297247/Myst...</td>\n",
              "    </tr>\n",
              "    <tr>\n",
              "      <th>22</th>\n",
              "      <td>www.dailymail.co.uk/news/article-12294063/Quad...</td>\n",
              "    </tr>\n",
              "    <tr>\n",
              "      <th>23</th>\n",
              "      <td>www.dailymail.co.uk/news/article-12296977/Popu...</td>\n",
              "    </tr>\n",
              "    <tr>\n",
              "      <th>24</th>\n",
              "      <td>www.dailymail.co.uk/news/article-12295443/Two-...</td>\n",
              "    </tr>\n",
              "    <tr>\n",
              "      <th>25</th>\n",
              "      <td>www.dailymail.co.uk/tvshowbiz/article-12294885...</td>\n",
              "    </tr>\n",
              "    <tr>\n",
              "      <th>26</th>\n",
              "      <td>www.dailymail.co.uk/news/article-12293361/Quee...</td>\n",
              "    </tr>\n",
              "    <tr>\n",
              "      <th>27</th>\n",
              "      <td>www.dailymail.co.uk/news/article-12292567/Tens...</td>\n",
              "    </tr>\n",
              "    <tr>\n",
              "      <th>28</th>\n",
              "      <td>www.dailymail.co.uk/news/article-12292455/The-...</td>\n",
              "    </tr>\n",
              "    <tr>\n",
              "      <th>29</th>\n",
              "      <td>www.dailymail.co.uk/sport/wwe/article-12291565...</td>\n",
              "    </tr>\n",
              "    <tr>\n",
              "      <th>...</th>\n",
              "      <td>...</td>\n",
              "    </tr>\n",
              "    <tr>\n",
              "      <th>70</th>\n",
              "      <td>www.dailymail.co.uk/news/article-12268949/Tech...</td>\n",
              "    </tr>\n",
              "    <tr>\n",
              "      <th>71</th>\n",
              "      <td>www.dailymail.co.uk/news/article-12268451/Owne...</td>\n",
              "    </tr>\n",
              "    <tr>\n",
              "      <th>72</th>\n",
              "      <td>www.dailymail.co.uk/sciencetech/article-122668...</td>\n",
              "    </tr>\n",
              "    <tr>\n",
              "      <th>73</th>\n",
              "      <td>www.dailymail.co.uk/tvshowbiz/article-12267813...</td>\n",
              "    </tr>\n",
              "    <tr>\n",
              "      <th>74</th>\n",
              "      <td>www.dailymail.co.uk/news/article-12267539/Sing...</td>\n",
              "    </tr>\n",
              "    <tr>\n",
              "      <th>75</th>\n",
              "      <td>www.dailymail.co.uk/sport/ufc/article-12266483...</td>\n",
              "    </tr>\n",
              "    <tr>\n",
              "      <th>76</th>\n",
              "      <td>www.dailymail.co.uk/news/article-12264737/Gold...</td>\n",
              "    </tr>\n",
              "    <tr>\n",
              "      <th>77</th>\n",
              "      <td>www.dailymail.co.uk/news/article-12265103/Truc...</td>\n",
              "    </tr>\n",
              "    <tr>\n",
              "      <th>78</th>\n",
              "      <td>www.dailymail.co.uk/news/article-12261481/Aust...</td>\n",
              "    </tr>\n",
              "    <tr>\n",
              "      <th>79</th>\n",
              "      <td>www.dailymail.co.uk/news/article-12264317/Watc...</td>\n",
              "    </tr>\n",
              "    <tr>\n",
              "      <th>80</th>\n",
              "      <td>www.dailymail.co.uk/news/article-12264195/PICT...</td>\n",
              "    </tr>\n",
              "    <tr>\n",
              "      <th>81</th>\n",
              "      <td>www.dailymail.co.uk/news/article-12263925/Fede...</td>\n",
              "    </tr>\n",
              "    <tr>\n",
              "      <th>82</th>\n",
              "      <td>www.dailymail.co.uk/news/article-12263639/Popu...</td>\n",
              "    </tr>\n",
              "    <tr>\n",
              "      <th>83</th>\n",
              "      <td>www.dailymail.co.uk/sciencetech/article-122627...</td>\n",
              "    </tr>\n",
              "    <tr>\n",
              "      <th>84</th>\n",
              "      <td>www.dailymail.co.uk/news/article-12262143/Koal...</td>\n",
              "    </tr>\n",
              "    <tr>\n",
              "      <th>85</th>\n",
              "      <td>www.dailymail.co.uk/sport/ufc/article-12262425...</td>\n",
              "    </tr>\n",
              "    <tr>\n",
              "      <th>86</th>\n",
              "      <td>www.dailymail.co.uk/news/article-12261587/Face...</td>\n",
              "    </tr>\n",
              "    <tr>\n",
              "      <th>87</th>\n",
              "      <td>www.dailymail.co.uk/news/article-12261225/City...</td>\n",
              "    </tr>\n",
              "    <tr>\n",
              "      <th>88</th>\n",
              "      <td>www.dailymail.co.uk/sport/othersports/article-...</td>\n",
              "    </tr>\n",
              "    <tr>\n",
              "      <th>89</th>\n",
              "      <td>www.dailymail.co.uk/sport/mma/article-12260763...</td>\n",
              "    </tr>\n",
              "    <tr>\n",
              "      <th>90</th>\n",
              "      <td>www.dailymail.co.uk/news/article-12260925/Sold...</td>\n",
              "    </tr>\n",
              "    <tr>\n",
              "      <th>91</th>\n",
              "      <td>www.dailymail.co.uk/news/article-12259787/Texa...</td>\n",
              "    </tr>\n",
              "    <tr>\n",
              "      <th>92</th>\n",
              "      <td>www.dailymail.co.uk/health/article-12259827/He...</td>\n",
              "    </tr>\n",
              "    <tr>\n",
              "      <th>93</th>\n",
              "      <td>www.dailymail.co.uk/femail/article-12259353/Sh...</td>\n",
              "    </tr>\n",
              "    <tr>\n",
              "      <th>94</th>\n",
              "      <td>www.dailymail.co.uk/galleries/article-12258599...</td>\n",
              "    </tr>\n",
              "    <tr>\n",
              "      <th>95</th>\n",
              "      <td>www.dailymail.co.uk/tvshowbiz/article-12257439...</td>\n",
              "    </tr>\n",
              "    <tr>\n",
              "      <th>96</th>\n",
              "      <td>www.dailymail.co.uk/femail/real-life/article-1...</td>\n",
              "    </tr>\n",
              "    <tr>\n",
              "      <th>97</th>\n",
              "      <td>www.dailymail.co.uk/femail/article-12256995/Be...</td>\n",
              "    </tr>\n",
              "    <tr>\n",
              "      <th>98</th>\n",
              "      <td>www.dailymail.co.uk/sport/nfl/article-12257097...</td>\n",
              "    </tr>\n",
              "    <tr>\n",
              "      <th>99</th>\n",
              "      <td>www.dailymail.co.uk/galleries/article-12242747...</td>\n",
              "    </tr>\n",
              "  </tbody>\n",
              "</table>\n",
              "<p>100 rows × 1 columns</p>\n",
              "</div>"
            ],
            "text/plain": [
              "                                                  url\n",
              "0   www.dailymail.co.uk/femail/article-12311019/Br...\n",
              "1   www.dailymail.co.uk/femail/food/article-123092...\n",
              "2   www.dailymail.co.uk/femail/real-life/article-1...\n",
              "3   www.dailymail.co.uk/news/article-12308207/LAPD...\n",
              "4   www.dailymail.co.uk/femail/article-12308191/Iv...\n",
              "5   www.dailymail.co.uk/news/article-12306401/Moth...\n",
              "6   www.dailymail.co.uk/news/article-12305749/Geel...\n",
              "7   www.dailymail.co.uk/femail/real-life/article-1...\n",
              "8   www.dailymail.co.uk/femail/cleaning/article-12...\n",
              "9   www.dailymail.co.uk/news/article-12305265/Bris...\n",
              "10  www.dailymail.co.uk/news/article-12304801/Data...\n",
              "11  www.dailymail.co.uk/news/article-12287259/How-...\n",
              "12  www.dailymail.co.uk/news/article-12303039/Holi...\n",
              "13  www.dailymail.co.uk/sciencetech/article-122839...\n",
              "14  www.dailymail.co.uk/news/article-12300649/Ocea...\n",
              "15  www.dailymail.co.uk/news/article-12299315/Rent...\n",
              "16  www.dailymail.co.uk/femail/article-12298893/Do...\n",
              "17  www.dailymail.co.uk/sciencetech/article-122958...\n",
              "18  www.dailymail.co.uk/tvshowbiz/article-12298227...\n",
              "19  www.dailymail.co.uk/news/article-12298383/Quee...\n",
              "20  www.dailymail.co.uk/femail/article-12297605/Ic...\n",
              "21  www.dailymail.co.uk/news/article-12297247/Myst...\n",
              "22  www.dailymail.co.uk/news/article-12294063/Quad...\n",
              "23  www.dailymail.co.uk/news/article-12296977/Popu...\n",
              "24  www.dailymail.co.uk/news/article-12295443/Two-...\n",
              "25  www.dailymail.co.uk/tvshowbiz/article-12294885...\n",
              "26  www.dailymail.co.uk/news/article-12293361/Quee...\n",
              "27  www.dailymail.co.uk/news/article-12292567/Tens...\n",
              "28  www.dailymail.co.uk/news/article-12292455/The-...\n",
              "29  www.dailymail.co.uk/sport/wwe/article-12291565...\n",
              "..                                                ...\n",
              "70  www.dailymail.co.uk/news/article-12268949/Tech...\n",
              "71  www.dailymail.co.uk/news/article-12268451/Owne...\n",
              "72  www.dailymail.co.uk/sciencetech/article-122668...\n",
              "73  www.dailymail.co.uk/tvshowbiz/article-12267813...\n",
              "74  www.dailymail.co.uk/news/article-12267539/Sing...\n",
              "75  www.dailymail.co.uk/sport/ufc/article-12266483...\n",
              "76  www.dailymail.co.uk/news/article-12264737/Gold...\n",
              "77  www.dailymail.co.uk/news/article-12265103/Truc...\n",
              "78  www.dailymail.co.uk/news/article-12261481/Aust...\n",
              "79  www.dailymail.co.uk/news/article-12264317/Watc...\n",
              "80  www.dailymail.co.uk/news/article-12264195/PICT...\n",
              "81  www.dailymail.co.uk/news/article-12263925/Fede...\n",
              "82  www.dailymail.co.uk/news/article-12263639/Popu...\n",
              "83  www.dailymail.co.uk/sciencetech/article-122627...\n",
              "84  www.dailymail.co.uk/news/article-12262143/Koal...\n",
              "85  www.dailymail.co.uk/sport/ufc/article-12262425...\n",
              "86  www.dailymail.co.uk/news/article-12261587/Face...\n",
              "87  www.dailymail.co.uk/news/article-12261225/City...\n",
              "88  www.dailymail.co.uk/sport/othersports/article-...\n",
              "89  www.dailymail.co.uk/sport/mma/article-12260763...\n",
              "90  www.dailymail.co.uk/news/article-12260925/Sold...\n",
              "91  www.dailymail.co.uk/news/article-12259787/Texa...\n",
              "92  www.dailymail.co.uk/health/article-12259827/He...\n",
              "93  www.dailymail.co.uk/femail/article-12259353/Sh...\n",
              "94  www.dailymail.co.uk/galleries/article-12258599...\n",
              "95  www.dailymail.co.uk/tvshowbiz/article-12257439...\n",
              "96  www.dailymail.co.uk/femail/real-life/article-1...\n",
              "97  www.dailymail.co.uk/femail/article-12256995/Be...\n",
              "98  www.dailymail.co.uk/sport/nfl/article-12257097...\n",
              "99  www.dailymail.co.uk/galleries/article-12242747...\n",
              "\n",
              "[100 rows x 1 columns]"
            ]
          },
          "execution_count": 16,
          "metadata": {},
          "output_type": "execute_result"
        }
      ],
      "source": [
        "articles_links"
      ]
    },
    {
      "cell_type": "code",
      "execution_count": 17,
      "metadata": {
        "colab": {
          "base_uri": "https://localhost:8080/"
        },
        "id": "v75dtNsM6NNf",
        "outputId": "09845e65-e9d7-4082-b4fc-1f499690c38a"
      },
      "outputs": [
        {
          "name": "stdout",
          "output_type": "stream",
          "text": [
            "0\n"
          ]
        }
      ],
      "source": [
        "news = get_articles_from_links(articles_links)"
      ]
    },
    {
      "cell_type": "code",
      "execution_count": 18,
      "metadata": {
        "id": "yVThUSqD6NNf"
      },
      "outputs": [],
      "source": [
        "df_news = pd.DataFrame(news)"
      ]
    },
    {
      "attachments": {},
      "cell_type": "markdown",
      "metadata": {
        "id": "Zd222Gk46NNf"
      },
      "source": [
        "Même problème qu'avec le DE, trop d'articles. On ne garde que ceux dont l'url concerne directement facebook. "
      ]
    },
    {
      "cell_type": "code",
      "execution_count": 18,
      "metadata": {
        "id": "K9ilD5vx6NNf"
      },
      "outputs": [],
      "source": [
        "df_fb_DM = df_news[df_news['url'].str.contains('Facebook|Meta|facebook')]"
      ]
    },
    {
      "attachments": {},
      "cell_type": "markdown",
      "metadata": {
        "id": "XxV8faKg6NNf"
      },
      "source": [
        "Comme pour le DE, on définit une fonction qui systématise la traitement."
      ]
    },
    {
      "attachments": {},
      "cell_type": "markdown",
      "metadata": {
        "id": "XVLndR0M6NNf"
      },
      "source": [
        "# Dataframe Facebook"
      ]
    },
    {
      "cell_type": "code",
      "execution_count": 20,
      "metadata": {},
      "outputs": [],
      "source": [
        "articles_list = []"
      ]
    },
    {
      "cell_type": "code",
      "execution_count": 21,
      "metadata": {
        "id": "TVFZSX_e6NNf"
      },
      "outputs": [],
      "source": [
        "#URL de base \n",
        "base_url1 = 'https://www.dailymail.co.uk/home/search.html?offset='\n",
        "base_url2 = '&size=50&sel=site&searchPhrase=Facebook+&sort=recent&type=article&topic=Facebook&topic=Facebook+%28Old%29&days=all'"
      ]
    },
    {
      "cell_type": "code",
      "execution_count": 22,
      "metadata": {
        "colab": {
          "base_uri": "https://localhost:8080/",
          "height": 353
        },
        "id": "22W1EED36NNf",
        "outputId": "c311db6c-743c-4c8f-cf24-093c55dc4ca9"
      },
      "outputs": [
        {
          "name": "stdout",
          "output_type": "stream",
          "text": [
            "0\n",
            "1000\n",
            "2000\n",
            "3000\n",
            "4000\n",
            "5000\n",
            "6000\n",
            "7000\n",
            "8000\n",
            "9000\n",
            "10000\n",
            "11000\n",
            "12000\n",
            "13000\n",
            "14000\n"
          ]
        }
      ],
      "source": [
        "df_news_fb = articles_from_base_url_DM(base_url1, base_url2)"
      ]
    },
    {
      "cell_type": "code",
      "execution_count": 28,
      "metadata": {},
      "outputs": [],
      "source": [
        "df_news_fb['url'] = df_news_fb['url'].str.lower()"
      ]
    },
    {
      "cell_type": "code",
      "execution_count": 29,
      "metadata": {},
      "outputs": [
        {
          "data": {
            "text/plain": [
              "'https://www.dailymail.co.uk/sport/mma/article-12238811/elon-musk-accepts-incredible-offer-ufc-legend-georges-st-pierre-mark-zuckerberg-fight.html'"
            ]
          },
          "execution_count": 29,
          "metadata": {},
          "output_type": "execute_result"
        }
      ],
      "source": [
        "df_news_fb['url'][123]"
      ]
    },
    {
      "cell_type": "code",
      "execution_count": 23,
      "metadata": {},
      "outputs": [
        {
          "data": {
            "text/plain": [
              "0"
            ]
          },
          "execution_count": 23,
          "metadata": {},
          "output_type": "execute_result"
        }
      ],
      "source": [
        "len(articles_list)"
      ]
    },
    {
      "cell_type": "code",
      "execution_count": null,
      "metadata": {},
      "outputs": [],
      "source": [
        "with open(\"liste_temporaire_1_fb_DM.json\", \"w\") as fp:\n",
        "  json.dump(articles_list, fp)"
      ]
    },
    {
      "cell_type": "code",
      "execution_count": 30,
      "metadata": {
        "id": "JfwTMS0Q6NNf"
      },
      "outputs": [],
      "source": [
        "df_fb_DM = df_news_fb[df_news_fb['url'].str.contains('meta|facebook|messenger|instagram|oculus|whatsApp|zuckerberg|olivan|clegg|social-media|gafa|gafam|big-tech|consumer-privacy|tech')]"
      ]
    },
    {
      "cell_type": "code",
      "execution_count": 32,
      "metadata": {},
      "outputs": [],
      "source": [
        "df_fb_DM.to_csv('df_fb_DM.csv')"
      ]
    },
    {
      "attachments": {},
      "cell_type": "markdown",
      "metadata": {
        "id": "KV8Eekuc6NNf"
      },
      "source": [
        "# Dataframe Amazon "
      ]
    },
    {
      "cell_type": "code",
      "execution_count": 37,
      "metadata": {},
      "outputs": [],
      "source": [
        "articles_list = []"
      ]
    },
    {
      "cell_type": "code",
      "execution_count": 38,
      "metadata": {
        "id": "i3XcZd-H6NNf"
      },
      "outputs": [],
      "source": [
        "#URL de base \n",
        "base_url1 = 'https://www.dailymail.co.uk/home/search.html?offset='\n",
        "base_url2 = '&size=50&sel=site&searchPhrase=Amazon&sort=recent&type=article&topic=Amazon+%28Old%29&topic=Amazon&days=all'"
      ]
    },
    {
      "cell_type": "code",
      "execution_count": 39,
      "metadata": {
        "id": "pmTP7koE6NNg"
      },
      "outputs": [
        {
          "name": "stdout",
          "output_type": "stream",
          "text": [
            "0\n",
            "1000\n",
            "https://www.dailymail.co.uk/sciencetech/article-3497401/Is-Amazon-set-buy-Google-s-humanoid-robot-division-Boston-Dynamics-sale-Atlas-used-warehouses-robot-dogs-making-deliveries.html\n",
            "https://www.dailymail.co.uk/sciencetech/article-3492903/Pay-WINK-Amazon-patents-uses-selfies-blinking-pay-online.html\n",
            "https://www.dailymail.co.uk/news/article-3487857/Amazon-shows-stories-workers-sacked-stealing-big-screens-warehouses-deter-employees-taking-packages.html\n",
            "2000\n"
          ]
        }
      ],
      "source": [
        "df_news_am = articles_from_base_url_DM(base_url1, base_url2)"
      ]
    },
    {
      "cell_type": "code",
      "execution_count": 41,
      "metadata": {},
      "outputs": [],
      "source": [
        "df_news_am['url'] = df_news_am['url'].str.lower()"
      ]
    },
    {
      "cell_type": "code",
      "execution_count": 42,
      "metadata": {
        "id": "U54lXE3t6NNg"
      },
      "outputs": [],
      "source": [
        "df_am_DM = df_news_am[df_news_am['url'].str.contains('amazon|prime|whole-foods|zappos|pillpack|twitch|audible|goodreads|imdb|bezos|jassy|olsavsky|alexander|gafa|gafam|big-tech|consumer-privacy|tech')]"
      ]
    },
    {
      "cell_type": "code",
      "execution_count": 43,
      "metadata": {
        "id": "I0odTfIW6NNg"
      },
      "outputs": [],
      "source": [
        "yy=df_am_DM[df_am_DM['fulltext'].str.contains('forest|tribe|jungle|swallows-and-amazon|amazons')]\n",
        "df_am_DM.drop(yy.index,inplace=True)"
      ]
    },
    {
      "cell_type": "code",
      "execution_count": 51,
      "metadata": {},
      "outputs": [],
      "source": [
        "df_am_DM.to_csv('df_am_DM.csv')"
      ]
    },
    {
      "attachments": {},
      "cell_type": "markdown",
      "metadata": {
        "id": "njEr1lxz6NNg"
      },
      "source": [
        "# Dataframe Apple"
      ]
    },
    {
      "cell_type": "code",
      "execution_count": 46,
      "metadata": {
        "id": "pB0JIkf16NNg"
      },
      "outputs": [],
      "source": [
        "#URL de base \n",
        "base_url1 = 'https://www.dailymail.co.uk/home/search.html?offset='\n",
        "base_url2 = '&size=50&sel=site&searchPhrase=Apple&sort=recent&type=article&topic=Apple+%28Old%29&topic=Apple&days=all'"
      ]
    },
    {
      "cell_type": "code",
      "execution_count": 47,
      "metadata": {
        "id": "Jme4nxjB6NNg"
      },
      "outputs": [
        {
          "name": "stdout",
          "output_type": "stream",
          "text": [
            "0\n",
            "1000\n",
            "2000\n",
            "3000\n",
            "4000\n",
            "5000\n"
          ]
        }
      ],
      "source": [
        "df_news_ap = articles_from_base_url_DM(base_url1, base_url2)"
      ]
    },
    {
      "cell_type": "code",
      "execution_count": 48,
      "metadata": {},
      "outputs": [],
      "source": [
        "df_news_ap['url'] = df_news_ap['url'].str.lower()"
      ]
    },
    {
      "cell_type": "code",
      "execution_count": 49,
      "metadata": {
        "id": "qc3Sq4dV6NNg"
      },
      "outputs": [],
      "source": [
        "df_ap_DM = df_news_ap[df_news_ap['url'].str.contains('apple|iphone|ipad|mac|watch|macbook|ios|airpods|app-store|itunes|icloud|beats|siri|shazam|cook|jobs|gafa|gafam|big-tech|consumer-privacy|tech')]"
      ]
    },
    {
      "cell_type": "code",
      "execution_count": 50,
      "metadata": {
        "id": "fqIlmUKf6NNg"
      },
      "outputs": [],
      "source": [
        "yy=df_ap_DM[df_ap_DM['fulltext'].str.contains('apples|pie|pies|recipe|tart|crumble|bake|vinegar')]\n",
        "df_ap_DM.drop(yy.index,inplace=True)"
      ]
    },
    {
      "cell_type": "code",
      "execution_count": 52,
      "metadata": {},
      "outputs": [],
      "source": [
        "df_ap_DM.to_csv('df_ap_DM.csv')"
      ]
    },
    {
      "attachments": {},
      "cell_type": "markdown",
      "metadata": {
        "id": "dzEvOpy56NNg"
      },
      "source": [
        "# Datafame Google "
      ]
    },
    {
      "cell_type": "code",
      "execution_count": 53,
      "metadata": {
        "id": "f61pHK686NNg"
      },
      "outputs": [],
      "source": [
        "#URL de base \n",
        "base_url1 = 'https://www.dailymail.co.uk/home/search.html?offset='\n",
        "base_url2 = '&size=50&sel=site&searchPhrase=Google&sort=recent&type=article&topic=Google+%28Old%29&topic=Google&days=all'"
      ]
    },
    {
      "cell_type": "code",
      "execution_count": 54,
      "metadata": {
        "id": "beOq57K36NNg"
      },
      "outputs": [
        {
          "name": "stdout",
          "output_type": "stream",
          "text": [
            "0\n",
            "1000\n",
            "2000\n",
            "3000\n",
            "4000\n",
            "5000\n"
          ]
        }
      ],
      "source": [
        "df_news_go = articles_from_base_url_DM(base_url1, base_url2)"
      ]
    },
    {
      "cell_type": "code",
      "execution_count": 55,
      "metadata": {},
      "outputs": [],
      "source": [
        "df_news_go['url'] = df_news_go['url'].str.lower()"
      ]
    },
    {
      "cell_type": "code",
      "execution_count": 56,
      "metadata": {
        "id": "o7tdwoVx6NNg"
      },
      "outputs": [],
      "source": [
        "df_go_DM = df_news_go[df_news_go['url'].str.contains('google|android|chrome|gmail|maps|playstore|pixel|waze|youTube|alphabet|mandiant|fitbit|looker|nest|doubleclick|page|brin|pichai|kurian|gafa|gafam|big-tech|consumer-privacy|tech')]"
      ]
    },
    {
      "cell_type": "code",
      "execution_count": 58,
      "metadata": {},
      "outputs": [],
      "source": [
        "df_go_DM.to_csv('df_go_DM.csv')"
      ]
    },
    {
      "attachments": {},
      "cell_type": "markdown",
      "metadata": {
        "id": "ybyszymr6NNg"
      },
      "source": [
        "# Dataframe Microsoft"
      ]
    },
    {
      "cell_type": "code",
      "execution_count": 59,
      "metadata": {
        "id": "p4qFWcd_6NNg"
      },
      "outputs": [],
      "source": [
        "#URL de base \n",
        "base_url1 = 'https://www.dailymail.co.uk/home/search.html?offset='\n",
        "base_url2 = '&size=50&sel=site&searchPhrase=Microsoft&sort=recent&type=article&topic=Microsoft&days=all'"
      ]
    },
    {
      "cell_type": "code",
      "execution_count": 60,
      "metadata": {
        "id": "kgb_PLeK6NNp"
      },
      "outputs": [
        {
          "name": "stdout",
          "output_type": "stream",
          "text": [
            "0\n"
          ]
        }
      ],
      "source": [
        "df_news_mi = articles_from_base_url_DM(base_url1, base_url2)"
      ]
    },
    {
      "cell_type": "code",
      "execution_count": 61,
      "metadata": {},
      "outputs": [],
      "source": [
        "df_news_mi['url'] = df_news_mi['url'].str.lower()"
      ]
    },
    {
      "cell_type": "code",
      "execution_count": 62,
      "metadata": {
        "id": "x1-NE1pV6NNp"
      },
      "outputs": [],
      "source": [
        "df_mi_DM = df_news_mi[df_news_mi['url'].str.contains('microsoft|windows|cortana|excel|explorer|office|edge|teams|outlook|powerpoint|skype|surface|word|xbox|linkedIn|github|mojang|gates|nadella|gafa|gafam|big-tech|consumer-privacy|tech')]"
      ]
    },
    {
      "cell_type": "code",
      "execution_count": 63,
      "metadata": {},
      "outputs": [],
      "source": [
        "df_mi_DM.to_csv('df_mi_DM.csv')"
      ]
    },
    {
      "attachments": {},
      "cell_type": "markdown",
      "metadata": {
        "id": "0g5uuhNpWC73"
      },
      "source": [
        "# Dataframe final "
      ]
    },
    {
      "cell_type": "code",
      "execution_count": 64,
      "metadata": {
        "id": "BkgSK8MZW3oj"
      },
      "outputs": [],
      "source": [
        "#from google.colab import files\n",
        "df_final = pd.concat([df_fb_DM, df_am_DM, df_ap_DM, df_go_DM, df_mi_DM]).reset_index()\n",
        "df_final.drop_duplicates(subset =\"url\", keep = 'first', inplace=True)\n",
        "df_final.to_csv('articlesDM.csv') \n",
        "#files.download('articlesDM.csv')"
      ]
    }
  ],
  "metadata": {
    "colab": {
      "collapsed_sections": [
        "D_yRP1bt6NNc",
        "QCkLcKIP6NNd",
        "uH0dEul56NNe",
        "XVLndR0M6NNf",
        "KV8Eekuc6NNf",
        "njEr1lxz6NNg",
        "dzEvOpy56NNg",
        "ybyszymr6NNg",
        "0g5uuhNpWC73"
      ],
      "provenance": []
    },
    "kernelspec": {
      "display_name": "base",
      "language": "python",
      "name": "python3"
    },
    "language_info": {
      "codemirror_mode": {
        "name": "ipython",
        "version": 3
      },
      "file_extension": ".py",
      "mimetype": "text/x-python",
      "name": "python",
      "nbconvert_exporter": "python",
      "pygments_lexer": "ipython3",
      "version": "3.7.0"
    }
  },
  "nbformat": 4,
  "nbformat_minor": 0
}
