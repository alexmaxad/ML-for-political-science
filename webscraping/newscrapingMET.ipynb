{
  "cells": [
    {
      "attachments": {},
      "cell_type": "markdown",
      "metadata": {
        "id": "RZwf_BrFLDLA"
      },
      "source": [
        "# Imports"
      ]
    },
    {
      "cell_type": "code",
      "execution_count": 1,
      "metadata": {
        "id": "WoXUVfr2LDLB"
      },
      "outputs": [],
      "source": [
        "import pandas as pd\n",
        "import requests\n",
        "from bs4 import BeautifulSoup\n",
        "import urllib\n",
        "#import urllib3.request,sys,time\n",
        "from urllib.error import HTTPError\n",
        "from urllib.request import urlopen\n",
        "import pandas as pd\n",
        "import time\n",
        "import warnings\n",
        "warnings.filterwarnings('ignore')"
      ]
    },
    {
      "attachments": {},
      "cell_type": "markdown",
      "metadata": {
        "id": "MDOOW63yLDLC"
      },
      "source": [
        "# Fonctions getArticle et getNews"
      ]
    },
    {
      "cell_type": "code",
      "execution_count": 2,
      "metadata": {
        "id": "ztNu7AYVLDLC"
      },
      "outputs": [],
      "source": [
        "def getArticle(pageurl):\n",
        "    try:\n",
        "        html = urlopen(pageurl)\n",
        "    except HTTPError as e:\n",
        "        return None\n",
        "    '''try:\n",
        "        bsObj = BeautifulSoup(html.read())\n",
        "        item1 = bsObj.find(\"ul\",{'class':{'metro-mosaic'}}).findAll('h3')\n",
        "    except AttributeError as e:\n",
        "        return None'''\n",
        "    try:\n",
        "        bsObj = BeautifulSoup(html.read())\n",
        "        item2 = bsObj.find(\"div\",{'class':{'metro-breaker widget'}}).findAll('h3')\n",
        "    except AttributeError as e:\n",
        "        return None\n",
        "    articles_list=[]\n",
        "    '''for j in item1:#one item is one article\n",
        "        article=dict()\n",
        "        article['url']=j.find('a').get('href')\n",
        "        articles_list.append(article)'''\n",
        "    for j in item2:#one item is one article\n",
        "        article=dict()\n",
        "        article['url']=j.find('a').get('href')\n",
        "        articles_list.append(article)\n",
        "    return articles_list"
      ]
    },
    {
      "cell_type": "code",
      "execution_count": 3,
      "metadata": {
        "id": "wsAaGl8aLDLC"
      },
      "outputs": [],
      "source": [
        "#crée un dictionnaire avec les infos de l'article\n",
        "def getNews(article_url):\n",
        "    try:\n",
        "        html = urlopen(article_url)\n",
        "    except HTTPError as e:\n",
        "        print(article_url)\n",
        "        return None\n",
        "    bsObj = BeautifulSoup(html.read())\n",
        "    article=dict()\n",
        "    try:\n",
        "        article[\"author\"]=bsObj.find(\"span\",{'class':{'author-container'}}).text\n",
        "    except AttributeError as e:\n",
        "        article[\"author\"]=''\n",
        "    try:\n",
        "        article[\"headline\"]=bsObj.find(\"header\",{'class':{'single-article-header'}}).h1.text\n",
        "    except AttributeError as e:\n",
        "        article[\"headline\"]=''\n",
        "    try:\n",
        "        article[\"date\"]=bsObj.find(\"span\",{'class':{'post-date'}}).text[:17]\n",
        "    except AttributeError as e:\n",
        "        article[\"date\"]= ''\n",
        "    try:\n",
        "        paras=bsObj.find_all(\"div\",{'class':{'article-body'}})\n",
        "        fulltext=\"\"\n",
        "        for para in paras:\n",
        "            paras_text=\" \".join(i.text for i in para.find_all(\"p\"))\n",
        "            fulltext=fulltext+paras_text\n",
        "        article[\"fulltext\"]=fulltext\n",
        "    except AttributeError as e:\n",
        "        article[\"fulltext\"]=''\n",
        "    article[\"url\"]=article_url\n",
        "    return article"
      ]
    },
    {
      "cell_type": "code",
      "execution_count": 4,
      "metadata": {
        "id": "Xm_hoLWtLDLC"
      },
      "outputs": [],
      "source": [
        "#transforme la liste d'url en dataframe avec les articles\n",
        "def get_articles_from_links(articles_links):\n",
        "    articles = []\n",
        "    for ind in articles_links.index :\n",
        "        if ind%1000==0:\n",
        "            print(ind)\n",
        "        article_url = articles_links.iloc[ind,0]\n",
        "        news=getNews(article_url)\n",
        "        if news is not None:\n",
        "            articles.append(news)\n",
        "        #time.sleep(1)\n",
        "    return articles"
      ]
    },
    {
      "cell_type": "code",
      "execution_count": 39,
      "metadata": {
        "id": "elSPFOcXLDLC"
      },
      "outputs": [],
      "source": [
        "def articles_from_base_url_MET(base_url):\n",
        "    url = []\n",
        "    for i in range (1, 92): #On va de 1 en 1 pour Metro. Le rangemax dépend du sujet.\n",
        "        url.append(base_url+'/'+str(i)+'/')\n",
        "    articles_links = pd.DataFrame()\n",
        "    #création de la database avec tous les liens d'articles\n",
        "    for i in range(len(url)):\n",
        "        inter = pd.DataFrame(getArticle(url[i]))\n",
        "        articles_links = pd.concat([articles_links, inter], ignore_index=True, axis=0)\n",
        "    news = get_articles_from_links(articles_links)\n",
        "    df_news = pd.DataFrame(news)\n",
        "    return df_news"
      ]
    },
    {
      "attachments": {},
      "cell_type": "markdown",
      "metadata": {
        "id": "Q0E61z24LDLC"
      },
      "source": [
        "# Dataframe Facebook"
      ]
    },
    {
      "attachments": {},
      "cell_type": "markdown",
      "metadata": {
        "id": "Cnp5aWQHQ6Uc"
      },
      "source": [
        "rangemax : 92"
      ]
    },
    {
      "cell_type": "code",
      "execution_count": 40,
      "metadata": {
        "id": "QiTSiWHaLDLC"
      },
      "outputs": [],
      "source": [
        "#URL de base\n",
        "base_url = 'https://metro.co.uk/tag/facebook/page'"
      ]
    },
    {
      "cell_type": "code",
      "execution_count": 41,
      "metadata": {
        "colab": {
          "base_uri": "https://localhost:8080/"
        },
        "id": "NZopyWBLLDLC",
        "outputId": "05aed3a0-310f-4e2a-954c-d598917818da"
      },
      "outputs": [
        {
          "name": "stdout",
          "output_type": "stream",
          "text": [
            "0\n",
            "1000\n",
            "2000\n"
          ]
        }
      ],
      "source": [
        "df_news_fb = articles_from_base_url_MET(base_url)"
      ]
    },
    {
      "cell_type": "code",
      "execution_count": 42,
      "metadata": {
        "colab": {
          "base_uri": "https://localhost:8080/",
          "height": 0
        },
        "id": "CowRv6QEM9zc",
        "outputId": "277cb561-0b84-4c53-91b9-293520d4ab2e"
      },
      "outputs": [
        {
          "data": {
            "text/html": [
              "\n",
              "  <div id=\"df-54546b06-ef84-481a-8a0c-60e7eb476ad0\">\n",
              "    <div class=\"colab-df-container\">\n",
              "      <div>\n",
              "<style scoped>\n",
              "    .dataframe tbody tr th:only-of-type {\n",
              "        vertical-align: middle;\n",
              "    }\n",
              "\n",
              "    .dataframe tbody tr th {\n",
              "        vertical-align: top;\n",
              "    }\n",
              "\n",
              "    .dataframe thead th {\n",
              "        text-align: right;\n",
              "    }\n",
              "</style>\n",
              "<table border=\"1\" class=\"dataframe\">\n",
              "  <thead>\n",
              "    <tr style=\"text-align: right;\">\n",
              "      <th></th>\n",
              "      <th>author</th>\n",
              "      <th>headline</th>\n",
              "      <th>date</th>\n",
              "      <th>fulltext</th>\n",
              "      <th>url</th>\n",
              "    </tr>\n",
              "  </thead>\n",
              "  <tbody>\n",
              "    <tr>\n",
              "      <th>0</th>\n",
              "      <td>Vicky Shaw</td>\n",
              "      <td>Bank warns of scams targeting Facebook, WhatsA...</td>\n",
              "      <td>Friday 5 May 2023</td>\n",
              "      <td>TSB has issued a warning on the scale of socia...</td>\n",
              "      <td>https://metro.co.uk/2023/05/05/bank-warns-of-s...</td>\n",
              "    </tr>\n",
              "    <tr>\n",
              "      <th>1</th>\n",
              "      <td>Josh Layton</td>\n",
              "      <td>Magnet fishers reel in ‘record find of more th...</td>\n",
              "      <td>Sunday 30 Apr 202</td>\n",
              "      <td>A team of magnet fishers has laid claim to the...</td>\n",
              "      <td>https://metro.co.uk/2023/04/30/magnet-fishers-...</td>\n",
              "    </tr>\n",
              "    <tr>\n",
              "      <th>2</th>\n",
              "      <td>Jessica Kwong</td>\n",
              "      <td>Donald Trump posts on Instagram for first time...</td>\n",
              "      <td>Wednesday 19 Apr</td>\n",
              "      <td>Former President Donald Trump posted on Instag...</td>\n",
              "      <td>https://metro.co.uk/2023/04/19/donald-trump-po...</td>\n",
              "    </tr>\n",
              "    <tr>\n",
              "      <th>3</th>\n",
              "      <td>Pierra Willix</td>\n",
              "      <td>Celine Dion impersonator spent £45,000 for one...</td>\n",
              "      <td>Friday 7 Apr 2023</td>\n",
              "      <td>Sorry, this video isn't available any more. A ...</td>\n",
              "      <td>https://metro.co.uk/2023/04/07/celine-dion-imp...</td>\n",
              "    </tr>\n",
              "    <tr>\n",
              "      <th>4</th>\n",
              "      <td>Metro Tech Reporter</td>\n",
              "      <td>Meta’s new AI model can identify items in imag...</td>\n",
              "      <td>Thursday 6 Apr 20</td>\n",
              "      <td>Facebook-owner Meta has published an artificia...</td>\n",
              "      <td>https://metro.co.uk/2023/04/06/metas-new-ai-mo...</td>\n",
              "    </tr>\n",
              "    <tr>\n",
              "      <th>...</th>\n",
              "      <td>...</td>\n",
              "      <td>...</td>\n",
              "      <td>...</td>\n",
              "      <td>...</td>\n",
              "      <td>...</td>\n",
              "    </tr>\n",
              "    <tr>\n",
              "      <th>2263</th>\n",
              "      <td>Metrowebukmetro</td>\n",
              "      <td>Facebook fury over adultery billboards</td>\n",
              "      <td>Tuesday 26 Jan 20</td>\n",
              "      <td>Disgusted Facebook users have launched a campa...</td>\n",
              "      <td>https://metro.co.uk/2010/01/26/adultery-billbo...</td>\n",
              "    </tr>\n",
              "    <tr>\n",
              "      <th>2264</th>\n",
              "      <td>Ted Thornhill</td>\n",
              "      <td>Ben Kinsella’s Facebook taunts from killer Jad...</td>\n",
              "      <td>Monday 25 Jan 201</td>\n",
              "      <td>Murdered\\nBen Kinsellaâs killer,\\nJade Brait...</td>\n",
              "      <td>https://metro.co.uk/2010/01/25/ben-kinsellas-f...</td>\n",
              "    </tr>\n",
              "    <tr>\n",
              "      <th>2265</th>\n",
              "      <td>Jo Steele</td>\n",
              "      <td>‘Web suicide site’ gets around Facebook ban</td>\n",
              "      <td>Sunday 24 Jan 201</td>\n",
              "      <td>A website locked in a legal tug-of-war with Fa...</td>\n",
              "      <td>https://metro.co.uk/2010/01/24/web-2-0-suicide...</td>\n",
              "    </tr>\n",
              "    <tr>\n",
              "      <th>2266</th>\n",
              "      <td>Ted Thornhill</td>\n",
              "      <td>‘Baby with cigarette’ Facebook photo probed by...</td>\n",
              "      <td>Wednesday 20 Jan</td>\n",
              "      <td>A Facebook photograph of a baby with a cigaret...</td>\n",
              "      <td>https://metro.co.uk/2010/01/20/police-probe-ba...</td>\n",
              "    </tr>\n",
              "    <tr>\n",
              "      <th>2267</th>\n",
              "      <td>Agency</td>\n",
              "      <td>Founder of a ‘Facebook for fraudsters’ faces jail</td>\n",
              "      <td>Friday 15 Jan 201</td>\n",
              "      <td>Online community enabled sale and exchange of ...</td>\n",
              "      <td>https://metro.co.uk/2010/01/15/darkmarket-ws-f...</td>\n",
              "    </tr>\n",
              "  </tbody>\n",
              "</table>\n",
              "<p>2268 rows × 5 columns</p>\n",
              "</div>\n",
              "      <button class=\"colab-df-convert\" onclick=\"convertToInteractive('df-54546b06-ef84-481a-8a0c-60e7eb476ad0')\"\n",
              "              title=\"Convert this dataframe to an interactive table.\"\n",
              "              style=\"display:none;\">\n",
              "        \n",
              "  <svg xmlns=\"http://www.w3.org/2000/svg\" height=\"24px\"viewBox=\"0 0 24 24\"\n",
              "       width=\"24px\">\n",
              "    <path d=\"M0 0h24v24H0V0z\" fill=\"none\"/>\n",
              "    <path d=\"M18.56 5.44l.94 2.06.94-2.06 2.06-.94-2.06-.94-.94-2.06-.94 2.06-2.06.94zm-11 1L8.5 8.5l.94-2.06 2.06-.94-2.06-.94L8.5 2.5l-.94 2.06-2.06.94zm10 10l.94 2.06.94-2.06 2.06-.94-2.06-.94-.94-2.06-.94 2.06-2.06.94z\"/><path d=\"M17.41 7.96l-1.37-1.37c-.4-.4-.92-.59-1.43-.59-.52 0-1.04.2-1.43.59L10.3 9.45l-7.72 7.72c-.78.78-.78 2.05 0 2.83L4 21.41c.39.39.9.59 1.41.59.51 0 1.02-.2 1.41-.59l7.78-7.78 2.81-2.81c.8-.78.8-2.07 0-2.86zM5.41 20L4 18.59l7.72-7.72 1.47 1.35L5.41 20z\"/>\n",
              "  </svg>\n",
              "      </button>\n",
              "      \n",
              "  <style>\n",
              "    .colab-df-container {\n",
              "      display:flex;\n",
              "      flex-wrap:wrap;\n",
              "      gap: 12px;\n",
              "    }\n",
              "\n",
              "    .colab-df-convert {\n",
              "      background-color: #E8F0FE;\n",
              "      border: none;\n",
              "      border-radius: 50%;\n",
              "      cursor: pointer;\n",
              "      display: none;\n",
              "      fill: #1967D2;\n",
              "      height: 32px;\n",
              "      padding: 0 0 0 0;\n",
              "      width: 32px;\n",
              "    }\n",
              "\n",
              "    .colab-df-convert:hover {\n",
              "      background-color: #E2EBFA;\n",
              "      box-shadow: 0px 1px 2px rgba(60, 64, 67, 0.3), 0px 1px 3px 1px rgba(60, 64, 67, 0.15);\n",
              "      fill: #174EA6;\n",
              "    }\n",
              "\n",
              "    [theme=dark] .colab-df-convert {\n",
              "      background-color: #3B4455;\n",
              "      fill: #D2E3FC;\n",
              "    }\n",
              "\n",
              "    [theme=dark] .colab-df-convert:hover {\n",
              "      background-color: #434B5C;\n",
              "      box-shadow: 0px 1px 3px 1px rgba(0, 0, 0, 0.15);\n",
              "      filter: drop-shadow(0px 1px 2px rgba(0, 0, 0, 0.3));\n",
              "      fill: #FFFFFF;\n",
              "    }\n",
              "  </style>\n",
              "\n",
              "      <script>\n",
              "        const buttonEl =\n",
              "          document.querySelector('#df-54546b06-ef84-481a-8a0c-60e7eb476ad0 button.colab-df-convert');\n",
              "        buttonEl.style.display =\n",
              "          google.colab.kernel.accessAllowed ? 'block' : 'none';\n",
              "\n",
              "        async function convertToInteractive(key) {\n",
              "          const element = document.querySelector('#df-54546b06-ef84-481a-8a0c-60e7eb476ad0');\n",
              "          const dataTable =\n",
              "            await google.colab.kernel.invokeFunction('convertToInteractive',\n",
              "                                                     [key], {});\n",
              "          if (!dataTable) return;\n",
              "\n",
              "          const docLinkHtml = 'Like what you see? Visit the ' +\n",
              "            '<a target=\"_blank\" href=https://colab.research.google.com/notebooks/data_table.ipynb>data table notebook</a>'\n",
              "            + ' to learn more about interactive tables.';\n",
              "          element.innerHTML = '';\n",
              "          dataTable['output_type'] = 'display_data';\n",
              "          await google.colab.output.renderOutput(dataTable, element);\n",
              "          const docLink = document.createElement('div');\n",
              "          docLink.innerHTML = docLinkHtml;\n",
              "          element.appendChild(docLink);\n",
              "        }\n",
              "      </script>\n",
              "    </div>\n",
              "  </div>\n",
              "  "
            ],
            "text/plain": [
              "                   author                                           headline  \\\n",
              "0              Vicky Shaw  Bank warns of scams targeting Facebook, WhatsA...   \n",
              "1             Josh Layton  Magnet fishers reel in ‘record find of more th...   \n",
              "2           Jessica Kwong  Donald Trump posts on Instagram for first time...   \n",
              "3           Pierra Willix  Celine Dion impersonator spent £45,000 for one...   \n",
              "4     Metro Tech Reporter  Meta’s new AI model can identify items in imag...   \n",
              "...                   ...                                                ...   \n",
              "2263      Metrowebukmetro             Facebook fury over adultery billboards   \n",
              "2264        Ted Thornhill  Ben Kinsella’s Facebook taunts from killer Jad...   \n",
              "2265            Jo Steele        ‘Web suicide site’ gets around Facebook ban   \n",
              "2266        Ted Thornhill  ‘Baby with cigarette’ Facebook photo probed by...   \n",
              "2267               Agency  Founder of a ‘Facebook for fraudsters’ faces jail   \n",
              "\n",
              "                   date                                           fulltext  \\\n",
              "0     Friday 5 May 2023  TSB has issued a warning on the scale of socia...   \n",
              "1     Sunday 30 Apr 202  A team of magnet fishers has laid claim to the...   \n",
              "2     Wednesday 19 Apr   Former President Donald Trump posted on Instag...   \n",
              "3     Friday 7 Apr 2023  Sorry, this video isn't available any more. A ...   \n",
              "4     Thursday 6 Apr 20  Facebook-owner Meta has published an artificia...   \n",
              "...                 ...                                                ...   \n",
              "2263  Tuesday 26 Jan 20  Disgusted Facebook users have launched a campa...   \n",
              "2264  Monday 25 Jan 201  Murdered\\nBen Kinsellaâs killer,\\nJade Brait...   \n",
              "2265  Sunday 24 Jan 201  A website locked in a legal tug-of-war with Fa...   \n",
              "2266  Wednesday 20 Jan   A Facebook photograph of a baby with a cigaret...   \n",
              "2267  Friday 15 Jan 201  Online community enabled sale and exchange of ...   \n",
              "\n",
              "                                                    url  \n",
              "0     https://metro.co.uk/2023/05/05/bank-warns-of-s...  \n",
              "1     https://metro.co.uk/2023/04/30/magnet-fishers-...  \n",
              "2     https://metro.co.uk/2023/04/19/donald-trump-po...  \n",
              "3     https://metro.co.uk/2023/04/07/celine-dion-imp...  \n",
              "4     https://metro.co.uk/2023/04/06/metas-new-ai-mo...  \n",
              "...                                                 ...  \n",
              "2263  https://metro.co.uk/2010/01/26/adultery-billbo...  \n",
              "2264  https://metro.co.uk/2010/01/25/ben-kinsellas-f...  \n",
              "2265  https://metro.co.uk/2010/01/24/web-2-0-suicide...  \n",
              "2266  https://metro.co.uk/2010/01/20/police-probe-ba...  \n",
              "2267  https://metro.co.uk/2010/01/15/darkmarket-ws-f...  \n",
              "\n",
              "[2268 rows x 5 columns]"
            ]
          },
          "execution_count": 42,
          "metadata": {},
          "output_type": "execute_result"
        }
      ],
      "source": [
        "df_news_fb"
      ]
    },
    {
      "cell_type": "code",
      "execution_count": 43,
      "metadata": {
        "id": "DRXGlCbxLDLD"
      },
      "outputs": [],
      "source": [
        "df_fb_MET = df_news_fb[df_news_fb['url'].str.contains('meta|facebook|messenger|instagram|oculus|whatsApp|zuckerberg|olivan|clegg|social-media|gafa|gafam|big-tech|consumer-privacy|tech')]"
      ]
    },
    {
      "cell_type": "code",
      "execution_count": 44,
      "metadata": {
        "colab": {
          "base_uri": "https://localhost:8080/"
        },
        "id": "xdp-1-UfMkQ4",
        "outputId": "5334982e-34ca-4c7c-a0e6-906a495c01a6"
      },
      "outputs": [
        {
          "data": {
            "text/plain": [
              "0       https://metro.co.uk/2023/05/05/bank-warns-of-s...\n",
              "2       https://metro.co.uk/2023/04/19/donald-trump-po...\n",
              "3       https://metro.co.uk/2023/04/07/celine-dion-imp...\n",
              "4       https://metro.co.uk/2023/04/06/metas-new-ai-mo...\n",
              "7       https://metro.co.uk/2023/03/17/donald-trump-po...\n",
              "                              ...                        \n",
              "2262    https://metro.co.uk/2010/02/02/facebook-and-tw...\n",
              "2263    https://metro.co.uk/2010/01/26/adultery-billbo...\n",
              "2264    https://metro.co.uk/2010/01/25/ben-kinsellas-f...\n",
              "2265    https://metro.co.uk/2010/01/24/web-2-0-suicide...\n",
              "2266    https://metro.co.uk/2010/01/20/police-probe-ba...\n",
              "Name: url, Length: 1679, dtype: object"
            ]
          },
          "execution_count": 44,
          "metadata": {},
          "output_type": "execute_result"
        }
      ],
      "source": [
        "df_fb_MET['url']"
      ]
    },
    {
      "attachments": {},
      "cell_type": "markdown",
      "metadata": {
        "id": "_OuUWZlGLDLD"
      },
      "source": [
        "# Dataframe Amazon"
      ]
    },
    {
      "cell_type": "code",
      "execution_count": 45,
      "metadata": {
        "id": "VH_1u3h8LDLD"
      },
      "outputs": [],
      "source": [
        "#URL de base\n",
        "base_url = 'https://metro.co.uk/tag/amazon/page'"
      ]
    },
    {
      "cell_type": "code",
      "execution_count": 46,
      "metadata": {
        "colab": {
          "base_uri": "https://localhost:8080/"
        },
        "id": "pJWkDHi6LDLD",
        "outputId": "18b9921a-4614-4a15-813d-bd74af644046"
      },
      "outputs": [
        {
          "name": "stdout",
          "output_type": "stream",
          "text": [
            "0\n",
            "1000\n"
          ]
        }
      ],
      "source": [
        "df_news_am = articles_from_base_url_MET(base_url)"
      ]
    },
    {
      "cell_type": "code",
      "execution_count": 47,
      "metadata": {
        "id": "YAtyJqHkLDLD"
      },
      "outputs": [],
      "source": [
        "df_am_MET = df_news_am[df_news_am['url'].str.contains('amazon|prime|whole-foods|zappos|pillpack|twitch|audible|goodreads|imdb|bezos|jassy|olsavsky|alexander|gafa|gafam|big-tech|consumer-privacy|tech')]"
      ]
    },
    {
      "cell_type": "code",
      "execution_count": 48,
      "metadata": {
        "id": "wG96Imx5LDLD"
      },
      "outputs": [],
      "source": [
        "yy=df_am_MET[df_am_MET['fulltext'].str.contains('forest|tribe|jungle|swallows-and-amazon|amazons')]\n",
        "df_am_MET.drop(yy.index,inplace=True)"
      ]
    },
    {
      "attachments": {},
      "cell_type": "markdown",
      "metadata": {
        "id": "eigBKaawLDLD"
      },
      "source": [
        "# Dataframe Apple"
      ]
    },
    {
      "cell_type": "code",
      "execution_count": 49,
      "metadata": {
        "id": "xpvTCmatLDLD"
      },
      "outputs": [],
      "source": [
        "#URL de base\n",
        "base_url = 'https://metro.co.uk/tag/apple/page'"
      ]
    },
    {
      "cell_type": "code",
      "execution_count": 50,
      "metadata": {
        "colab": {
          "base_uri": "https://localhost:8080/"
        },
        "id": "uxKNarnDLDLD",
        "outputId": "cdbdd524-0c2b-4d6e-a074-6446b3806e9c"
      },
      "outputs": [
        {
          "name": "stdout",
          "output_type": "stream",
          "text": [
            "0\n",
            "1000\n"
          ]
        }
      ],
      "source": [
        "df_news_ap = articles_from_base_url_MET(base_url)"
      ]
    },
    {
      "cell_type": "code",
      "execution_count": 51,
      "metadata": {
        "id": "zNCxXj2ZLDLD"
      },
      "outputs": [],
      "source": [
        "df_ap_MET = df_news_ap[df_news_ap['url'].str.contains('apple|iphone|iPad|mac|watch|macbook|ios|airpods|app-store|itunes|icloud|beats|siri|shazam|cook|jobs|gafa|gafam|big-tech|consumer-privacy|tech')]"
      ]
    },
    {
      "cell_type": "code",
      "execution_count": 52,
      "metadata": {
        "id": "WvgDF49gLDLD"
      },
      "outputs": [],
      "source": [
        "yy=df_ap_MET[df_ap_MET['fulltext'].str.contains('apples|pie|pies|recipe|tart|crumble|bake|vinegar')]\n",
        "df_ap_MET.drop(yy.index,inplace=True)"
      ]
    },
    {
      "attachments": {},
      "cell_type": "markdown",
      "metadata": {
        "id": "t-2oGGe1LDLD"
      },
      "source": [
        "# Dataframe Google"
      ]
    },
    {
      "cell_type": "code",
      "execution_count": 53,
      "metadata": {
        "id": "Mkot48fALDLD"
      },
      "outputs": [],
      "source": [
        "#URL de base\n",
        "base_url = 'https://metro.co.uk/tag/google/page'"
      ]
    },
    {
      "cell_type": "code",
      "execution_count": 54,
      "metadata": {
        "colab": {
          "base_uri": "https://localhost:8080/"
        },
        "id": "ZNtAAO-cLDLD",
        "outputId": "e85da99a-9bae-481e-9479-2dd337fd5765"
      },
      "outputs": [
        {
          "name": "stdout",
          "output_type": "stream",
          "text": [
            "0\n",
            "1000\n"
          ]
        }
      ],
      "source": [
        "df_news_go = articles_from_base_url_MET(base_url)"
      ]
    },
    {
      "cell_type": "code",
      "execution_count": 55,
      "metadata": {
        "id": "WJRglDZlLDLD"
      },
      "outputs": [],
      "source": [
        "df_go_MET = df_news_go[df_news_go['url'].str.contains('google|android|chrome|gmail|maps|playstore|pixel|waze|youTube|alphabet|mandiant|fitbit|looker|nest|doubleclick|page|brin|pichai|kurian|gafa|gafam|big-tech|consumer-privacy|tech')]"
      ]
    },
    {
      "attachments": {},
      "cell_type": "markdown",
      "metadata": {
        "id": "wvn6B-hdLDLD"
      },
      "source": [
        "# Dataframe Microsoft"
      ]
    },
    {
      "cell_type": "code",
      "execution_count": 56,
      "metadata": {
        "id": "IgENUoVZLDLD"
      },
      "outputs": [],
      "source": [
        "#URL de base\n",
        "base_url = 'https://metro.co.uk/tag/microsoft/page'"
      ]
    },
    {
      "cell_type": "code",
      "execution_count": 57,
      "metadata": {
        "colab": {
          "base_uri": "https://localhost:8080/"
        },
        "id": "RvQpG4pWLDLE",
        "outputId": "8500e294-d60a-42bb-87a8-02b5533b4ad1"
      },
      "outputs": [
        {
          "name": "stdout",
          "output_type": "stream",
          "text": [
            "0\n"
          ]
        }
      ],
      "source": [
        "df_news_mi = articles_from_base_url_MET(base_url)"
      ]
    },
    {
      "cell_type": "code",
      "execution_count": 58,
      "metadata": {
        "id": "jyXeYsLtLDLE"
      },
      "outputs": [],
      "source": [
        "df_mi_MET = df_news_mi[df_news_mi['url'].str.contains('microsoft|windows|cortana|excel|explorer|office|edge|teams|outlook|powerpoint|skype|surface|word|xbox|linkedIn|github|mojang|gates|nadella|gafa|gafam|big-tech|consumer-privacy|tech')]"
      ]
    },
    {
      "attachments": {},
      "cell_type": "markdown",
      "metadata": {
        "id": "Nfl6_tnJLDLE"
      },
      "source": [
        "# Dataframe final"
      ]
    },
    {
      "cell_type": "code",
      "execution_count": 59,
      "metadata": {
        "colab": {
          "base_uri": "https://localhost:8080/",
          "height": 0
        },
        "id": "-tq7r0NCLDLE",
        "outputId": "a1c31c3e-f4f4-447e-bedf-339332a2ac9f"
      },
      "outputs": [
        {
          "data": {
            "application/javascript": "\n    async function download(id, filename, size) {\n      if (!google.colab.kernel.accessAllowed) {\n        return;\n      }\n      const div = document.createElement('div');\n      const label = document.createElement('label');\n      label.textContent = `Downloading \"${filename}\": `;\n      div.appendChild(label);\n      const progress = document.createElement('progress');\n      progress.max = size;\n      div.appendChild(progress);\n      document.body.appendChild(div);\n\n      const buffers = [];\n      let downloaded = 0;\n\n      const channel = await google.colab.kernel.comms.open(id);\n      // Send a message to notify the kernel that we're ready.\n      channel.send({})\n\n      for await (const message of channel.messages) {\n        // Send a message to notify the kernel that we're ready.\n        channel.send({})\n        if (message.buffers) {\n          for (const buffer of message.buffers) {\n            buffers.push(buffer);\n            downloaded += buffer.byteLength;\n            progress.value = downloaded;\n          }\n        }\n      }\n      const blob = new Blob(buffers, {type: 'application/binary'});\n      const a = document.createElement('a');\n      a.href = window.URL.createObjectURL(blob);\n      a.download = filename;\n      div.appendChild(a);\n      a.click();\n      div.remove();\n    }\n  ",
            "text/plain": [
              "<IPython.core.display.Javascript object>"
            ]
          },
          "metadata": {},
          "output_type": "display_data"
        },
        {
          "data": {
            "application/javascript": "download(\"download_496e3c35-2e18-4c2c-9b76-d2f545ff73be\", \"articlesMET.csv\", 11938163)",
            "text/plain": [
              "<IPython.core.display.Javascript object>"
            ]
          },
          "metadata": {},
          "output_type": "display_data"
        }
      ],
      "source": [
        "from google.colab import files\n",
        "df_final = pd.concat([df_fb_MET, df_am_MET, df_ap_MET, df_go_MET, df_mi_MET]).reset_index()\n",
        "df_final.drop_duplicates(subset =\"url\", keep = 'first', inplace=True)\n",
        "df_final.to_csv('articlesMET.csv')\n",
        "files.download('articlesMET.csv')"
      ]
    }
  ],
  "metadata": {
    "colab": {
      "collapsed_sections": [
        "RZwf_BrFLDLA",
        "Q0E61z24LDLC",
        "_OuUWZlGLDLD",
        "eigBKaawLDLD",
        "t-2oGGe1LDLD",
        "wvn6B-hdLDLD",
        "Nfl6_tnJLDLE"
      ],
      "provenance": []
    },
    "kernelspec": {
      "display_name": "base",
      "language": "python",
      "name": "python3"
    },
    "language_info": {
      "codemirror_mode": {
        "name": "ipython",
        "version": 3
      },
      "file_extension": ".py",
      "mimetype": "text/x-python",
      "name": "python",
      "nbconvert_exporter": "python",
      "pygments_lexer": "ipython3",
      "version": "3.10.9"
    },
    "orig_nbformat": 4
  },
  "nbformat": 4,
  "nbformat_minor": 0
}
